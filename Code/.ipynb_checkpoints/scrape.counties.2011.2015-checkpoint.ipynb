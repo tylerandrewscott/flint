{
 "cells": [
  {
   "cell_type": "code",
   "execution_count": 39,
   "metadata": {
    "collapsed": false
   },
   "outputs": [],
   "source": [
    "#This code scrapes dca site to create dataframe of local government authorities\n",
    "from selenium import webdriver\n",
    "from bs4 import BeautifulSoup\n",
    "import pandas as pd\n",
    "import html5lib as h5\n",
    "import bs4\n",
    "\n",
    "\n",
    "profile = webdriver.FirefoxProfile()\n",
    "profile.set_preference(\"general.useragent.override\",\"Mozilla/5.0 (Macintosh; Intel Mac OS X 10_10_2) AppleWebKit/537.36 (KHTML, like Gecko) Chrome/40.0.2214.111 Safari/537.36\")\n",
    "driver = webdriver.Firefox(profile)\n",
    "\n",
    "\n",
    "\n",
    "        \n",
    "        \n",
    "bases = [\n",
    "#12/2010\n",
    "'https://web.archive.org/web/20101202234147/http://www.accg.org/county_ga_map.asp',\n",
    "#2/2011\n",
    "'https://web.archive.org/web/20110218230752/http://www.accg.org/county_ga_map.asp',\n",
    "#1/2012\n",
    "'https://web.archive.org/web/20120102231540/http://www.accg.org/county_ga_map.asp',\n",
    "#1/2013       \n",
    "'https://web.archive.org/web/20130103025256/http://www.accg.org/county_ga_map.asp',\n",
    "#1/2014\n",
    "'https://web.archive.org/web/20140125224938/http://www.accg.org/county_ga_map.asp', \n",
    "#2/2015\n",
    "'https://web.archive.org/web/20150218150119/http://www.accg.org/county_ga_map.asp']\n",
    "\n",
    "emptyfill = pd.DataFrame(columns=('Official','Date','Link'))\n",
    "linkvec = pd.DataFrame(columns= 'Link')\n",
    "for base in bases:\n",
    "    driver.get(base)\n",
    "    ListlinkerHref = driver.find_elements_by_css_selector('.ContentTD a')\n",
    "    for i in range(0,len(ListlinkerHref)):\n",
    "        linkvec.append(ListlinkerHref[i].get_attribute('href'))\n",
    "\n"
   ]
  },
  {
   "cell_type": "code",
   "execution_count": 45,
   "metadata": {
    "collapsed": false
   },
   "outputs": [
    {
     "data": {
      "text/plain": [
       "[<p>\n",
       " </p>]"
      ]
     },
     "execution_count": 45,
     "metadata": {},
     "output_type": "execute_result"
    }
   ],
   "source": [
    "import requests\n",
    "\n",
    "for link in linkvec:\n",
    "        f = requests.get(link,timeout=20)\n",
    "        countysoup = BeautifulSoup(f.text,'html.parser')\n",
    "        countytable = countysoup.select('.ContentTD td td p')\n",
    "        countytext = []\n",
    "        for i in range(0,len(countytable)):\n",
    "            countytext.append(countytable[i].text)\n",
    "        countydf = pd.DataFrame(countytext,columns=['Official'])\n",
    "        countydf['Date'] = base\n",
    "        countydf['Link'] = link\n",
    "        emptyfill = emptyfill.append(countydf)  \n",
    "countydata = emptyfill\n",
    "countydata.to_csv(path_or_buf = '../Input/ga.county.officials.2010.2015.csv')"
   ]
  },
  {
   "cell_type": "code",
   "execution_count": 48,
   "metadata": {
    "collapsed": false
   },
   "outputs": [
    {
     "data": {
      "text/plain": [
       "'https://web.archive.org/web/20150218150119/http://www.accg.org/county_db_detail_map.asp?u_input=McIntosh'"
      ]
     },
     "execution_count": 48,
     "metadata": {},
     "output_type": "execute_result"
    }
   ],
   "source": [
    "linkvec[100]"
   ]
  },
  {
   "cell_type": "code",
   "execution_count": 49,
   "metadata": {
    "collapsed": false
   },
   "outputs": [
    {
     "data": {
      "text/plain": [
       "159"
      ]
     },
     "execution_count": 49,
     "metadata": {},
     "output_type": "execute_result"
    }
   ],
   "source": [
    "len(linkvec)"
   ]
  },
  {
   "cell_type": "code",
   "execution_count": null,
   "metadata": {
    "collapsed": true
   },
   "outputs": [],
   "source": []
  },
  {
   "cell_type": "code",
   "execution_count": null,
   "metadata": {
    "collapsed": true
   },
   "outputs": [],
   "source": []
  },
  {
   "cell_type": "code",
   "execution_count": null,
   "metadata": {
    "collapsed": true
   },
   "outputs": [],
   "source": []
  },
  {
   "cell_type": "code",
   "execution_count": null,
   "metadata": {
    "collapsed": true
   },
   "outputs": [],
   "source": []
  },
  {
   "cell_type": "code",
   "execution_count": null,
   "metadata": {
    "collapsed": true
   },
   "outputs": [],
   "source": []
  },
  {
   "cell_type": "code",
   "execution_count": null,
   "metadata": {
    "collapsed": true
   },
   "outputs": [],
   "source": []
  },
  {
   "cell_type": "code",
   "execution_count": null,
   "metadata": {
    "collapsed": true
   },
   "outputs": [],
   "source": []
  },
  {
   "cell_type": "code",
   "execution_count": null,
   "metadata": {
    "collapsed": true
   },
   "outputs": [],
   "source": []
  },
  {
   "cell_type": "code",
   "execution_count": null,
   "metadata": {
    "collapsed": true
   },
   "outputs": [],
   "source": []
  }
 ],
 "metadata": {
  "kernelspec": {
   "display_name": "Python 3",
   "language": "python",
   "name": "python3"
  },
  "language_info": {
   "codemirror_mode": {
    "name": "ipython",
    "version": 3
   },
   "file_extension": ".py",
   "mimetype": "text/x-python",
   "name": "python",
   "nbconvert_exporter": "python",
   "pygments_lexer": "ipython3",
   "version": "3.5.1"
  }
 },
 "nbformat": 4,
 "nbformat_minor": 0
}
