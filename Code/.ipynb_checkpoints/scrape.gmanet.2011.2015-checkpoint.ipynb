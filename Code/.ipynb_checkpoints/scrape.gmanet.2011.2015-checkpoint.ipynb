{
 "cells": [
  {
   "cell_type": "code",
   "execution_count": 111,
   "metadata": {
    "collapsed": false
   },
   "outputs": [],
   "source": [
    "#This code scrapes dca site to create dataframe of local government authorities\n",
    "from selenium import webdriver\n",
    "from bs4 import BeautifulSoup\n",
    "import pandas as pd\n",
    "import html5lib as h5\n",
    "import bs4\n",
    "empty = pd.DataFrame()\n",
    "reglist = list(range(1, 13))\n",
    "\n",
    "\n",
    "profile = webdriver.FirefoxProfile()\n",
    "profile.set_preference(\"general.useragent.override\",\"Mozilla/5.0 (Macintosh; Intel Mac OS X 10_10_2) AppleWebKit/537.36 (KHTML, like Gecko) Chrome/40.0.2214.111 Safari/537.36\")\n",
    "driver = webdriver.Firefox(profile)\n",
    "\n",
    "\n",
    "base = 'https://web.archive.org/web/20110910224933/http://www.gmanet.com/Cities.aspx'\n",
    "date = '9/2011'\n",
    "driver.get(base)\n",
    "\n",
    "linkvec = []\n",
    "letterlist = ['A-C','D-J','K-N','O-R','S-Z']\n",
    "\n",
    "for letters in letterlist:\n",
    "    driver.find_element_by_partial_link_text(letters).click()\n",
    "    html = driver.page_source\n",
    "    ListlinkerHref = driver.find_elements_by_css_selector('.CityListLink')\n",
    "    for i in range(0,len(ListlinkerHref)):\n",
    "        linkvec.append(ListlinkerHref[i].get_attribute('href'))\n",
    "\n",
    "import requests\n",
    "import numpy as np\n",
    "import time\n",
    "\n",
    "emptyfill = pd.DataFrame(columns=('Position','Name','City','Date','Link'))\n",
    "\n",
    "for link in linkvec:\n",
    "    f = requests.get(link,timeout=20)\n",
    "    citysoup = BeautifulSoup(f.text,'html.parser')\n",
    "    citytable = citysoup.select('.TableCell')\n",
    "    citytext = []\n",
    "    for i in range(0,len(citytable)):\n",
    "        citytext.append(citytable[i].text)\n",
    "    cityarray = np.asarray(citytext)\n",
    "    citymatrix = np.reshape(cityarray,(len(cityarray)/2, 2))\n",
    "    citydf = pd.DataFrame(citymatrix,columns=['Position','Name'])\n",
    "    citydf['City'] = citysoup.select('#_ctl0_main__ctl0_txtCityName')[0].text\n",
    "    citydf['Date'] = date\n",
    "    citydf['Link'] = link\n",
    "    emptyfill = emptyfill.append(citydf)  \n",
    "    time.sleep(.25) \n",
    "citydata = emptyfill\n",
    "citydata.to_csv(path_or_buf = '../Input/ga.city.officials.2011.csv')"
   ]
  }
 ],
 "metadata": {
  "kernelspec": {
   "display_name": "Python 3",
   "language": "python",
   "name": "python3"
  },
  "language_info": {
   "codemirror_mode": {
    "name": "ipython",
    "version": 3
   },
   "file_extension": ".py",
   "mimetype": "text/x-python",
   "name": "python",
   "nbconvert_exporter": "python",
   "pygments_lexer": "ipython3",
   "version": "3.5.1"
  }
 },
 "nbformat": 4,
 "nbformat_minor": 0
}
