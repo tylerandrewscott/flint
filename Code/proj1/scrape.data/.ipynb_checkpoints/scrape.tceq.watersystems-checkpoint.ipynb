{
 "cells": [
  {
   "cell_type": "code",
   "execution_count": 45,
   "metadata": {
    "collapsed": false
   },
   "outputs": [],
   "source": [
    "#This code scrapes dca site to create dataframe of local government authorities\n",
    "from selenium import webdriver\n",
    "from bs4 import BeautifulSoup\n",
    "import pandas as pd\n",
    "import html5lib as h5\n",
    "import bs4\n",
    "empty = pd.DataFrame()\n",
    "\n",
    "profile = webdriver.FirefoxProfile()\n",
    "profile.set_preference(\"general.useragent.override\",\"Mozilla/5.0 (Macintosh; Intel Mac OS X 10_10_2) AppleWebKit/537.36 (KHTML, like Gecko) Chrome/40.0.2214.111 Safari/537.36\")\n",
    "driver = webdriver.Firefox(profile)\n",
    "\n",
    "prelink = 'http://dww2.tceq.texas.gov/DWW/JSP/'\n",
    "#base = 'http://dww2.tceq.texas.gov/DWW/JSP/SearchDispatch?number=&name=&ActivityStatusCD=All&county=All&WaterSystemType=All&SourceWaterType=All&SampleType=null&begin_date=1%2F01%2F1990&end_date=1%2F01%2F2016&action=Search+For+Water+Systems'\n",
    "base = 'http://dww2.tceq.texas.gov/DWW/JSP/SearchDispatch?number=&name=&ActivityStatusCD=All&county=BOSQUE&WaterSystemType=All&SourceWaterType=All&SampleType=null&begin_date=2%2F26%2F2014&end_date=2%2F26%2F2016&action=Search+For+Water+Systems'\n",
    "driver.get(base)\n",
    "html = driver.page_source\n",
    "soup = BeautifulSoup(html,\"html.parser\")\n",
    "table = soup.findAll(\"table\")\n",
    "temptable = pd.read_html(str(table[2]),header=0)[0]\n",
    "linklist = []\n",
    "for link in wslinks:\n",
    "    linklist.append(link.get('href'))\n",
    "temptable['Link'] = linklist"
   ]
  },
  {
   "cell_type": "code",
   "execution_count": 194,
   "metadata": {
    "collapsed": false
   },
   "outputs": [],
   "source": [
    "import requests\n",
    "violationlinks = []\n",
    "for link in temptable['Link']:\n",
    "    f = requests.get(prelink+link,timeout=10)\n",
    "    systempage = BeautifulSoup(f.text,'html.parser')\n",
    "    systemviolations = systempage.find('a',text = 'Violations').get('href')\n",
    "    systemviolationlink = prelink + systemviolations\n",
    "    violationlinks.append(systemviolationlink)\n",
    "temptable['ViolationPage'] = violationlinks"
   ]
  },
  {
   "cell_type": "code",
   "execution_count": 196,
   "metadata": {
    "collapsed": false
   },
   "outputs": [],
   "source": [
    "link = temptable['ViolationPage'][0]"
   ]
  },
  {
   "cell_type": "code",
   "execution_count": 199,
   "metadata": {
    "collapsed": false
   },
   "outputs": [],
   "source": [
    "f = requests.get(link)"
   ]
  },
  {
   "cell_type": "code",
   "execution_count": 393,
   "metadata": {
    "collapsed": false
   },
   "outputs": [],
   "source": [
    "violationpage =  BeautifulSoup(f.text,'html.parser')\n",
    "temp = violationpage.select('td > font')"
   ]
  },
  {
   "cell_type": "code",
   "execution_count": 411,
   "metadata": {
    "collapsed": false
   },
   "outputs": [],
   "source": [
    "vars = 6\n",
    "rows = len(temp)/vars\n",
    "store = []\n",
    "for i in temp:\n",
    "    s = i.text\n",
    "    store.append(s.strip())\n",
    "    "
   ]
  },
  {
   "cell_type": "code",
   "execution_count": 413,
   "metadata": {
    "collapsed": false
   },
   "outputs": [
    {
     "data": {
      "text/plain": [
       "array(['2015-722', '10-01-2014-', '02', 'MCL, LRAA', '2950', 'TTHM',\n",
       "       '2014-720', '07-01-2014-', '02', 'MCL, LRAA', '2950', 'TTHM',\n",
       "       '2003-603', '02-01-2003-', '36',\n",
       "       'MONITORING, RTN/RPT MAJOR (SWTR-FILTER)', '0200', 'SWTR',\n",
       "       '2003-503', '01-01-2003-', '36',\n",
       "       'MONITORING, RTN/RPT MAJOR (SWTR-FILTER)', '0200', 'SWTR',\n",
       "       '2003-103', '12-01-2002-', '36',\n",
       "       'MONITORING, RTN/RPT MAJOR (SWTR-FILTER)', '0200', 'SWTR',\n",
       "       '2003-203', '11-01-2002-', '36',\n",
       "       'MONITORING, RTN/RPT MAJOR (SWTR-FILTER)', '0200', 'SWTR',\n",
       "       '2003-403', '10-01-2002-', '36',\n",
       "       'MONITORING, RTN/RPT MAJOR (SWTR-FILTER)', '0200', 'SWTR',\n",
       "       '2002-302', '09-01-2002-', '36',\n",
       "       'MONITORING, RTN/RPT MAJOR (SWTR-FILTER)', '0200', 'SWTR'], \n",
       "      dtype='<U39')"
      ]
     },
     "execution_count": 413,
     "metadata": {},
     "output_type": "execute_result"
    }
   ],
   "source": [
    "np.array(store).reshape(-1, 2)"
   ]
  },
  {
   "cell_type": "code",
   "execution_count": null,
   "metadata": {
    "collapsed": true
   },
   "outputs": [],
   "source": []
  },
  {
   "cell_type": "code",
   "execution_count": null,
   "metadata": {
    "collapsed": true
   },
   "outputs": [],
   "source": []
  },
  {
   "cell_type": "code",
   "execution_count": 410,
   "metadata": {
    "collapsed": false
   },
   "outputs": [
    {
     "data": {
      "text/plain": [
       "'SWTR'"
      ]
     },
     "execution_count": 410,
     "metadata": {},
     "output_type": "execute_result"
    }
   ],
   "source": []
  },
  {
   "cell_type": "code",
   "execution_count": null,
   "metadata": {
    "collapsed": true
   },
   "outputs": [],
   "source": []
  },
  {
   "cell_type": "code",
   "execution_count": null,
   "metadata": {
    "collapsed": true
   },
   "outputs": [],
   "source": []
  },
  {
   "cell_type": "code",
   "execution_count": null,
   "metadata": {
    "collapsed": true
   },
   "outputs": [],
   "source": []
  },
  {
   "cell_type": "code",
   "execution_count": null,
   "metadata": {
    "collapsed": true
   },
   "outputs": [],
   "source": []
  },
  {
   "cell_type": "code",
   "execution_count": null,
   "metadata": {
    "collapsed": true
   },
   "outputs": [],
   "source": []
  },
  {
   "cell_type": "code",
   "execution_count": null,
   "metadata": {
    "collapsed": true
   },
   "outputs": [],
   "source": []
  },
  {
   "cell_type": "code",
   "execution_count": 403,
   "metadata": {
    "collapsed": false
   },
   "outputs": [
    {
     "name": "stdout",
     "output_type": "stream",
     "text": [
      "Texas\r\n",
      "\t\t\t\tCommission on Environmental Quality None\n",
      "Office of Water None\n",
      "Public Drinking Water Section None\n",
      "County Map of TX None\n",
      "Water System\r\n",
      "\t\t\t\tSearch None\n",
      "Office of\r\n",
      "\t\t\t\tCompliance and Enforcement None\n",
      "Water System\r\n",
      "\t\tDetail None\n",
      "Water System\r\n",
      "\t\tFacilities None\n",
      "Source\r\n",
      "\t\tWater Assessment Results None\n",
      "Violations None\n",
      " Enforcement\r\n",
      "\t\tActions None\n",
      "TCR Sample Results None\n",
      "TTHM None\n",
      "HAA5 None\n",
      " Summaries None\n",
      "Sample Points None\n",
      "Assistance Actions None\n",
      "Recent\r\n",
      "\t\tPositive TCR Results None\n",
      "PBCU Summaries None\n",
      "Sample\r\n",
      "\t\tSchedules / FANLs / Plans None\n",
      "Compliance\r\n",
      "\t\tSchedules None\n",
      "Other Chemical\r\n",
      "\t\tResults None\n",
      "Chlorine Summaries None\n",
      "Site Visits None\n",
      "Milestones None\n",
      "TOC/Alkalinity\r\n",
      "\t\tResults None\n",
      "Chemical Results: Sort by:\r\n",
      "\t\t <a href=\"AnalyteList.jsp?tinwsys_is_number=351&amp;tinwsys_st_code=TX&amp;wsnumber=TX0180001   &amp;DWWState=TX\"><font color=\"#FFFF00\" title=\"Chemical Results by Name\">Name</font></a>\n",
      "Name None\n",
      "Code None\n",
      "Turbidity\r\n",
      "\t\tSummaries None\n",
      "Operators None\n",
      "All POC None\n",
      "LRAA\r\n",
      "\t\t(TTHM/HAA5) None\n",
      "Recent\r\n",
      "\t\tNon-TCR Sample Results None\n",
      "TCR Sample\r\n",
      "\t\tSummaries None\n",
      "Glossary None\n",
      "Water System Detail Information None\n",
      "Water\r\n",
      "\t\t\t\tSystem No.: None\n",
      "Federal\r\n",
      "\t\t\t\tType: None\n",
      "Water\r\n",
      "\t\t\t\tSystem Name: None\n",
      "Federal\r\n",
      "\t\t\t\tSource: None\n",
      "Principal\r\n",
      "\t\t\t\tCounty Served: None\n",
      "System\r\n",
      "\t\t\t\tStatus: None\n",
      "Principal\r\n",
      "\t\t\t\tCity Served: None\n",
      "Activity\r\n",
      "\t\t\t\tDate: None\n",
      "Group Violations None\n",
      "Fed\r\n",
      "\t\t\t\tFiscal Year None\n",
      "Determ.\r\n",
      "\t\t\t\tDate None\n",
      "Violation\r\n",
      "\t\t\t\tType None\n",
      "Violation\r\n",
      "\t\t\t\tName None\n",
      "Analyte\r\n",
      "\t\t\t\tGroup None\n",
      "Analyte\r\n",
      "\t\t\t\tGroup Name None\n",
      "Individual Violations None\n",
      "Violation\r\n",
      "\t\t\t\tNo. None\n",
      "Compliance Period None\n",
      "Violation\r\n",
      "\t\t\t\tType Code None\n",
      "Violation Name None\n",
      "Analyte\r\n",
      "\t\t\t\tCode None\n",
      "Analyte Name None\n",
      "\n",
      "2015-722 None\n",
      "\r\n",
      "\t\t\t\t\t\t\r\n",
      "\t\t\t\t\t\t\t10-01-2014- None\n",
      "02 None\n",
      "MCL, LRAA None\n",
      " 2950  None\n",
      "TTHM                                     None\n",
      "\n",
      "2014-720 None\n",
      "\r\n",
      "\t\t\t\t\t\t\r\n",
      "\t\t\t\t\t\t\t07-01-2014- None\n",
      "02 None\n",
      "MCL, LRAA None\n",
      " 2950  None\n",
      "TTHM                                     None\n",
      "\n",
      "2003-603 None\n",
      "\r\n",
      "\t\t\t\t\t\t\r\n",
      "\t\t\t\t\t\t\t02-01-2003- None\n",
      "36 None\n",
      "MONITORING, RTN/RPT MAJOR (SWTR-FILTER) None\n",
      " 0200  None\n",
      "SWTR                                     None\n",
      "\n",
      "2003-503 None\n",
      "\r\n",
      "\t\t\t\t\t\t\r\n",
      "\t\t\t\t\t\t\t01-01-2003- None\n",
      "36 None\n",
      "MONITORING, RTN/RPT MAJOR (SWTR-FILTER) None\n",
      " 0200  None\n",
      "SWTR                                     None\n",
      "\n",
      "2003-103 None\n",
      "\r\n",
      "\t\t\t\t\t\t\r\n",
      "\t\t\t\t\t\t\t12-01-2002- None\n",
      "36 None\n",
      "MONITORING, RTN/RPT MAJOR (SWTR-FILTER) None\n",
      " 0200  None\n",
      "SWTR                                     None\n",
      "\n",
      "2003-203 None\n",
      "\r\n",
      "\t\t\t\t\t\t\r\n",
      "\t\t\t\t\t\t\t11-01-2002- None\n",
      "36 None\n",
      "MONITORING, RTN/RPT MAJOR (SWTR-FILTER) None\n",
      " 0200  None\n",
      "SWTR                                     None\n",
      "\n",
      "2003-403 None\n",
      "\r\n",
      "\t\t\t\t\t\t\r\n",
      "\t\t\t\t\t\t\t10-01-2002- None\n",
      "36 None\n",
      "MONITORING, RTN/RPT MAJOR (SWTR-FILTER) None\n",
      " 0200  None\n",
      "SWTR                                     None\n",
      "\n",
      "2002-302 None\n",
      "\r\n",
      "\t\t\t\t\t\t\r\n",
      "\t\t\t\t\t\t\t09-01-2002- None\n",
      "36 None\n",
      "MONITORING, RTN/RPT MAJOR (SWTR-FILTER) None\n",
      " 0200  None\n",
      "SWTR                                     None\n",
      "Total Number of Records Fetched =  8 None\n",
      "Total Number of Records Fetched =   8\n"
     ]
    }
   ],
   "source": [
    "for strong_tag in violationpage.find_all('font'):\n",
    "    print(strong_tag.text, strong_tag.next_sibling)"
   ]
  },
  {
   "cell_type": "code",
   "execution_count": null,
   "metadata": {
    "collapsed": true
   },
   "outputs": [],
   "source": []
  },
  {
   "cell_type": "code",
   "execution_count": null,
   "metadata": {
    "collapsed": true
   },
   "outputs": [],
   "source": []
  },
  {
   "cell_type": "code",
   "execution_count": null,
   "metadata": {
    "collapsed": true
   },
   "outputs": [],
   "source": []
  },
  {
   "cell_type": "code",
   "execution_count": null,
   "metadata": {
    "collapsed": true
   },
   "outputs": [],
   "source": []
  },
  {
   "cell_type": "code",
   "execution_count": null,
   "metadata": {
    "collapsed": true
   },
   "outputs": [],
   "source": []
  },
  {
   "cell_type": "code",
   "execution_count": null,
   "metadata": {
    "collapsed": true
   },
   "outputs": [],
   "source": []
  },
  {
   "cell_type": "code",
   "execution_count": null,
   "metadata": {
    "collapsed": true
   },
   "outputs": [],
   "source": []
  },
  {
   "cell_type": "code",
   "execution_count": null,
   "metadata": {
    "collapsed": true
   },
   "outputs": [],
   "source": []
  },
  {
   "cell_type": "code",
   "execution_count": null,
   "metadata": {
    "collapsed": true
   },
   "outputs": [],
   "source": []
  },
  {
   "cell_type": "code",
   "execution_count": 392,
   "metadata": {
    "collapsed": false
   },
   "outputs": [
    {
     "data": {
      "text/plain": [
       "<tr>\n",
       "<th bgcolor=\"#306192\" width=\"33%\"><a href=\"http://www.tceq.state.tx.us\" target=\"_blank\"><font color=\"#FFFFFF\" title=\"Texas Commission on Environmental Quality\">Texas\n",
       "\t\t\t\tCommission on Environmental Quality</font></a></th>\n",
       "<th bgcolor=\"#306192\" width=\"33%\"><a href=\"http://www.tceq.state.tx.us/about/organization/water.html\" target=\"_blank\"><font color=\"#FFFFFF\">Office of Water</font></a></th>\n",
       "<th bgcolor=\"#306192\" width=\"34%\"><a href=\"http://www.tceq.state.tx.us/permitting/water_supply/pdw/\" target=\"_blank\"><font color=\"#FFFFFF\" title=\"Drinking Water Program\">Public Drinking Water Section</font></a></th>\n",
       "</tr>"
      ]
     },
     "execution_count": 392,
     "metadata": {},
     "output_type": "execute_result"
    }
   ],
   "source": []
  },
  {
   "cell_type": "code",
   "execution_count": null,
   "metadata": {
    "collapsed": true
   },
   "outputs": [],
   "source": []
  },
  {
   "cell_type": "code",
   "execution_count": null,
   "metadata": {
    "collapsed": true
   },
   "outputs": [],
   "source": []
  },
  {
   "cell_type": "code",
   "execution_count": 350,
   "metadata": {
    "collapsed": false
   },
   "outputs": [],
   "source": [
    "violationpage = BeautifulSoup(f.text,'html.parser')\n",
    "temp = violationpage.select('td > font')"
   ]
  },
  {
   "cell_type": "code",
   "execution_count": 364,
   "metadata": {
    "collapsed": false
   },
   "outputs": [
    {
     "name": "stdout",
     "output_type": "stream",
     "text": [
      "<font size=\"2\">\n",
      "<a href=\"Violation.jsp?tinwsys_is_number=351&amp;tinwsys_st_code=TX&amp;wsnumber=TX0180001   &amp;DWWState=TX&amp;tmnviol_is_number=211711&amp;tmnviol_st_code=TX\" title=\"Violation\">2015-722</a></font>\n",
      "<font size=\"2\">\r\n",
      "\t\t\t\t\t\t\r\n",
      "\t\t\t\t\t\t\t10-01-2014-</font>\n",
      "<font size=\"2\">02</font>\n"
     ]
    }
   ],
   "source": [
    "emptytext = []\n",
    "for t in range(0,3):\n",
    "    print(temp[t])"
   ]
  },
  {
   "cell_type": "code",
   "execution_count": 368,
   "metadata": {
    "collapsed": false
   },
   "outputs": [
    {
     "ename": "ValueError",
     "evalue": "No tables found",
     "output_type": "error",
     "traceback": [
      "\u001b[0;31m---------------------------------------------------------------------------\u001b[0m",
      "\u001b[0;31mValueError\u001b[0m                                Traceback (most recent call last)",
      "\u001b[0;32m<ipython-input-368-c52c1fd503ca>\u001b[0m in \u001b[0;36m<module>\u001b[0;34m()\u001b[0m\n\u001b[0;32m----> 1\u001b[0;31m \u001b[0mpd\u001b[0m\u001b[0;34m.\u001b[0m\u001b[0mread_html\u001b[0m\u001b[0;34m(\u001b[0m\u001b[0mstr\u001b[0m\u001b[0;34m(\u001b[0m\u001b[0mtemp\u001b[0m\u001b[0;34m)\u001b[0m\u001b[0;34m)\u001b[0m\u001b[0;34m\u001b[0m\u001b[0m\n\u001b[0m",
      "\u001b[0;32m/Library/Frameworks/Python.framework/Versions/3.5/lib/python3.5/site-packages/pandas/io/html.py\u001b[0m in \u001b[0;36mread_html\u001b[0;34m(io, match, flavor, header, index_col, skiprows, attrs, parse_dates, tupleize_cols, thousands, encoding)\u001b[0m\n\u001b[1;32m    864\u001b[0m     \u001b[0m_validate_header_arg\u001b[0m\u001b[0;34m(\u001b[0m\u001b[0mheader\u001b[0m\u001b[0;34m)\u001b[0m\u001b[0;34m\u001b[0m\u001b[0m\n\u001b[1;32m    865\u001b[0m     return _parse(flavor, io, match, header, index_col, skiprows,\n\u001b[0;32m--> 866\u001b[0;31m                   parse_dates, tupleize_cols, thousands, attrs, encoding)\n\u001b[0m",
      "\u001b[0;32m/Library/Frameworks/Python.framework/Versions/3.5/lib/python3.5/site-packages/pandas/io/html.py\u001b[0m in \u001b[0;36m_parse\u001b[0;34m(flavor, io, match, header, index_col, skiprows, parse_dates, tupleize_cols, thousands, attrs, encoding)\u001b[0m\n\u001b[1;32m    726\u001b[0m             \u001b[0;32mbreak\u001b[0m\u001b[0;34m\u001b[0m\u001b[0m\n\u001b[1;32m    727\u001b[0m     \u001b[0;32melse\u001b[0m\u001b[0;34m:\u001b[0m\u001b[0;34m\u001b[0m\u001b[0m\n\u001b[0;32m--> 728\u001b[0;31m         \u001b[0mraise_with_traceback\u001b[0m\u001b[0;34m(\u001b[0m\u001b[0mretained\u001b[0m\u001b[0;34m)\u001b[0m\u001b[0;34m\u001b[0m\u001b[0m\n\u001b[0m\u001b[1;32m    729\u001b[0m \u001b[0;34m\u001b[0m\u001b[0m\n\u001b[1;32m    730\u001b[0m     \u001b[0mret\u001b[0m \u001b[0;34m=\u001b[0m \u001b[0;34m[\u001b[0m\u001b[0;34m]\u001b[0m\u001b[0;34m\u001b[0m\u001b[0m\n",
      "\u001b[0;32m/Library/Frameworks/Python.framework/Versions/3.5/lib/python3.5/site-packages/pandas/compat/__init__.py\u001b[0m in \u001b[0;36mraise_with_traceback\u001b[0;34m(exc, traceback)\u001b[0m\n\u001b[1;32m    746\u001b[0m         \u001b[0;32mif\u001b[0m \u001b[0mtraceback\u001b[0m \u001b[0;34m==\u001b[0m \u001b[0mEllipsis\u001b[0m\u001b[0;34m:\u001b[0m\u001b[0;34m\u001b[0m\u001b[0m\n\u001b[1;32m    747\u001b[0m             \u001b[0m_\u001b[0m\u001b[0;34m,\u001b[0m \u001b[0m_\u001b[0m\u001b[0;34m,\u001b[0m \u001b[0mtraceback\u001b[0m \u001b[0;34m=\u001b[0m \u001b[0msys\u001b[0m\u001b[0;34m.\u001b[0m\u001b[0mexc_info\u001b[0m\u001b[0;34m(\u001b[0m\u001b[0;34m)\u001b[0m\u001b[0;34m\u001b[0m\u001b[0m\n\u001b[0;32m--> 748\u001b[0;31m         \u001b[0;32mraise\u001b[0m \u001b[0mexc\u001b[0m\u001b[0;34m.\u001b[0m\u001b[0mwith_traceback\u001b[0m\u001b[0;34m(\u001b[0m\u001b[0mtraceback\u001b[0m\u001b[0;34m)\u001b[0m\u001b[0;34m\u001b[0m\u001b[0m\n\u001b[0m\u001b[1;32m    749\u001b[0m \u001b[0;32melse\u001b[0m\u001b[0;34m:\u001b[0m\u001b[0;34m\u001b[0m\u001b[0m\n\u001b[1;32m    750\u001b[0m     \u001b[0;31m# this version of raise is a syntax error in Python 3\u001b[0m\u001b[0;34m\u001b[0m\u001b[0;34m\u001b[0m\u001b[0m\n",
      "\u001b[0;31mValueError\u001b[0m: No tables found"
     ]
    }
   ],
   "source": []
  },
  {
   "cell_type": "code",
   "execution_count": null,
   "metadata": {
    "collapsed": true
   },
   "outputs": [],
   "source": []
  },
  {
   "cell_type": "code",
   "execution_count": null,
   "metadata": {
    "collapsed": true
   },
   "outputs": [],
   "source": []
  },
  {
   "cell_type": "code",
   "execution_count": null,
   "metadata": {
    "collapsed": true
   },
   "outputs": [],
   "source": []
  },
  {
   "cell_type": "code",
   "execution_count": null,
   "metadata": {
    "collapsed": true
   },
   "outputs": [],
   "source": []
  },
  {
   "cell_type": "code",
   "execution_count": null,
   "metadata": {
    "collapsed": true
   },
   "outputs": [],
   "source": []
  },
  {
   "cell_type": "code",
   "execution_count": null,
   "metadata": {
    "collapsed": true
   },
   "outputs": [],
   "source": []
  },
  {
   "cell_type": "code",
   "execution_count": null,
   "metadata": {
    "collapsed": true
   },
   "outputs": [],
   "source": []
  },
  {
   "cell_type": "code",
   "execution_count": null,
   "metadata": {
    "collapsed": true
   },
   "outputs": [],
   "source": []
  },
  {
   "cell_type": "code",
   "execution_count": null,
   "metadata": {
    "collapsed": true
   },
   "outputs": [],
   "source": []
  },
  {
   "cell_type": "code",
   "execution_count": 359,
   "metadata": {
    "collapsed": false
   },
   "outputs": [
    {
     "data": {
      "text/plain": [
       "['\\n2015-722',\n",
       " '\\r\\n\\t\\t\\t\\t\\t\\t\\r\\n\\t\\t\\t\\t\\t\\t\\t10-01-2014-',\n",
       " '02',\n",
       " 'MCL, LRAA',\n",
       " ' 2950 ',\n",
       " 'TTHM                                    ',\n",
       " '\\n2014-720',\n",
       " '\\r\\n\\t\\t\\t\\t\\t\\t\\r\\n\\t\\t\\t\\t\\t\\t\\t07-01-2014-',\n",
       " '02',\n",
       " 'MCL, LRAA',\n",
       " ' 2950 ',\n",
       " 'TTHM                                    ',\n",
       " '\\n2003-603',\n",
       " '\\r\\n\\t\\t\\t\\t\\t\\t\\r\\n\\t\\t\\t\\t\\t\\t\\t02-01-2003-',\n",
       " '36',\n",
       " 'MONITORING, RTN/RPT MAJOR (SWTR-FILTER)',\n",
       " ' 0200 ',\n",
       " 'SWTR                                    ',\n",
       " '\\n2003-503',\n",
       " '\\r\\n\\t\\t\\t\\t\\t\\t\\r\\n\\t\\t\\t\\t\\t\\t\\t01-01-2003-',\n",
       " '36',\n",
       " 'MONITORING, RTN/RPT MAJOR (SWTR-FILTER)',\n",
       " ' 0200 ',\n",
       " 'SWTR                                    ',\n",
       " '\\n2003-103',\n",
       " '\\r\\n\\t\\t\\t\\t\\t\\t\\r\\n\\t\\t\\t\\t\\t\\t\\t12-01-2002-',\n",
       " '36',\n",
       " 'MONITORING, RTN/RPT MAJOR (SWTR-FILTER)',\n",
       " ' 0200 ',\n",
       " 'SWTR                                    ',\n",
       " '\\n2003-203',\n",
       " '\\r\\n\\t\\t\\t\\t\\t\\t\\r\\n\\t\\t\\t\\t\\t\\t\\t11-01-2002-',\n",
       " '36',\n",
       " 'MONITORING, RTN/RPT MAJOR (SWTR-FILTER)',\n",
       " ' 0200 ',\n",
       " 'SWTR                                    ',\n",
       " '\\n2003-403',\n",
       " '\\r\\n\\t\\t\\t\\t\\t\\t\\r\\n\\t\\t\\t\\t\\t\\t\\t10-01-2002-',\n",
       " '36',\n",
       " 'MONITORING, RTN/RPT MAJOR (SWTR-FILTER)',\n",
       " ' 0200 ',\n",
       " 'SWTR                                    ',\n",
       " '\\n2002-302',\n",
       " '\\r\\n\\t\\t\\t\\t\\t\\t\\r\\n\\t\\t\\t\\t\\t\\t\\t09-01-2002-',\n",
       " '36',\n",
       " 'MONITORING, RTN/RPT MAJOR (SWTR-FILTER)',\n",
       " ' 0200 ',\n",
       " 'SWTR                                    ']"
      ]
     },
     "execution_count": 359,
     "metadata": {},
     "output_type": "execute_result"
    }
   ],
   "source": [
    "emptytext"
   ]
  },
  {
   "cell_type": "code",
   "execution_count": null,
   "metadata": {
    "collapsed": true
   },
   "outputs": [],
   "source": []
  },
  {
   "cell_type": "code",
   "execution_count": null,
   "metadata": {
    "collapsed": true
   },
   "outputs": [],
   "source": []
  },
  {
   "cell_type": "code",
   "execution_count": null,
   "metadata": {
    "collapsed": true
   },
   "outputs": [],
   "source": []
  },
  {
   "cell_type": "code",
   "execution_count": null,
   "metadata": {
    "collapsed": true
   },
   "outputs": [],
   "source": []
  },
  {
   "cell_type": "code",
   "execution_count": null,
   "metadata": {
    "collapsed": true
   },
   "outputs": [],
   "source": []
  },
  {
   "cell_type": "code",
   "execution_count": null,
   "metadata": {
    "collapsed": true
   },
   "outputs": [],
   "source": []
  },
  {
   "cell_type": "code",
   "execution_count": null,
   "metadata": {
    "collapsed": true
   },
   "outputs": [],
   "source": []
  },
  {
   "cell_type": "code",
   "execution_count": 223,
   "metadata": {
    "collapsed": false
   },
   "outputs": [
    {
     "ename": "AttributeError",
     "evalue": "'ResultSet' object has no attribute 'text'",
     "output_type": "error",
     "traceback": [
      "\u001b[0;31m---------------------------------------------------------------------------\u001b[0m",
      "\u001b[0;31mAttributeError\u001b[0m                            Traceback (most recent call last)",
      "\u001b[0;32m<ipython-input-223-7efed7f90313>\u001b[0m in \u001b[0;36m<module>\u001b[0;34m()\u001b[0m\n\u001b[0;32m----> 1\u001b[0;31m \u001b[0mviolationpage\u001b[0m\u001b[0;34m.\u001b[0m\u001b[0mfind_all\u001b[0m\u001b[0;34m(\u001b[0m\u001b[0;34m'th'\u001b[0m\u001b[0;34m,\u001b[0m\u001b[0mstring\u001b[0m\u001b[0;34m=\u001b[0m\u001b[0;34m\"Individual Violations\"\u001b[0m\u001b[0;34m)\u001b[0m\u001b[0;34m.\u001b[0m\u001b[0mtext\u001b[0m\u001b[0;34m\u001b[0m\u001b[0m\n\u001b[0m",
      "\u001b[0;31mAttributeError\u001b[0m: 'ResultSet' object has no attribute 'text'"
     ]
    }
   ],
   "source": [
    "violationpage.find_all('th',string=\"Individual Violations\")"
   ]
  },
  {
   "cell_type": "code",
   "execution_count": 317,
   "metadata": {
    "collapsed": false
   },
   "outputs": [
    {
     "data": {
      "text/plain": [
       "[]"
      ]
     },
     "execution_count": 317,
     "metadata": {},
     "output_type": "execute_result"
    }
   ],
   "source": [
    "violationpage.select(\"body + \")"
   ]
  },
  {
   "cell_type": "code",
   "execution_count": null,
   "metadata": {
    "collapsed": true
   },
   "outputs": [],
   "source": []
  },
  {
   "cell_type": "code",
   "execution_count": 311,
   "metadata": {
    "collapsed": false
   },
   "outputs": [
    {
     "ename": "NotImplementedError",
     "evalue": "Only the following pseudo-classes are implemented: nth-of-type.",
     "output_type": "error",
     "traceback": [
      "\u001b[0;31m---------------------------------------------------------------------------\u001b[0m",
      "\u001b[0;31mNotImplementedError\u001b[0m                       Traceback (most recent call last)",
      "\u001b[0;32m<ipython-input-311-c77ecdf177cf>\u001b[0m in \u001b[0;36m<module>\u001b[0;34m()\u001b[0m\n\u001b[0;32m----> 1\u001b[0;31m \u001b[0mtest\u001b[0m \u001b[0;34m=\u001b[0m \u001b[0mviolationpage\u001b[0m\u001b[0;34m.\u001b[0m\u001b[0mselect\u001b[0m\u001b[0;34m(\u001b[0m\u001b[0;34m'table:nth-child(12) td , td td td , table:nth-child(12) tr+ tr th'\u001b[0m\u001b[0;34m)\u001b[0m\u001b[0;34m\u001b[0m\u001b[0m\n\u001b[0m",
      "\u001b[0;32m/Library/Frameworks/Python.framework/Versions/3.5/lib/python3.5/site-packages/bs4/element.py\u001b[0m in \u001b[0;36mselect\u001b[0;34m(self, selector, _candidate_generator, limit)\u001b[0m\n\u001b[1;32m   1298\u001b[0m                 \u001b[0;32mif\u001b[0m \u001b[0mpartial_selector\u001b[0m \u001b[0;34m==\u001b[0m \u001b[0;34m''\u001b[0m\u001b[0;34m:\u001b[0m\u001b[0;34m\u001b[0m\u001b[0m\n\u001b[1;32m   1299\u001b[0m                     \u001b[0;32mraise\u001b[0m \u001b[0mValueError\u001b[0m\u001b[0;34m(\u001b[0m\u001b[0;34m'Invalid group selection syntax: %s'\u001b[0m \u001b[0;34m%\u001b[0m \u001b[0mselector\u001b[0m\u001b[0;34m)\u001b[0m\u001b[0;34m\u001b[0m\u001b[0m\n\u001b[0;32m-> 1300\u001b[0;31m                 \u001b[0mcandidates\u001b[0m \u001b[0;34m=\u001b[0m \u001b[0mself\u001b[0m\u001b[0;34m.\u001b[0m\u001b[0mselect\u001b[0m\u001b[0;34m(\u001b[0m\u001b[0mpartial_selector\u001b[0m\u001b[0;34m,\u001b[0m \u001b[0mlimit\u001b[0m\u001b[0;34m=\u001b[0m\u001b[0mlimit\u001b[0m\u001b[0;34m)\u001b[0m\u001b[0;34m\u001b[0m\u001b[0m\n\u001b[0m\u001b[1;32m   1301\u001b[0m                 \u001b[0;32mfor\u001b[0m \u001b[0mcandidate\u001b[0m \u001b[0;32min\u001b[0m \u001b[0mcandidates\u001b[0m\u001b[0;34m:\u001b[0m\u001b[0;34m\u001b[0m\u001b[0m\n\u001b[1;32m   1302\u001b[0m                     \u001b[0;32mif\u001b[0m \u001b[0mcandidate\u001b[0m \u001b[0;32mnot\u001b[0m \u001b[0;32min\u001b[0m \u001b[0mcontext\u001b[0m\u001b[0;34m:\u001b[0m\u001b[0;34m\u001b[0m\u001b[0m\n",
      "\u001b[0;32m/Library/Frameworks/Python.framework/Versions/3.5/lib/python3.5/site-packages/bs4/element.py\u001b[0m in \u001b[0;36mselect\u001b[0;34m(self, selector, _candidate_generator, limit)\u001b[0m\n\u001b[1;32m   1398\u001b[0m                 \u001b[0;32melse\u001b[0m\u001b[0;34m:\u001b[0m\u001b[0;34m\u001b[0m\u001b[0m\n\u001b[1;32m   1399\u001b[0m                     raise NotImplementedError(\n\u001b[0;32m-> 1400\u001b[0;31m                         'Only the following pseudo-classes are implemented: nth-of-type.')\n\u001b[0m\u001b[1;32m   1401\u001b[0m \u001b[0;34m\u001b[0m\u001b[0m\n\u001b[1;32m   1402\u001b[0m             \u001b[0;32melif\u001b[0m \u001b[0mtoken\u001b[0m \u001b[0;34m==\u001b[0m \u001b[0;34m'*'\u001b[0m\u001b[0;34m:\u001b[0m\u001b[0;34m\u001b[0m\u001b[0m\n",
      "\u001b[0;31mNotImplementedError\u001b[0m: Only the following pseudo-classes are implemented: nth-of-type."
     ]
    }
   ],
   "source": [
    "test = violationpage.select('table:nth-child(12) td , td td td , table:nth-child(12) tr+ tr th')"
   ]
  },
  {
   "cell_type": "code",
   "execution_count": null,
   "metadata": {
    "collapsed": true
   },
   "outputs": [],
   "source": []
  },
  {
   "cell_type": "code",
   "execution_count": 321,
   "metadata": {
    "collapsed": false
   },
   "outputs": [],
   "source": []
  },
  {
   "cell_type": "code",
   "execution_count": 349,
   "metadata": {
    "collapsed": false
   },
   "outputs": [
    {
     "data": {
      "text/plain": [
       "[<font size=\"2\">\n",
       " <a href=\"Violation.jsp?tinwsys_is_number=351&amp;tinwsys_st_code=TX&amp;wsnumber=TX0180001   &amp;DWWState=TX&amp;tmnviol_is_number=211711&amp;tmnviol_st_code=TX\" title=\"Violation\">2015-722</a></font>,\n",
       " <font size=\"2\">\n",
       " \t\t\t\t\t\t\n",
       " \t\t\t\t\t\t\t10-01-2014-</font>,\n",
       " <font size=\"2\">02</font>,\n",
       " <font size=\"2\">MCL, LRAA</font>,\n",
       " <font size=\"2\"> 2950 </font>,\n",
       " <font size=\"2\">TTHM                                    </font>,\n",
       " <font size=\"2\">\n",
       " <a href=\"Violation.jsp?tinwsys_is_number=351&amp;tinwsys_st_code=TX&amp;wsnumber=TX0180001   &amp;DWWState=TX&amp;tmnviol_is_number=204266&amp;tmnviol_st_code=TX\" title=\"Violation\">2014-720</a></font>,\n",
       " <font size=\"2\">\n",
       " \t\t\t\t\t\t\n",
       " \t\t\t\t\t\t\t07-01-2014-</font>,\n",
       " <font size=\"2\">02</font>,\n",
       " <font size=\"2\">MCL, LRAA</font>,\n",
       " <font size=\"2\"> 2950 </font>,\n",
       " <font size=\"2\">TTHM                                    </font>,\n",
       " <font size=\"2\">\n",
       " <a href=\"Violation.jsp?tinwsys_is_number=351&amp;tinwsys_st_code=TX&amp;wsnumber=TX0180001   &amp;DWWState=TX&amp;tmnviol_is_number=10549&amp;tmnviol_st_code=TX\" title=\"Violation\">2003-603</a></font>,\n",
       " <font size=\"2\">\n",
       " \t\t\t\t\t\t\n",
       " \t\t\t\t\t\t\t02-01-2003-</font>,\n",
       " <font size=\"2\">36</font>,\n",
       " <font size=\"2\">MONITORING, RTN/RPT MAJOR (SWTR-FILTER)</font>,\n",
       " <font size=\"2\"> 0200 </font>,\n",
       " <font size=\"2\">SWTR                                    </font>,\n",
       " <font size=\"2\">\n",
       " <a href=\"Violation.jsp?tinwsys_is_number=351&amp;tinwsys_st_code=TX&amp;wsnumber=TX0180001   &amp;DWWState=TX&amp;tmnviol_is_number=10547&amp;tmnviol_st_code=TX\" title=\"Violation\">2003-503</a></font>,\n",
       " <font size=\"2\">\n",
       " \t\t\t\t\t\t\n",
       " \t\t\t\t\t\t\t01-01-2003-</font>,\n",
       " <font size=\"2\">36</font>,\n",
       " <font size=\"2\">MONITORING, RTN/RPT MAJOR (SWTR-FILTER)</font>,\n",
       " <font size=\"2\"> 0200 </font>,\n",
       " <font size=\"2\">SWTR                                    </font>,\n",
       " <font size=\"2\">\n",
       " <a href=\"Violation.jsp?tinwsys_is_number=351&amp;tinwsys_st_code=TX&amp;wsnumber=TX0180001   &amp;DWWState=TX&amp;tmnviol_is_number=10252&amp;tmnviol_st_code=TX\" title=\"Violation\">2003-103</a></font>,\n",
       " <font size=\"2\">\n",
       " \t\t\t\t\t\t\n",
       " \t\t\t\t\t\t\t12-01-2002-</font>,\n",
       " <font size=\"2\">36</font>,\n",
       " <font size=\"2\">MONITORING, RTN/RPT MAJOR (SWTR-FILTER)</font>,\n",
       " <font size=\"2\"> 0200 </font>,\n",
       " <font size=\"2\">SWTR                                    </font>,\n",
       " <font size=\"2\">\n",
       " <a href=\"Violation.jsp?tinwsys_is_number=351&amp;tinwsys_st_code=TX&amp;wsnumber=TX0180001   &amp;DWWState=TX&amp;tmnviol_is_number=10295&amp;tmnviol_st_code=TX\" title=\"Violation\">2003-203</a></font>,\n",
       " <font size=\"2\">\n",
       " \t\t\t\t\t\t\n",
       " \t\t\t\t\t\t\t11-01-2002-</font>,\n",
       " <font size=\"2\">36</font>,\n",
       " <font size=\"2\">MONITORING, RTN/RPT MAJOR (SWTR-FILTER)</font>,\n",
       " <font size=\"2\"> 0200 </font>,\n",
       " <font size=\"2\">SWTR                                    </font>,\n",
       " <font size=\"2\">\n",
       " <a href=\"Violation.jsp?tinwsys_is_number=351&amp;tinwsys_st_code=TX&amp;wsnumber=TX0180001   &amp;DWWState=TX&amp;tmnviol_is_number=10361&amp;tmnviol_st_code=TX\" title=\"Violation\">2003-403</a></font>,\n",
       " <font size=\"2\">\n",
       " \t\t\t\t\t\t\n",
       " \t\t\t\t\t\t\t10-01-2002-</font>,\n",
       " <font size=\"2\">36</font>,\n",
       " <font size=\"2\">MONITORING, RTN/RPT MAJOR (SWTR-FILTER)</font>,\n",
       " <font size=\"2\"> 0200 </font>,\n",
       " <font size=\"2\">SWTR                                    </font>,\n",
       " <font size=\"2\">\n",
       " <a href=\"Violation.jsp?tinwsys_is_number=351&amp;tinwsys_st_code=TX&amp;wsnumber=TX0180001   &amp;DWWState=TX&amp;tmnviol_is_number=10311&amp;tmnviol_st_code=TX\" title=\"Violation\">2002-302</a></font>,\n",
       " <font size=\"2\">\n",
       " \t\t\t\t\t\t\n",
       " \t\t\t\t\t\t\t09-01-2002-</font>,\n",
       " <font size=\"2\">36</font>,\n",
       " <font size=\"2\">MONITORING, RTN/RPT MAJOR (SWTR-FILTER)</font>,\n",
       " <font size=\"2\"> 0200 </font>,\n",
       " <font size=\"2\">SWTR                                    </font>]"
      ]
     },
     "execution_count": 349,
     "metadata": {},
     "output_type": "execute_result"
    }
   ],
   "source": [
    "temp"
   ]
  },
  {
   "cell_type": "code",
   "execution_count": null,
   "metadata": {
    "collapsed": true
   },
   "outputs": [],
   "source": []
  },
  {
   "cell_type": "code",
   "execution_count": null,
   "metadata": {
    "collapsed": true
   },
   "outputs": [],
   "source": []
  },
  {
   "cell_type": "code",
   "execution_count": null,
   "metadata": {
    "collapsed": true
   },
   "outputs": [],
   "source": []
  },
  {
   "cell_type": "code",
   "execution_count": null,
   "metadata": {
    "collapsed": true
   },
   "outputs": [],
   "source": []
  },
  {
   "cell_type": "code",
   "execution_count": 320,
   "metadata": {
    "collapsed": false
   },
   "outputs": [
    {
     "ename": "AttributeError",
     "evalue": "'list' object has no attribute 'shape'",
     "output_type": "error",
     "traceback": [
      "\u001b[0;31m---------------------------------------------------------------------------\u001b[0m",
      "\u001b[0;31mAttributeError\u001b[0m                            Traceback (most recent call last)",
      "\u001b[0;32m<ipython-input-320-3de001cc2de6>\u001b[0m in \u001b[0;36m<module>\u001b[0;34m()\u001b[0m\n\u001b[0;32m----> 1\u001b[0;31m \u001b[0mtest\u001b[0m\u001b[0;34m.\u001b[0m\u001b[0mshape\u001b[0m\u001b[0;34m\u001b[0m\u001b[0m\n\u001b[0m",
      "\u001b[0;31mAttributeError\u001b[0m: 'list' object has no attribute 'shape'"
     ]
    }
   ],
   "source": [
    "="
   ]
  },
  {
   "cell_type": "code",
   "execution_count": null,
   "metadata": {
    "collapsed": true
   },
   "outputs": [],
   "source": []
  },
  {
   "cell_type": "code",
   "execution_count": null,
   "metadata": {
    "collapsed": true
   },
   "outputs": [],
   "source": []
  },
  {
   "cell_type": "code",
   "execution_count": 324,
   "metadata": {
    "collapsed": false
   },
   "outputs": [],
   "source": [
    "emptydf = pd.DataFrame(columns=('ViolationNo','CompliancePeriod','TypeCode','ViolationName','AnalyteCode','AnalyteName'))"
   ]
  },
  {
   "cell_type": "code",
   "execution_count": 345,
   "metadata": {
    "collapsed": false
   },
   "outputs": [
    {
     "name": "stdout",
     "output_type": "stream",
     "text": [
      "\n",
      "2015-722\n",
      "\r\n",
      "\t\t\t\t\t\t\r\n",
      "\t\t\t\t\t\t\t10-01-2014-\n",
      "02\n",
      "MCL, LRAA\n",
      " 2950 \n",
      "TTHM                                    \n",
      "\n",
      "2014-720\n",
      "\r\n",
      "\t\t\t\t\t\t\r\n",
      "\t\t\t\t\t\t\t07-01-2014-\n",
      "02\n",
      "MCL, LRAA\n",
      " 2950 \n",
      "TTHM                                    \n",
      "\n",
      "2003-603\n",
      "\r\n",
      "\t\t\t\t\t\t\r\n",
      "\t\t\t\t\t\t\t02-01-2003-\n",
      "36\n",
      "MONITORING, RTN/RPT MAJOR (SWTR-FILTER)\n",
      " 0200 \n",
      "SWTR                                    \n",
      "\n",
      "2003-503\n",
      "\r\n",
      "\t\t\t\t\t\t\r\n",
      "\t\t\t\t\t\t\t01-01-2003-\n",
      "36\n",
      "MONITORING, RTN/RPT MAJOR (SWTR-FILTER)\n",
      " 0200 \n",
      "SWTR                                    \n",
      "\n",
      "2003-103\n",
      "\r\n",
      "\t\t\t\t\t\t\r\n",
      "\t\t\t\t\t\t\t12-01-2002-\n",
      "36\n",
      "MONITORING, RTN/RPT MAJOR (SWTR-FILTER)\n",
      " 0200 \n",
      "SWTR                                    \n",
      "\n",
      "2003-203\n",
      "\r\n",
      "\t\t\t\t\t\t\r\n",
      "\t\t\t\t\t\t\t11-01-2002-\n",
      "36\n",
      "MONITORING, RTN/RPT MAJOR (SWTR-FILTER)\n",
      " 0200 \n",
      "SWTR                                    \n",
      "\n",
      "2003-403\n",
      "\r\n",
      "\t\t\t\t\t\t\r\n",
      "\t\t\t\t\t\t\t10-01-2002-\n",
      "36\n",
      "MONITORING, RTN/RPT MAJOR (SWTR-FILTER)\n",
      " 0200 \n",
      "SWTR                                    \n",
      "\n",
      "2002-302\n",
      "\r\n",
      "\t\t\t\t\t\t\r\n",
      "\t\t\t\t\t\t\t09-01-2002-\n",
      "36\n",
      "MONITORING, RTN/RPT MAJOR (SWTR-FILTER)\n",
      " 0200 \n",
      "SWTR                                    \n"
     ]
    }
   ],
   "source": [
    "empty = []\n",
    "for i in temp:\n",
    "    i.text"
   ]
  },
  {
   "cell_type": "code",
   "execution_count": null,
   "metadata": {
    "collapsed": true
   },
   "outputs": [],
   "source": []
  },
  {
   "cell_type": "code",
   "execution_count": 341,
   "metadata": {
    "collapsed": false
   },
   "outputs": [
    {
     "data": {
      "text/plain": [
       "'SWTR                                    '"
      ]
     },
     "execution_count": 341,
     "metadata": {},
     "output_type": "execute_result"
    }
   ],
   "source": [
    "i.text"
   ]
  },
  {
   "cell_type": "code",
   "execution_count": 344,
   "metadata": {
    "collapsed": false
   },
   "outputs": [
    {
     "data": {
      "text/plain": [
       "' 2950 '"
      ]
     },
     "execution_count": 344,
     "metadata": {},
     "output_type": "execute_result"
    }
   ],
   "source": [
    "temp[4].text"
   ]
  },
  {
   "cell_type": "code",
   "execution_count": null,
   "metadata": {
    "collapsed": true
   },
   "outputs": [],
   "source": []
  },
  {
   "cell_type": "code",
   "execution_count": null,
   "metadata": {
    "collapsed": true
   },
   "outputs": [],
   "source": []
  },
  {
   "cell_type": "code",
   "execution_count": null,
   "metadata": {
    "collapsed": true
   },
   "outputs": [],
   "source": []
  },
  {
   "cell_type": "code",
   "execution_count": 340,
   "metadata": {
    "collapsed": false
   },
   "outputs": [
    {
     "data": {
      "text/plain": [
       "['\\n2015-722',\n",
       " '\\r\\n\\t\\t\\t\\t\\t\\t\\r\\n\\t\\t\\t\\t\\t\\t\\t10-01-2014-',\n",
       " '02',\n",
       " 'MCL, LRAA',\n",
       " ' 2950 ',\n",
       " 'TTHM                                    ',\n",
       " '\\n2014-720',\n",
       " '\\r\\n\\t\\t\\t\\t\\t\\t\\r\\n\\t\\t\\t\\t\\t\\t\\t07-01-2014-',\n",
       " '02',\n",
       " 'MCL, LRAA',\n",
       " ' 2950 ',\n",
       " 'TTHM                                    ',\n",
       " '\\n2003-603',\n",
       " '\\r\\n\\t\\t\\t\\t\\t\\t\\r\\n\\t\\t\\t\\t\\t\\t\\t02-01-2003-',\n",
       " '36',\n",
       " 'MONITORING, RTN/RPT MAJOR (SWTR-FILTER)',\n",
       " ' 0200 ',\n",
       " 'SWTR                                    ',\n",
       " '\\n2003-503',\n",
       " '\\r\\n\\t\\t\\t\\t\\t\\t\\r\\n\\t\\t\\t\\t\\t\\t\\t01-01-2003-',\n",
       " '36',\n",
       " 'MONITORING, RTN/RPT MAJOR (SWTR-FILTER)',\n",
       " ' 0200 ',\n",
       " 'SWTR                                    ',\n",
       " '\\n2003-103',\n",
       " '\\r\\n\\t\\t\\t\\t\\t\\t\\r\\n\\t\\t\\t\\t\\t\\t\\t12-01-2002-',\n",
       " '36',\n",
       " 'MONITORING, RTN/RPT MAJOR (SWTR-FILTER)',\n",
       " ' 0200 ',\n",
       " 'SWTR                                    ',\n",
       " '\\n2003-203',\n",
       " '\\r\\n\\t\\t\\t\\t\\t\\t\\r\\n\\t\\t\\t\\t\\t\\t\\t11-01-2002-',\n",
       " '36',\n",
       " 'MONITORING, RTN/RPT MAJOR (SWTR-FILTER)',\n",
       " ' 0200 ',\n",
       " 'SWTR                                    ',\n",
       " '\\n2003-403',\n",
       " '\\r\\n\\t\\t\\t\\t\\t\\t\\r\\n\\t\\t\\t\\t\\t\\t\\t10-01-2002-',\n",
       " '36',\n",
       " 'MONITORING, RTN/RPT MAJOR (SWTR-FILTER)',\n",
       " ' 0200 ',\n",
       " 'SWTR                                    ',\n",
       " '\\n2002-302',\n",
       " '\\r\\n\\t\\t\\t\\t\\t\\t\\r\\n\\t\\t\\t\\t\\t\\t\\t09-01-2002-',\n",
       " '36',\n",
       " 'MONITORING, RTN/RPT MAJOR (SWTR-FILTER)',\n",
       " ' 0200 ',\n",
       " 'SWTR                                    ']"
      ]
     },
     "execution_count": 340,
     "metadata": {},
     "output_type": "execute_result"
    }
   ],
   "source": [
    "emptylist"
   ]
  },
  {
   "cell_type": "code",
   "execution_count": null,
   "metadata": {
    "collapsed": true
   },
   "outputs": [],
   "source": []
  },
  {
   "cell_type": "code",
   "execution_count": null,
   "metadata": {
    "collapsed": true
   },
   "outputs": [],
   "source": []
  },
  {
   "cell_type": "code",
   "execution_count": null,
   "metadata": {
    "collapsed": true
   },
   "outputs": [],
   "source": []
  },
  {
   "cell_type": "code",
   "execution_count": null,
   "metadata": {
    "collapsed": true
   },
   "outputs": [],
   "source": []
  },
  {
   "cell_type": "code",
   "execution_count": 329,
   "metadata": {
    "collapsed": false
   },
   "outputs": [],
   "source": [
    "import numpy as np\n",
    "\n"
   ]
  },
  {
   "cell_type": "code",
   "execution_count": null,
   "metadata": {
    "collapsed": true
   },
   "outputs": [],
   "source": []
  },
  {
   "cell_type": "code",
   "execution_count": null,
   "metadata": {
    "collapsed": true
   },
   "outputs": [],
   "source": [
    "shape = (len(temp)/emptydf.shape[1] , emptydf.shape[1] )\n",
    "data.reshape( shape )"
   ]
  },
  {
   "cell_type": "code",
   "execution_count": null,
   "metadata": {
    "collapsed": true
   },
   "outputs": [],
   "source": []
  },
  {
   "cell_type": "code",
   "execution_count": 325,
   "metadata": {
    "collapsed": false
   },
   "outputs": [
    {
     "data": {
      "text/plain": [
       "(0, 6)"
      ]
     },
     "execution_count": 325,
     "metadata": {},
     "output_type": "execute_result"
    }
   ],
   "source": []
  },
  {
   "cell_type": "code",
   "execution_count": null,
   "metadata": {
    "collapsed": true
   },
   "outputs": [],
   "source": []
  },
  {
   "cell_type": "code",
   "execution_count": null,
   "metadata": {
    "collapsed": true
   },
   "outputs": [],
   "source": []
  },
  {
   "cell_type": "code",
   "execution_count": null,
   "metadata": {
    "collapsed": true
   },
   "outputs": [],
   "source": []
  },
  {
   "cell_type": "code",
   "execution_count": null,
   "metadata": {
    "collapsed": true
   },
   "outputs": [],
   "source": []
  },
  {
   "cell_type": "code",
   "execution_count": null,
   "metadata": {
    "collapsed": true
   },
   "outputs": [],
   "source": []
  },
  {
   "cell_type": "code",
   "execution_count": null,
   "metadata": {
    "collapsed": true
   },
   "outputs": [],
   "source": []
  },
  {
   "cell_type": "code",
   "execution_count": null,
   "metadata": {
    "collapsed": true
   },
   "outputs": [],
   "source": []
  },
  {
   "cell_type": "code",
   "execution_count": null,
   "metadata": {
    "collapsed": true
   },
   "outputs": [],
   "source": []
  },
  {
   "cell_type": "code",
   "execution_count": null,
   "metadata": {
    "collapsed": true
   },
   "outputs": [],
   "source": []
  },
  {
   "cell_type": "code",
   "execution_count": null,
   "metadata": {
    "collapsed": true
   },
   "outputs": [],
   "source": []
  },
  {
   "cell_type": "code",
   "execution_count": null,
   "metadata": {
    "collapsed": true
   },
   "outputs": [],
   "source": []
  },
  {
   "cell_type": "code",
   "execution_count": null,
   "metadata": {
    "collapsed": true
   },
   "outputs": [],
   "source": []
  },
  {
   "cell_type": "code",
   "execution_count": null,
   "metadata": {
    "collapsed": true
   },
   "outputs": [],
   "source": []
  },
  {
   "cell_type": "code",
   "execution_count": null,
   "metadata": {
    "collapsed": true
   },
   "outputs": [],
   "source": []
  },
  {
   "cell_type": "code",
   "execution_count": null,
   "metadata": {
    "collapsed": true
   },
   "outputs": [],
   "source": []
  },
  {
   "cell_type": "code",
   "execution_count": null,
   "metadata": {
    "collapsed": true
   },
   "outputs": [],
   "source": []
  },
  {
   "cell_type": "code",
   "execution_count": null,
   "metadata": {
    "collapsed": true
   },
   "outputs": [],
   "source": []
  },
  {
   "cell_type": "code",
   "execution_count": null,
   "metadata": {
    "collapsed": true
   },
   "outputs": [],
   "source": []
  },
  {
   "cell_type": "code",
   "execution_count": null,
   "metadata": {
    "collapsed": true
   },
   "outputs": [],
   "source": []
  },
  {
   "cell_type": "code",
   "execution_count": null,
   "metadata": {
    "collapsed": true
   },
   "outputs": [],
   "source": []
  },
  {
   "cell_type": "code",
   "execution_count": 293,
   "metadata": {
    "collapsed": false
   },
   "outputs": [
    {
     "data": {
      "text/plain": [
       "\n",
       "<html>\n",
       "<script language=\"Javascript\" src=\"../JavaScript/DateValidationJavascript.js\"></script>\n",
       "<script language=\"Javascript\" src=\"../JavaScript/date-picker.js\"></script>\n",
       "<script language=\"Javascript\">\n",
       "function openAnalyteList(parameters){\n",
       "\tvar popurl=\"AnalyteGroupListing.jsp?\";\n",
       "\twinpops=window.open(popurl + parameters,\"\",\"width=600,height=400,toolbar=no,scrollbars,menubar=no,resizable,\");\n",
       "}\n",
       "</script>\n",
       "<!-- This will establish a oracle connection for the entire page -->\n",
       "<!-- This will get the tinwsys_is_number and tinwsys_st_code from the request object -->\n",
       "<head>\n",
       "<title>TCEQ - Drinking Water Watch</title>\n",
       "<style type=\"text/css\">\n",
       "\t<!--\n",
       "\t.style3 {color: #FFFFFF; font-size: small; }\n",
       "\t.style4 {font-size: small}\n",
       "\t-->\n",
       "</style>\n",
       "</head>\n",
       "<body bgcolor=\"#F7F0DE\">\n",
       "<table bgcolor=\"#F7F0DE\" border=\"0\" cellspacing=\"0\" width=\"100%\">\n",
       "<tr>\n",
       "<td width=\"100%\">\n",
       "<table bgcolor=\"#C0C0C0\" border=\"1\" bordercolor=\"#111111\" cellpadding=\"0\" cellspacing=\"0\" style=\"border-collapse: collapse\" width=\"100%\">\n",
       "<tr>\n",
       "<th bgcolor=\"#306192\" width=\"33%\"><a href=\"http://www.tceq.state.tx.us\" target=\"_blank\"><font color=\"#FFFFFF\" title=\"Texas Commission on Environmental Quality\">Texas\n",
       "\t\t\t\tCommission on Environmental Quality</font></a></th>\n",
       "<th bgcolor=\"#306192\" width=\"33%\"><a href=\"http://www.tceq.state.tx.us/about/organization/water.html\" target=\"_blank\"><font color=\"#FFFFFF\">Office of Water</font></a></th>\n",
       "<th bgcolor=\"#306192\" width=\"34%\"><a href=\"http://www.tceq.state.tx.us/permitting/water_supply/pdw/\" target=\"_blank\"><font color=\"#FFFFFF\" title=\"Drinking Water Program\">Public Drinking Water Section</font></a></th>\n",
       "</tr>\n",
       "<tr>\n",
       "<th bgcolor=\"#306192\" width=\"33%\"><a href=\"../Maps/Map_Template.jsp\"><font color=\"#FFFFFF\" title=\"County Map of ND\">County Map of TX</font></a></th>\n",
       "<th bgcolor=\"#306192\" width=\"33%\"><a href=\"../\"><font color=\"#FFFFFF\" title=\"Water System Search\">Water System\n",
       "\t\t\t\tSearch</font></a></th>\n",
       "<th bgcolor=\"#306192\" width=\"34%\"><a href=\"http://www.tceq.state.tx.us/about/organization/oce.html#5\" target=\"_blank\"><font color=\"#FFFFFF\" title=\"Office of Compliance and Enforcement\">Office of\n",
       "\t\t\t\tCompliance and Enforcement</font></a></th>\n",
       "</tr>\n",
       "</table>\n",
       "<br>\n",
       "<html>\n",
       "<!-- This will get the tinwsys_is_number and tinwsys_st_code from the request object -->\n",
       "<script language=\"Javascript\">\n",
       "\n",
       "function openpopup2(){\n",
       "\n",
       "\tvar popurl=\"../Help/index.htm\"\n",
       "\twinpops=window.open(popurl,\"\",\"width=400,height=338,toolbar,scrollbars,menubar,resizable,\")\n",
       "\n",
       "}\n",
       "\n",
       "</script>\n",
       "<body bgcolor=\"#F7F0DE\">\n",
       "<table bgcolor=\"#C0C0C0\" border=\"1\" bordercolor=\"#111111\" cellpadding=\"0\" cellspacing=\"0\" style=\"border-collapse: collapse\" width=\"100%\">\n",
       "<tr>\n",
       "<th bgcolor=\"#306192\" colspan=\"11\" width=\"100%\"><a href=\"WaterSystemDetail.jsp?tinwsys_is_number=351&amp;tinwsys_st_code=TX&amp;wsnumber=TX0180001   &amp;DWWState=TX\"><font color=\"#FFFF00\" title=\"Water System Detail\">Water System\n",
       "\t\tDetail</font></a></th>\n",
       "</tr>\n",
       "<tr>\n",
       "<td bgcolor=\"#306192\" width=\"25%\">\n",
       "<p style=\"margin-left: 5\"><a href=\"WaterSystemFacilities.jsp?tinwsys_is_number=351&amp;tinwsys_st_code=TX&amp;wsnumber=TX0180001   &amp;DWWState=TX\"><font color=\"#FFFF00\" title=\"Water System Facilities\">Water System\n",
       "\t\tFacilities</font></a><br/>\n",
       "<a href=\"SWAP.jsp?tinwsys_is_number=351&amp;tinwsys_st_code=TX&amp;wsnumber=TX0180001   &amp;DWWState=TX\"><font color=\"#FFFF00\" title=\"Source Water Assessment Results\">Source\n",
       "\t\tWater Assessment Results</font></a></p>\n",
       "</td>\n",
       "<td bgcolor=\"#306192\" width=\"25%\">\n",
       "<p style=\"margin-left: 5\"><a href=\"Violations.jsp?tinwsys_is_number=351&amp;tinwsys_st_code=TX&amp;wsnumber=TX0180001   &amp;DWWState=TX\"><font color=\"#FFFF00\" title=\"Violations\">Violations</font></a>    <a href=\"EnfActBySys.jsp?tinwsys_is_number=351&amp;tinwsys_st_code=TX&amp;wsnumber=TX0180001   &amp;DWWState=TX\"><font color=\"#FFFF00\" title=\"Enforcement Actions\"> Enforcement\n",
       "\t\tActions</font></a></p>\n",
       "</td>\n",
       "<td bgcolor=\"#306192\" width=\"25%\">\n",
       "<p style=\"margin-left: 5\"><a href=\"TcrSampleResults.jsp?tinwsys_is_number=351&amp;tinwsys_st_code=TX&amp;wsnumber=TX0180001   &amp;DWWState=TX&amp;begin_date=&amp;end_date=&amp;counter=0\"><font color=\"#FFFF00\" title=\"TCR Sample Results\">TCR Sample Results</font></a></p>\n",
       "</td>\n",
       "<td bgcolor=\"#306192\" width=\"25%\">\n",
       "<p style=\"margin-left: 5\"><a href=\"tthmsummary.jsp?tinwsys_is_number=351&amp;tinwsys_st_code=TX&amp;wsnumber=TX0180001   &amp;DWWState=TX&amp;begin_date=&amp;end_date=&amp;counter=0\"><font color=\"#FFFF00\" title=\"TTHM Sample Summaries\">TTHM</font></a> <a href=\"haa5summary.jsp?tinwsys_is_number=351&amp;tinwsys_st_code=TX&amp;wsnumber=TX0180001   &amp;DWWState=TX&amp;begin_date=&amp;end_date=&amp;counter=0\"><font color=\"#FFFF00\" title=\"HAA5 Sample Summaries\">HAA5</font></a><font color=\"#FFFF00\"> Summaries</font></p>\n",
       "</td>\n",
       "</tr>\n",
       "<tr>\n",
       "<td bgcolor=\"#306192\" width=\"25%\">\n",
       "<p style=\"margin-left: 5\"><a href=\"WaterSystemSamplePoints.jsp?tinwsys_is_number=351&amp;tinwsys_st_code=TX&amp;wsnumber=TX0180001   &amp;DWWState=TX&amp;&amp;begin_date=&amp;end_date=&amp;counter=0\"><font color=\"#FFFF00\" title=\"Sample Points\">Sample Points</font></a></p>\n",
       "</td>\n",
       "<td bgcolor=\"#306192\" width=\"25%\">\n",
       "<p style=\"margin-left: 5\"><a href=\"AssistActBySys.jsp?tinwsys_is_number=351&amp;tinwsys_st_code=TX&amp;wsnumber=TX0180001   &amp;DWWState=TX\"><font color=\"#FFFF00\" title=\"Assistance Actions\">Assistance Actions</font></a></p>\n",
       "</td>\n",
       "<td bgcolor=\"#306192\" width=\"25%\">\n",
       "<p style=\"margin-left: 5\"><a href=\"PosTcrSampleResults.jsp?tinwsys_is_number=351&amp;tinwsys_st_code=TX&amp;wsnumber=TX0180001   &amp;DWWState=TX&amp;begin_date=&amp;end_date=&amp;counter=0\"><font color=\"#FFFF00\" title=\"Recent Positive TCR Sample Results\">Recent\n",
       "\t\tPositive TCR Results</font></a></p>\n",
       "</td>\n",
       "<td bgcolor=\"#306192\" width=\"25%\">\n",
       "<p style=\"margin-left: 5\"><a href=\"PBCUSampleSummaryResults.jsp?tinwsys_is_number=351&amp;tinwsys_st_code=TX&amp;wsnumber=TX0180001   &amp;DWWState=TX&amp;begin_date=&amp;end_date=&amp;counter=0\"><font color=\"#FFFF00\" title=\"PBCU Sample Summaries\">PBCU Summaries</font></a></p>\n",
       "</td>\n",
       "</tr>\n",
       "<tr>\n",
       "<td bgcolor=\"#306192\" width=\"25%\">\n",
       "<p style=\"margin-left: 5\"><a href=\"Scheds.jsp?tinwsys_is_number=351&amp;tinwsys_st_code=TX&amp;wsnumber=TX0180001   &amp;DWWState=TX&amp;begin_date=&amp;end_date=&amp;counter=0\"><font color=\"#FFFF00\" title=\"Sample Schedules/FANLs/Plans\">Sample\n",
       "\t\tSchedules / FANLs / Plans</font></a></p>\n",
       "</td>\n",
       "<td bgcolor=\"#306192\" width=\"25%\">\n",
       "<p style=\"margin-left: 5\"><a href=\"ComplianceScheds.jsp?tinwsys_is_number=351&amp;tinwsys_st_code=TX&amp;wsnumber=TX0180001   &amp;DWWState=TX\"><font color=\"#FFFF00\" title=\"Compliance Schedules\">Compliance\n",
       "\t\tSchedules</font></a></p>\n",
       "</td>\n",
       "<td bgcolor=\"#306192\" width=\"25%\">\n",
       "<p style=\"margin-left: 5\"><a href=\"NonTcrSamples.jsp?tinwsys_is_number=351&amp;tinwsys_st_code=TX&amp;wsnumber=TX0180001   &amp;DWWState=TX&amp;history=0&amp;begin_date=&amp;end_date=&amp;counter=0\"><font color=\"#FFFF00\" title=\"Other Chemical Results\">Other Chemical\n",
       "\t\tResults</font></a></p>\n",
       "</td>\n",
       "<td bgcolor=\"#306192\" width=\"25%\">\n",
       "<p style=\"margin-left: 5\"><a href=\"clsummary.jsp?tinwsys_is_number=351&amp;tinwsys_st_code=TX&amp;wsnumber=TX0180001   &amp;DWWState=TX&amp;begin_date=&amp;end_date=&amp;counter=0\"><font color=\"#FFFF00\" title=\"Chlorine Summaries\">Chlorine Summaries</font></a></p>\n",
       "</td>\n",
       "</tr>\n",
       "<tr>\n",
       "<td bgcolor=\"#306192\" width=\"25%\">\n",
       "<p style=\"margin-left: 5\"><a href=\"SiteVisits.jsp?tinwsys_is_number=351&amp;tinwsys_st_code=TX&amp;wsnumber=TX0180001   &amp;DWWState=TX&amp;begin_date=&amp;end_date=&amp;counter=0\"><font color=\"#FFFF00\" title=\"Site Visits\">Site Visits</font></a>   <a href=\"Milestones.jsp?tinwsys_is_number=351&amp;tinwsys_st_code=TX&amp;wsnumber=TX0180001   &amp;DWWState=TX\"><font color=\"#FFFF00\" title=\"Milestones\">Milestones</font></a></p>\n",
       "</td>\n",
       "<td bgcolor=\"#306192\" width=\"25%\">\n",
       "<p style=\"margin-left: 5\"><a href=\"TOCAResults.jsp?tinwsys_is_number=351&amp;tinwsys_st_code=TX&amp;wsnumber=TX0180001   &amp;DWWState=TX&amp;begin_date=&amp;end_date=&amp;counter=0\"><font color=\"#FFFF00\" title=\"TOC/Alkalinity Results\">TOC/Alkalinity\n",
       "\t\tResults</font></a></p>\n",
       "</td>\n",
       "<td bgcolor=\"#306192\" width=\"25%\">\n",
       "<p style=\"margin-left: 5\"><font color=\"#FFFF00\">Chemical Results: Sort by:\n",
       "\t\t</font><a href=\"AnalyteList.jsp?tinwsys_is_number=351&amp;tinwsys_st_code=TX&amp;wsnumber=TX0180001   &amp;DWWState=TX\"><font color=\"#FFFF00\" title=\"Chemical Results by Name\">Name</font></a> <a href=\"AnalyteListByCode.jsp?tinwsys_is_number=351&amp;tinwsys_st_code=TX&amp;wsnumber=TX0180001   &amp;DWWState=TX\"><font color=\"#FFFF00\" title=\"Chemical Results by Code\">Code</font></a></p>\n",
       "</td>\n",
       "<td bgcolor=\"#306192\" width=\"25%\">\n",
       "<p style=\"margin-left: 5\"><a href=\"turbsummary.jsp?tinwsys_is_number=351&amp;tinwsys_st_code=TX&amp;wsnumber=TX0180001   &amp;DWWState=TX&amp;begin_date=&amp;end_date=&amp;counter=0\"><font color=\"#FFFF00\" title=\"Turbidity Summaries\">Turbidity\n",
       "\t\tSummaries</font></a></p>\n",
       "</td>\n",
       "</tr>\n",
       "<tr>\n",
       "<td bgcolor=\"#306192\" width=\"25%\">\n",
       "<p style=\"margin-left: 5\"><a href=\"WSOPS.jsp?tinwsys_is_number=351&amp;tinwsys_st_code=TX&amp;wsnumber=TX0180001   &amp;DWWState=TX\"><font color=\"#FFFF00\" title=\"Operators\">Operators</font></a>   <a href=\"WSPOC.jsp?tinwsys_is_number=351&amp;tinwsys_st_code=TX&amp;wsnumber=TX0180001   &amp;DWWState=TX\"><font color=\"#FFFF00\" title=\"All POC\">All POC</font></a></p>\n",
       "</td>\n",
       "<td bgcolor=\"#306192\" width=\"25%\">\n",
       "<p style=\"margin-left: 5\"><a href=\"LRAA.jsp?tinwsys_is_number=351&amp;tinwsys_st_code=TX&amp;wsnumber=TX0180001   &amp;DWWState=TX\"><font color=\"#FFFF00\" title=\"Locational Running Annual Average (TTHM/HAA5)\">LRAA\n",
       "\t\t(TTHM/HAA5)</font></a></p>\n",
       "</td>\n",
       "<td bgcolor=\"#306192\" width=\"25%\">\n",
       "<p style=\"margin-left: 5\"><a href=\"NonTCRRecentSampleResult.jsp?tinwsys_is_number=351&amp;tinwsys_st_code=TX&amp;wsnumber=TX0180001   &amp;DWWState=TX\"><font color=\"#FFFF00\" title=\"Recent Non-TCR Sample Results\">Recent\n",
       "\t\tNon-TCR Sample Results</font></a></p>\n",
       "</td>\n",
       "<td bgcolor=\"#306192\" width=\"25%\">\n",
       "<p style=\"margin-left: 5\"><a href=\"TcrSampleSummaryResults.jsp?tinwsys_is_number=351&amp;tinwsys_st_code=TX&amp;wsnumber=TX0180001   &amp;DWWState=TX&amp;begin_date=&amp;end_Date=&amp;counter=0\"><font color=\"#FFFF00\" title=\"TCR Sample Summaries\">TCR Sample\n",
       "\t\tSummaries</font></a></p>\n",
       "</td>\n",
       "</tr>\n",
       "<tr>\n",
       "<th bgcolor=\"#306192\" colspan=\"11\" width=\"100%\"><a href=\"javascript:openpopup2()\"><font color=\"#FFFF00\" title=\"Glossary\">Glossary</font></a></th>\n",
       "</tr>\n",
       "</table>\n",
       "</body>\n",
       "</html> <br>\n",
       "<table bgcolor=\"#99CCFF\" border=\"1\" bordercolor=\"#111111\" cellpadding=\"0\" cellspacing=\"0\" style=\"border-collapse: collapse\" width=\"100%\">\n",
       "<tr>\n",
       "<th bgcolor=\"#306192\" colspan=\"4\" width=\"100%\"><font color=\"#FFFFFF\" size=\"4\">Water System Detail Information</font></th>\n",
       "</tr>\n",
       "<tr>\n",
       "<td bgcolor=\"#306192\" width=\"20%\">\n",
       "<p style=\"margin-left: 5\"><font color=\"#FFFFFF\">Water\n",
       "\t\t\t\tSystem No.:</font></p>\n",
       "</td>\n",
       "<td bgcolor=\"#DBDBDB\" width=\"50%\">\n",
       "<p style=\"margin-left: 5\">TX0180001   </p>\n",
       "</td>\n",
       "<td bgcolor=\"#306192\" width=\"15%\">\n",
       "<p style=\"margin-left: 5\"><font color=\"#FFFFFF\">Federal\n",
       "\t\t\t\tType:</font></p>\n",
       "</td>\n",
       "<td bgcolor=\"#DBDBDB\" width=\"15%\">\n",
       "<p style=\"margin-left: 5\">C   </p>\n",
       "</td>\n",
       "</tr>\n",
       "<tr>\n",
       "<td bgcolor=\"#306192\" width=\"20%\">\n",
       "<p style=\"margin-left: 5\"><font color=\"#FFFFFF\">Water\n",
       "\t\t\t\tSystem Name:</font></p>\n",
       "</td>\n",
       "<td bgcolor=\"#DBDBDB\" width=\"50%\">\n",
       "<p style=\"margin-left: 5\">CITY OF CLIFTON</p>\n",
       "</td>\n",
       "<td bgcolor=\"#306192\" width=\"15%\">\n",
       "<p style=\"margin-left: 5\"><font color=\"#FFFFFF\">Federal\n",
       "\t\t\t\tSource:</font></p>\n",
       "</td>\n",
       "<td bgcolor=\"#DBDBDB\" width=\"15%\">\n",
       "<p style=\"margin-left: 5\">SW </p>\n",
       "</td>\n",
       "</tr>\n",
       "<tr>\n",
       "<td bgcolor=\"#306192\" width=\"20%\">\n",
       "<p style=\"margin-left: 5\"><font color=\"#FFFFFF\">Principal\n",
       "\t\t\t\tCounty Served:</font></p>\n",
       "</td>\n",
       "<td bgcolor=\"#DBDBDB\" width=\"50%\">\n",
       "<p style=\"margin-left: 5\">BOSQUE</p>\n",
       "</td>\n",
       "<td bgcolor=\"#306192\" width=\"15%\">\n",
       "<p style=\"margin-left: 5\"><font color=\"#FFFFFF\">System\n",
       "\t\t\t\tStatus:</font></p>\n",
       "</td>\n",
       "<td bgcolor=\"#DBDBDB\" width=\"15%\">\n",
       "<p style=\"margin-left: 5\">A</p>\n",
       "</td>\n",
       "</tr>\n",
       "<tr>\n",
       "<td bgcolor=\"#306192\" width=\"20%\">\n",
       "<p style=\"margin-left: 5\"><font color=\"#FFFFFF\">Principal\n",
       "\t\t\t\tCity Served:</font></p>\n",
       "</td>\n",
       "<td bgcolor=\"#DBDBDB\" width=\"50%\">\n",
       "<p style=\"margin-left: 5\"> </p>\n",
       "</td>\n",
       "<td bgcolor=\"#306192\" width=\"15%\">\n",
       "<p style=\"margin-left: 5\"><font color=\"#FFFFFF\">Activity\n",
       "\t\t\t\tDate:</font></p>\n",
       "</td>\n",
       "<td bgcolor=\"#DBDBDB\" width=\"15%\">\n",
       "<p style=\"margin-left: 5\">01-01-1913</p>\n",
       "</td>\n",
       "</tr>\n",
       "</table>\n",
       "<br/>\n",
       "<table bgcolor=\"#FFCC99\" border=\"1\" bordercolor=\"#111111\" cellpadding=\"2\" cellspacing=\"0\" style=\"border-collapse: collapse\" width=\"100%\">\n",
       "<tr>\n",
       "<th bgcolor=\"#306192\" colspan=\"6\" width=\"100%\"><font color=\"#FFFFFF\" size=\"4\">Group Violations</font></th>\n",
       "</tr>\n",
       "<tr>\n",
       "<th bgcolor=\"#306192\" width=\"10%\"><font color=\"#FFFFFF\">Fed\n",
       "\t\t\t\tFiscal Year</font></th>\n",
       "<th bgcolor=\"#306192\" width=\"10%\"><font color=\"#FFFFFF\">Determ.<br>\n",
       "\t\t\t\tDate</br></font></th>\n",
       "<th bgcolor=\"#306192\" width=\"15%\"><font color=\"#FFFFFF\">Violation<br>\n",
       "\t\t\t\tType</br></font></th>\n",
       "<th bgcolor=\"#306192\" width=\"25%\"><font color=\"#FFFFFF\">Violation\n",
       "\t\t\t\tName</font></th>\n",
       "<th bgcolor=\"#306192\" width=\"15%\"><font color=\"#FFFFFF\">Analyte\n",
       "\t\t\t\tGroup</font></th>\n",
       "<th bgcolor=\"#306192\" width=\"25%\"><font color=\"#FFFFFF\">Analyte\n",
       "\t\t\t\tGroup Name</font></th>\n",
       "</tr>\n",
       "</table>\n",
       "<br/>\n",
       "<table bgcolor=\"#FFCC99\" border=\"1\" bordercolor=\"#111111\" cellpadding=\"2\" cellspacing=\"0\" style=\"border-collapse: collapse\" width=\"100%\">\n",
       "<tr>\n",
       "<th bgcolor=\"#306192\" colspan=\"8\"><font color=\"#FFFFFF\" size=\"4\">Individual Violations</font></th>\n",
       "</tr>\n",
       "<tr>\n",
       "<th bgcolor=\"#306192\" width=\"9%\"><span class=\"style4\"><font color=\"#FFFFFF\">Violation<br>\n",
       "\t\t\t\tNo.</br></font></span></th>\n",
       "<th bgcolor=\"#306192\" width=\"7%\"><span class=\"style4\"><font color=\"#FFFFFF\">Compliance Period</font></span></th>\n",
       "<th bgcolor=\"#306192\" width=\"10%\"><span class=\"style4\"><font color=\"#FFFFFF\">Violation<br>\n",
       "\t\t\t\tType Code</br></font></span></th>\n",
       "<th bgcolor=\"#306192\" width=\"20%\"><span class=\"style4\"><font color=\"#FFFFFF\">Violation Name</font></span></th>\n",
       "<th bgcolor=\"#306192\" width=\"9%\"><span class=\"style4\"><font color=\"#FFFFFF\">Analyte\n",
       "\t\t\t\tCode</font></span></th>\n",
       "<th bgcolor=\"#306192\" width=\"19%\"><span class=\"style4\"><font color=\"#FFFFFF\">Analyte Name</font></span></th>\n",
       "<th bgcolor=\"#306192\" width=\"13%\"><span class=\"style3\">Has the Violation been Addressed? (On the Path to Compliance)</span></th>\n",
       "<th bgcolor=\"#306192\" width=\"13%\"><span class=\"style3\">Has the Violation been Resolved? (Returned to Compliance)</span></th>\n",
       "</tr>\n",
       "<tr>\n",
       "<td align=\"center\" bgcolor=\"#DBDBDB\" width=\"9%\"><font size=\"2\">\n",
       "<a href=\"Violation.jsp?tinwsys_is_number=351&amp;tinwsys_st_code=TX&amp;wsnumber=TX0180001   &amp;DWWState=TX&amp;tmnviol_is_number=211711&amp;tmnviol_st_code=TX\" title=\"Violation\">2015-722</a></font></td>\n",
       "<td align=\"center\" bgcolor=\"#DBDBDB\" width=\"7%\"><font size=\"2\">\n",
       "\t\t\t\t\t\t\n",
       "\t\t\t\t\t\t\t10-01-2014-</font></td></tr></table></br>12-31-2014\n",
       "\t\t\t\t\t\t\n",
       "\t\t\t\t\t</br></td></tr></table></body></html>\n",
       "<td align=\"center\" bgcolor=\"#DBDBDB\" width=\"10%\"><font size=\"2\">02</font></td>\n",
       "<td bgcolor=\"#DBDBDB\" width=\"20%\"><font size=\"2\">MCL, LRAA</font></td>\n",
       "<td align=\"center\" bgcolor=\"#DBDBDB\" width=\"9%\">\n",
       "<font size=\"2\"> 2950 </font></td>\n",
       "<td bgcolor=\"#DBDBDB\" width=\"19%\"><font size=\"2\">TTHM                                    </font></td>\n",
       "<td align=\"center\" bgcolor=\"#DBDBDB\" width=\"13%\">\n",
       "\t\t\t\t\t \n",
       "\t\t\t\t\t\tYes - Informal\n",
       "   \n",
       "\t\t\t\t\t</td>\n",
       "<td align=\"center\" bgcolor=\"#DBDBDB\" width=\"13%\">\n",
       "\t\t\t\t\t \n",
       "\t\t\t\t\t\tYes\n",
       "   \n",
       "\t\t\t\t\t</td>\n",
       "\n",
       "<tr>\n",
       "<td align=\"center\" bgcolor=\"#DBDBDB\" width=\"9%\"><font size=\"2\">\n",
       "<a href=\"Violation.jsp?tinwsys_is_number=351&amp;tinwsys_st_code=TX&amp;wsnumber=TX0180001   &amp;DWWState=TX&amp;tmnviol_is_number=204266&amp;tmnviol_st_code=TX\" title=\"Violation\">2014-720</a></font></td>\n",
       "<td align=\"center\" bgcolor=\"#DBDBDB\" width=\"7%\"><font size=\"2\">\n",
       "\t\t\t\t\t\t\n",
       "\t\t\t\t\t\t\t07-01-2014-</font></td></tr>09-30-2014\n",
       "\t\t\t\t\t\t\n",
       "\t\t\t\t\t\n",
       "<td align=\"center\" bgcolor=\"#DBDBDB\" width=\"10%\"><font size=\"2\">02</font></td>\n",
       "<td bgcolor=\"#DBDBDB\" width=\"20%\"><font size=\"2\">MCL, LRAA</font></td>\n",
       "<td align=\"center\" bgcolor=\"#DBDBDB\" width=\"9%\">\n",
       "<font size=\"2\"> 2950 </font></td>\n",
       "<td bgcolor=\"#DBDBDB\" width=\"19%\"><font size=\"2\">TTHM                                    </font></td>\n",
       "<td align=\"center\" bgcolor=\"#DBDBDB\" width=\"13%\">\n",
       "\t\t\t\t\t \n",
       "\t\t\t\t\t\tYes - Informal\n",
       "   \n",
       "\t\t\t\t\t</td>\n",
       "<td align=\"center\" bgcolor=\"#DBDBDB\" width=\"13%\">\n",
       "\t\t\t\t\t \n",
       "\t\t\t\t\t\tYes\n",
       "   \n",
       "\t\t\t\t\t</td>\n",
       "\n",
       "<tr>\n",
       "<td align=\"center\" bgcolor=\"#DBDBDB\" width=\"9%\"><font size=\"2\">\n",
       "<a href=\"Violation.jsp?tinwsys_is_number=351&amp;tinwsys_st_code=TX&amp;wsnumber=TX0180001   &amp;DWWState=TX&amp;tmnviol_is_number=10549&amp;tmnviol_st_code=TX\" title=\"Violation\">2003-603</a></font></td>\n",
       "<td align=\"center\" bgcolor=\"#DBDBDB\" width=\"7%\"><font size=\"2\">\n",
       "\t\t\t\t\t\t\n",
       "\t\t\t\t\t\t\t02-01-2003-</font></td></tr>02-28-2003\n",
       "\t\t\t\t\t\t\n",
       "\t\t\t\t\t\n",
       "<td align=\"center\" bgcolor=\"#DBDBDB\" width=\"10%\"><font size=\"2\">36</font></td>\n",
       "<td bgcolor=\"#DBDBDB\" width=\"20%\"><font size=\"2\">MONITORING, RTN/RPT MAJOR (SWTR-FILTER)</font></td>\n",
       "<td align=\"center\" bgcolor=\"#DBDBDB\" width=\"9%\">\n",
       "<font size=\"2\"> 0200 </font></td>\n",
       "<td bgcolor=\"#DBDBDB\" width=\"19%\"><font size=\"2\">SWTR                                    </font></td>\n",
       "<td align=\"center\" bgcolor=\"#DBDBDB\" width=\"13%\">\n",
       "\t\t\t\t\t \n",
       "\t\t\t\t\t\tNot yet on path to compliance\n",
       "   \n",
       "\t\t\t\t\t</td>\n",
       "<td align=\"center\" bgcolor=\"#DBDBDB\" width=\"13%\">\n",
       "\t\t\t\t\t \n",
       "\t\t\t\t\t\tYes\n",
       "   \n",
       "\t\t\t\t\t</td>\n",
       "\n",
       "<tr>\n",
       "<td align=\"center\" bgcolor=\"#DBDBDB\" width=\"9%\"><font size=\"2\">\n",
       "<a href=\"Violation.jsp?tinwsys_is_number=351&amp;tinwsys_st_code=TX&amp;wsnumber=TX0180001   &amp;DWWState=TX&amp;tmnviol_is_number=10547&amp;tmnviol_st_code=TX\" title=\"Violation\">2003-503</a></font></td>\n",
       "<td align=\"center\" bgcolor=\"#DBDBDB\" width=\"7%\"><font size=\"2\">\n",
       "\t\t\t\t\t\t\n",
       "\t\t\t\t\t\t\t01-01-2003-</font></td></tr>01-31-2003\n",
       "\t\t\t\t\t\t\n",
       "\t\t\t\t\t\n",
       "<td align=\"center\" bgcolor=\"#DBDBDB\" width=\"10%\"><font size=\"2\">36</font></td>\n",
       "<td bgcolor=\"#DBDBDB\" width=\"20%\"><font size=\"2\">MONITORING, RTN/RPT MAJOR (SWTR-FILTER)</font></td>\n",
       "<td align=\"center\" bgcolor=\"#DBDBDB\" width=\"9%\">\n",
       "<font size=\"2\"> 0200 </font></td>\n",
       "<td bgcolor=\"#DBDBDB\" width=\"19%\"><font size=\"2\">SWTR                                    </font></td>\n",
       "<td align=\"center\" bgcolor=\"#DBDBDB\" width=\"13%\">\n",
       "\t\t\t\t\t \n",
       "\t\t\t\t\t\tNot yet on path to compliance\n",
       "   \n",
       "\t\t\t\t\t</td>\n",
       "<td align=\"center\" bgcolor=\"#DBDBDB\" width=\"13%\">\n",
       "\t\t\t\t\t \n",
       "\t\t\t\t\t\tYes\n",
       "   \n",
       "\t\t\t\t\t</td>\n",
       "\n",
       "<tr>\n",
       "<td align=\"center\" bgcolor=\"#DBDBDB\" width=\"9%\"><font size=\"2\">\n",
       "<a href=\"Violation.jsp?tinwsys_is_number=351&amp;tinwsys_st_code=TX&amp;wsnumber=TX0180001   &amp;DWWState=TX&amp;tmnviol_is_number=10252&amp;tmnviol_st_code=TX\" title=\"Violation\">2003-103</a></font></td>\n",
       "<td align=\"center\" bgcolor=\"#DBDBDB\" width=\"7%\"><font size=\"2\">\n",
       "\t\t\t\t\t\t\n",
       "\t\t\t\t\t\t\t12-01-2002-</font></td></tr>12-31-2002\n",
       "\t\t\t\t\t\t\n",
       "\t\t\t\t\t\n",
       "<td align=\"center\" bgcolor=\"#DBDBDB\" width=\"10%\"><font size=\"2\">36</font></td>\n",
       "<td bgcolor=\"#DBDBDB\" width=\"20%\"><font size=\"2\">MONITORING, RTN/RPT MAJOR (SWTR-FILTER)</font></td>\n",
       "<td align=\"center\" bgcolor=\"#DBDBDB\" width=\"9%\">\n",
       "<font size=\"2\"> 0200 </font></td>\n",
       "<td bgcolor=\"#DBDBDB\" width=\"19%\"><font size=\"2\">SWTR                                    </font></td>\n",
       "<td align=\"center\" bgcolor=\"#DBDBDB\" width=\"13%\">\n",
       "\t\t\t\t\t \n",
       "\t\t\t\t\t\tNot yet on path to compliance\n",
       "   \n",
       "\t\t\t\t\t</td>\n",
       "<td align=\"center\" bgcolor=\"#DBDBDB\" width=\"13%\">\n",
       "\t\t\t\t\t \n",
       "\t\t\t\t\t\tYes\n",
       "   \n",
       "\t\t\t\t\t</td>\n",
       "\n",
       "<tr>\n",
       "<td align=\"center\" bgcolor=\"#DBDBDB\" width=\"9%\"><font size=\"2\">\n",
       "<a href=\"Violation.jsp?tinwsys_is_number=351&amp;tinwsys_st_code=TX&amp;wsnumber=TX0180001   &amp;DWWState=TX&amp;tmnviol_is_number=10295&amp;tmnviol_st_code=TX\" title=\"Violation\">2003-203</a></font></td>\n",
       "<td align=\"center\" bgcolor=\"#DBDBDB\" width=\"7%\"><font size=\"2\">\n",
       "\t\t\t\t\t\t\n",
       "\t\t\t\t\t\t\t11-01-2002-</font></td></tr>11-30-2002\n",
       "\t\t\t\t\t\t\n",
       "\t\t\t\t\t\n",
       "<td align=\"center\" bgcolor=\"#DBDBDB\" width=\"10%\"><font size=\"2\">36</font></td>\n",
       "<td bgcolor=\"#DBDBDB\" width=\"20%\"><font size=\"2\">MONITORING, RTN/RPT MAJOR (SWTR-FILTER)</font></td>\n",
       "<td align=\"center\" bgcolor=\"#DBDBDB\" width=\"9%\">\n",
       "<font size=\"2\"> 0200 </font></td>\n",
       "<td bgcolor=\"#DBDBDB\" width=\"19%\"><font size=\"2\">SWTR                                    </font></td>\n",
       "<td align=\"center\" bgcolor=\"#DBDBDB\" width=\"13%\">\n",
       "\t\t\t\t\t \n",
       "\t\t\t\t\t\tNot yet on path to compliance\n",
       "   \n",
       "\t\t\t\t\t</td>\n",
       "<td align=\"center\" bgcolor=\"#DBDBDB\" width=\"13%\">\n",
       "\t\t\t\t\t \n",
       "\t\t\t\t\t\tYes\n",
       "   \n",
       "\t\t\t\t\t</td>\n",
       "\n",
       "<tr>\n",
       "<td align=\"center\" bgcolor=\"#DBDBDB\" width=\"9%\"><font size=\"2\">\n",
       "<a href=\"Violation.jsp?tinwsys_is_number=351&amp;tinwsys_st_code=TX&amp;wsnumber=TX0180001   &amp;DWWState=TX&amp;tmnviol_is_number=10361&amp;tmnviol_st_code=TX\" title=\"Violation\">2003-403</a></font></td>\n",
       "<td align=\"center\" bgcolor=\"#DBDBDB\" width=\"7%\"><font size=\"2\">\n",
       "\t\t\t\t\t\t\n",
       "\t\t\t\t\t\t\t10-01-2002-</font></td></tr>10-31-2002\n",
       "\t\t\t\t\t\t\n",
       "\t\t\t\t\t\n",
       "<td align=\"center\" bgcolor=\"#DBDBDB\" width=\"10%\"><font size=\"2\">36</font></td>\n",
       "<td bgcolor=\"#DBDBDB\" width=\"20%\"><font size=\"2\">MONITORING, RTN/RPT MAJOR (SWTR-FILTER)</font></td>\n",
       "<td align=\"center\" bgcolor=\"#DBDBDB\" width=\"9%\">\n",
       "<font size=\"2\"> 0200 </font></td>\n",
       "<td bgcolor=\"#DBDBDB\" width=\"19%\"><font size=\"2\">SWTR                                    </font></td>\n",
       "<td align=\"center\" bgcolor=\"#DBDBDB\" width=\"13%\">\n",
       "\t\t\t\t\t \n",
       "\t\t\t\t\t\tNot yet on path to compliance\n",
       "   \n",
       "\t\t\t\t\t</td>\n",
       "<td align=\"center\" bgcolor=\"#DBDBDB\" width=\"13%\">\n",
       "\t\t\t\t\t \n",
       "\t\t\t\t\t\tYes\n",
       "   \n",
       "\t\t\t\t\t</td>\n",
       "\n",
       "<tr>\n",
       "<td align=\"center\" bgcolor=\"#DBDBDB\" width=\"9%\"><font size=\"2\">\n",
       "<a href=\"Violation.jsp?tinwsys_is_number=351&amp;tinwsys_st_code=TX&amp;wsnumber=TX0180001   &amp;DWWState=TX&amp;tmnviol_is_number=10311&amp;tmnviol_st_code=TX\" title=\"Violation\">2002-302</a></font></td>\n",
       "<td align=\"center\" bgcolor=\"#DBDBDB\" width=\"7%\"><font size=\"2\">\n",
       "\t\t\t\t\t\t\n",
       "\t\t\t\t\t\t\t09-01-2002-</font></td></tr>09-30-2002\n",
       "\t\t\t\t\t\t\n",
       "\t\t\t\t\t\n",
       "<td align=\"center\" bgcolor=\"#DBDBDB\" width=\"10%\"><font size=\"2\">36</font></td>\n",
       "<td bgcolor=\"#DBDBDB\" width=\"20%\"><font size=\"2\">MONITORING, RTN/RPT MAJOR (SWTR-FILTER)</font></td>\n",
       "<td align=\"center\" bgcolor=\"#DBDBDB\" width=\"9%\">\n",
       "<font size=\"2\"> 0200 </font></td>\n",
       "<td bgcolor=\"#DBDBDB\" width=\"19%\"><font size=\"2\">SWTR                                    </font></td>\n",
       "<td align=\"center\" bgcolor=\"#DBDBDB\" width=\"13%\">\n",
       "\t\t\t\t\t \n",
       "\t\t\t\t\t\tNot yet on path to compliance\n",
       "   \n",
       "\t\t\t\t\t</td>\n",
       "<td align=\"center\" bgcolor=\"#DBDBDB\" width=\"13%\">\n",
       "\t\t\t\t\t \n",
       "\t\t\t\t\t\tYes\n",
       "   \n",
       "\t\t\t\t\t</td>\n",
       "\n",
       "\n",
       "\n",
       "\n",
       "<blockquote>\n",
       "<b><font face=\"Arial\"><font size=\"2\">Total Number of Records Fetched = </font> 8</font></b>\n",
       "</blockquote>\n"
      ]
     },
     "execution_count": 293,
     "metadata": {},
     "output_type": "execute_result"
    }
   ],
   "source": [
    "violationpage"
   ]
  },
  {
   "cell_type": "code",
   "execution_count": null,
   "metadata": {
    "collapsed": true
   },
   "outputs": [],
   "source": []
  },
  {
   "cell_type": "code",
   "execution_count": null,
   "metadata": {
    "collapsed": true
   },
   "outputs": [],
   "source": []
  },
  {
   "cell_type": "code",
   "execution_count": null,
   "metadata": {
    "collapsed": true
   },
   "outputs": [],
   "source": []
  },
  {
   "cell_type": "code",
   "execution_count": null,
   "metadata": {
    "collapsed": true
   },
   "outputs": [],
   "source": []
  },
  {
   "cell_type": "code",
   "execution_count": null,
   "metadata": {
    "collapsed": true
   },
   "outputs": [],
   "source": []
  },
  {
   "cell_type": "code",
   "execution_count": null,
   "metadata": {
    "collapsed": true
   },
   "outputs": [],
   "source": []
  },
  {
   "cell_type": "code",
   "execution_count": 286,
   "metadata": {
    "collapsed": false
   },
   "outputs": [
    {
     "data": {
      "text/plain": [
       "[<font size=\"2\">\n",
       " <a href=\"Violation.jsp?tinwsys_is_number=351&amp;tinwsys_st_code=TX&amp;wsnumber=TX0180001   &amp;DWWState=TX&amp;tmnviol_is_number=211711&amp;tmnviol_st_code=TX\" title=\"Violation\">2015-722</a></font>,\n",
       " <font size=\"2\">\n",
       " \t\t\t\t\t\t\n",
       " \t\t\t\t\t\t\t10-01-2014-</font>,\n",
       " <font size=\"2\">02</font>,\n",
       " <font size=\"2\">MCL, LRAA</font>,\n",
       " <font size=\"2\"> 2950 </font>,\n",
       " <font size=\"2\">TTHM                                    </font>]"
      ]
     },
     "execution_count": 286,
     "metadata": {},
     "output_type": "execute_result"
    }
   ],
   "source": [
    "\n",
    "test[:6]"
   ]
  },
  {
   "cell_type": "code",
   "execution_count": null,
   "metadata": {
    "collapsed": true
   },
   "outputs": [],
   "source": []
  },
  {
   "cell_type": "code",
   "execution_count": null,
   "metadata": {
    "collapsed": true
   },
   "outputs": [],
   "source": []
  },
  {
   "cell_type": "code",
   "execution_count": null,
   "metadata": {
    "collapsed": true
   },
   "outputs": [],
   "source": []
  },
  {
   "cell_type": "code",
   "execution_count": null,
   "metadata": {
    "collapsed": true
   },
   "outputs": [],
   "source": []
  },
  {
   "cell_type": "code",
   "execution_count": null,
   "metadata": {
    "collapsed": true
   },
   "outputs": [],
   "source": []
  },
  {
   "cell_type": "code",
   "execution_count": null,
   "metadata": {
    "collapsed": true
   },
   "outputs": [],
   "source": []
  },
  {
   "cell_type": "code",
   "execution_count": null,
   "metadata": {
    "collapsed": true
   },
   "outputs": [],
   "source": []
  },
  {
   "cell_type": "code",
   "execution_count": null,
   "metadata": {
    "collapsed": true
   },
   "outputs": [],
   "source": []
  },
  {
   "cell_type": "code",
   "execution_count": null,
   "metadata": {
    "collapsed": true
   },
   "outputs": [],
   "source": []
  },
  {
   "cell_type": "code",
   "execution_count": null,
   "metadata": {
    "collapsed": true
   },
   "outputs": [],
   "source": []
  },
  {
   "cell_type": "code",
   "execution_count": null,
   "metadata": {
    "collapsed": true
   },
   "outputs": [],
   "source": []
  },
  {
   "cell_type": "code",
   "execution_count": null,
   "metadata": {
    "collapsed": true
   },
   "outputs": [],
   "source": []
  },
  {
   "cell_type": "code",
   "execution_count": null,
   "metadata": {
    "collapsed": true
   },
   "outputs": [],
   "source": []
  },
  {
   "cell_type": "code",
   "execution_count": null,
   "metadata": {
    "collapsed": true
   },
   "outputs": [],
   "source": []
  },
  {
   "cell_type": "code",
   "execution_count": null,
   "metadata": {
    "collapsed": true
   },
   "outputs": [],
   "source": []
  },
  {
   "cell_type": "code",
   "execution_count": null,
   "metadata": {
    "collapsed": true
   },
   "outputs": [],
   "source": []
  },
  {
   "cell_type": "code",
   "execution_count": null,
   "metadata": {
    "collapsed": true
   },
   "outputs": [],
   "source": []
  },
  {
   "cell_type": "code",
   "execution_count": 266,
   "metadata": {
    "collapsed": false
   },
   "outputs": [
    {
     "data": {
      "text/plain": [
       "<td width=\"100%\">\n",
       "<table bgcolor=\"#C0C0C0\" border=\"1\" bordercolor=\"#111111\" cellpadding=\"0\" cellspacing=\"0\" style=\"border-collapse: collapse\" width=\"100%\">\n",
       "<tr>\n",
       "<th bgcolor=\"#306192\" width=\"33%\"><a href=\"http://www.tceq.state.tx.us\" target=\"_blank\"><font color=\"#FFFFFF\" title=\"Texas Commission on Environmental Quality\">Texas\n",
       "\t\t\t\tCommission on Environmental Quality</font></a></th>\n",
       "<th bgcolor=\"#306192\" width=\"33%\"><a href=\"http://www.tceq.state.tx.us/about/organization/water.html\" target=\"_blank\"><font color=\"#FFFFFF\">Office of Water</font></a></th>\n",
       "<th bgcolor=\"#306192\" width=\"34%\"><a href=\"http://www.tceq.state.tx.us/permitting/water_supply/pdw/\" target=\"_blank\"><font color=\"#FFFFFF\" title=\"Drinking Water Program\">Public Drinking Water Section</font></a></th>\n",
       "</tr>\n",
       "<tr>\n",
       "<th bgcolor=\"#306192\" width=\"33%\"><a href=\"../Maps/Map_Template.jsp\"><font color=\"#FFFFFF\" title=\"County Map of ND\">County Map of TX</font></a></th>\n",
       "<th bgcolor=\"#306192\" width=\"33%\"><a href=\"../\"><font color=\"#FFFFFF\" title=\"Water System Search\">Water System\n",
       "\t\t\t\tSearch</font></a></th>\n",
       "<th bgcolor=\"#306192\" width=\"34%\"><a href=\"http://www.tceq.state.tx.us/about/organization/oce.html#5\" target=\"_blank\"><font color=\"#FFFFFF\" title=\"Office of Compliance and Enforcement\">Office of\n",
       "\t\t\t\tCompliance and Enforcement</font></a></th>\n",
       "</tr>\n",
       "</table>\n",
       "<br>\n",
       "<html>\n",
       "<!-- This will get the tinwsys_is_number and tinwsys_st_code from the request object -->\n",
       "<script language=\"Javascript\">\n",
       "\n",
       "function openpopup2(){\n",
       "\n",
       "\tvar popurl=\"../Help/index.htm\"\n",
       "\twinpops=window.open(popurl,\"\",\"width=400,height=338,toolbar,scrollbars,menubar,resizable,\")\n",
       "\n",
       "}\n",
       "\n",
       "</script>\n",
       "<body bgcolor=\"#F7F0DE\">\n",
       "<table bgcolor=\"#C0C0C0\" border=\"1\" bordercolor=\"#111111\" cellpadding=\"0\" cellspacing=\"0\" style=\"border-collapse: collapse\" width=\"100%\">\n",
       "<tr>\n",
       "<th bgcolor=\"#306192\" colspan=\"11\" width=\"100%\"><a href=\"WaterSystemDetail.jsp?tinwsys_is_number=351&amp;tinwsys_st_code=TX&amp;wsnumber=TX0180001   &amp;DWWState=TX\"><font color=\"#FFFF00\" title=\"Water System Detail\">Water System\n",
       "\t\tDetail</font></a></th>\n",
       "</tr>\n",
       "<tr>\n",
       "<td bgcolor=\"#306192\" width=\"25%\">\n",
       "<p style=\"margin-left: 5\"><a href=\"WaterSystemFacilities.jsp?tinwsys_is_number=351&amp;tinwsys_st_code=TX&amp;wsnumber=TX0180001   &amp;DWWState=TX\"><font color=\"#FFFF00\" title=\"Water System Facilities\">Water System\n",
       "\t\tFacilities</font></a><br/>\n",
       "<a href=\"SWAP.jsp?tinwsys_is_number=351&amp;tinwsys_st_code=TX&amp;wsnumber=TX0180001   &amp;DWWState=TX\"><font color=\"#FFFF00\" title=\"Source Water Assessment Results\">Source\n",
       "\t\tWater Assessment Results</font></a></p>\n",
       "</td>\n",
       "<td bgcolor=\"#306192\" width=\"25%\">\n",
       "<p style=\"margin-left: 5\"><a href=\"Violations.jsp?tinwsys_is_number=351&amp;tinwsys_st_code=TX&amp;wsnumber=TX0180001   &amp;DWWState=TX\"><font color=\"#FFFF00\" title=\"Violations\">Violations</font></a>    <a href=\"EnfActBySys.jsp?tinwsys_is_number=351&amp;tinwsys_st_code=TX&amp;wsnumber=TX0180001   &amp;DWWState=TX\"><font color=\"#FFFF00\" title=\"Enforcement Actions\"> Enforcement\n",
       "\t\tActions</font></a></p>\n",
       "</td>\n",
       "<td bgcolor=\"#306192\" width=\"25%\">\n",
       "<p style=\"margin-left: 5\"><a href=\"TcrSampleResults.jsp?tinwsys_is_number=351&amp;tinwsys_st_code=TX&amp;wsnumber=TX0180001   &amp;DWWState=TX&amp;begin_date=&amp;end_date=&amp;counter=0\"><font color=\"#FFFF00\" title=\"TCR Sample Results\">TCR Sample Results</font></a></p>\n",
       "</td>\n",
       "<td bgcolor=\"#306192\" width=\"25%\">\n",
       "<p style=\"margin-left: 5\"><a href=\"tthmsummary.jsp?tinwsys_is_number=351&amp;tinwsys_st_code=TX&amp;wsnumber=TX0180001   &amp;DWWState=TX&amp;begin_date=&amp;end_date=&amp;counter=0\"><font color=\"#FFFF00\" title=\"TTHM Sample Summaries\">TTHM</font></a> <a href=\"haa5summary.jsp?tinwsys_is_number=351&amp;tinwsys_st_code=TX&amp;wsnumber=TX0180001   &amp;DWWState=TX&amp;begin_date=&amp;end_date=&amp;counter=0\"><font color=\"#FFFF00\" title=\"HAA5 Sample Summaries\">HAA5</font></a><font color=\"#FFFF00\"> Summaries</font></p>\n",
       "</td>\n",
       "</tr>\n",
       "<tr>\n",
       "<td bgcolor=\"#306192\" width=\"25%\">\n",
       "<p style=\"margin-left: 5\"><a href=\"WaterSystemSamplePoints.jsp?tinwsys_is_number=351&amp;tinwsys_st_code=TX&amp;wsnumber=TX0180001   &amp;DWWState=TX&amp;&amp;begin_date=&amp;end_date=&amp;counter=0\"><font color=\"#FFFF00\" title=\"Sample Points\">Sample Points</font></a></p>\n",
       "</td>\n",
       "<td bgcolor=\"#306192\" width=\"25%\">\n",
       "<p style=\"margin-left: 5\"><a href=\"AssistActBySys.jsp?tinwsys_is_number=351&amp;tinwsys_st_code=TX&amp;wsnumber=TX0180001   &amp;DWWState=TX\"><font color=\"#FFFF00\" title=\"Assistance Actions\">Assistance Actions</font></a></p>\n",
       "</td>\n",
       "<td bgcolor=\"#306192\" width=\"25%\">\n",
       "<p style=\"margin-left: 5\"><a href=\"PosTcrSampleResults.jsp?tinwsys_is_number=351&amp;tinwsys_st_code=TX&amp;wsnumber=TX0180001   &amp;DWWState=TX&amp;begin_date=&amp;end_date=&amp;counter=0\"><font color=\"#FFFF00\" title=\"Recent Positive TCR Sample Results\">Recent\n",
       "\t\tPositive TCR Results</font></a></p>\n",
       "</td>\n",
       "<td bgcolor=\"#306192\" width=\"25%\">\n",
       "<p style=\"margin-left: 5\"><a href=\"PBCUSampleSummaryResults.jsp?tinwsys_is_number=351&amp;tinwsys_st_code=TX&amp;wsnumber=TX0180001   &amp;DWWState=TX&amp;begin_date=&amp;end_date=&amp;counter=0\"><font color=\"#FFFF00\" title=\"PBCU Sample Summaries\">PBCU Summaries</font></a></p>\n",
       "</td>\n",
       "</tr>\n",
       "<tr>\n",
       "<td bgcolor=\"#306192\" width=\"25%\">\n",
       "<p style=\"margin-left: 5\"><a href=\"Scheds.jsp?tinwsys_is_number=351&amp;tinwsys_st_code=TX&amp;wsnumber=TX0180001   &amp;DWWState=TX&amp;begin_date=&amp;end_date=&amp;counter=0\"><font color=\"#FFFF00\" title=\"Sample Schedules/FANLs/Plans\">Sample\n",
       "\t\tSchedules / FANLs / Plans</font></a></p>\n",
       "</td>\n",
       "<td bgcolor=\"#306192\" width=\"25%\">\n",
       "<p style=\"margin-left: 5\"><a href=\"ComplianceScheds.jsp?tinwsys_is_number=351&amp;tinwsys_st_code=TX&amp;wsnumber=TX0180001   &amp;DWWState=TX\"><font color=\"#FFFF00\" title=\"Compliance Schedules\">Compliance\n",
       "\t\tSchedules</font></a></p>\n",
       "</td>\n",
       "<td bgcolor=\"#306192\" width=\"25%\">\n",
       "<p style=\"margin-left: 5\"><a href=\"NonTcrSamples.jsp?tinwsys_is_number=351&amp;tinwsys_st_code=TX&amp;wsnumber=TX0180001   &amp;DWWState=TX&amp;history=0&amp;begin_date=&amp;end_date=&amp;counter=0\"><font color=\"#FFFF00\" title=\"Other Chemical Results\">Other Chemical\n",
       "\t\tResults</font></a></p>\n",
       "</td>\n",
       "<td bgcolor=\"#306192\" width=\"25%\">\n",
       "<p style=\"margin-left: 5\"><a href=\"clsummary.jsp?tinwsys_is_number=351&amp;tinwsys_st_code=TX&amp;wsnumber=TX0180001   &amp;DWWState=TX&amp;begin_date=&amp;end_date=&amp;counter=0\"><font color=\"#FFFF00\" title=\"Chlorine Summaries\">Chlorine Summaries</font></a></p>\n",
       "</td>\n",
       "</tr>\n",
       "<tr>\n",
       "<td bgcolor=\"#306192\" width=\"25%\">\n",
       "<p style=\"margin-left: 5\"><a href=\"SiteVisits.jsp?tinwsys_is_number=351&amp;tinwsys_st_code=TX&amp;wsnumber=TX0180001   &amp;DWWState=TX&amp;begin_date=&amp;end_date=&amp;counter=0\"><font color=\"#FFFF00\" title=\"Site Visits\">Site Visits</font></a>   <a href=\"Milestones.jsp?tinwsys_is_number=351&amp;tinwsys_st_code=TX&amp;wsnumber=TX0180001   &amp;DWWState=TX\"><font color=\"#FFFF00\" title=\"Milestones\">Milestones</font></a></p>\n",
       "</td>\n",
       "<td bgcolor=\"#306192\" width=\"25%\">\n",
       "<p style=\"margin-left: 5\"><a href=\"TOCAResults.jsp?tinwsys_is_number=351&amp;tinwsys_st_code=TX&amp;wsnumber=TX0180001   &amp;DWWState=TX&amp;begin_date=&amp;end_date=&amp;counter=0\"><font color=\"#FFFF00\" title=\"TOC/Alkalinity Results\">TOC/Alkalinity\n",
       "\t\tResults</font></a></p>\n",
       "</td>\n",
       "<td bgcolor=\"#306192\" width=\"25%\">\n",
       "<p style=\"margin-left: 5\"><font color=\"#FFFF00\">Chemical Results: Sort by:\n",
       "\t\t</font><a href=\"AnalyteList.jsp?tinwsys_is_number=351&amp;tinwsys_st_code=TX&amp;wsnumber=TX0180001   &amp;DWWState=TX\"><font color=\"#FFFF00\" title=\"Chemical Results by Name\">Name</font></a> <a href=\"AnalyteListByCode.jsp?tinwsys_is_number=351&amp;tinwsys_st_code=TX&amp;wsnumber=TX0180001   &amp;DWWState=TX\"><font color=\"#FFFF00\" title=\"Chemical Results by Code\">Code</font></a></p>\n",
       "</td>\n",
       "<td bgcolor=\"#306192\" width=\"25%\">\n",
       "<p style=\"margin-left: 5\"><a href=\"turbsummary.jsp?tinwsys_is_number=351&amp;tinwsys_st_code=TX&amp;wsnumber=TX0180001   &amp;DWWState=TX&amp;begin_date=&amp;end_date=&amp;counter=0\"><font color=\"#FFFF00\" title=\"Turbidity Summaries\">Turbidity\n",
       "\t\tSummaries</font></a></p>\n",
       "</td>\n",
       "</tr>\n",
       "<tr>\n",
       "<td bgcolor=\"#306192\" width=\"25%\">\n",
       "<p style=\"margin-left: 5\"><a href=\"WSOPS.jsp?tinwsys_is_number=351&amp;tinwsys_st_code=TX&amp;wsnumber=TX0180001   &amp;DWWState=TX\"><font color=\"#FFFF00\" title=\"Operators\">Operators</font></a>   <a href=\"WSPOC.jsp?tinwsys_is_number=351&amp;tinwsys_st_code=TX&amp;wsnumber=TX0180001   &amp;DWWState=TX\"><font color=\"#FFFF00\" title=\"All POC\">All POC</font></a></p>\n",
       "</td>\n",
       "<td bgcolor=\"#306192\" width=\"25%\">\n",
       "<p style=\"margin-left: 5\"><a href=\"LRAA.jsp?tinwsys_is_number=351&amp;tinwsys_st_code=TX&amp;wsnumber=TX0180001   &amp;DWWState=TX\"><font color=\"#FFFF00\" title=\"Locational Running Annual Average (TTHM/HAA5)\">LRAA\n",
       "\t\t(TTHM/HAA5)</font></a></p>\n",
       "</td>\n",
       "<td bgcolor=\"#306192\" width=\"25%\">\n",
       "<p style=\"margin-left: 5\"><a href=\"NonTCRRecentSampleResult.jsp?tinwsys_is_number=351&amp;tinwsys_st_code=TX&amp;wsnumber=TX0180001   &amp;DWWState=TX\"><font color=\"#FFFF00\" title=\"Recent Non-TCR Sample Results\">Recent\n",
       "\t\tNon-TCR Sample Results</font></a></p>\n",
       "</td>\n",
       "<td bgcolor=\"#306192\" width=\"25%\">\n",
       "<p style=\"margin-left: 5\"><a href=\"TcrSampleSummaryResults.jsp?tinwsys_is_number=351&amp;tinwsys_st_code=TX&amp;wsnumber=TX0180001   &amp;DWWState=TX&amp;begin_date=&amp;end_Date=&amp;counter=0\"><font color=\"#FFFF00\" title=\"TCR Sample Summaries\">TCR Sample\n",
       "\t\tSummaries</font></a></p>\n",
       "</td>\n",
       "</tr>\n",
       "<tr>\n",
       "<th bgcolor=\"#306192\" colspan=\"11\" width=\"100%\"><a href=\"javascript:openpopup2()\"><font color=\"#FFFF00\" title=\"Glossary\">Glossary</font></a></th>\n",
       "</tr>\n",
       "</table>\n",
       "</body>\n",
       "</html> <br>\n",
       "<table bgcolor=\"#99CCFF\" border=\"1\" bordercolor=\"#111111\" cellpadding=\"0\" cellspacing=\"0\" style=\"border-collapse: collapse\" width=\"100%\">\n",
       "<tr>\n",
       "<th bgcolor=\"#306192\" colspan=\"4\" width=\"100%\"><font color=\"#FFFFFF\" size=\"4\">Water System Detail Information</font></th>\n",
       "</tr>\n",
       "<tr>\n",
       "<td bgcolor=\"#306192\" width=\"20%\">\n",
       "<p style=\"margin-left: 5\"><font color=\"#FFFFFF\">Water\n",
       "\t\t\t\tSystem No.:</font></p>\n",
       "</td>\n",
       "<td bgcolor=\"#DBDBDB\" width=\"50%\">\n",
       "<p style=\"margin-left: 5\">TX0180001   </p>\n",
       "</td>\n",
       "<td bgcolor=\"#306192\" width=\"15%\">\n",
       "<p style=\"margin-left: 5\"><font color=\"#FFFFFF\">Federal\n",
       "\t\t\t\tType:</font></p>\n",
       "</td>\n",
       "<td bgcolor=\"#DBDBDB\" width=\"15%\">\n",
       "<p style=\"margin-left: 5\">C   </p>\n",
       "</td>\n",
       "</tr>\n",
       "<tr>\n",
       "<td bgcolor=\"#306192\" width=\"20%\">\n",
       "<p style=\"margin-left: 5\"><font color=\"#FFFFFF\">Water\n",
       "\t\t\t\tSystem Name:</font></p>\n",
       "</td>\n",
       "<td bgcolor=\"#DBDBDB\" width=\"50%\">\n",
       "<p style=\"margin-left: 5\">CITY OF CLIFTON</p>\n",
       "</td>\n",
       "<td bgcolor=\"#306192\" width=\"15%\">\n",
       "<p style=\"margin-left: 5\"><font color=\"#FFFFFF\">Federal\n",
       "\t\t\t\tSource:</font></p>\n",
       "</td>\n",
       "<td bgcolor=\"#DBDBDB\" width=\"15%\">\n",
       "<p style=\"margin-left: 5\">SW </p>\n",
       "</td>\n",
       "</tr>\n",
       "<tr>\n",
       "<td bgcolor=\"#306192\" width=\"20%\">\n",
       "<p style=\"margin-left: 5\"><font color=\"#FFFFFF\">Principal\n",
       "\t\t\t\tCounty Served:</font></p>\n",
       "</td>\n",
       "<td bgcolor=\"#DBDBDB\" width=\"50%\">\n",
       "<p style=\"margin-left: 5\">BOSQUE</p>\n",
       "</td>\n",
       "<td bgcolor=\"#306192\" width=\"15%\">\n",
       "<p style=\"margin-left: 5\"><font color=\"#FFFFFF\">System\n",
       "\t\t\t\tStatus:</font></p>\n",
       "</td>\n",
       "<td bgcolor=\"#DBDBDB\" width=\"15%\">\n",
       "<p style=\"margin-left: 5\">A</p>\n",
       "</td>\n",
       "</tr>\n",
       "<tr>\n",
       "<td bgcolor=\"#306192\" width=\"20%\">\n",
       "<p style=\"margin-left: 5\"><font color=\"#FFFFFF\">Principal\n",
       "\t\t\t\tCity Served:</font></p>\n",
       "</td>\n",
       "<td bgcolor=\"#DBDBDB\" width=\"50%\">\n",
       "<p style=\"margin-left: 5\"> </p>\n",
       "</td>\n",
       "<td bgcolor=\"#306192\" width=\"15%\">\n",
       "<p style=\"margin-left: 5\"><font color=\"#FFFFFF\">Activity\n",
       "\t\t\t\tDate:</font></p>\n",
       "</td>\n",
       "<td bgcolor=\"#DBDBDB\" width=\"15%\">\n",
       "<p style=\"margin-left: 5\">01-01-1913</p>\n",
       "</td>\n",
       "</tr>\n",
       "</table>\n",
       "<br/>\n",
       "<table bgcolor=\"#FFCC99\" border=\"1\" bordercolor=\"#111111\" cellpadding=\"2\" cellspacing=\"0\" style=\"border-collapse: collapse\" width=\"100%\">\n",
       "<tr>\n",
       "<th bgcolor=\"#306192\" colspan=\"6\" width=\"100%\"><font color=\"#FFFFFF\" size=\"4\">Group Violations</font></th>\n",
       "</tr>\n",
       "<tr>\n",
       "<th bgcolor=\"#306192\" width=\"10%\"><font color=\"#FFFFFF\">Fed\n",
       "\t\t\t\tFiscal Year</font></th>\n",
       "<th bgcolor=\"#306192\" width=\"10%\"><font color=\"#FFFFFF\">Determ.<br>\n",
       "\t\t\t\tDate</br></font></th>\n",
       "<th bgcolor=\"#306192\" width=\"15%\"><font color=\"#FFFFFF\">Violation<br>\n",
       "\t\t\t\tType</br></font></th>\n",
       "<th bgcolor=\"#306192\" width=\"25%\"><font color=\"#FFFFFF\">Violation\n",
       "\t\t\t\tName</font></th>\n",
       "<th bgcolor=\"#306192\" width=\"15%\"><font color=\"#FFFFFF\">Analyte\n",
       "\t\t\t\tGroup</font></th>\n",
       "<th bgcolor=\"#306192\" width=\"25%\"><font color=\"#FFFFFF\">Analyte\n",
       "\t\t\t\tGroup Name</font></th>\n",
       "</tr>\n",
       "</table>\n",
       "<br/>\n",
       "<table bgcolor=\"#FFCC99\" border=\"1\" bordercolor=\"#111111\" cellpadding=\"2\" cellspacing=\"0\" style=\"border-collapse: collapse\" width=\"100%\">\n",
       "<tr>\n",
       "<th bgcolor=\"#306192\" colspan=\"8\"><font color=\"#FFFFFF\" size=\"4\">Individual Violations</font></th>\n",
       "</tr>\n",
       "<tr>\n",
       "<th bgcolor=\"#306192\" width=\"9%\"><span class=\"style4\"><font color=\"#FFFFFF\">Violation<br>\n",
       "\t\t\t\tNo.</br></font></span></th>\n",
       "<th bgcolor=\"#306192\" width=\"7%\"><span class=\"style4\"><font color=\"#FFFFFF\">Compliance Period</font></span></th>\n",
       "<th bgcolor=\"#306192\" width=\"10%\"><span class=\"style4\"><font color=\"#FFFFFF\">Violation<br>\n",
       "\t\t\t\tType Code</br></font></span></th>\n",
       "<th bgcolor=\"#306192\" width=\"20%\"><span class=\"style4\"><font color=\"#FFFFFF\">Violation Name</font></span></th>\n",
       "<th bgcolor=\"#306192\" width=\"9%\"><span class=\"style4\"><font color=\"#FFFFFF\">Analyte\n",
       "\t\t\t\tCode</font></span></th>\n",
       "<th bgcolor=\"#306192\" width=\"19%\"><span class=\"style4\"><font color=\"#FFFFFF\">Analyte Name</font></span></th>\n",
       "<th bgcolor=\"#306192\" width=\"13%\"><span class=\"style3\">Has the Violation been Addressed? (On the Path to Compliance)</span></th>\n",
       "<th bgcolor=\"#306192\" width=\"13%\"><span class=\"style3\">Has the Violation been Resolved? (Returned to Compliance)</span></th>\n",
       "</tr>\n",
       "<tr>\n",
       "<td align=\"center\" bgcolor=\"#DBDBDB\" width=\"9%\"><font size=\"2\">\n",
       "<a href=\"Violation.jsp?tinwsys_is_number=351&amp;tinwsys_st_code=TX&amp;wsnumber=TX0180001   &amp;DWWState=TX&amp;tmnviol_is_number=211711&amp;tmnviol_st_code=TX\" title=\"Violation\">2015-722</a></font></td>\n",
       "<td align=\"center\" bgcolor=\"#DBDBDB\" width=\"7%\"><font size=\"2\">\n",
       "\t\t\t\t\t\t\n",
       "\t\t\t\t\t\t\t10-01-2014-</font></td></tr></table></br>12-31-2014\n",
       "\t\t\t\t\t\t\n",
       "\t\t\t\t\t</br></td>"
      ]
     },
     "execution_count": 266,
     "metadata": {},
     "output_type": "execute_result"
    }
   ],
   "source": [
    "violationpage.body.table.tr.td"
   ]
  },
  {
   "cell_type": "code",
   "execution_count": null,
   "metadata": {
    "collapsed": true
   },
   "outputs": [],
   "source": []
  },
  {
   "cell_type": "code",
   "execution_count": null,
   "metadata": {
    "collapsed": true
   },
   "outputs": [],
   "source": []
  },
  {
   "cell_type": "code",
   "execution_count": null,
   "metadata": {
    "collapsed": true
   },
   "outputs": [],
   "source": []
  },
  {
   "cell_type": "code",
   "execution_count": null,
   "metadata": {
    "collapsed": true
   },
   "outputs": [],
   "source": []
  },
  {
   "cell_type": "code",
   "execution_count": null,
   "metadata": {
    "collapsed": true
   },
   "outputs": [],
   "source": []
  },
  {
   "cell_type": "code",
   "execution_count": 261,
   "metadata": {
    "collapsed": false
   },
   "outputs": [
    {
     "data": {
      "text/plain": [
       "[]"
      ]
     },
     "execution_count": 261,
     "metadata": {},
     "output_type": "execute_result"
    }
   ],
   "source": [
    "test"
   ]
  },
  {
   "cell_type": "code",
   "execution_count": null,
   "metadata": {
    "collapsed": true
   },
   "outputs": [],
   "source": []
  },
  {
   "cell_type": "code",
   "execution_count": null,
   "metadata": {
    "collapsed": true
   },
   "outputs": [],
   "source": []
  },
  {
   "cell_type": "code",
   "execution_count": 258,
   "metadata": {
    "collapsed": false
   },
   "outputs": [
    {
     "data": {
      "text/plain": [
       "[<table bgcolor=\"#FFCC99\" border=\"1\" bordercolor=\"#111111\" cellpadding=\"2\" cellspacing=\"0\" style=\"border-collapse: collapse\" width=\"100%\">\n",
       " <tr>\n",
       " <th bgcolor=\"#306192\" colspan=\"8\"><font color=\"#FFFFFF\" size=\"4\">Individual Violations</font></th>\n",
       " </tr>\n",
       " <tr>\n",
       " <th bgcolor=\"#306192\" width=\"9%\"><span class=\"style4\"><font color=\"#FFFFFF\">Violation<br>\n",
       " \t\t\t\tNo.</br></font></span></th>\n",
       " <th bgcolor=\"#306192\" width=\"7%\"><span class=\"style4\"><font color=\"#FFFFFF\">Compliance Period</font></span></th>\n",
       " <th bgcolor=\"#306192\" width=\"10%\"><span class=\"style4\"><font color=\"#FFFFFF\">Violation<br>\n",
       " \t\t\t\tType Code</br></font></span></th>\n",
       " <th bgcolor=\"#306192\" width=\"20%\"><span class=\"style4\"><font color=\"#FFFFFF\">Violation Name</font></span></th>\n",
       " <th bgcolor=\"#306192\" width=\"9%\"><span class=\"style4\"><font color=\"#FFFFFF\">Analyte\n",
       " \t\t\t\tCode</font></span></th>\n",
       " <th bgcolor=\"#306192\" width=\"19%\"><span class=\"style4\"><font color=\"#FFFFFF\">Analyte Name</font></span></th>\n",
       " <th bgcolor=\"#306192\" width=\"13%\"><span class=\"style3\">Has the Violation been Addressed? (On the Path to Compliance)</span></th>\n",
       " <th bgcolor=\"#306192\" width=\"13%\"><span class=\"style3\">Has the Violation been Resolved? (Returned to Compliance)</span></th>\n",
       " </tr>\n",
       " <tr>\n",
       " <td align=\"center\" bgcolor=\"#DBDBDB\" width=\"9%\"><font size=\"2\">\n",
       " <a href=\"Violation.jsp?tinwsys_is_number=351&amp;tinwsys_st_code=TX&amp;wsnumber=TX0180001   &amp;DWWState=TX&amp;tmnviol_is_number=211711&amp;tmnviol_st_code=TX\" title=\"Violation\">2015-722</a></font></td>\n",
       " <td align=\"center\" bgcolor=\"#DBDBDB\" width=\"7%\"><font size=\"2\">\n",
       " \t\t\t\t\t\t\n",
       " \t\t\t\t\t\t\t10-01-2014-</font></td></tr></table>]"
      ]
     },
     "execution_count": 258,
     "metadata": {},
     "output_type": "execute_result"
    }
   ],
   "source": [
    "test"
   ]
  },
  {
   "cell_type": "code",
   "execution_count": null,
   "metadata": {
    "collapsed": true
   },
   "outputs": [],
   "source": []
  },
  {
   "cell_type": "code",
   "execution_count": null,
   "metadata": {
    "collapsed": true
   },
   "outputs": [],
   "source": [
    "pd.read_html(str(test))"
   ]
  },
  {
   "cell_type": "code",
   "execution_count": 256,
   "metadata": {
    "collapsed": false
   },
   "outputs": [
    {
     "ename": "ValueError",
     "evalue": "No tables found",
     "output_type": "error",
     "traceback": [
      "\u001b[0;31m---------------------------------------------------------------------------\u001b[0m",
      "\u001b[0;31mValueError\u001b[0m                                Traceback (most recent call last)",
      "\u001b[0;32m<ipython-input-256-c5c5888ea9cc>\u001b[0m in \u001b[0;36m<module>\u001b[0;34m()\u001b[0m\n\u001b[0;32m----> 1\u001b[0;31m \u001b[0mpd\u001b[0m\u001b[0;34m.\u001b[0m\u001b[0mread_html\u001b[0m\u001b[0;34m(\u001b[0m\u001b[0mstr\u001b[0m\u001b[0;34m(\u001b[0m\u001b[0mtest\u001b[0m\u001b[0;34m)\u001b[0m\u001b[0;34m)\u001b[0m\u001b[0;34m\u001b[0m\u001b[0m\n\u001b[0m",
      "\u001b[0;32m/Library/Frameworks/Python.framework/Versions/3.5/lib/python3.5/site-packages/pandas/io/html.py\u001b[0m in \u001b[0;36mread_html\u001b[0;34m(io, match, flavor, header, index_col, skiprows, attrs, parse_dates, tupleize_cols, thousands, encoding)\u001b[0m\n\u001b[1;32m    864\u001b[0m     \u001b[0m_validate_header_arg\u001b[0m\u001b[0;34m(\u001b[0m\u001b[0mheader\u001b[0m\u001b[0;34m)\u001b[0m\u001b[0;34m\u001b[0m\u001b[0m\n\u001b[1;32m    865\u001b[0m     return _parse(flavor, io, match, header, index_col, skiprows,\n\u001b[0;32m--> 866\u001b[0;31m                   parse_dates, tupleize_cols, thousands, attrs, encoding)\n\u001b[0m",
      "\u001b[0;32m/Library/Frameworks/Python.framework/Versions/3.5/lib/python3.5/site-packages/pandas/io/html.py\u001b[0m in \u001b[0;36m_parse\u001b[0;34m(flavor, io, match, header, index_col, skiprows, parse_dates, tupleize_cols, thousands, attrs, encoding)\u001b[0m\n\u001b[1;32m    726\u001b[0m             \u001b[0;32mbreak\u001b[0m\u001b[0;34m\u001b[0m\u001b[0m\n\u001b[1;32m    727\u001b[0m     \u001b[0;32melse\u001b[0m\u001b[0;34m:\u001b[0m\u001b[0;34m\u001b[0m\u001b[0m\n\u001b[0;32m--> 728\u001b[0;31m         \u001b[0mraise_with_traceback\u001b[0m\u001b[0;34m(\u001b[0m\u001b[0mretained\u001b[0m\u001b[0;34m)\u001b[0m\u001b[0;34m\u001b[0m\u001b[0m\n\u001b[0m\u001b[1;32m    729\u001b[0m \u001b[0;34m\u001b[0m\u001b[0m\n\u001b[1;32m    730\u001b[0m     \u001b[0mret\u001b[0m \u001b[0;34m=\u001b[0m \u001b[0;34m[\u001b[0m\u001b[0;34m]\u001b[0m\u001b[0;34m\u001b[0m\u001b[0m\n",
      "\u001b[0;32m/Library/Frameworks/Python.framework/Versions/3.5/lib/python3.5/site-packages/pandas/compat/__init__.py\u001b[0m in \u001b[0;36mraise_with_traceback\u001b[0;34m(exc, traceback)\u001b[0m\n\u001b[1;32m    746\u001b[0m         \u001b[0;32mif\u001b[0m \u001b[0mtraceback\u001b[0m \u001b[0;34m==\u001b[0m \u001b[0mEllipsis\u001b[0m\u001b[0;34m:\u001b[0m\u001b[0;34m\u001b[0m\u001b[0m\n\u001b[1;32m    747\u001b[0m             \u001b[0m_\u001b[0m\u001b[0;34m,\u001b[0m \u001b[0m_\u001b[0m\u001b[0;34m,\u001b[0m \u001b[0mtraceback\u001b[0m \u001b[0;34m=\u001b[0m \u001b[0msys\u001b[0m\u001b[0;34m.\u001b[0m\u001b[0mexc_info\u001b[0m\u001b[0;34m(\u001b[0m\u001b[0;34m)\u001b[0m\u001b[0;34m\u001b[0m\u001b[0m\n\u001b[0;32m--> 748\u001b[0;31m         \u001b[0;32mraise\u001b[0m \u001b[0mexc\u001b[0m\u001b[0;34m.\u001b[0m\u001b[0mwith_traceback\u001b[0m\u001b[0;34m(\u001b[0m\u001b[0mtraceback\u001b[0m\u001b[0;34m)\u001b[0m\u001b[0;34m\u001b[0m\u001b[0m\n\u001b[0m\u001b[1;32m    749\u001b[0m \u001b[0;32melse\u001b[0m\u001b[0;34m:\u001b[0m\u001b[0;34m\u001b[0m\u001b[0m\n\u001b[1;32m    750\u001b[0m     \u001b[0;31m# this version of raise is a syntax error in Python 3\u001b[0m\u001b[0;34m\u001b[0m\u001b[0;34m\u001b[0m\u001b[0m\n",
      "\u001b[0;31mValueError\u001b[0m: No tables found"
     ]
    }
   ],
   "source": []
  },
  {
   "cell_type": "code",
   "execution_count": null,
   "metadata": {
    "collapsed": true
   },
   "outputs": [],
   "source": []
  },
  {
   "cell_type": "code",
   "execution_count": null,
   "metadata": {
    "collapsed": true
   },
   "outputs": [],
   "source": []
  },
  {
   "cell_type": "code",
   "execution_count": null,
   "metadata": {
    "collapsed": true
   },
   "outputs": [],
   "source": []
  },
  {
   "cell_type": "code",
   "execution_count": null,
   "metadata": {
    "collapsed": true
   },
   "outputs": [],
   "source": []
  },
  {
   "cell_type": "code",
   "execution_count": null,
   "metadata": {
    "collapsed": true
   },
   "outputs": [],
   "source": []
  },
  {
   "cell_type": "code",
   "execution_count": null,
   "metadata": {
    "collapsed": true
   },
   "outputs": [],
   "source": []
  },
  {
   "cell_type": "code",
   "execution_count": null,
   "metadata": {
    "collapsed": true
   },
   "outputs": [],
   "source": []
  },
  {
   "cell_type": "code",
   "execution_count": null,
   "metadata": {
    "collapsed": true
   },
   "outputs": [],
   "source": []
  },
  {
   "cell_type": "code",
   "execution_count": null,
   "metadata": {
    "collapsed": true
   },
   "outputs": [],
   "source": []
  },
  {
   "cell_type": "code",
   "execution_count": null,
   "metadata": {
    "collapsed": true
   },
   "outputs": [],
   "source": []
  },
  {
   "cell_type": "code",
   "execution_count": null,
   "metadata": {
    "collapsed": true
   },
   "outputs": [],
   "source": []
  },
  {
   "cell_type": "code",
   "execution_count": null,
   "metadata": {
    "collapsed": true
   },
   "outputs": [],
   "source": []
  },
  {
   "cell_type": "code",
   "execution_count": null,
   "metadata": {
    "collapsed": true
   },
   "outputs": [],
   "source": []
  },
  {
   "cell_type": "code",
   "execution_count": null,
   "metadata": {
    "collapsed": true
   },
   "outputs": [],
   "source": []
  },
  {
   "cell_type": "code",
   "execution_count": null,
   "metadata": {
    "collapsed": true
   },
   "outputs": [],
   "source": []
  },
  {
   "cell_type": "code",
   "execution_count": null,
   "metadata": {
    "collapsed": true
   },
   "outputs": [],
   "source": []
  },
  {
   "cell_type": "code",
   "execution_count": null,
   "metadata": {
    "collapsed": true
   },
   "outputs": [],
   "source": []
  },
  {
   "cell_type": "code",
   "execution_count": null,
   "metadata": {
    "collapsed": true
   },
   "outputs": [],
   "source": []
  },
  {
   "cell_type": "code",
   "execution_count": null,
   "metadata": {
    "collapsed": true
   },
   "outputs": [],
   "source": []
  },
  {
   "cell_type": "code",
   "execution_count": null,
   "metadata": {
    "collapsed": true
   },
   "outputs": [],
   "source": []
  },
  {
   "cell_type": "code",
   "execution_count": null,
   "metadata": {
    "collapsed": true
   },
   "outputs": [],
   "source": []
  },
  {
   "cell_type": "code",
   "execution_count": null,
   "metadata": {
    "collapsed": true
   },
   "outputs": [],
   "source": []
  },
  {
   "cell_type": "code",
   "execution_count": null,
   "metadata": {
    "collapsed": true
   },
   "outputs": [],
   "source": []
  },
  {
   "cell_type": "code",
   "execution_count": null,
   "metadata": {
    "collapsed": true
   },
   "outputs": [],
   "source": []
  },
  {
   "cell_type": "code",
   "execution_count": null,
   "metadata": {
    "collapsed": true
   },
   "outputs": [],
   "source": []
  },
  {
   "cell_type": "code",
   "execution_count": null,
   "metadata": {
    "collapsed": true
   },
   "outputs": [],
   "source": []
  },
  {
   "cell_type": "code",
   "execution_count": null,
   "metadata": {
    "collapsed": true
   },
   "outputs": [],
   "source": []
  },
  {
   "cell_type": "code",
   "execution_count": null,
   "metadata": {
    "collapsed": true
   },
   "outputs": [],
   "source": []
  },
  {
   "cell_type": "code",
   "execution_count": null,
   "metadata": {
    "collapsed": true
   },
   "outputs": [],
   "source": []
  },
  {
   "cell_type": "code",
   "execution_count": null,
   "metadata": {
    "collapsed": true
   },
   "outputs": [],
   "source": []
  },
  {
   "cell_type": "code",
   "execution_count": null,
   "metadata": {
    "collapsed": true
   },
   "outputs": [],
   "source": [
    "soup.find_all(\"a\", string=\"Elsie\")"
   ]
  },
  {
   "cell_type": "code",
   "execution_count": null,
   "metadata": {
    "collapsed": true
   },
   "outputs": [],
   "source": []
  },
  {
   "cell_type": "code",
   "execution_count": null,
   "metadata": {
    "collapsed": true
   },
   "outputs": [],
   "source": []
  },
  {
   "cell_type": "code",
   "execution_count": null,
   "metadata": {
    "collapsed": true
   },
   "outputs": [],
   "source": []
  },
  {
   "cell_type": "code",
   "execution_count": null,
   "metadata": {
    "collapsed": true
   },
   "outputs": [],
   "source": []
  },
  {
   "cell_type": "code",
   "execution_count": null,
   "metadata": {
    "collapsed": true
   },
   "outputs": [],
   "source": []
  },
  {
   "cell_type": "code",
   "execution_count": null,
   "metadata": {
    "collapsed": true
   },
   "outputs": [],
   "source": []
  },
  {
   "cell_type": "code",
   "execution_count": null,
   "metadata": {
    "collapsed": true
   },
   "outputs": [],
   "source": []
  },
  {
   "cell_type": "code",
   "execution_count": null,
   "metadata": {
    "collapsed": true
   },
   "outputs": [],
   "source": []
  },
  {
   "cell_type": "code",
   "execution_count": null,
   "metadata": {
    "collapsed": true
   },
   "outputs": [],
   "source": []
  },
  {
   "cell_type": "code",
   "execution_count": null,
   "metadata": {
    "collapsed": true
   },
   "outputs": [],
   "source": []
  },
  {
   "cell_type": "code",
   "execution_count": null,
   "metadata": {
    "collapsed": true
   },
   "outputs": [],
   "source": []
  },
  {
   "cell_type": "code",
   "execution_count": null,
   "metadata": {
    "collapsed": true
   },
   "outputs": [],
   "source": []
  },
  {
   "cell_type": "code",
   "execution_count": null,
   "metadata": {
    "collapsed": true
   },
   "outputs": [],
   "source": []
  },
  {
   "cell_type": "code",
   "execution_count": null,
   "metadata": {
    "collapsed": true
   },
   "outputs": [],
   "source": []
  },
  {
   "cell_type": "code",
   "execution_count": null,
   "metadata": {
    "collapsed": true
   },
   "outputs": [],
   "source": []
  },
  {
   "cell_type": "code",
   "execution_count": null,
   "metadata": {
    "collapsed": true
   },
   "outputs": [],
   "source": []
  },
  {
   "cell_type": "code",
   "execution_count": null,
   "metadata": {
    "collapsed": true
   },
   "outputs": [],
   "source": []
  },
  {
   "cell_type": "code",
   "execution_count": null,
   "metadata": {
    "collapsed": true
   },
   "outputs": [],
   "source": []
  },
  {
   "cell_type": "code",
   "execution_count": null,
   "metadata": {
    "collapsed": true
   },
   "outputs": [],
   "source": []
  },
  {
   "cell_type": "code",
   "execution_count": null,
   "metadata": {
    "collapsed": true
   },
   "outputs": [],
   "source": [
    "table:nth-child(12) td , table:nth-child(12) th"
   ]
  },
  {
   "cell_type": "code",
   "execution_count": null,
   "metadata": {
    "collapsed": true
   },
   "outputs": [],
   "source": []
  },
  {
   "cell_type": "code",
   "execution_count": 161,
   "metadata": {
    "collapsed": false
   },
   "outputs": [
    {
     "data": {
      "text/plain": [
       "'WaterSystemDetail.jsp?tinwsys_is_number=351&tinwsys_st_code=TX&wsnumber=TX0180001%20%20%20&DWWState=TX'"
      ]
     },
     "execution_count": 161,
     "metadata": {},
     "output_type": "execute_result"
    }
   ],
   "source": [
    "link"
   ]
  },
  {
   "cell_type": "code",
   "execution_count": 163,
   "metadata": {
    "collapsed": true
   },
   "outputs": [],
   "source": []
  },
  {
   "cell_type": "code",
   "execution_count": 191,
   "metadata": {
    "collapsed": false
   },
   "outputs": [],
   "source": []
  },
  {
   "cell_type": "code",
   "execution_count": null,
   "metadata": {
    "collapsed": true
   },
   "outputs": [],
   "source": []
  },
  {
   "cell_type": "code",
   "execution_count": 192,
   "metadata": {
    "collapsed": false
   },
   "outputs": [
    {
     "data": {
      "text/plain": [
       "'Violations.jsp?tinwsys_is_number=351&tinwsys_st_code=TX&wsnumber=TX0180001   &DWWState=TX'"
      ]
     },
     "execution_count": 192,
     "metadata": {},
     "output_type": "execute_result"
    }
   ],
   "source": [
    "systemviolations"
   ]
  },
  {
   "cell_type": "code",
   "execution_count": 193,
   "metadata": {
    "collapsed": true
   },
   "outputs": [],
   "source": [
    "prelink = 'http://dww2.tceq.texas.gov/DWW/JSP/'"
   ]
  },
  {
   "cell_type": "code",
   "execution_count": null,
   "metadata": {
    "collapsed": true
   },
   "outputs": [],
   "source": []
  },
  {
   "cell_type": "code",
   "execution_count": null,
   "metadata": {
    "collapsed": true
   },
   "outputs": [],
   "source": []
  },
  {
   "cell_type": "code",
   "execution_count": null,
   "metadata": {
    "collapsed": true
   },
   "outputs": [],
   "source": []
  },
  {
   "cell_type": "code",
   "execution_count": null,
   "metadata": {
    "collapsed": true
   },
   "outputs": [],
   "source": []
  },
  {
   "cell_type": "code",
   "execution_count": null,
   "metadata": {
    "collapsed": true
   },
   "outputs": [],
   "source": []
  },
  {
   "cell_type": "code",
   "execution_count": null,
   "metadata": {
    "collapsed": true
   },
   "outputs": [],
   "source": []
  },
  {
   "cell_type": "code",
   "execution_count": null,
   "metadata": {
    "collapsed": true
   },
   "outputs": [],
   "source": []
  },
  {
   "cell_type": "code",
   "execution_count": null,
   "metadata": {
    "collapsed": true
   },
   "outputs": [],
   "source": []
  },
  {
   "cell_type": "code",
   "execution_count": null,
   "metadata": {
    "collapsed": true
   },
   "outputs": [],
   "source": []
  },
  {
   "cell_type": "code",
   "execution_count": null,
   "metadata": {
    "collapsed": true
   },
   "outputs": [],
   "source": []
  },
  {
   "cell_type": "code",
   "execution_count": null,
   "metadata": {
    "collapsed": true
   },
   "outputs": [],
   "source": []
  },
  {
   "cell_type": "code",
   "execution_count": null,
   "metadata": {
    "collapsed": true
   },
   "outputs": [],
   "source": []
  },
  {
   "cell_type": "code",
   "execution_count": null,
   "metadata": {
    "collapsed": true
   },
   "outputs": [],
   "source": []
  },
  {
   "cell_type": "code",
   "execution_count": null,
   "metadata": {
    "collapsed": true
   },
   "outputs": [],
   "source": []
  },
  {
   "cell_type": "code",
   "execution_count": null,
   "metadata": {
    "collapsed": true
   },
   "outputs": [],
   "source": []
  },
  {
   "cell_type": "code",
   "execution_count": null,
   "metadata": {
    "collapsed": true
   },
   "outputs": [],
   "source": []
  },
  {
   "cell_type": "code",
   "execution_count": null,
   "metadata": {
    "collapsed": true
   },
   "outputs": [],
   "source": []
  },
  {
   "cell_type": "code",
   "execution_count": null,
   "metadata": {
    "collapsed": true
   },
   "outputs": [],
   "source": []
  },
  {
   "cell_type": "code",
   "execution_count": null,
   "metadata": {
    "collapsed": true
   },
   "outputs": [],
   "source": []
  },
  {
   "cell_type": "code",
   "execution_count": null,
   "metadata": {
    "collapsed": true
   },
   "outputs": [],
   "source": []
  },
  {
   "cell_type": "code",
   "execution_count": 162,
   "metadata": {
    "collapsed": false
   },
   "outputs": [
    {
     "data": {
      "text/plain": [
       "'http://dww2.tceq.texas.gov/DWW/JSP/WaterSystemDetail.jsp?tinwsys_is_number=351&tinwsys_st_code=TX&wsnumber=TX0180001%20%20%20&DWWState=TX'"
      ]
     },
     "execution_count": 162,
     "metadata": {},
     "output_type": "execute_result"
    }
   ],
   "source": []
  },
  {
   "cell_type": "code",
   "execution_count": null,
   "metadata": {
    "collapsed": true
   },
   "outputs": [],
   "source": []
  },
  {
   "cell_type": "code",
   "execution_count": 126,
   "metadata": {
    "collapsed": false
   },
   "outputs": [],
   "source": [
    "test = soup.find(id = 'AutoNumber7')"
   ]
  },
  {
   "cell_type": "code",
   "execution_count": 130,
   "metadata": {
    "collapsed": false
   },
   "outputs": [
    {
     "data": {
      "text/plain": [
       "[<a href=\"WaterSystemDetail.jsp?tinwsys_is_number=351&amp;tinwsys_st_code=TX&amp;wsnumber=TX0180001%20%20%20&amp;DWWState=TX\" title=\"CITY OF CLIFTON\">TX0180001   </a>,\n",
       " <a 0\"=\"\" href=\"Fact.jsp?tinwsys_is_number=351&amp;tinwsys_st_code=TX&amp;wsnumber=TX0180001%20%20%20&amp;DWWState=TX&amp;begin_date=&amp;end_date=&amp;counter=\" title=\"Fact Sheet for CITY OF CLIFTON\"> <font size=\"1\">Fact\n",
       " \t\t\t\tSheet</font></a>,\n",
       " <a 0\"=\"\" href=\"DataSheet.jsp?tinwsys_is_number=351&amp;tinwsys_st_code=TX&amp;wsnumber=TX0180001%20%20%20&amp;DWWState=TX&amp;begin_date=&amp;end_date=&amp;counter=\" title=\"DataSheet for CITY OF CLIFTON\">Summary Sheet</a>,\n",
       " <a href=\"WaterSystemDetail.jsp?tinwsys_is_number=352&amp;tinwsys_st_code=TX&amp;wsnumber=TX0180002%20%20%20&amp;DWWState=TX\" title=\"CITY OF MERIDIAN\">TX0180002   </a>,\n",
       " <a 0\"=\"\" href=\"Fact.jsp?tinwsys_is_number=352&amp;tinwsys_st_code=TX&amp;wsnumber=TX0180002%20%20%20&amp;DWWState=TX&amp;begin_date=&amp;end_date=&amp;counter=\" title=\"Fact Sheet for CITY OF MERIDIAN\"> <font size=\"1\">Fact\n",
       " \t\t\t\tSheet</font></a>,\n",
       " <a 0\"=\"\" href=\"DataSheet.jsp?tinwsys_is_number=352&amp;tinwsys_st_code=TX&amp;wsnumber=TX0180002%20%20%20&amp;DWWState=TX&amp;begin_date=&amp;end_date=&amp;counter=\" title=\"DataSheet for CITY OF MERIDIAN\">Summary Sheet</a>,\n",
       " <a href=\"WaterSystemDetail.jsp?tinwsys_is_number=353&amp;tinwsys_st_code=TX&amp;wsnumber=TX0180003%20%20%20&amp;DWWState=TX\" title=\"CITY OF VALLEY MILLS\">TX0180003   </a>,\n",
       " <a 0\"=\"\" href=\"Fact.jsp?tinwsys_is_number=353&amp;tinwsys_st_code=TX&amp;wsnumber=TX0180003%20%20%20&amp;DWWState=TX&amp;begin_date=&amp;end_date=&amp;counter=\" title=\"Fact Sheet for CITY OF VALLEY MILLS\"> <font size=\"1\">Fact\n",
       " \t\t\t\tSheet</font></a>,\n",
       " <a 0\"=\"\" href=\"DataSheet.jsp?tinwsys_is_number=353&amp;tinwsys_st_code=TX&amp;wsnumber=TX0180003%20%20%20&amp;DWWState=TX&amp;begin_date=&amp;end_date=&amp;counter=\" title=\"DataSheet for CITY OF VALLEY MILLS\">Summary Sheet</a>,\n",
       " <a href=\"WaterSystemDetail.jsp?tinwsys_is_number=7216&amp;tinwsys_st_code=TX&amp;wsnumber=TX0180004%20%20%20&amp;DWWState=TX\" title=\"USCOE WALLING BEND PARK\">TX0180004   </a>,\n",
       " <a 0\"=\"\" href=\"Fact.jsp?tinwsys_is_number=7216&amp;tinwsys_st_code=TX&amp;wsnumber=TX0180004%20%20%20&amp;DWWState=TX&amp;begin_date=&amp;end_date=&amp;counter=\" title=\"Fact Sheet for USCOE WALLING BEND PARK\"> <font size=\"1\">Fact\n",
       " \t\t\t\tSheet</font></a>,\n",
       " <a 0\"=\"\" href=\"DataSheet.jsp?tinwsys_is_number=7216&amp;tinwsys_st_code=TX&amp;wsnumber=TX0180004%20%20%20&amp;DWWState=TX&amp;begin_date=&amp;end_date=&amp;counter=\" title=\"DataSheet for USCOE WALLING BEND PARK\">Summary Sheet</a>,\n",
       " <a href=\"WaterSystemDetail.jsp?tinwsys_is_number=354&amp;tinwsys_st_code=TX&amp;wsnumber=TX0180009%20%20%20&amp;DWWState=TX\" title=\"BOSQUE BRAZOS VALLEY WATER SYSTEM\">TX0180009   </a>,\n",
       " <a 0\"=\"\" href=\"Fact.jsp?tinwsys_is_number=354&amp;tinwsys_st_code=TX&amp;wsnumber=TX0180009%20%20%20&amp;DWWState=TX&amp;begin_date=&amp;end_date=&amp;counter=\" title=\"Fact Sheet for BOSQUE BRAZOS VALLEY WATER SYSTEM\"> <font size=\"1\">Fact\n",
       " \t\t\t\tSheet</font></a>,\n",
       " <a 0\"=\"\" href=\"DataSheet.jsp?tinwsys_is_number=354&amp;tinwsys_st_code=TX&amp;wsnumber=TX0180009%20%20%20&amp;DWWState=TX&amp;begin_date=&amp;end_date=&amp;counter=\" title=\"DataSheet for BOSQUE BRAZOS VALLEY WATER SYSTEM\">Summary Sheet</a>,\n",
       " <a href=\"WaterSystemDetail.jsp?tinwsys_is_number=355&amp;tinwsys_st_code=TX&amp;wsnumber=TX0180013%20%20%20&amp;DWWState=TX\" title=\"CITY OF CRANFILLS GAP\">TX0180013   </a>,\n",
       " <a 0\"=\"\" href=\"Fact.jsp?tinwsys_is_number=355&amp;tinwsys_st_code=TX&amp;wsnumber=TX0180013%20%20%20&amp;DWWState=TX&amp;begin_date=&amp;end_date=&amp;counter=\" title=\"Fact Sheet for CITY OF CRANFILLS GAP\"> <font size=\"1\">Fact\n",
       " \t\t\t\tSheet</font></a>,\n",
       " <a 0\"=\"\" href=\"DataSheet.jsp?tinwsys_is_number=355&amp;tinwsys_st_code=TX&amp;wsnumber=TX0180013%20%20%20&amp;DWWState=TX&amp;begin_date=&amp;end_date=&amp;counter=\" title=\"DataSheet for CITY OF CRANFILLS GAP\">Summary Sheet</a>,\n",
       " <a href=\"WaterSystemDetail.jsp?tinwsys_is_number=356&amp;tinwsys_st_code=TX&amp;wsnumber=TX0180014%20%20%20&amp;DWWState=TX\" title=\"CITY OF IREDELL\">TX0180014   </a>,\n",
       " <a 0\"=\"\" href=\"Fact.jsp?tinwsys_is_number=356&amp;tinwsys_st_code=TX&amp;wsnumber=TX0180014%20%20%20&amp;DWWState=TX&amp;begin_date=&amp;end_date=&amp;counter=\" title=\"Fact Sheet for CITY OF IREDELL\"> <font size=\"1\">Fact\n",
       " \t\t\t\tSheet</font></a>,\n",
       " <a 0\"=\"\" href=\"DataSheet.jsp?tinwsys_is_number=356&amp;tinwsys_st_code=TX&amp;wsnumber=TX0180014%20%20%20&amp;DWWState=TX&amp;begin_date=&amp;end_date=&amp;counter=\" title=\"DataSheet for CITY OF IREDELL\">Summary Sheet</a>,\n",
       " <a href=\"WaterSystemDetail.jsp?tinwsys_is_number=357&amp;tinwsys_st_code=TX&amp;wsnumber=TX0180015%20%20%20&amp;DWWState=TX\" title=\"ROCKY CREEK WATER SYSTEM\">TX0180015   </a>,\n",
       " <a 0\"=\"\" href=\"Fact.jsp?tinwsys_is_number=357&amp;tinwsys_st_code=TX&amp;wsnumber=TX0180015%20%20%20&amp;DWWState=TX&amp;begin_date=&amp;end_date=&amp;counter=\" title=\"Fact Sheet for ROCKY CREEK WATER SYSTEM\"> <font size=\"1\">Fact\n",
       " \t\t\t\tSheet</font></a>,\n",
       " <a 0\"=\"\" href=\"DataSheet.jsp?tinwsys_is_number=357&amp;tinwsys_st_code=TX&amp;wsnumber=TX0180015%20%20%20&amp;DWWState=TX&amp;begin_date=&amp;end_date=&amp;counter=\" title=\"DataSheet for ROCKY CREEK WATER SYSTEM\">Summary Sheet</a>,\n",
       " <a href=\"WaterSystemDetail.jsp?tinwsys_is_number=358&amp;tinwsys_st_code=TX&amp;wsnumber=TX0180016%20%20%20&amp;DWWState=TX\" title=\"LAKESIDE WATER SUPPLY DISTRICT\">TX0180016   </a>,\n",
       " <a 0\"=\"\" href=\"Fact.jsp?tinwsys_is_number=358&amp;tinwsys_st_code=TX&amp;wsnumber=TX0180016%20%20%20&amp;DWWState=TX&amp;begin_date=&amp;end_date=&amp;counter=\" title=\"Fact Sheet for LAKESIDE WATER SUPPLY DISTRICT\"> <font size=\"1\">Fact\n",
       " \t\t\t\tSheet</font></a>,\n",
       " <a 0\"=\"\" href=\"DataSheet.jsp?tinwsys_is_number=358&amp;tinwsys_st_code=TX&amp;wsnumber=TX0180016%20%20%20&amp;DWWState=TX&amp;begin_date=&amp;end_date=&amp;counter=\" title=\"DataSheet for LAKESIDE WATER SUPPLY DISTRICT\">Summary Sheet</a>,\n",
       " <a href=\"WaterSystemDetail.jsp?tinwsys_is_number=359&amp;tinwsys_st_code=TX&amp;wsnumber=TX0180018%20%20%20&amp;DWWState=TX\" title=\"CITY OF MORGAN\">TX0180018   </a>,\n",
       " <a 0\"=\"\" href=\"Fact.jsp?tinwsys_is_number=359&amp;tinwsys_st_code=TX&amp;wsnumber=TX0180018%20%20%20&amp;DWWState=TX&amp;begin_date=&amp;end_date=&amp;counter=\" title=\"Fact Sheet for CITY OF MORGAN\"> <font size=\"1\">Fact\n",
       " \t\t\t\tSheet</font></a>,\n",
       " <a 0\"=\"\" href=\"DataSheet.jsp?tinwsys_is_number=359&amp;tinwsys_st_code=TX&amp;wsnumber=TX0180018%20%20%20&amp;DWWState=TX&amp;begin_date=&amp;end_date=&amp;counter=\" title=\"DataSheet for CITY OF MORGAN\">Summary Sheet</a>,\n",
       " <a href=\"WaterSystemDetail.jsp?tinwsys_is_number=360&amp;tinwsys_st_code=TX&amp;wsnumber=TX0180019%20%20%20&amp;DWWState=TX\" title=\"MOSHEIM WSC\">TX0180019   </a>,\n",
       " <a 0\"=\"\" href=\"Fact.jsp?tinwsys_is_number=360&amp;tinwsys_st_code=TX&amp;wsnumber=TX0180019%20%20%20&amp;DWWState=TX&amp;begin_date=&amp;end_date=&amp;counter=\" title=\"Fact Sheet for MOSHEIM WSC\"> <font size=\"1\">Fact\n",
       " \t\t\t\tSheet</font></a>,\n",
       " <a 0\"=\"\" href=\"DataSheet.jsp?tinwsys_is_number=360&amp;tinwsys_st_code=TX&amp;wsnumber=TX0180019%20%20%20&amp;DWWState=TX&amp;begin_date=&amp;end_date=&amp;counter=\" title=\"DataSheet for MOSHEIM WSC\">Summary Sheet</a>,\n",
       " <a href=\"WaterSystemDetail.jsp?tinwsys_is_number=361&amp;tinwsys_st_code=TX&amp;wsnumber=TX0180020%20%20%20&amp;DWWState=TX\" title=\"CITY OF WALNUT SPRINGS\">TX0180020   </a>,\n",
       " <a 0\"=\"\" href=\"Fact.jsp?tinwsys_is_number=361&amp;tinwsys_st_code=TX&amp;wsnumber=TX0180020%20%20%20&amp;DWWState=TX&amp;begin_date=&amp;end_date=&amp;counter=\" title=\"Fact Sheet for CITY OF WALNUT SPRINGS\"> <font size=\"1\">Fact\n",
       " \t\t\t\tSheet</font></a>,\n",
       " <a 0\"=\"\" href=\"DataSheet.jsp?tinwsys_is_number=361&amp;tinwsys_st_code=TX&amp;wsnumber=TX0180020%20%20%20&amp;DWWState=TX&amp;begin_date=&amp;end_date=&amp;counter=\" title=\"DataSheet for CITY OF WALNUT SPRINGS\">Summary Sheet</a>,\n",
       " <a href=\"WaterSystemDetail.jsp?tinwsys_is_number=362&amp;tinwsys_st_code=TX&amp;wsnumber=TX0180022%20%20%20&amp;DWWState=TX\" title=\"SMITH BEND WSC\">TX0180022   </a>,\n",
       " <a 0\"=\"\" href=\"Fact.jsp?tinwsys_is_number=362&amp;tinwsys_st_code=TX&amp;wsnumber=TX0180022%20%20%20&amp;DWWState=TX&amp;begin_date=&amp;end_date=&amp;counter=\" title=\"Fact Sheet for SMITH BEND WSC\"> <font size=\"1\">Fact\n",
       " \t\t\t\tSheet</font></a>,\n",
       " <a 0\"=\"\" href=\"DataSheet.jsp?tinwsys_is_number=362&amp;tinwsys_st_code=TX&amp;wsnumber=TX0180022%20%20%20&amp;DWWState=TX&amp;begin_date=&amp;end_date=&amp;counter=\" title=\"DataSheet for SMITH BEND WSC\">Summary Sheet</a>,\n",
       " <a href=\"WaterSystemDetail.jsp?tinwsys_is_number=363&amp;tinwsys_st_code=TX&amp;wsnumber=TX0180025%20%20%20&amp;DWWState=TX\" title=\"LAKELINE ACRES WATER\">TX0180025   </a>,\n",
       " <a 0\"=\"\" href=\"Fact.jsp?tinwsys_is_number=363&amp;tinwsys_st_code=TX&amp;wsnumber=TX0180025%20%20%20&amp;DWWState=TX&amp;begin_date=&amp;end_date=&amp;counter=\" title=\"Fact Sheet for LAKELINE ACRES WATER\"> <font size=\"1\">Fact\n",
       " \t\t\t\tSheet</font></a>,\n",
       " <a 0\"=\"\" href=\"DataSheet.jsp?tinwsys_is_number=363&amp;tinwsys_st_code=TX&amp;wsnumber=TX0180025%20%20%20&amp;DWWState=TX&amp;begin_date=&amp;end_date=&amp;counter=\" title=\"DataSheet for LAKELINE ACRES WATER\">Summary Sheet</a>,\n",
       " <a href=\"WaterSystemDetail.jsp?tinwsys_is_number=364&amp;tinwsys_st_code=TX&amp;wsnumber=TX0180026%20%20%20&amp;DWWState=TX\" title=\"CHILDRESS CREEK WSC\">TX0180026   </a>,\n",
       " <a 0\"=\"\" href=\"Fact.jsp?tinwsys_is_number=364&amp;tinwsys_st_code=TX&amp;wsnumber=TX0180026%20%20%20&amp;DWWState=TX&amp;begin_date=&amp;end_date=&amp;counter=\" title=\"Fact Sheet for CHILDRESS CREEK WSC\"> <font size=\"1\">Fact\n",
       " \t\t\t\tSheet</font></a>,\n",
       " <a 0\"=\"\" href=\"DataSheet.jsp?tinwsys_is_number=364&amp;tinwsys_st_code=TX&amp;wsnumber=TX0180026%20%20%20&amp;DWWState=TX&amp;begin_date=&amp;end_date=&amp;counter=\" title=\"DataSheet for CHILDRESS CREEK WSC\">Summary Sheet</a>,\n",
       " <a href=\"WaterSystemDetail.jsp?tinwsys_is_number=365&amp;tinwsys_st_code=TX&amp;wsnumber=TX0180028%20%20%20&amp;DWWState=TX\" title=\"STEELE CREEK HARBOR\">TX0180028   </a>,\n",
       " <a 0\"=\"\" href=\"Fact.jsp?tinwsys_is_number=365&amp;tinwsys_st_code=TX&amp;wsnumber=TX0180028%20%20%20&amp;DWWState=TX&amp;begin_date=&amp;end_date=&amp;counter=\" title=\"Fact Sheet for STEELE CREEK HARBOR\"> <font size=\"1\">Fact\n",
       " \t\t\t\tSheet</font></a>,\n",
       " <a 0\"=\"\" href=\"DataSheet.jsp?tinwsys_is_number=365&amp;tinwsys_st_code=TX&amp;wsnumber=TX0180028%20%20%20&amp;DWWState=TX&amp;begin_date=&amp;end_date=&amp;counter=\" title=\"DataSheet for STEELE CREEK HARBOR\">Summary Sheet</a>,\n",
       " <a href=\"WaterSystemDetail.jsp?tinwsys_is_number=366&amp;tinwsys_st_code=TX&amp;wsnumber=TX0180030%20%20%20&amp;DWWState=TX\" title=\"GLENSHORES WATER\">TX0180030   </a>,\n",
       " <a 0\"=\"\" href=\"Fact.jsp?tinwsys_is_number=366&amp;tinwsys_st_code=TX&amp;wsnumber=TX0180030%20%20%20&amp;DWWState=TX&amp;begin_date=&amp;end_date=&amp;counter=\" title=\"Fact Sheet for GLENSHORES WATER\"> <font size=\"1\">Fact\n",
       " \t\t\t\tSheet</font></a>,\n",
       " <a 0\"=\"\" href=\"DataSheet.jsp?tinwsys_is_number=366&amp;tinwsys_st_code=TX&amp;wsnumber=TX0180030%20%20%20&amp;DWWState=TX&amp;begin_date=&amp;end_date=&amp;counter=\" title=\"DataSheet for GLENSHORES WATER\">Summary Sheet</a>,\n",
       " <a href=\"WaterSystemDetail.jsp?tinwsys_is_number=367&amp;tinwsys_st_code=TX&amp;wsnumber=TX0180031%20%20%20&amp;DWWState=TX\" title=\"KING CREEK WSC\">TX0180031   </a>,\n",
       " <a 0\"=\"\" href=\"Fact.jsp?tinwsys_is_number=367&amp;tinwsys_st_code=TX&amp;wsnumber=TX0180031%20%20%20&amp;DWWState=TX&amp;begin_date=&amp;end_date=&amp;counter=\" title=\"Fact Sheet for KING CREEK WSC\"> <font size=\"1\">Fact\n",
       " \t\t\t\tSheet</font></a>,\n",
       " <a 0\"=\"\" href=\"DataSheet.jsp?tinwsys_is_number=367&amp;tinwsys_st_code=TX&amp;wsnumber=TX0180031%20%20%20&amp;DWWState=TX&amp;begin_date=&amp;end_date=&amp;counter=\" title=\"DataSheet for KING CREEK WSC\">Summary Sheet</a>,\n",
       " <a href=\"WaterSystemDetail.jsp?tinwsys_is_number=368&amp;tinwsys_st_code=TX&amp;wsnumber=TX0180032%20%20%20&amp;DWWState=TX\" title=\"CRYSTAL CLEAR WATER AIRPORT\">TX0180032   </a>,\n",
       " <a 0\"=\"\" href=\"Fact.jsp?tinwsys_is_number=368&amp;tinwsys_st_code=TX&amp;wsnumber=TX0180032%20%20%20&amp;DWWState=TX&amp;begin_date=&amp;end_date=&amp;counter=\" title=\"Fact Sheet for CRYSTAL CLEAR WATER AIRPORT\"> <font size=\"1\">Fact\n",
       " \t\t\t\tSheet</font></a>,\n",
       " <a 0\"=\"\" href=\"DataSheet.jsp?tinwsys_is_number=368&amp;tinwsys_st_code=TX&amp;wsnumber=TX0180032%20%20%20&amp;DWWState=TX&amp;begin_date=&amp;end_date=&amp;counter=\" title=\"DataSheet for CRYSTAL CLEAR WATER AIRPORT\">Summary Sheet</a>,\n",
       " <a href=\"WaterSystemDetail.jsp?tinwsys_is_number=369&amp;tinwsys_st_code=TX&amp;wsnumber=TX0180033%20%20%20&amp;DWWState=TX\" title=\"CEDAR SHORES WATER CORPORATION\">TX0180033   </a>,\n",
       " <a 0\"=\"\" href=\"Fact.jsp?tinwsys_is_number=369&amp;tinwsys_st_code=TX&amp;wsnumber=TX0180033%20%20%20&amp;DWWState=TX&amp;begin_date=&amp;end_date=&amp;counter=\" title=\"Fact Sheet for CEDAR SHORES WATER CORPORATION\"> <font size=\"1\">Fact\n",
       " \t\t\t\tSheet</font></a>,\n",
       " <a 0\"=\"\" href=\"DataSheet.jsp?tinwsys_is_number=369&amp;tinwsys_st_code=TX&amp;wsnumber=TX0180033%20%20%20&amp;DWWState=TX&amp;begin_date=&amp;end_date=&amp;counter=\" title=\"DataSheet for CEDAR SHORES WATER CORPORATION\">Summary Sheet</a>,\n",
       " <a href=\"WaterSystemDetail.jsp?tinwsys_is_number=8631&amp;tinwsys_st_code=TX&amp;wsnumber=TX0180034%20%20%20&amp;DWWState=TX\" title=\"CAMELOT ESTATES WS\">TX0180034   </a>,\n",
       " <a 0\"=\"\" href=\"Fact.jsp?tinwsys_is_number=8631&amp;tinwsys_st_code=TX&amp;wsnumber=TX0180034%20%20%20&amp;DWWState=TX&amp;begin_date=&amp;end_date=&amp;counter=\" title=\"Fact Sheet for CAMELOT ESTATES WS\"> <font size=\"1\">Fact\n",
       " \t\t\t\tSheet</font></a>,\n",
       " <a 0\"=\"\" href=\"DataSheet.jsp?tinwsys_is_number=8631&amp;tinwsys_st_code=TX&amp;wsnumber=TX0180034%20%20%20&amp;DWWState=TX&amp;begin_date=&amp;end_date=&amp;counter=\" title=\"DataSheet for CAMELOT ESTATES WS\">Summary Sheet</a>,\n",
       " <a href=\"WaterSystemDetail.jsp?tinwsys_is_number=8630&amp;tinwsys_st_code=TX&amp;wsnumber=TX0180036%20%20%20&amp;DWWState=TX\" title=\"STEELE CREEK HARBOR WATER SYSTEM\">TX0180036   </a>,\n",
       " <a 0\"=\"\" href=\"Fact.jsp?tinwsys_is_number=8630&amp;tinwsys_st_code=TX&amp;wsnumber=TX0180036%20%20%20&amp;DWWState=TX&amp;begin_date=&amp;end_date=&amp;counter=\" title=\"Fact Sheet for STEELE CREEK HARBOR WATER SYSTEM\"> <font size=\"1\">Fact\n",
       " \t\t\t\tSheet</font></a>,\n",
       " <a 0\"=\"\" href=\"DataSheet.jsp?tinwsys_is_number=8630&amp;tinwsys_st_code=TX&amp;wsnumber=TX0180036%20%20%20&amp;DWWState=TX&amp;begin_date=&amp;end_date=&amp;counter=\" title=\"DataSheet for STEELE CREEK HARBOR WATER SYSTEM\">Summary Sheet</a>,\n",
       " <a href=\"WaterSystemDetail.jsp?tinwsys_is_number=370&amp;tinwsys_st_code=TX&amp;wsnumber=TX0180037%20%20%20&amp;DWWState=TX\" title=\"INDIAN LODGE WATER SYSTEM\">TX0180037   </a>,\n",
       " <a 0\"=\"\" href=\"Fact.jsp?tinwsys_is_number=370&amp;tinwsys_st_code=TX&amp;wsnumber=TX0180037%20%20%20&amp;DWWState=TX&amp;begin_date=&amp;end_date=&amp;counter=\" title=\"Fact Sheet for INDIAN LODGE WATER SYSTEM\"> <font size=\"1\">Fact\n",
       " \t\t\t\tSheet</font></a>,\n",
       " <a 0\"=\"\" href=\"DataSheet.jsp?tinwsys_is_number=370&amp;tinwsys_st_code=TX&amp;wsnumber=TX0180037%20%20%20&amp;DWWState=TX&amp;begin_date=&amp;end_date=&amp;counter=\" title=\"DataSheet for INDIAN LODGE WATER SYSTEM\">Summary Sheet</a>,\n",
       " <a href=\"WaterSystemDetail.jsp?tinwsys_is_number=371&amp;tinwsys_st_code=TX&amp;wsnumber=TX0180038%20%20%20&amp;DWWState=TX\" title=\"MUSTANG VALLEY WSC\">TX0180038   </a>,\n",
       " <a 0\"=\"\" href=\"Fact.jsp?tinwsys_is_number=371&amp;tinwsys_st_code=TX&amp;wsnumber=TX0180038%20%20%20&amp;DWWState=TX&amp;begin_date=&amp;end_date=&amp;counter=\" title=\"Fact Sheet for MUSTANG VALLEY WSC\"> <font size=\"1\">Fact\n",
       " \t\t\t\tSheet</font></a>,\n",
       " <a 0\"=\"\" href=\"DataSheet.jsp?tinwsys_is_number=371&amp;tinwsys_st_code=TX&amp;wsnumber=TX0180038%20%20%20&amp;DWWState=TX&amp;begin_date=&amp;end_date=&amp;counter=\" title=\"DataSheet for MUSTANG VALLEY WSC\">Summary Sheet</a>,\n",
       " <a href=\"WaterSystemDetail.jsp?tinwsys_is_number=8629&amp;tinwsys_st_code=TX&amp;wsnumber=TX0180039%20%20%20&amp;DWWState=TX\" title=\"CLIFF OAKS ADDITION\">TX0180039   </a>,\n",
       " <a 0\"=\"\" href=\"Fact.jsp?tinwsys_is_number=8629&amp;tinwsys_st_code=TX&amp;wsnumber=TX0180039%20%20%20&amp;DWWState=TX&amp;begin_date=&amp;end_date=&amp;counter=\" title=\"Fact Sheet for CLIFF OAKS ADDITION\"> <font size=\"1\">Fact\n",
       " \t\t\t\tSheet</font></a>,\n",
       " <a 0\"=\"\" href=\"DataSheet.jsp?tinwsys_is_number=8629&amp;tinwsys_st_code=TX&amp;wsnumber=TX0180039%20%20%20&amp;DWWState=TX&amp;begin_date=&amp;end_date=&amp;counter=\" title=\"DataSheet for CLIFF OAKS ADDITION\">Summary Sheet</a>,\n",
       " <a href=\"WaterSystemDetail.jsp?tinwsys_is_number=372&amp;tinwsys_st_code=TX&amp;wsnumber=TX0180040%20%20%20&amp;DWWState=TX\" title=\"COONEY CAVERN LODGE\">TX0180040   </a>,\n",
       " <a 0\"=\"\" href=\"Fact.jsp?tinwsys_is_number=372&amp;tinwsys_st_code=TX&amp;wsnumber=TX0180040%20%20%20&amp;DWWState=TX&amp;begin_date=&amp;end_date=&amp;counter=\" title=\"Fact Sheet for COONEY CAVERN LODGE\"> <font size=\"1\">Fact\n",
       " \t\t\t\tSheet</font></a>,\n",
       " <a 0\"=\"\" href=\"DataSheet.jsp?tinwsys_is_number=372&amp;tinwsys_st_code=TX&amp;wsnumber=TX0180040%20%20%20&amp;DWWState=TX&amp;begin_date=&amp;end_date=&amp;counter=\" title=\"DataSheet for COONEY CAVERN LODGE\">Summary Sheet</a>,\n",
       " <a href=\"WaterSystemDetail.jsp?tinwsys_is_number=373&amp;tinwsys_st_code=TX&amp;wsnumber=TX0180041%20%20%20&amp;DWWState=TX\" title=\"SHULER POINT\">TX0180041   </a>,\n",
       " <a 0\"=\"\" href=\"Fact.jsp?tinwsys_is_number=373&amp;tinwsys_st_code=TX&amp;wsnumber=TX0180041%20%20%20&amp;DWWState=TX&amp;begin_date=&amp;end_date=&amp;counter=\" title=\"Fact Sheet for SHULER POINT\"> <font size=\"1\">Fact\n",
       " \t\t\t\tSheet</font></a>,\n",
       " <a 0\"=\"\" href=\"DataSheet.jsp?tinwsys_is_number=373&amp;tinwsys_st_code=TX&amp;wsnumber=TX0180041%20%20%20&amp;DWWState=TX&amp;begin_date=&amp;end_date=&amp;counter=\" title=\"DataSheet for SHULER POINT\">Summary Sheet</a>,\n",
       " <a href=\"WaterSystemDetail.jsp?tinwsys_is_number=374&amp;tinwsys_st_code=TX&amp;wsnumber=TX0180042%20%20%20&amp;DWWState=TX\" title=\"USCOE KIMBALL BEND PARK\">TX0180042   </a>,\n",
       " <a 0\"=\"\" href=\"Fact.jsp?tinwsys_is_number=374&amp;tinwsys_st_code=TX&amp;wsnumber=TX0180042%20%20%20&amp;DWWState=TX&amp;begin_date=&amp;end_date=&amp;counter=\" title=\"Fact Sheet for USCOE KIMBALL BEND PARK\"> <font size=\"1\">Fact\n",
       " \t\t\t\tSheet</font></a>,\n",
       " <a 0\"=\"\" href=\"DataSheet.jsp?tinwsys_is_number=374&amp;tinwsys_st_code=TX&amp;wsnumber=TX0180042%20%20%20&amp;DWWState=TX&amp;begin_date=&amp;end_date=&amp;counter=\" title=\"DataSheet for USCOE KIMBALL BEND PARK\">Summary Sheet</a>,\n",
       " <a href=\"WaterSystemDetail.jsp?tinwsys_is_number=375&amp;tinwsys_st_code=TX&amp;wsnumber=TX0180043%20%20%20&amp;DWWState=TX\" title=\"USCOE PLOWMAN CREEK PARK\">TX0180043   </a>,\n",
       " <a 0\"=\"\" href=\"Fact.jsp?tinwsys_is_number=375&amp;tinwsys_st_code=TX&amp;wsnumber=TX0180043%20%20%20&amp;DWWState=TX&amp;begin_date=&amp;end_date=&amp;counter=\" title=\"Fact Sheet for USCOE PLOWMAN CREEK PARK\"> <font size=\"1\">Fact\n",
       " \t\t\t\tSheet</font></a>,\n",
       " <a 0\"=\"\" href=\"DataSheet.jsp?tinwsys_is_number=375&amp;tinwsys_st_code=TX&amp;wsnumber=TX0180043%20%20%20&amp;DWWState=TX&amp;begin_date=&amp;end_date=&amp;counter=\" title=\"DataSheet for USCOE PLOWMAN CREEK PARK\">Summary Sheet</a>,\n",
       " <a href=\"WaterSystemDetail.jsp?tinwsys_is_number=376&amp;tinwsys_st_code=TX&amp;wsnumber=TX0180045%20%20%20&amp;DWWState=TX\" title=\"USCOE STEELES CREEK PARK\">TX0180045   </a>,\n",
       " <a 0\"=\"\" href=\"Fact.jsp?tinwsys_is_number=376&amp;tinwsys_st_code=TX&amp;wsnumber=TX0180045%20%20%20&amp;DWWState=TX&amp;begin_date=&amp;end_date=&amp;counter=\" title=\"Fact Sheet for USCOE STEELES CREEK PARK\"> <font size=\"1\">Fact\n",
       " \t\t\t\tSheet</font></a>,\n",
       " <a 0\"=\"\" href=\"DataSheet.jsp?tinwsys_is_number=376&amp;tinwsys_st_code=TX&amp;wsnumber=TX0180045%20%20%20&amp;DWWState=TX&amp;begin_date=&amp;end_date=&amp;counter=\" title=\"DataSheet for USCOE STEELES CREEK PARK\">Summary Sheet</a>,\n",
       " <a href=\"WaterSystemDetail.jsp?tinwsys_is_number=377&amp;tinwsys_st_code=TX&amp;wsnumber=TX0180051%20%20%20&amp;DWWState=TX\" title=\"CEDRON CREEK RANCH WATER SUPPLY\">TX0180051   </a>,\n",
       " <a 0\"=\"\" href=\"Fact.jsp?tinwsys_is_number=377&amp;tinwsys_st_code=TX&amp;wsnumber=TX0180051%20%20%20&amp;DWWState=TX&amp;begin_date=&amp;end_date=&amp;counter=\" title=\"Fact Sheet for CEDRON CREEK RANCH WATER SUPPLY\"> <font size=\"1\">Fact\n",
       " \t\t\t\tSheet</font></a>,\n",
       " <a 0\"=\"\" href=\"DataSheet.jsp?tinwsys_is_number=377&amp;tinwsys_st_code=TX&amp;wsnumber=TX0180051%20%20%20&amp;DWWState=TX&amp;begin_date=&amp;end_date=&amp;counter=\" title=\"DataSheet for CEDRON CREEK RANCH WATER SUPPLY\">Summary Sheet</a>,\n",
       " <a href=\"WaterSystemDetail.jsp?tinwsys_is_number=378&amp;tinwsys_st_code=TX&amp;wsnumber=TX0180059%20%20%20&amp;DWWState=TX\" title=\"KOPPERL ISD\">TX0180059   </a>,\n",
       " <a 0\"=\"\" href=\"Fact.jsp?tinwsys_is_number=378&amp;tinwsys_st_code=TX&amp;wsnumber=TX0180059%20%20%20&amp;DWWState=TX&amp;begin_date=&amp;end_date=&amp;counter=\" title=\"Fact Sheet for KOPPERL ISD\"> <font size=\"1\">Fact\n",
       " \t\t\t\tSheet</font></a>,\n",
       " <a 0\"=\"\" href=\"DataSheet.jsp?tinwsys_is_number=378&amp;tinwsys_st_code=TX&amp;wsnumber=TX0180059%20%20%20&amp;DWWState=TX&amp;begin_date=&amp;end_date=&amp;counter=\" title=\"DataSheet for KOPPERL ISD\">Summary Sheet</a>,\n",
       " <a href=\"WaterSystemDetail.jsp?tinwsys_is_number=379&amp;tinwsys_st_code=TX&amp;wsnumber=TX0180060%20%20%20&amp;DWWState=TX\" title=\"TPWD MERIDIAN STATE PARK\">TX0180060   </a>,\n",
       " <a 0\"=\"\" href=\"Fact.jsp?tinwsys_is_number=379&amp;tinwsys_st_code=TX&amp;wsnumber=TX0180060%20%20%20&amp;DWWState=TX&amp;begin_date=&amp;end_date=&amp;counter=\" title=\"Fact Sheet for TPWD MERIDIAN STATE PARK\"> <font size=\"1\">Fact\n",
       " \t\t\t\tSheet</font></a>,\n",
       " <a 0\"=\"\" href=\"DataSheet.jsp?tinwsys_is_number=379&amp;tinwsys_st_code=TX&amp;wsnumber=TX0180060%20%20%20&amp;DWWState=TX&amp;begin_date=&amp;end_date=&amp;counter=\" title=\"DataSheet for TPWD MERIDIAN STATE PARK\">Summary Sheet</a>,\n",
       " <a href=\"WaterSystemDetail.jsp?tinwsys_is_number=8628&amp;tinwsys_st_code=TX&amp;wsnumber=TX0180069%20%20%20&amp;DWWState=TX\" title=\"TEXAS SAFARI INC\">TX0180069   </a>,\n",
       " <a 0\"=\"\" href=\"Fact.jsp?tinwsys_is_number=8628&amp;tinwsys_st_code=TX&amp;wsnumber=TX0180069%20%20%20&amp;DWWState=TX&amp;begin_date=&amp;end_date=&amp;counter=\" title=\"Fact Sheet for TEXAS SAFARI INC\"> <font size=\"1\">Fact\n",
       " \t\t\t\tSheet</font></a>,\n",
       " <a 0\"=\"\" href=\"DataSheet.jsp?tinwsys_is_number=8628&amp;tinwsys_st_code=TX&amp;wsnumber=TX0180069%20%20%20&amp;DWWState=TX&amp;begin_date=&amp;end_date=&amp;counter=\" title=\"DataSheet for TEXAS SAFARI INC\">Summary Sheet</a>,\n",
       " <a href=\"WaterSystemDetail.jsp?tinwsys_is_number=380&amp;tinwsys_st_code=TX&amp;wsnumber=TX0180071%20%20%20&amp;DWWState=TX\" title=\"HIGHLAND PARK WSC\">TX0180071   </a>,\n",
       " <a 0\"=\"\" href=\"Fact.jsp?tinwsys_is_number=380&amp;tinwsys_st_code=TX&amp;wsnumber=TX0180071%20%20%20&amp;DWWState=TX&amp;begin_date=&amp;end_date=&amp;counter=\" title=\"Fact Sheet for HIGHLAND PARK WSC\"> <font size=\"1\">Fact\n",
       " \t\t\t\tSheet</font></a>,\n",
       " <a 0\"=\"\" href=\"DataSheet.jsp?tinwsys_is_number=380&amp;tinwsys_st_code=TX&amp;wsnumber=TX0180071%20%20%20&amp;DWWState=TX&amp;begin_date=&amp;end_date=&amp;counter=\" title=\"DataSheet for HIGHLAND PARK WSC\">Summary Sheet</a>,\n",
       " <a href=\"WaterSystemDetail.jsp?tinwsys_is_number=381&amp;tinwsys_st_code=TX&amp;wsnumber=TX0180072%20%20%20&amp;DWWState=TX\" title=\"LAME DUCK WATER SYSTEM\">TX0180072   </a>,\n",
       " <a 0\"=\"\" href=\"Fact.jsp?tinwsys_is_number=381&amp;tinwsys_st_code=TX&amp;wsnumber=TX0180072%20%20%20&amp;DWWState=TX&amp;begin_date=&amp;end_date=&amp;counter=\" title=\"Fact Sheet for LAME DUCK WATER SYSTEM\"> <font size=\"1\">Fact\n",
       " \t\t\t\tSheet</font></a>,\n",
       " <a 0\"=\"\" href=\"DataSheet.jsp?tinwsys_is_number=381&amp;tinwsys_st_code=TX&amp;wsnumber=TX0180072%20%20%20&amp;DWWState=TX&amp;begin_date=&amp;end_date=&amp;counter=\" title=\"DataSheet for LAME DUCK WATER SYSTEM\">Summary Sheet</a>,\n",
       " <a href=\"WaterSystemDetail.jsp?tinwsys_is_number=8627&amp;tinwsys_st_code=TX&amp;wsnumber=TX0180074%20%20%20&amp;DWWState=TX\" title=\"HIGHLANS WATER CO\">TX0180074   </a>,\n",
       " <a 0\"=\"\" href=\"Fact.jsp?tinwsys_is_number=8627&amp;tinwsys_st_code=TX&amp;wsnumber=TX0180074%20%20%20&amp;DWWState=TX&amp;begin_date=&amp;end_date=&amp;counter=\" title=\"Fact Sheet for HIGHLANS WATER CO\"> <font size=\"1\">Fact\n",
       " \t\t\t\tSheet</font></a>,\n",
       " <a 0\"=\"\" href=\"DataSheet.jsp?tinwsys_is_number=8627&amp;tinwsys_st_code=TX&amp;wsnumber=TX0180074%20%20%20&amp;DWWState=TX&amp;begin_date=&amp;end_date=&amp;counter=\" title=\"DataSheet for HIGHLANS WATER CO\">Summary Sheet</a>,\n",
       " <a href=\"WaterSystemDetail.jsp?tinwsys_is_number=7425&amp;tinwsys_st_code=TX&amp;wsnumber=TX0180075%20%20%20&amp;DWWState=TX\" title=\"CITY OF IREDELL NORTH\">TX0180075   </a>,\n",
       " <a 0\"=\"\" href=\"Fact.jsp?tinwsys_is_number=7425&amp;tinwsys_st_code=TX&amp;wsnumber=TX0180075%20%20%20&amp;DWWState=TX&amp;begin_date=&amp;end_date=&amp;counter=\" title=\"Fact Sheet for CITY OF IREDELL NORTH\"> <font size=\"1\">Fact\n",
       " \t\t\t\tSheet</font></a>,\n",
       " <a 0\"=\"\" href=\"DataSheet.jsp?tinwsys_is_number=7425&amp;tinwsys_st_code=TX&amp;wsnumber=TX0180075%20%20%20&amp;DWWState=TX&amp;begin_date=&amp;end_date=&amp;counter=\" title=\"DataSheet for CITY OF IREDELL NORTH\">Summary Sheet</a>,\n",
       " <a href=\"WaterSystemDetail.jsp?tinwsys_is_number=8626&amp;tinwsys_st_code=TX&amp;wsnumber=TX0180076%20%20%20&amp;DWWState=TX\" title=\"MAW SQUAWS CAFE\">TX0180076   </a>,\n",
       " <a 0\"=\"\" href=\"Fact.jsp?tinwsys_is_number=8626&amp;tinwsys_st_code=TX&amp;wsnumber=TX0180076%20%20%20&amp;DWWState=TX&amp;begin_date=&amp;end_date=&amp;counter=\" title=\"Fact Sheet for MAW SQUAWS CAFE\"> <font size=\"1\">Fact\n",
       " \t\t\t\tSheet</font></a>,\n",
       " <a 0\"=\"\" href=\"DataSheet.jsp?tinwsys_is_number=8626&amp;tinwsys_st_code=TX&amp;wsnumber=TX0180076%20%20%20&amp;DWWState=TX&amp;begin_date=&amp;end_date=&amp;counter=\" title=\"DataSheet for MAW SQUAWS CAFE\">Summary Sheet</a>,\n",
       " <a href=\"WaterSystemDetail.jsp?tinwsys_is_number=8625&amp;tinwsys_st_code=TX&amp;wsnumber=TX0180077%20%20%20&amp;DWWState=TX\" title=\"LAKESIDE VILLAGE RESORT CAFE MHP\">TX0180077   </a>,\n",
       " <a 0\"=\"\" href=\"Fact.jsp?tinwsys_is_number=8625&amp;tinwsys_st_code=TX&amp;wsnumber=TX0180077%20%20%20&amp;DWWState=TX&amp;begin_date=&amp;end_date=&amp;counter=\" title=\"Fact Sheet for LAKESIDE VILLAGE RESORT CAFE MHP\"> <font size=\"1\">Fact\n",
       " \t\t\t\tSheet</font></a>,\n",
       " <a 0\"=\"\" href=\"DataSheet.jsp?tinwsys_is_number=8625&amp;tinwsys_st_code=TX&amp;wsnumber=TX0180077%20%20%20&amp;DWWState=TX&amp;begin_date=&amp;end_date=&amp;counter=\" title=\"DataSheet for LAKESIDE VILLAGE RESORT CAFE MHP\">Summary Sheet</a>,\n",
       " <a href=\"WaterSystemDetail.jsp?tinwsys_is_number=8624&amp;tinwsys_st_code=TX&amp;wsnumber=TX0180078%20%20%20&amp;DWWState=TX\" title=\"PIZZA JUNCTION 3\">TX0180078   </a>,\n",
       " <a 0\"=\"\" href=\"Fact.jsp?tinwsys_is_number=8624&amp;tinwsys_st_code=TX&amp;wsnumber=TX0180078%20%20%20&amp;DWWState=TX&amp;begin_date=&amp;end_date=&amp;counter=\" title=\"Fact Sheet for PIZZA JUNCTION 3\"> <font size=\"1\">Fact\n",
       " \t\t\t\tSheet</font></a>,\n",
       " <a 0\"=\"\" href=\"DataSheet.jsp?tinwsys_is_number=8624&amp;tinwsys_st_code=TX&amp;wsnumber=TX0180078%20%20%20&amp;DWWState=TX&amp;begin_date=&amp;end_date=&amp;counter=\" title=\"DataSheet for PIZZA JUNCTION 3\">Summary Sheet</a>,\n",
       " <a href=\"WaterSystemDetail.jsp?tinwsys_is_number=8623&amp;tinwsys_st_code=TX&amp;wsnumber=TX0180079%20%20%20&amp;DWWState=TX\" title=\"TWO SISTERS PIZZA SHAK\">TX0180079   </a>,\n",
       " <a 0\"=\"\" href=\"Fact.jsp?tinwsys_is_number=8623&amp;tinwsys_st_code=TX&amp;wsnumber=TX0180079%20%20%20&amp;DWWState=TX&amp;begin_date=&amp;end_date=&amp;counter=\" title=\"Fact Sheet for TWO SISTERS PIZZA SHAK\"> <font size=\"1\">Fact\n",
       " \t\t\t\tSheet</font></a>,\n",
       " <a 0\"=\"\" href=\"DataSheet.jsp?tinwsys_is_number=8623&amp;tinwsys_st_code=TX&amp;wsnumber=TX0180079%20%20%20&amp;DWWState=TX&amp;begin_date=&amp;end_date=&amp;counter=\" title=\"DataSheet for TWO SISTERS PIZZA SHAK\">Summary Sheet</a>,\n",
       " <a href=\"WaterSystemDetail.jsp?tinwsys_is_number=382&amp;tinwsys_st_code=TX&amp;wsnumber=TX0180080%20%20%20&amp;DWWState=TX\" title=\"CAMP JOHN MARC\">TX0180080   </a>,\n",
       " <a 0\"=\"\" href=\"Fact.jsp?tinwsys_is_number=382&amp;tinwsys_st_code=TX&amp;wsnumber=TX0180080%20%20%20&amp;DWWState=TX&amp;begin_date=&amp;end_date=&amp;counter=\" title=\"Fact Sheet for CAMP JOHN MARC\"> <font size=\"1\">Fact\n",
       " \t\t\t\tSheet</font></a>,\n",
       " <a 0\"=\"\" href=\"DataSheet.jsp?tinwsys_is_number=382&amp;tinwsys_st_code=TX&amp;wsnumber=TX0180080%20%20%20&amp;DWWState=TX&amp;begin_date=&amp;end_date=&amp;counter=\" title=\"DataSheet for CAMP JOHN MARC\">Summary Sheet</a>,\n",
       " <a href=\"WaterSystemDetail.jsp?tinwsys_is_number=383&amp;tinwsys_st_code=TX&amp;wsnumber=TX0180081%20%20%20&amp;DWWState=TX\" title=\"CRYSTAL CLEAR WHISPERING RIDGE\">TX0180081   </a>,\n",
       " <a 0\"=\"\" href=\"Fact.jsp?tinwsys_is_number=383&amp;tinwsys_st_code=TX&amp;wsnumber=TX0180081%20%20%20&amp;DWWState=TX&amp;begin_date=&amp;end_date=&amp;counter=\" title=\"Fact Sheet for CRYSTAL CLEAR WHISPERING RIDGE\"> <font size=\"1\">Fact\n",
       " \t\t\t\tSheet</font></a>,\n",
       " <a 0\"=\"\" href=\"DataSheet.jsp?tinwsys_is_number=383&amp;tinwsys_st_code=TX&amp;wsnumber=TX0180081%20%20%20&amp;DWWState=TX&amp;begin_date=&amp;end_date=&amp;counter=\" title=\"DataSheet for CRYSTAL CLEAR WHISPERING RIDGE\">Summary Sheet</a>,\n",
       " <a href=\"WaterSystemDetail.jsp?tinwsys_is_number=11194&amp;tinwsys_st_code=TX&amp;wsnumber=TX0180082%20%20%20&amp;DWWState=TX\" title=\"CHINA SPRING RANCHES\">TX0180082   </a>,\n",
       " <a 0\"=\"\" href=\"Fact.jsp?tinwsys_is_number=11194&amp;tinwsys_st_code=TX&amp;wsnumber=TX0180082%20%20%20&amp;DWWState=TX&amp;begin_date=&amp;end_date=&amp;counter=\" title=\"Fact Sheet for CHINA SPRING RANCHES\"> <font size=\"1\">Fact\n",
       " \t\t\t\tSheet</font></a>,\n",
       " <a 0\"=\"\" href=\"DataSheet.jsp?tinwsys_is_number=11194&amp;tinwsys_st_code=TX&amp;wsnumber=TX0180082%20%20%20&amp;DWWState=TX&amp;begin_date=&amp;end_date=&amp;counter=\" title=\"DataSheet for CHINA SPRING RANCHES\">Summary Sheet</a>,\n",
       " <a href=\"WaterSystemDetail.jsp?tinwsys_is_number=12056&amp;tinwsys_st_code=TX&amp;wsnumber=TX0180083%20%20%20&amp;DWWState=TX\" title=\"LAKE WHITNEY RANCH CAMP\">TX0180083   </a>,\n",
       " <a 0\"=\"\" href=\"Fact.jsp?tinwsys_is_number=12056&amp;tinwsys_st_code=TX&amp;wsnumber=TX0180083%20%20%20&amp;DWWState=TX&amp;begin_date=&amp;end_date=&amp;counter=\" title=\"Fact Sheet for LAKE WHITNEY RANCH CAMP\"> <font size=\"1\">Fact\n",
       " \t\t\t\tSheet</font></a>,\n",
       " <a 0\"=\"\" href=\"DataSheet.jsp?tinwsys_is_number=12056&amp;tinwsys_st_code=TX&amp;wsnumber=TX0180083%20%20%20&amp;DWWState=TX&amp;begin_date=&amp;end_date=&amp;counter=\" title=\"DataSheet for LAKE WHITNEY RANCH CAMP\">Summary Sheet</a>,\n",
       " <a href=\"WaterSystemDetail.jsp?tinwsys_is_number=12163&amp;tinwsys_st_code=TX&amp;wsnumber=TX0180084%20%20%20&amp;DWWState=TX\" title=\"BOSQUE SUMMIT ESTATES\">TX0180084   </a>,\n",
       " <a 0\"=\"\" href=\"Fact.jsp?tinwsys_is_number=12163&amp;tinwsys_st_code=TX&amp;wsnumber=TX0180084%20%20%20&amp;DWWState=TX&amp;begin_date=&amp;end_date=&amp;counter=\" title=\"Fact Sheet for BOSQUE SUMMIT ESTATES\"> <font size=\"1\">Fact\n",
       " \t\t\t\tSheet</font></a>,\n",
       " <a 0\"=\"\" href=\"DataSheet.jsp?tinwsys_is_number=12163&amp;tinwsys_st_code=TX&amp;wsnumber=TX0180084%20%20%20&amp;DWWState=TX&amp;begin_date=&amp;end_date=&amp;counter=\" title=\"DataSheet for BOSQUE SUMMIT ESTATES\">Summary Sheet</a>,\n",
       " <a href=\"WaterSystemDetail.jsp?tinwsys_is_number=12242&amp;tinwsys_st_code=TX&amp;wsnumber=TX0180085%20%20%20&amp;DWWState=TX\" title=\"BOSQUE POWER WATER SUPPLY\">TX0180085   </a>,\n",
       " <a 0\"=\"\" href=\"Fact.jsp?tinwsys_is_number=12242&amp;tinwsys_st_code=TX&amp;wsnumber=TX0180085%20%20%20&amp;DWWState=TX&amp;begin_date=&amp;end_date=&amp;counter=\" title=\"Fact Sheet for BOSQUE POWER WATER SUPPLY\"> <font size=\"1\">Fact\n",
       " \t\t\t\tSheet</font></a>,\n",
       " <a 0\"=\"\" href=\"DataSheet.jsp?tinwsys_is_number=12242&amp;tinwsys_st_code=TX&amp;wsnumber=TX0180085%20%20%20&amp;DWWState=TX&amp;begin_date=&amp;end_date=&amp;counter=\" title=\"DataSheet for BOSQUE POWER WATER SUPPLY\">Summary Sheet</a>,\n",
       " <a href=\"WaterSystemDetail.jsp?tinwsys_is_number=12478&amp;tinwsys_st_code=TX&amp;wsnumber=TX0180086%20%20%20&amp;DWWState=TX\" title=\"BOSQUE RESORT WATER SUPPLY\">TX0180086   </a>,\n",
       " <a 0\"=\"\" href=\"Fact.jsp?tinwsys_is_number=12478&amp;tinwsys_st_code=TX&amp;wsnumber=TX0180086%20%20%20&amp;DWWState=TX&amp;begin_date=&amp;end_date=&amp;counter=\" title=\"Fact Sheet for BOSQUE RESORT WATER SUPPLY\"> <font size=\"1\">Fact\n",
       " \t\t\t\tSheet</font></a>,\n",
       " <a 0\"=\"\" href=\"DataSheet.jsp?tinwsys_is_number=12478&amp;tinwsys_st_code=TX&amp;wsnumber=TX0180086%20%20%20&amp;DWWState=TX&amp;begin_date=&amp;end_date=&amp;counter=\" title=\"DataSheet for BOSQUE RESORT WATER SUPPLY\">Summary Sheet</a>]"
      ]
     },
     "execution_count": 130,
     "metadata": {},
     "output_type": "execute_result"
    }
   ],
   "source": [
    "test.findAll('a')"
   ]
  },
  {
   "cell_type": "code",
   "execution_count": 151,
   "metadata": {
    "collapsed": false
   },
   "outputs": [],
   "source": [
    "import re\n",
    "wslinks = soup.findAll('a', href=re.compile('^WaterSystem'))"
   ]
  },
  {
   "cell_type": "code",
   "execution_count": null,
   "metadata": {
    "collapsed": true
   },
   "outputs": [],
   "source": []
  },
  {
   "cell_type": "code",
   "execution_count": 157,
   "metadata": {
    "collapsed": false
   },
   "outputs": [],
   "source": []
  },
  {
   "cell_type": "code",
   "execution_count": 158,
   "metadata": {
    "collapsed": false
   },
   "outputs": [
    {
     "data": {
      "text/html": [
       "<div>\n",
       "<table border=\"1\" class=\"dataframe\">\n",
       "  <thead>\n",
       "    <tr style=\"text-align: right;\">\n",
       "      <th></th>\n",
       "      <th>Water System No.</th>\n",
       "      <th>Water System Name</th>\n",
       "      <th>Type</th>\n",
       "      <th>Status</th>\n",
       "      <th>Pri. Cnty Served</th>\n",
       "      <th>Pri. Src. Water Type</th>\n",
       "      <th>Link</th>\n",
       "    </tr>\n",
       "  </thead>\n",
       "  <tbody>\n",
       "    <tr>\n",
       "      <th>0</th>\n",
       "      <td>TX0180001</td>\n",
       "      <td>CITY OF CLIFTON Fact  Sheet  Summary Sheet</td>\n",
       "      <td>C</td>\n",
       "      <td>A</td>\n",
       "      <td>BOSQUE</td>\n",
       "      <td>SW</td>\n",
       "      <td>WaterSystemDetail.jsp?tinwsys_is_number=351&amp;ti...</td>\n",
       "    </tr>\n",
       "    <tr>\n",
       "      <th>1</th>\n",
       "      <td>TX0180002</td>\n",
       "      <td>CITY OF MERIDIAN Fact  Sheet  Summary Sheet</td>\n",
       "      <td>C</td>\n",
       "      <td>A</td>\n",
       "      <td>BOSQUE</td>\n",
       "      <td>SWP</td>\n",
       "      <td>WaterSystemDetail.jsp?tinwsys_is_number=352&amp;ti...</td>\n",
       "    </tr>\n",
       "    <tr>\n",
       "      <th>2</th>\n",
       "      <td>TX0180003</td>\n",
       "      <td>CITY OF VALLEY MILLS Fact  Sheet  Summary Sheet</td>\n",
       "      <td>C</td>\n",
       "      <td>A</td>\n",
       "      <td>BOSQUE</td>\n",
       "      <td>GW</td>\n",
       "      <td>WaterSystemDetail.jsp?tinwsys_is_number=353&amp;ti...</td>\n",
       "    </tr>\n",
       "    <tr>\n",
       "      <th>3</th>\n",
       "      <td>TX0180004</td>\n",
       "      <td>USCOE WALLING BEND PARK Fact  Sheet  Summary S...</td>\n",
       "      <td>NP</td>\n",
       "      <td>I</td>\n",
       "      <td>BOSQUE</td>\n",
       "      <td>NaN</td>\n",
       "      <td>WaterSystemDetail.jsp?tinwsys_is_number=7216&amp;t...</td>\n",
       "    </tr>\n",
       "    <tr>\n",
       "      <th>4</th>\n",
       "      <td>TX0180009</td>\n",
       "      <td>BOSQUE BRAZOS VALLEY WATER SYSTEM Fact  Sheet ...</td>\n",
       "      <td>NP</td>\n",
       "      <td>I</td>\n",
       "      <td>BOSQUE</td>\n",
       "      <td>NaN</td>\n",
       "      <td>WaterSystemDetail.jsp?tinwsys_is_number=354&amp;ti...</td>\n",
       "    </tr>\n",
       "    <tr>\n",
       "      <th>5</th>\n",
       "      <td>TX0180013</td>\n",
       "      <td>CITY OF CRANFILLS GAP Fact  Sheet  Summary Sheet</td>\n",
       "      <td>C</td>\n",
       "      <td>A</td>\n",
       "      <td>BOSQUE</td>\n",
       "      <td>GW</td>\n",
       "      <td>WaterSystemDetail.jsp?tinwsys_is_number=355&amp;ti...</td>\n",
       "    </tr>\n",
       "    <tr>\n",
       "      <th>6</th>\n",
       "      <td>TX0180014</td>\n",
       "      <td>CITY OF IREDELL Fact  Sheet  Summary Sheet</td>\n",
       "      <td>C</td>\n",
       "      <td>A</td>\n",
       "      <td>BOSQUE</td>\n",
       "      <td>GW</td>\n",
       "      <td>WaterSystemDetail.jsp?tinwsys_is_number=356&amp;ti...</td>\n",
       "    </tr>\n",
       "    <tr>\n",
       "      <th>7</th>\n",
       "      <td>TX0180015</td>\n",
       "      <td>ROCKY CREEK WATER SYSTEM Fact  Sheet  Summary ...</td>\n",
       "      <td>C</td>\n",
       "      <td>A</td>\n",
       "      <td>BOSQUE</td>\n",
       "      <td>GW</td>\n",
       "      <td>WaterSystemDetail.jsp?tinwsys_is_number=357&amp;ti...</td>\n",
       "    </tr>\n",
       "    <tr>\n",
       "      <th>8</th>\n",
       "      <td>TX0180016</td>\n",
       "      <td>LAKESIDE WATER SUPPLY DISTRICT Fact  Sheet  Su...</td>\n",
       "      <td>C</td>\n",
       "      <td>A</td>\n",
       "      <td>BOSQUE</td>\n",
       "      <td>GW</td>\n",
       "      <td>WaterSystemDetail.jsp?tinwsys_is_number=358&amp;ti...</td>\n",
       "    </tr>\n",
       "    <tr>\n",
       "      <th>9</th>\n",
       "      <td>TX0180018</td>\n",
       "      <td>CITY OF MORGAN Fact  Sheet  Summary Sheet</td>\n",
       "      <td>C</td>\n",
       "      <td>A</td>\n",
       "      <td>BOSQUE</td>\n",
       "      <td>GW</td>\n",
       "      <td>WaterSystemDetail.jsp?tinwsys_is_number=359&amp;ti...</td>\n",
       "    </tr>\n",
       "    <tr>\n",
       "      <th>10</th>\n",
       "      <td>TX0180019</td>\n",
       "      <td>MOSHEIM WSC Fact  Sheet  Summary Sheet</td>\n",
       "      <td>C</td>\n",
       "      <td>A</td>\n",
       "      <td>BOSQUE</td>\n",
       "      <td>GW</td>\n",
       "      <td>WaterSystemDetail.jsp?tinwsys_is_number=360&amp;ti...</td>\n",
       "    </tr>\n",
       "    <tr>\n",
       "      <th>11</th>\n",
       "      <td>TX0180020</td>\n",
       "      <td>CITY OF WALNUT SPRINGS Fact  Sheet  Summary Sheet</td>\n",
       "      <td>C</td>\n",
       "      <td>A</td>\n",
       "      <td>BOSQUE</td>\n",
       "      <td>GW</td>\n",
       "      <td>WaterSystemDetail.jsp?tinwsys_is_number=361&amp;ti...</td>\n",
       "    </tr>\n",
       "    <tr>\n",
       "      <th>12</th>\n",
       "      <td>TX0180022</td>\n",
       "      <td>SMITH BEND WSC Fact  Sheet  Summary Sheet</td>\n",
       "      <td>C</td>\n",
       "      <td>A</td>\n",
       "      <td>BOSQUE</td>\n",
       "      <td>GW</td>\n",
       "      <td>WaterSystemDetail.jsp?tinwsys_is_number=362&amp;ti...</td>\n",
       "    </tr>\n",
       "    <tr>\n",
       "      <th>13</th>\n",
       "      <td>TX0180025</td>\n",
       "      <td>LAKELINE ACRES WATER Fact  Sheet  Summary Sheet</td>\n",
       "      <td>C</td>\n",
       "      <td>A</td>\n",
       "      <td>BOSQUE</td>\n",
       "      <td>GW</td>\n",
       "      <td>WaterSystemDetail.jsp?tinwsys_is_number=363&amp;ti...</td>\n",
       "    </tr>\n",
       "    <tr>\n",
       "      <th>14</th>\n",
       "      <td>TX0180026</td>\n",
       "      <td>CHILDRESS CREEK WSC Fact  Sheet  Summary Sheet</td>\n",
       "      <td>C</td>\n",
       "      <td>A</td>\n",
       "      <td>BOSQUE</td>\n",
       "      <td>GW</td>\n",
       "      <td>WaterSystemDetail.jsp?tinwsys_is_number=364&amp;ti...</td>\n",
       "    </tr>\n",
       "    <tr>\n",
       "      <th>15</th>\n",
       "      <td>TX0180028</td>\n",
       "      <td>STEELE CREEK HARBOR Fact  Sheet  Summary Sheet</td>\n",
       "      <td>C</td>\n",
       "      <td>A</td>\n",
       "      <td>BOSQUE</td>\n",
       "      <td>GW</td>\n",
       "      <td>WaterSystemDetail.jsp?tinwsys_is_number=365&amp;ti...</td>\n",
       "    </tr>\n",
       "    <tr>\n",
       "      <th>16</th>\n",
       "      <td>TX0180030</td>\n",
       "      <td>GLENSHORES WATER Fact  Sheet  Summary Sheet</td>\n",
       "      <td>C</td>\n",
       "      <td>A</td>\n",
       "      <td>BOSQUE</td>\n",
       "      <td>GW</td>\n",
       "      <td>WaterSystemDetail.jsp?tinwsys_is_number=366&amp;ti...</td>\n",
       "    </tr>\n",
       "    <tr>\n",
       "      <th>17</th>\n",
       "      <td>TX0180031</td>\n",
       "      <td>KING CREEK WSC Fact  Sheet  Summary Sheet</td>\n",
       "      <td>C</td>\n",
       "      <td>A</td>\n",
       "      <td>BOSQUE</td>\n",
       "      <td>GW</td>\n",
       "      <td>WaterSystemDetail.jsp?tinwsys_is_number=367&amp;ti...</td>\n",
       "    </tr>\n",
       "    <tr>\n",
       "      <th>18</th>\n",
       "      <td>TX0180032</td>\n",
       "      <td>CRYSTAL CLEAR WATER AIRPORT Fact  Sheet  Summa...</td>\n",
       "      <td>C</td>\n",
       "      <td>A</td>\n",
       "      <td>BOSQUE</td>\n",
       "      <td>GW</td>\n",
       "      <td>WaterSystemDetail.jsp?tinwsys_is_number=368&amp;ti...</td>\n",
       "    </tr>\n",
       "    <tr>\n",
       "      <th>19</th>\n",
       "      <td>TX0180033</td>\n",
       "      <td>CEDAR SHORES WATER CORPORATION Fact  Sheet  Su...</td>\n",
       "      <td>C</td>\n",
       "      <td>A</td>\n",
       "      <td>BOSQUE</td>\n",
       "      <td>GW</td>\n",
       "      <td>WaterSystemDetail.jsp?tinwsys_is_number=369&amp;ti...</td>\n",
       "    </tr>\n",
       "    <tr>\n",
       "      <th>20</th>\n",
       "      <td>TX0180034</td>\n",
       "      <td>CAMELOT ESTATES WS Fact  Sheet  Summary Sheet</td>\n",
       "      <td>NP</td>\n",
       "      <td>I</td>\n",
       "      <td>BOSQUE</td>\n",
       "      <td>NaN</td>\n",
       "      <td>WaterSystemDetail.jsp?tinwsys_is_number=8631&amp;t...</td>\n",
       "    </tr>\n",
       "    <tr>\n",
       "      <th>21</th>\n",
       "      <td>TX0180036</td>\n",
       "      <td>STEELE CREEK HARBOR WATER SYSTEM Fact  Sheet  ...</td>\n",
       "      <td>NP</td>\n",
       "      <td>I</td>\n",
       "      <td>BOSQUE</td>\n",
       "      <td>NaN</td>\n",
       "      <td>WaterSystemDetail.jsp?tinwsys_is_number=8630&amp;t...</td>\n",
       "    </tr>\n",
       "    <tr>\n",
       "      <th>22</th>\n",
       "      <td>TX0180037</td>\n",
       "      <td>INDIAN LODGE WATER SYSTEM Fact  Sheet  Summary...</td>\n",
       "      <td>NTNC</td>\n",
       "      <td>A</td>\n",
       "      <td>BOSQUE</td>\n",
       "      <td>GW</td>\n",
       "      <td>WaterSystemDetail.jsp?tinwsys_is_number=370&amp;ti...</td>\n",
       "    </tr>\n",
       "    <tr>\n",
       "      <th>23</th>\n",
       "      <td>TX0180038</td>\n",
       "      <td>MUSTANG VALLEY WSC Fact  Sheet  Summary Sheet</td>\n",
       "      <td>C</td>\n",
       "      <td>A</td>\n",
       "      <td>BOSQUE</td>\n",
       "      <td>GW</td>\n",
       "      <td>WaterSystemDetail.jsp?tinwsys_is_number=371&amp;ti...</td>\n",
       "    </tr>\n",
       "    <tr>\n",
       "      <th>24</th>\n",
       "      <td>TX0180039</td>\n",
       "      <td>CLIFF OAKS ADDITION Fact  Sheet  Summary Sheet</td>\n",
       "      <td>NP</td>\n",
       "      <td>I</td>\n",
       "      <td>BOSQUE</td>\n",
       "      <td>NaN</td>\n",
       "      <td>WaterSystemDetail.jsp?tinwsys_is_number=8629&amp;t...</td>\n",
       "    </tr>\n",
       "    <tr>\n",
       "      <th>25</th>\n",
       "      <td>TX0180040</td>\n",
       "      <td>COONEY CAVERN LODGE Fact  Sheet  Summary Sheet</td>\n",
       "      <td>C</td>\n",
       "      <td>A</td>\n",
       "      <td>BOSQUE</td>\n",
       "      <td>GW</td>\n",
       "      <td>WaterSystemDetail.jsp?tinwsys_is_number=372&amp;ti...</td>\n",
       "    </tr>\n",
       "    <tr>\n",
       "      <th>26</th>\n",
       "      <td>TX0180041</td>\n",
       "      <td>SHULER POINT Fact  Sheet  Summary Sheet</td>\n",
       "      <td>C</td>\n",
       "      <td>A</td>\n",
       "      <td>BOSQUE</td>\n",
       "      <td>GW</td>\n",
       "      <td>WaterSystemDetail.jsp?tinwsys_is_number=373&amp;ti...</td>\n",
       "    </tr>\n",
       "    <tr>\n",
       "      <th>27</th>\n",
       "      <td>TX0180042</td>\n",
       "      <td>USCOE KIMBALL BEND PARK Fact  Sheet  Summary S...</td>\n",
       "      <td>NC</td>\n",
       "      <td>A</td>\n",
       "      <td>BOSQUE</td>\n",
       "      <td>GW</td>\n",
       "      <td>WaterSystemDetail.jsp?tinwsys_is_number=374&amp;ti...</td>\n",
       "    </tr>\n",
       "    <tr>\n",
       "      <th>28</th>\n",
       "      <td>TX0180043</td>\n",
       "      <td>USCOE PLOWMAN CREEK PARK Fact  Sheet  Summary ...</td>\n",
       "      <td>NC</td>\n",
       "      <td>A</td>\n",
       "      <td>BOSQUE</td>\n",
       "      <td>GW</td>\n",
       "      <td>WaterSystemDetail.jsp?tinwsys_is_number=375&amp;ti...</td>\n",
       "    </tr>\n",
       "    <tr>\n",
       "      <th>29</th>\n",
       "      <td>TX0180045</td>\n",
       "      <td>USCOE STEELES CREEK PARK Fact  Sheet  Summary ...</td>\n",
       "      <td>NC</td>\n",
       "      <td>A</td>\n",
       "      <td>BOSQUE</td>\n",
       "      <td>GW</td>\n",
       "      <td>WaterSystemDetail.jsp?tinwsys_is_number=376&amp;ti...</td>\n",
       "    </tr>\n",
       "    <tr>\n",
       "      <th>30</th>\n",
       "      <td>TX0180051</td>\n",
       "      <td>CEDRON CREEK RANCH WATER SUPPLY Fact  Sheet  S...</td>\n",
       "      <td>C</td>\n",
       "      <td>A</td>\n",
       "      <td>BOSQUE</td>\n",
       "      <td>GW</td>\n",
       "      <td>WaterSystemDetail.jsp?tinwsys_is_number=377&amp;ti...</td>\n",
       "    </tr>\n",
       "    <tr>\n",
       "      <th>31</th>\n",
       "      <td>TX0180059</td>\n",
       "      <td>KOPPERL ISD Fact  Sheet  Summary Sheet</td>\n",
       "      <td>NTNC</td>\n",
       "      <td>A</td>\n",
       "      <td>BOSQUE</td>\n",
       "      <td>GW</td>\n",
       "      <td>WaterSystemDetail.jsp?tinwsys_is_number=378&amp;ti...</td>\n",
       "    </tr>\n",
       "    <tr>\n",
       "      <th>32</th>\n",
       "      <td>TX0180060</td>\n",
       "      <td>TPWD MERIDIAN STATE PARK Fact  Sheet  Summary ...</td>\n",
       "      <td>NP</td>\n",
       "      <td>I</td>\n",
       "      <td>BOSQUE</td>\n",
       "      <td>GWP</td>\n",
       "      <td>WaterSystemDetail.jsp?tinwsys_is_number=379&amp;ti...</td>\n",
       "    </tr>\n",
       "    <tr>\n",
       "      <th>33</th>\n",
       "      <td>TX0180069</td>\n",
       "      <td>TEXAS SAFARI INC Fact  Sheet  Summary Sheet</td>\n",
       "      <td>NP</td>\n",
       "      <td>I</td>\n",
       "      <td>BOSQUE</td>\n",
       "      <td>NaN</td>\n",
       "      <td>WaterSystemDetail.jsp?tinwsys_is_number=8628&amp;t...</td>\n",
       "    </tr>\n",
       "    <tr>\n",
       "      <th>34</th>\n",
       "      <td>TX0180071</td>\n",
       "      <td>HIGHLAND PARK WSC Fact  Sheet  Summary Sheet</td>\n",
       "      <td>C</td>\n",
       "      <td>A</td>\n",
       "      <td>BOSQUE</td>\n",
       "      <td>GW</td>\n",
       "      <td>WaterSystemDetail.jsp?tinwsys_is_number=380&amp;ti...</td>\n",
       "    </tr>\n",
       "    <tr>\n",
       "      <th>35</th>\n",
       "      <td>TX0180072</td>\n",
       "      <td>LAME DUCK WATER SYSTEM Fact  Sheet  Summary Sheet</td>\n",
       "      <td>C</td>\n",
       "      <td>A</td>\n",
       "      <td>BOSQUE</td>\n",
       "      <td>GW</td>\n",
       "      <td>WaterSystemDetail.jsp?tinwsys_is_number=381&amp;ti...</td>\n",
       "    </tr>\n",
       "    <tr>\n",
       "      <th>36</th>\n",
       "      <td>TX0180074</td>\n",
       "      <td>HIGHLANS WATER CO Fact  Sheet  Summary Sheet</td>\n",
       "      <td>NP</td>\n",
       "      <td>I</td>\n",
       "      <td>BOSQUE</td>\n",
       "      <td>NaN</td>\n",
       "      <td>WaterSystemDetail.jsp?tinwsys_is_number=8627&amp;t...</td>\n",
       "    </tr>\n",
       "    <tr>\n",
       "      <th>37</th>\n",
       "      <td>TX0180075</td>\n",
       "      <td>CITY OF IREDELL NORTH Fact  Sheet  Summary Sheet</td>\n",
       "      <td>NP</td>\n",
       "      <td>I</td>\n",
       "      <td>BOSQUE</td>\n",
       "      <td>NaN</td>\n",
       "      <td>WaterSystemDetail.jsp?tinwsys_is_number=7425&amp;t...</td>\n",
       "    </tr>\n",
       "    <tr>\n",
       "      <th>38</th>\n",
       "      <td>TX0180076</td>\n",
       "      <td>MAW SQUAWS CAFE Fact  Sheet  Summary Sheet</td>\n",
       "      <td>NP</td>\n",
       "      <td>I</td>\n",
       "      <td>BOSQUE</td>\n",
       "      <td>GW</td>\n",
       "      <td>WaterSystemDetail.jsp?tinwsys_is_number=8626&amp;t...</td>\n",
       "    </tr>\n",
       "    <tr>\n",
       "      <th>39</th>\n",
       "      <td>TX0180077</td>\n",
       "      <td>LAKESIDE VILLAGE RESORT CAFE MHP Fact  Sheet  ...</td>\n",
       "      <td>NP</td>\n",
       "      <td>I</td>\n",
       "      <td>BOSQUE</td>\n",
       "      <td>NaN</td>\n",
       "      <td>WaterSystemDetail.jsp?tinwsys_is_number=8625&amp;t...</td>\n",
       "    </tr>\n",
       "    <tr>\n",
       "      <th>40</th>\n",
       "      <td>TX0180078</td>\n",
       "      <td>PIZZA JUNCTION 3 Fact  Sheet  Summary Sheet</td>\n",
       "      <td>NP</td>\n",
       "      <td>I</td>\n",
       "      <td>BOSQUE</td>\n",
       "      <td>NaN</td>\n",
       "      <td>WaterSystemDetail.jsp?tinwsys_is_number=8624&amp;t...</td>\n",
       "    </tr>\n",
       "    <tr>\n",
       "      <th>41</th>\n",
       "      <td>TX0180079</td>\n",
       "      <td>TWO SISTERS PIZZA SHAK Fact  Sheet  Summary Sheet</td>\n",
       "      <td>NP</td>\n",
       "      <td>I</td>\n",
       "      <td>BOSQUE</td>\n",
       "      <td>NaN</td>\n",
       "      <td>WaterSystemDetail.jsp?tinwsys_is_number=8623&amp;t...</td>\n",
       "    </tr>\n",
       "    <tr>\n",
       "      <th>42</th>\n",
       "      <td>TX0180080</td>\n",
       "      <td>CAMP JOHN MARC Fact  Sheet  Summary Sheet</td>\n",
       "      <td>NC</td>\n",
       "      <td>A</td>\n",
       "      <td>BOSQUE</td>\n",
       "      <td>GW</td>\n",
       "      <td>WaterSystemDetail.jsp?tinwsys_is_number=382&amp;ti...</td>\n",
       "    </tr>\n",
       "    <tr>\n",
       "      <th>43</th>\n",
       "      <td>TX0180081</td>\n",
       "      <td>CRYSTAL CLEAR WHISPERING RIDGE Fact  Sheet  Su...</td>\n",
       "      <td>C</td>\n",
       "      <td>A</td>\n",
       "      <td>BOSQUE</td>\n",
       "      <td>GW</td>\n",
       "      <td>WaterSystemDetail.jsp?tinwsys_is_number=383&amp;ti...</td>\n",
       "    </tr>\n",
       "    <tr>\n",
       "      <th>44</th>\n",
       "      <td>TX0180082</td>\n",
       "      <td>CHINA SPRING RANCHES Fact  Sheet  Summary Sheet</td>\n",
       "      <td>C</td>\n",
       "      <td>A</td>\n",
       "      <td>BOSQUE</td>\n",
       "      <td>GW</td>\n",
       "      <td>WaterSystemDetail.jsp?tinwsys_is_number=11194&amp;...</td>\n",
       "    </tr>\n",
       "    <tr>\n",
       "      <th>45</th>\n",
       "      <td>TX0180083</td>\n",
       "      <td>LAKE WHITNEY RANCH CAMP Fact  Sheet  Summary S...</td>\n",
       "      <td>NC</td>\n",
       "      <td>A</td>\n",
       "      <td>BOSQUE</td>\n",
       "      <td>GW</td>\n",
       "      <td>WaterSystemDetail.jsp?tinwsys_is_number=12056&amp;...</td>\n",
       "    </tr>\n",
       "    <tr>\n",
       "      <th>46</th>\n",
       "      <td>TX0180084</td>\n",
       "      <td>BOSQUE SUMMIT ESTATES Fact  Sheet  Summary Sheet</td>\n",
       "      <td>NP</td>\n",
       "      <td>P</td>\n",
       "      <td>BOSQUE</td>\n",
       "      <td>NaN</td>\n",
       "      <td>WaterSystemDetail.jsp?tinwsys_is_number=12163&amp;...</td>\n",
       "    </tr>\n",
       "    <tr>\n",
       "      <th>47</th>\n",
       "      <td>TX0180085</td>\n",
       "      <td>BOSQUE POWER WATER SUPPLY Fact  Sheet  Summary...</td>\n",
       "      <td>NP</td>\n",
       "      <td>I</td>\n",
       "      <td>BOSQUE</td>\n",
       "      <td>NaN</td>\n",
       "      <td>WaterSystemDetail.jsp?tinwsys_is_number=12242&amp;...</td>\n",
       "    </tr>\n",
       "    <tr>\n",
       "      <th>48</th>\n",
       "      <td>TX0180086</td>\n",
       "      <td>BOSQUE RESORT WATER SUPPLY Fact  Sheet  Summar...</td>\n",
       "      <td>NP</td>\n",
       "      <td>P</td>\n",
       "      <td>BOSQUE</td>\n",
       "      <td>NaN</td>\n",
       "      <td>WaterSystemDetail.jsp?tinwsys_is_number=12478&amp;...</td>\n",
       "    </tr>\n",
       "  </tbody>\n",
       "</table>\n",
       "</div>"
      ],
      "text/plain": [
       "   Water System No.                                  Water System Name  Type  \\\n",
       "0         TX0180001         CITY OF CLIFTON Fact  Sheet  Summary Sheet     C   \n",
       "1         TX0180002        CITY OF MERIDIAN Fact  Sheet  Summary Sheet     C   \n",
       "2         TX0180003    CITY OF VALLEY MILLS Fact  Sheet  Summary Sheet     C   \n",
       "3         TX0180004  USCOE WALLING BEND PARK Fact  Sheet  Summary S...    NP   \n",
       "4         TX0180009  BOSQUE BRAZOS VALLEY WATER SYSTEM Fact  Sheet ...    NP   \n",
       "5         TX0180013   CITY OF CRANFILLS GAP Fact  Sheet  Summary Sheet     C   \n",
       "6         TX0180014         CITY OF IREDELL Fact  Sheet  Summary Sheet     C   \n",
       "7         TX0180015  ROCKY CREEK WATER SYSTEM Fact  Sheet  Summary ...     C   \n",
       "8         TX0180016  LAKESIDE WATER SUPPLY DISTRICT Fact  Sheet  Su...     C   \n",
       "9         TX0180018          CITY OF MORGAN Fact  Sheet  Summary Sheet     C   \n",
       "10        TX0180019             MOSHEIM WSC Fact  Sheet  Summary Sheet     C   \n",
       "11        TX0180020  CITY OF WALNUT SPRINGS Fact  Sheet  Summary Sheet     C   \n",
       "12        TX0180022          SMITH BEND WSC Fact  Sheet  Summary Sheet     C   \n",
       "13        TX0180025    LAKELINE ACRES WATER Fact  Sheet  Summary Sheet     C   \n",
       "14        TX0180026     CHILDRESS CREEK WSC Fact  Sheet  Summary Sheet     C   \n",
       "15        TX0180028     STEELE CREEK HARBOR Fact  Sheet  Summary Sheet     C   \n",
       "16        TX0180030        GLENSHORES WATER Fact  Sheet  Summary Sheet     C   \n",
       "17        TX0180031          KING CREEK WSC Fact  Sheet  Summary Sheet     C   \n",
       "18        TX0180032  CRYSTAL CLEAR WATER AIRPORT Fact  Sheet  Summa...     C   \n",
       "19        TX0180033  CEDAR SHORES WATER CORPORATION Fact  Sheet  Su...     C   \n",
       "20        TX0180034      CAMELOT ESTATES WS Fact  Sheet  Summary Sheet    NP   \n",
       "21        TX0180036  STEELE CREEK HARBOR WATER SYSTEM Fact  Sheet  ...    NP   \n",
       "22        TX0180037  INDIAN LODGE WATER SYSTEM Fact  Sheet  Summary...  NTNC   \n",
       "23        TX0180038      MUSTANG VALLEY WSC Fact  Sheet  Summary Sheet     C   \n",
       "24        TX0180039     CLIFF OAKS ADDITION Fact  Sheet  Summary Sheet    NP   \n",
       "25        TX0180040     COONEY CAVERN LODGE Fact  Sheet  Summary Sheet     C   \n",
       "26        TX0180041            SHULER POINT Fact  Sheet  Summary Sheet     C   \n",
       "27        TX0180042  USCOE KIMBALL BEND PARK Fact  Sheet  Summary S...    NC   \n",
       "28        TX0180043  USCOE PLOWMAN CREEK PARK Fact  Sheet  Summary ...    NC   \n",
       "29        TX0180045  USCOE STEELES CREEK PARK Fact  Sheet  Summary ...    NC   \n",
       "30        TX0180051  CEDRON CREEK RANCH WATER SUPPLY Fact  Sheet  S...     C   \n",
       "31        TX0180059             KOPPERL ISD Fact  Sheet  Summary Sheet  NTNC   \n",
       "32        TX0180060  TPWD MERIDIAN STATE PARK Fact  Sheet  Summary ...    NP   \n",
       "33        TX0180069        TEXAS SAFARI INC Fact  Sheet  Summary Sheet    NP   \n",
       "34        TX0180071       HIGHLAND PARK WSC Fact  Sheet  Summary Sheet     C   \n",
       "35        TX0180072  LAME DUCK WATER SYSTEM Fact  Sheet  Summary Sheet     C   \n",
       "36        TX0180074       HIGHLANS WATER CO Fact  Sheet  Summary Sheet    NP   \n",
       "37        TX0180075   CITY OF IREDELL NORTH Fact  Sheet  Summary Sheet    NP   \n",
       "38        TX0180076         MAW SQUAWS CAFE Fact  Sheet  Summary Sheet    NP   \n",
       "39        TX0180077  LAKESIDE VILLAGE RESORT CAFE MHP Fact  Sheet  ...    NP   \n",
       "40        TX0180078        PIZZA JUNCTION 3 Fact  Sheet  Summary Sheet    NP   \n",
       "41        TX0180079  TWO SISTERS PIZZA SHAK Fact  Sheet  Summary Sheet    NP   \n",
       "42        TX0180080          CAMP JOHN MARC Fact  Sheet  Summary Sheet    NC   \n",
       "43        TX0180081  CRYSTAL CLEAR WHISPERING RIDGE Fact  Sheet  Su...     C   \n",
       "44        TX0180082    CHINA SPRING RANCHES Fact  Sheet  Summary Sheet     C   \n",
       "45        TX0180083  LAKE WHITNEY RANCH CAMP Fact  Sheet  Summary S...    NC   \n",
       "46        TX0180084   BOSQUE SUMMIT ESTATES Fact  Sheet  Summary Sheet    NP   \n",
       "47        TX0180085  BOSQUE POWER WATER SUPPLY Fact  Sheet  Summary...    NP   \n",
       "48        TX0180086  BOSQUE RESORT WATER SUPPLY Fact  Sheet  Summar...    NP   \n",
       "\n",
       "   Status Pri. Cnty Served Pri. Src. Water Type  \\\n",
       "0       A           BOSQUE                   SW   \n",
       "1       A           BOSQUE                  SWP   \n",
       "2       A           BOSQUE                   GW   \n",
       "3       I           BOSQUE                  NaN   \n",
       "4       I           BOSQUE                  NaN   \n",
       "5       A           BOSQUE                   GW   \n",
       "6       A           BOSQUE                   GW   \n",
       "7       A           BOSQUE                   GW   \n",
       "8       A           BOSQUE                   GW   \n",
       "9       A           BOSQUE                   GW   \n",
       "10      A           BOSQUE                   GW   \n",
       "11      A           BOSQUE                   GW   \n",
       "12      A           BOSQUE                   GW   \n",
       "13      A           BOSQUE                   GW   \n",
       "14      A           BOSQUE                   GW   \n",
       "15      A           BOSQUE                   GW   \n",
       "16      A           BOSQUE                   GW   \n",
       "17      A           BOSQUE                   GW   \n",
       "18      A           BOSQUE                   GW   \n",
       "19      A           BOSQUE                   GW   \n",
       "20      I           BOSQUE                  NaN   \n",
       "21      I           BOSQUE                  NaN   \n",
       "22      A           BOSQUE                   GW   \n",
       "23      A           BOSQUE                   GW   \n",
       "24      I           BOSQUE                  NaN   \n",
       "25      A           BOSQUE                   GW   \n",
       "26      A           BOSQUE                   GW   \n",
       "27      A           BOSQUE                   GW   \n",
       "28      A           BOSQUE                   GW   \n",
       "29      A           BOSQUE                   GW   \n",
       "30      A           BOSQUE                   GW   \n",
       "31      A           BOSQUE                   GW   \n",
       "32      I           BOSQUE                  GWP   \n",
       "33      I           BOSQUE                  NaN   \n",
       "34      A           BOSQUE                   GW   \n",
       "35      A           BOSQUE                   GW   \n",
       "36      I           BOSQUE                  NaN   \n",
       "37      I           BOSQUE                  NaN   \n",
       "38      I           BOSQUE                   GW   \n",
       "39      I           BOSQUE                  NaN   \n",
       "40      I           BOSQUE                  NaN   \n",
       "41      I           BOSQUE                  NaN   \n",
       "42      A           BOSQUE                   GW   \n",
       "43      A           BOSQUE                   GW   \n",
       "44      A           BOSQUE                   GW   \n",
       "45      A           BOSQUE                   GW   \n",
       "46      P           BOSQUE                  NaN   \n",
       "47      I           BOSQUE                  NaN   \n",
       "48      P           BOSQUE                  NaN   \n",
       "\n",
       "                                                 Link  \n",
       "0   WaterSystemDetail.jsp?tinwsys_is_number=351&ti...  \n",
       "1   WaterSystemDetail.jsp?tinwsys_is_number=352&ti...  \n",
       "2   WaterSystemDetail.jsp?tinwsys_is_number=353&ti...  \n",
       "3   WaterSystemDetail.jsp?tinwsys_is_number=7216&t...  \n",
       "4   WaterSystemDetail.jsp?tinwsys_is_number=354&ti...  \n",
       "5   WaterSystemDetail.jsp?tinwsys_is_number=355&ti...  \n",
       "6   WaterSystemDetail.jsp?tinwsys_is_number=356&ti...  \n",
       "7   WaterSystemDetail.jsp?tinwsys_is_number=357&ti...  \n",
       "8   WaterSystemDetail.jsp?tinwsys_is_number=358&ti...  \n",
       "9   WaterSystemDetail.jsp?tinwsys_is_number=359&ti...  \n",
       "10  WaterSystemDetail.jsp?tinwsys_is_number=360&ti...  \n",
       "11  WaterSystemDetail.jsp?tinwsys_is_number=361&ti...  \n",
       "12  WaterSystemDetail.jsp?tinwsys_is_number=362&ti...  \n",
       "13  WaterSystemDetail.jsp?tinwsys_is_number=363&ti...  \n",
       "14  WaterSystemDetail.jsp?tinwsys_is_number=364&ti...  \n",
       "15  WaterSystemDetail.jsp?tinwsys_is_number=365&ti...  \n",
       "16  WaterSystemDetail.jsp?tinwsys_is_number=366&ti...  \n",
       "17  WaterSystemDetail.jsp?tinwsys_is_number=367&ti...  \n",
       "18  WaterSystemDetail.jsp?tinwsys_is_number=368&ti...  \n",
       "19  WaterSystemDetail.jsp?tinwsys_is_number=369&ti...  \n",
       "20  WaterSystemDetail.jsp?tinwsys_is_number=8631&t...  \n",
       "21  WaterSystemDetail.jsp?tinwsys_is_number=8630&t...  \n",
       "22  WaterSystemDetail.jsp?tinwsys_is_number=370&ti...  \n",
       "23  WaterSystemDetail.jsp?tinwsys_is_number=371&ti...  \n",
       "24  WaterSystemDetail.jsp?tinwsys_is_number=8629&t...  \n",
       "25  WaterSystemDetail.jsp?tinwsys_is_number=372&ti...  \n",
       "26  WaterSystemDetail.jsp?tinwsys_is_number=373&ti...  \n",
       "27  WaterSystemDetail.jsp?tinwsys_is_number=374&ti...  \n",
       "28  WaterSystemDetail.jsp?tinwsys_is_number=375&ti...  \n",
       "29  WaterSystemDetail.jsp?tinwsys_is_number=376&ti...  \n",
       "30  WaterSystemDetail.jsp?tinwsys_is_number=377&ti...  \n",
       "31  WaterSystemDetail.jsp?tinwsys_is_number=378&ti...  \n",
       "32  WaterSystemDetail.jsp?tinwsys_is_number=379&ti...  \n",
       "33  WaterSystemDetail.jsp?tinwsys_is_number=8628&t...  \n",
       "34  WaterSystemDetail.jsp?tinwsys_is_number=380&ti...  \n",
       "35  WaterSystemDetail.jsp?tinwsys_is_number=381&ti...  \n",
       "36  WaterSystemDetail.jsp?tinwsys_is_number=8627&t...  \n",
       "37  WaterSystemDetail.jsp?tinwsys_is_number=7425&t...  \n",
       "38  WaterSystemDetail.jsp?tinwsys_is_number=8626&t...  \n",
       "39  WaterSystemDetail.jsp?tinwsys_is_number=8625&t...  \n",
       "40  WaterSystemDetail.jsp?tinwsys_is_number=8624&t...  \n",
       "41  WaterSystemDetail.jsp?tinwsys_is_number=8623&t...  \n",
       "42  WaterSystemDetail.jsp?tinwsys_is_number=382&ti...  \n",
       "43  WaterSystemDetail.jsp?tinwsys_is_number=383&ti...  \n",
       "44  WaterSystemDetail.jsp?tinwsys_is_number=11194&...  \n",
       "45  WaterSystemDetail.jsp?tinwsys_is_number=12056&...  \n",
       "46  WaterSystemDetail.jsp?tinwsys_is_number=12163&...  \n",
       "47  WaterSystemDetail.jsp?tinwsys_is_number=12242&...  \n",
       "48  WaterSystemDetail.jsp?tinwsys_is_number=12478&...  "
      ]
     },
     "execution_count": 158,
     "metadata": {},
     "output_type": "execute_result"
    }
   ],
   "source": [
    "temptable"
   ]
  },
  {
   "cell_type": "code",
   "execution_count": null,
   "metadata": {
    "collapsed": true
   },
   "outputs": [],
   "source": []
  },
  {
   "cell_type": "code",
   "execution_count": null,
   "metadata": {
    "collapsed": true
   },
   "outputs": [],
   "source": [
    "tempdf = pd.read_html(str(table),header=0)[0]\n",
    "    linkvec = []\n",
    "    for i in range(0,len(tempdf.index)):\n",
    "        linkvec.append(ListlinkerHref[i].get_attribute('href'))\n",
    "    tempdf['Link'] = linkvec\n",
    "    tempdf['Year'] = year\n",
    "    if year == years[0]:\n",
    "        startdf = tempdf\n",
    "    if year != years[0]:\n",
    "        startdf = startdf.append(tempdf)\n",
    "linkdf = startdf\n",
    "linkdf.to_csv(path_or_buf = '../Input/ga.local.authority.reference.csv')"
   ]
  },
  {
   "cell_type": "code",
   "execution_count": 23,
   "metadata": {
    "collapsed": false
   },
   "outputs": [
    {
     "data": {
      "text/plain": [
       "[]"
      ]
     },
     "execution_count": 23,
     "metadata": {},
     "output_type": "execute_result"
    }
   ],
   "source": []
  },
  {
   "cell_type": "code",
   "execution_count": null,
   "metadata": {
    "collapsed": true
   },
   "outputs": [],
   "source": []
  },
  {
   "cell_type": "code",
   "execution_count": 21,
   "metadata": {
    "collapsed": false
   },
   "outputs": [
    {
     "ename": "AttributeError",
     "evalue": "'ResultSet' object has no attribute 'tbody'",
     "output_type": "error",
     "traceback": [
      "\u001b[0;31m---------------------------------------------------------------------------\u001b[0m",
      "\u001b[0;31mAttributeError\u001b[0m                            Traceback (most recent call last)",
      "\u001b[0;32m<ipython-input-21-a5bdbd74603c>\u001b[0m in \u001b[0;36m<module>\u001b[0;34m()\u001b[0m\n\u001b[0;32m----> 1\u001b[0;31m \u001b[0mtable\u001b[0m\u001b[0;34m.\u001b[0m\u001b[0mtbody\u001b[0m\u001b[0;34m\u001b[0m\u001b[0m\n\u001b[0m",
      "\u001b[0;31mAttributeError\u001b[0m: 'ResultSet' object has no attribute 'tbody'"
     ]
    }
   ],
   "source": []
  },
  {
   "cell_type": "code",
   "execution_count": null,
   "metadata": {
    "collapsed": true
   },
   "outputs": [],
   "source": [
    "br+ table td p"
   ]
  },
  {
   "cell_type": "code",
   "execution_count": null,
   "metadata": {
    "collapsed": true
   },
   "outputs": [],
   "source": []
  },
  {
   "cell_type": "code",
   "execution_count": null,
   "metadata": {
    "collapsed": true
   },
   "outputs": [],
   "source": [
    "years = range(2013,2017)\n",
    "\n",
    "tail = '&command=&auth_name=&county=&auth_type=&method=&dependency=&juris_type=&'\n",
    "\n",
    "for year in years:\n",
    "    yearquery = base+str(year)+tail\n",
    "    driver.get(yearquery)\n",
    "    html = driver.page_source\n",
    "    ListlinkerHref = driver.find_elements_by_css_selector('.tablenormal a')\n",
    "    soup = BeautifulSoup(html,\"html.parser\")\n",
    "    table = soup.findAll(\"table\", {\"class\":\"tablenormal\"})\n",
    "    tempdf = pd.read_html(str(table),header=0)[0]\n",
    "    linkvec = []\n",
    "    for i in range(0,len(tempdf.index)):\n",
    "        linkvec.append(ListlinkerHref[i].get_attribute('href'))\n",
    "    tempdf['Link'] = linkvec\n",
    "    tempdf['Year'] = year\n",
    "    if year == years[0]:\n",
    "        startdf = tempdf\n",
    "    if year != years[0]:\n",
    "        startdf = startdf.append(tempdf)\n",
    "linkdf = startdf\n",
    "linkdf.to_csv(path_or_buf = '../Input/ga.local.authority.reference.csv')"
   ]
  },
  {
   "cell_type": "code",
   "execution_count": null,
   "metadata": {
    "collapsed": true
   },
   "outputs": [],
   "source": []
  },
  {
   "cell_type": "code",
   "execution_count": 2,
   "metadata": {
    "collapsed": false
   },
   "outputs": [],
   "source": [
    "emptyfill = pd.DataFrame(columns=('Creation Date:', 'Method of Creation:', 'Official Citation:',\n",
    "           'Dependency:', 'Single or Multi Jurisdictional:', 'Members:',\n",
    "           'Contact:', 'Board'))\n",
    "import requests\n",
    "for link in linkdf['Link']:\n",
    "    f = requests.get(link,timeout=10)\n",
    "    orgsoup = BeautifulSoup(f.text,'html.parser')\n",
    "    tabletags = orgsoup.find_all('table', attrs={\"class\":\"tablenormal\"})\n",
    "    tdf = pd.read_html(str(tabletags[0]),index_col=0)\n",
    "    temp = tdf[0]\n",
    "    temp.loc['Contact:'] = temp.index[7]\n",
    "    temp = temp.reindex(temp.index.rename(['Org']))\n",
    "    temp.rename(columns={1: orgsoup.find('h3').text}, inplace=True)\n",
    "    temp = temp.ix[:-1]\n",
    "    filldat = temp.T\n",
    "    filldat['Board'] = tabletags[1].td.text\n",
    "    filldat['Link'] = link\n",
    "    filldat['Year'] = linkdf.loc[linkdf['Link'] == link]['Year'].values[0]\n",
    "    emptyfill = emptyfill.append(filldat)\n",
    "#emptyfill['Link'] = linkdf['Link']\n",
    "emptyfill.to_csv(path_or_buf = '../Input/ga.local.authority.detailed.database.csv')"
   ]
  },
  {
   "cell_type": "code",
   "execution_count": 5,
   "metadata": {
    "collapsed": true
   },
   "outputs": [],
   "source": [
    "emptyfill.to_csv(path_or_buf = '../Input/ga.local.authority.detailed.database.csv')"
   ]
  },
  {
   "cell_type": "code",
   "execution_count": null,
   "metadata": {
    "collapsed": true
   },
   "outputs": [],
   "source": []
  },
  {
   "cell_type": "code",
   "execution_count": null,
   "metadata": {
    "collapsed": true
   },
   "outputs": [],
   "source": []
  },
  {
   "cell_type": "code",
   "execution_count": null,
   "metadata": {
    "collapsed": true
   },
   "outputs": [],
   "source": []
  },
  {
   "cell_type": "code",
   "execution_count": null,
   "metadata": {
    "collapsed": true
   },
   "outputs": [],
   "source": [
    "### don't need anything below here"
   ]
  },
  {
   "cell_type": "markdown",
   "metadata": {
    "collapsed": false
   },
   "source": [
    "from selenium import webdriver\n",
    "from bs4 import BeautifulSoup\n",
    "import pandas as pd\n",
    "import html5lib as h5\n",
    "import bs4\n",
    "empty = pd.DataFrame(columns=('Creation Date:', 'Method of Creation:', 'Official Citation:',\n",
    "           'Dependency:', 'Single or Multi Jurisdictional:', 'Members:',\n",
    "           'Contact:', 'Board'))\n",
    "\n",
    "profile = webdriver.FirefoxProfile()\n",
    "profile.set_preference(\"general.useragent.override\",\"Mozilla/5.0 (Macintosh; Intel Mac OS X 10_10_2) AppleWebKit/537.36 (KHTML, like Gecko) Chrome/40.0.2214.111 Safari/537.36\")\n",
    "driver = webdriver.Firefox(profile)\n",
    "linklist = list()\n",
    "driver.get(\"http://www.dca.state.ga.us/development/research/programs/RASearch/RASearch.asp\")\n",
    "for reg in range(1,13):\n",
    "    region = driver.find_element_by_name(\"sdreg\")\n",
    "    region.send_keys(reg)\n",
    "    driver.find_element_by_name(\"submit2\").click()\n",
    "    ListlinkerHref = driver.find_elements_by_css_selector('.tablenormal a')\n",
    "    for link in ListlinkerHref:\n",
    "        linklist.append(link.get_attribute('href'))\n",
    "    driver.back()"
   ]
  },
  {
   "cell_type": "markdown",
   "metadata": {
    "collapsed": false
   },
   "source": [
    "emptyfill = pd.DataFrame(columns=('Creation Date:', 'Method of Creation:', 'Official Citation:',\n",
    "           'Dependency:', 'Single or Multi Jurisdictional:', 'Members:',\n",
    "           'Contact:', 'Board'))\n",
    "import requests\n",
    "for link in linklist:\n",
    "    f = requests.get(link)\n",
    "    orgsoup = BeautifulSoup(f.text,'html.parser')\n",
    "    tabletags = orgsoup.find_all('table', attrs={\"class\":\"tablenormal\"})\n",
    "    tdf = pd.read_html(str(tabletags[0]),index_col=0)\n",
    "    temp = tdf[0]\n",
    "    temp.loc['Contact:'] = temp.index[7]\n",
    "    temp = temp.reindex(temp.index.rename(['Org']))\n",
    "    temp.rename(columns={1: orgsoup.find('h3').text}, inplace=True)\n",
    "    temp = temp.ix[:-1]\n",
    "    filldat = temp.T\n",
    "    filldat['Board'] = tabletags[1].td.text\n",
    "    emptyfill = emptyfill.append(filldat)"
   ]
  },
  {
   "cell_type": "code",
   "execution_count": 554,
   "metadata": {
    "collapsed": true
   },
   "outputs": [],
   "source": [
    "#emptyfill.to_csv(path_or_buf = '../Input/ga.local.authority.detailed.database.2016.csv')"
   ]
  },
  {
   "cell_type": "code",
   "execution_count": null,
   "metadata": {
    "collapsed": true
   },
   "outputs": [],
   "source": []
  }
 ],
 "metadata": {
  "kernelspec": {
   "display_name": "Python 3",
   "language": "python",
   "name": "python3"
  },
  "language_info": {
   "codemirror_mode": {
    "name": "ipython",
    "version": 3
   },
   "file_extension": ".py",
   "mimetype": "text/x-python",
   "name": "python",
   "nbconvert_exporter": "python",
   "pygments_lexer": "ipython3",
   "version": "3.5.1"
  }
 },
 "nbformat": 4,
 "nbformat_minor": 0
}
