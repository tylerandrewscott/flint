{
 "cells": [
  {
   "cell_type": "code",
   "execution_count": 1,
   "metadata": {
    "collapsed": false
   },
   "outputs": [],
   "source": [
    "#This code scrapes dca site to create dataframe of local government authorities\n",
    "from selenium import webdriver\n",
    "from bs4 import BeautifulSoup\n",
    "import pandas as pd\n",
    "import html5lib as h5\n",
    "import bs4\n",
    "empty = pd.DataFrame()\n",
    "reglist = list(range(1, 13))\n",
    "\n",
    "profile = webdriver.FirefoxProfile()\n",
    "profile.set_preference(\"general.useragent.override\",\"Mozilla/5.0 (Macintosh; Intel Mac OS X 10_10_2) AppleWebKit/537.36 (KHTML, like Gecko) Chrome/40.0.2214.111 Safari/537.36\")\n",
    "driver = webdriver.Firefox(profile)\n",
    "\n",
    "\n",
    "base = 'http://www.dca.state.ga.us/development/research/programs/RASearch/RASearchResults.asp?SearchYear='\n",
    "\n",
    "years = range(2013,2017)\n",
    "\n",
    "tail = '&command=&auth_name=&county=&auth_type=&method=&dependency=&juris_type=&'\n",
    "\n",
    "for year in years:\n",
    "    yearquery = base+str(year)+tail\n",
    "    driver.get(yearquery)\n",
    "    html = driver.page_source\n",
    "    ListlinkerHref = driver.find_elements_by_css_selector('.tablenormal a')\n",
    "    soup = BeautifulSoup(html,\"html.parser\")\n",
    "    table = soup.findAll(\"table\", {\"class\":\"tablenormal\"})\n",
    "    tempdf = pd.read_html(str(table),header=0)[0]\n",
    "    linkvec = []\n",
    "    for i in range(0,len(tempdf.index)):\n",
    "        linkvec.append(ListlinkerHref[i].get_attribute('href'))\n",
    "    tempdf['Link'] = linkvec\n",
    "    tempdf['Year'] = year\n",
    "    if year == years[0]:\n",
    "        startdf = tempdf\n",
    "    if year != years[0]:\n",
    "        startdf = startdf.append(tempdf)\n",
    "linkdf = startdf\n",
    "linkdf.to_csv(path_or_buf = '../Input/ga.local.authority.reference.csv')"
   ]
  },
  {
   "cell_type": "code",
   "execution_count": 2,
   "metadata": {
    "collapsed": true
   },
   "outputs": [],
   "source": [
    "linkdf = pd.read_csv('../../Input/officials.data/ga.local.authority.reference.csv')"
   ]
  },
  {
   "cell_type": "code",
   "execution_count": 5,
   "metadata": {
    "collapsed": true
   },
   "outputs": [],
   "source": [
    "#This code scrapes dca site to create dataframe of local government authorities\n",
    "from selenium import webdriver\n",
    "from bs4 import BeautifulSoup\n",
    "import pandas as pd\n",
    "import html5lib as h5\n",
    "import bs4"
   ]
  },
  {
   "cell_type": "code",
   "execution_count": 121,
   "metadata": {
    "collapsed": false
   },
   "outputs": [
    {
     "data": {
      "text/plain": [
       "'http://www.dca.state.ga.us/development/research/programs/RASearch/RADetails.asp?SearchYear=2013&rID=17331&ssid=400104-0029&command=&auth_name=&county=&auth_type=&method=&dependency=&juris_type=&sdreg='"
      ]
     },
     "execution_count": 121,
     "metadata": {},
     "output_type": "execute_result"
    }
   ],
   "source": [
    "linkdf['Link'][10]"
   ]
  },
  {
   "cell_type": "code",
   "execution_count": null,
   "metadata": {
    "collapsed": true
   },
   "outputs": [],
   "source": []
  },
  {
   "cell_type": "code",
   "execution_count": null,
   "metadata": {
    "collapsed": true
   },
   "outputs": [],
   "source": []
  },
  {
   "cell_type": "code",
   "execution_count": 163,
   "metadata": {
    "collapsed": true
   },
   "outputs": [],
   "source": [
    "test = 'http://www.dca.state.ga.us/development/research/programs/RASearch/RADetails.asp?SearchYear=2013&rID=16961&ssid=400103-2952&command=&auth_name=&county=&auth_type=&method=&dependency=&juris_type=&sdreg='"
   ]
  },
  {
   "cell_type": "code",
   "execution_count": null,
   "metadata": {
    "collapsed": true
   },
   "outputs": [],
   "source": []
  },
  {
   "cell_type": "code",
   "execution_count": 165,
   "metadata": {
    "collapsed": false
   },
   "outputs": [
    {
     "data": {
      "text/html": [
       "<div>\n",
       "<table border=\"1\" class=\"dataframe\">\n",
       "  <thead>\n",
       "    <tr style=\"text-align: right;\">\n",
       "      <th></th>\n",
       "      <th>Unnamed: 0</th>\n",
       "      <th>Authority Name</th>\n",
       "      <th>Type</th>\n",
       "      <th>Method of Creation</th>\n",
       "      <th>Dependency</th>\n",
       "      <th>Single- or Multi-Jurisdictional</th>\n",
       "      <th>Link</th>\n",
       "      <th>Year</th>\n",
       "    </tr>\n",
       "  </thead>\n",
       "  <tbody>\n",
       "    <tr>\n",
       "      <th>200</th>\n",
       "      <td>200</td>\n",
       "      <td>Development Authority of Alpharetta</td>\n",
       "      <td>3</td>\n",
       "      <td>General Statute</td>\n",
       "      <td>Dependent</td>\n",
       "      <td>Single-Jurisdictional</td>\n",
       "      <td>http://www.dca.state.ga.us/development/researc...</td>\n",
       "      <td>2013</td>\n",
       "    </tr>\n",
       "  </tbody>\n",
       "</table>\n",
       "</div>"
      ],
      "text/plain": [
       "     Unnamed: 0                       Authority Name  Type Method of Creation  \\\n",
       "200         200  Development Authority of Alpharetta     3    General Statute   \n",
       "\n",
       "    Dependency Single- or Multi-Jurisdictional  \\\n",
       "200  Dependent           Single-Jurisdictional   \n",
       "\n",
       "                                                  Link  Year  \n",
       "200  http://www.dca.state.ga.us/development/researc...  2013  "
      ]
     },
     "execution_count": 165,
     "metadata": {},
     "output_type": "execute_result"
    }
   ],
   "source": [
    "linkdf[linkdf['Link'] == test]"
   ]
  },
  {
   "cell_type": "code",
   "execution_count": null,
   "metadata": {
    "collapsed": true
   },
   "outputs": [],
   "source": []
  },
  {
   "cell_type": "code",
   "execution_count": null,
   "metadata": {
    "collapsed": true
   },
   "outputs": [],
   "source": []
  },
  {
   "cell_type": "code",
   "execution_count": null,
   "metadata": {
    "collapsed": true
   },
   "outputs": [],
   "source": []
  },
  {
   "cell_type": "code",
   "execution_count": 168,
   "metadata": {
    "collapsed": false
   },
   "outputs": [
    {
     "data": {
      "text/plain": [
       "[]"
      ]
     },
     "execution_count": 168,
     "metadata": {},
     "output_type": "execute_result"
    }
   ],
   "source": []
  },
  {
   "cell_type": "code",
   "execution_count": null,
   "metadata": {
    "collapsed": true
   },
   "outputs": [],
   "source": []
  },
  {
   "cell_type": "code",
   "execution_count": 171,
   "metadata": {
    "collapsed": false
   },
   "outputs": [
    {
     "data": {
      "text/html": [
       "<div>\n",
       "<table border=\"1\" class=\"dataframe\">\n",
       "  <thead>\n",
       "    <tr style=\"text-align: right;\">\n",
       "      <th>[Org]</th>\n",
       "      <th>Creation Date:</th>\n",
       "      <th>Method of Creation:</th>\n",
       "      <th>Official Citation:</th>\n",
       "      <th>Dependency:</th>\n",
       "      <th>Single or Multi Jurisdictional:</th>\n",
       "      <th>Members:</th>\n",
       "      <th>Contact:</th>\n",
       "      <th>Board</th>\n",
       "      <th>Link</th>\n",
       "      <th>Box</th>\n",
       "    </tr>\n",
       "  </thead>\n",
       "  <tbody>\n",
       "    <tr>\n",
       "      <th>Development Authority for the City of Savannah</th>\n",
       "      <td>7/23/1981</td>\n",
       "      <td>General Statute</td>\n",
       "      <td>O. C. G. A. 36-62-1</td>\n",
       "      <td>Dependent</td>\n",
       "      <td>Single-Jurisdictional</td>\n",
       "      <td>City of Savannah</td>\n",
       "      <td>Richard M. Evans, Secretary  Post Office Box 1...</td>\n",
       "      <td>Mayor Otis S. Johnson, Mike Skinner, Aaron Le...</td>\n",
       "      <td>http://www.dca.state.ga.us/development/researc...</td>\n",
       "      <td>Box 1027</td>\n",
       "    </tr>\n",
       "  </tbody>\n",
       "</table>\n",
       "</div>"
      ],
      "text/plain": [
       "['Org']                                        Creation Date:  \\\n",
       "Development Authority for the City of Savannah      7/23/1981   \n",
       "\n",
       "['Org']                                        Method of Creation:  \\\n",
       "Development Authority for the City of Savannah     General Statute   \n",
       "\n",
       "['Org']                                          Official Citation:  \\\n",
       "Development Authority for the City of Savannah  O. C. G. A. 36-62-1   \n",
       "\n",
       "['Org']                                        Dependency:  \\\n",
       "Development Authority for the City of Savannah   Dependent   \n",
       "\n",
       "['Org']                                        Single or Multi Jurisdictional:  \\\n",
       "Development Authority for the City of Savannah           Single-Jurisdictional   \n",
       "\n",
       "['Org']                                                 Members:  \\\n",
       "Development Authority for the City of Savannah  City of Savannah   \n",
       "\n",
       "['Org']                                                                                  Contact:  \\\n",
       "Development Authority for the City of Savannah  Richard M. Evans, Secretary  Post Office Box 1...   \n",
       "\n",
       "['Org']                                                                                     Board  \\\n",
       "Development Authority for the City of Savannah   Mayor Otis S. Johnson, Mike Skinner, Aaron Le...   \n",
       "\n",
       "['Org']                                                                                      Link  \\\n",
       "Development Authority for the City of Savannah  http://www.dca.state.ga.us/development/researc...   \n",
       "\n",
       "['Org']                                              Box  \n",
       "Development Authority for the City of Savannah  Box 1027  "
      ]
     },
     "execution_count": 171,
     "metadata": {},
     "output_type": "execute_result"
    }
   ],
   "source": [
    "filldat"
   ]
  },
  {
   "cell_type": "code",
   "execution_count": 174,
   "metadata": {
    "collapsed": false
   },
   "outputs": [
    {
     "data": {
      "text/plain": [
       "[]"
      ]
     },
     "execution_count": 174,
     "metadata": {},
     "output_type": "execute_result"
    }
   ],
   "source": [
    "re.findall('Box [0-9]+',str(tabletags))"
   ]
  },
  {
   "cell_type": "code",
   "execution_count": null,
   "metadata": {
    "collapsed": true
   },
   "outputs": [],
   "source": []
  },
  {
   "cell_type": "code",
   "execution_count": 179,
   "metadata": {
    "collapsed": false
   },
   "outputs": [
    {
     "data": {
      "text/plain": [
       "[]"
      ]
     },
     "execution_count": 179,
     "metadata": {},
     "output_type": "execute_result"
    }
   ],
   "source": [
    "streetnum"
   ]
  },
  {
   "cell_type": "code",
   "execution_count": null,
   "metadata": {
    "collapsed": true
   },
   "outputs": [],
   "source": []
  },
  {
   "cell_type": "code",
   "execution_count": null,
   "metadata": {
    "collapsed": true
   },
   "outputs": [],
   "source": []
  },
  {
   "cell_type": "code",
   "execution_count": 184,
   "metadata": {
    "collapsed": false
   },
   "outputs": [
    {
     "data": {
      "text/plain": [
       "'Alpharetta'"
      ]
     },
     "execution_count": 184,
     "metadata": {},
     "output_type": "execute_result"
    }
   ],
   "source": [
    "re.findall('([A-Za-z]+), Georgia',str(tabletags))[0]"
   ]
  },
  {
   "cell_type": "code",
   "execution_count": null,
   "metadata": {
    "collapsed": true
   },
   "outputs": [],
   "source": []
  },
  {
   "cell_type": "code",
   "execution_count": null,
   "metadata": {
    "collapsed": true
   },
   "outputs": [],
   "source": []
  },
  {
   "cell_type": "code",
   "execution_count": null,
   "metadata": {
    "collapsed": false
   },
   "outputs": [
    {
     "name": "stdout",
     "output_type": "stream",
     "text": [
      "http://www.dca.state.ga.us/development/research/programs/RASearch/RADetails.asp?SearchYear=2013&rID=17382&ssid=400106-0045&command=&auth_name=&county=&auth_type=&method=&dependency=&juris_type=&sdreg=\n",
      "http://www.dca.state.ga.us/development/research/programs/RASearch/RADetails.asp?SearchYear=2013&rID=18025&ssid=400119-2960&command=&auth_name=&county=&auth_type=&method=&dependency=&juris_type=&sdreg=\n",
      "http://www.dca.state.ga.us/development/research/programs/RASearch/RADetails.asp?SearchYear=2013&rID=18024&ssid=400104-0458&command=&auth_name=&county=&auth_type=&method=&dependency=&juris_type=&sdreg=\n",
      "http://www.dca.state.ga.us/development/research/programs/RASearch/RADetails.asp?SearchYear=2013&rID=17938&ssid=400112-0459&command=&auth_name=&county=&auth_type=&method=&dependency=&juris_type=&sdreg=\n",
      "http://www.dca.state.ga.us/development/research/programs/RASearch/RADetails.asp?SearchYear=2013&rID=17504&ssid=400107-0204&command=&auth_name=&county=&auth_type=&method=&dependency=&juris_type=&sdreg=\n",
      "http://www.dca.state.ga.us/development/research/programs/RASearch/RADetails.asp?SearchYear=2013&rID=17760&ssid=40017-628&command=&auth_name=&county=&auth_type=&method=&dependency=&juris_type=&sdreg=\n",
      "http://www.dca.state.ga.us/development/research/programs/RASearch/RADetails.asp?SearchYear=2013&rID=17761&ssid=41009-1913530&command=&auth_name=&county=&auth_type=&method=&dependency=&juris_type=&sdreg=\n",
      "http://www.dca.state.ga.us/development/research/programs/RASearch/RADetails.asp?SearchYear=2013&rID=17848&ssid=400107-0255&command=&auth_name=&county=&auth_type=&method=&dependency=&juris_type=&sdreg=\n",
      "http://www.dca.state.ga.us/development/research/programs/RASearch/RADetails.asp?SearchYear=2013&rID=17049&ssid=400104-0427&command=&auth_name=&county=&auth_type=&method=&dependency=&juris_type=&sdreg=\n",
      "http://www.dca.state.ga.us/development/research/programs/RASearch/RADetails.asp?SearchYear=2013&rID=17389&ssid=407918-860&command=&auth_name=&county=&auth_type=&method=&dependency=&juris_type=&sdreg=\n",
      "http://www.dca.state.ga.us/development/research/programs/RASearch/RADetails.asp?SearchYear=2013&rID=17331&ssid=400104-0029&command=&auth_name=&county=&auth_type=&method=&dependency=&juris_type=&sdreg=\n",
      "http://www.dca.state.ga.us/development/research/programs/RASearch/RADetails.asp?SearchYear=2013&rID=17891&ssid=400105-0124&command=&auth_name=&county=&auth_type=&method=&dependency=&juris_type=&sdreg=\n",
      "http://www.dca.state.ga.us/development/research/programs/RASearch/RADetails.asp?SearchYear=2013&rID=17338&ssid=400119-1025&command=&auth_name=&county=&auth_type=&method=&dependency=&juris_type=&sdreg=\n",
      "http://www.dca.state.ga.us/development/research/programs/RASearch/RADetails.asp?SearchYear=2013&rID=17041&ssid=400103-0188&command=&auth_name=&county=&auth_type=&method=&dependency=&juris_type=&sdreg=\n",
      "http://www.dca.state.ga.us/development/research/programs/RASearch/RADetails.asp?SearchYear=2013&rID=17091&ssid=404007-1826&command=&auth_name=&county=&auth_type=&method=&dependency=&juris_type=&sdreg=\n",
      "http://www.dca.state.ga.us/development/research/programs/RASearch/RADetails.asp?SearchYear=2013&rID=17411&ssid=400406-0280&command=&auth_name=&county=&auth_type=&method=&dependency=&juris_type=&sdreg=\n",
      "http://www.dca.state.ga.us/development/research/programs/RASearch/RADetails.asp?SearchYear=2013&rID=17029&ssid=402904-0717&command=&auth_name=&county=&auth_type=&method=&dependency=&juris_type=&sdreg=\n",
      "http://www.dca.state.ga.us/development/research/programs/RASearch/RADetails.asp?SearchYear=2013&rID=17067&ssid=402903-0381&command=&auth_name=&county=&auth_type=&method=&dependency=&juris_type=&sdreg=\n",
      "http://www.dca.state.ga.us/development/research/programs/RASearch/RADetails.asp?SearchYear=2013&rID=17629&ssid=41006-2213540&command=&auth_name=&county=&auth_type=&method=&dependency=&juris_type=&sdreg=\n",
      "http://www.dca.state.ga.us/development/research/programs/RASearch/RADetails.asp?SearchYear=2013&rID=17630&ssid=402902-0675&command=&auth_name=&county=&auth_type=&method=&dependency=&juris_type=&sdreg=\n",
      "http://www.dca.state.ga.us/development/research/programs/RASearch/RADetails.asp?SearchYear=2013&rID=17159&ssid=403408-0531&command=&auth_name=&county=&auth_type=&method=&dependency=&juris_type=&sdreg=\n",
      "http://www.dca.state.ga.us/development/research/programs/RASearch/RADetails.asp?SearchYear=2013&rID=17961&ssid=406019-8869&command=&auth_name=&county=&auth_type=&method=&dependency=&juris_type=&sdreg=\n",
      "http://www.dca.state.ga.us/development/research/programs/RASearch/RADetails.asp?SearchYear=2013&rID=17680&ssid=41006-2113550&command=&auth_name=&county=&auth_type=&method=&dependency=&juris_type=&sdreg=\n",
      "http://www.dca.state.ga.us/development/research/programs/RASearch/RADetails.asp?SearchYear=2013&rID=17734&ssid=40910-0445&command=&auth_name=&county=&auth_type=&method=&dependency=&juris_type=&sdreg=\n",
      "http://www.dca.state.ga.us/development/research/programs/RASearch/RADetails.asp?SearchYear=2013&rID=17473&ssid=400119-0283&command=&auth_name=&county=&auth_type=&method=&dependency=&juris_type=&sdreg=\n",
      "http://www.dca.state.ga.us/development/research/programs/RASearch/RADetails.asp?SearchYear=2013&rID=17257&ssid=412122-3702&command=&auth_name=&county=&auth_type=&method=&dependency=&juris_type=&sdreg=\n",
      "http://www.dca.state.ga.us/development/research/programs/RASearch/RADetails.asp?SearchYear=2013&rID=17367&ssid=412116-4751&command=&auth_name=&county=&auth_type=&method=&dependency=&juris_type=&sdreg=\n",
      "http://www.dca.state.ga.us/development/research/programs/RASearch/RADetails.asp?SearchYear=2013&rID=17281&ssid=400307-1667&command=&auth_name=&county=&auth_type=&method=&dependency=&juris_type=&sdreg=\n",
      "http://www.dca.state.ga.us/development/research/programs/RASearch/RADetails.asp?SearchYear=2013&rID=17094&ssid=400307-1678&command=&auth_name=&county=&auth_type=&method=&dependency=&juris_type=&sdreg=\n",
      "http://www.dca.state.ga.us/development/research/programs/RASearch/RADetails.asp?SearchYear=2013&rID=17748&ssid=400505-822&command=&auth_name=&county=&auth_type=&method=&dependency=&juris_type=&sdreg=\n",
      "http://www.dca.state.ga.us/development/research/programs/RASearch/RADetails.asp?SearchYear=2013&rID=17745&ssid=400602-4705&command=&auth_name=&county=&auth_type=&method=&dependency=&juris_type=&sdreg=\n",
      "http://www.dca.state.ga.us/development/research/programs/RASearch/RADetails.asp?SearchYear=2013&rID=17209&ssid=400206-0108&command=&auth_name=&county=&auth_type=&method=&dependency=&juris_type=&sdreg=\n",
      "http://www.dca.state.ga.us/development/research/programs/RASearch/RADetails.asp?SearchYear=2013&rID=17555&ssid=400207-0089&command=&auth_name=&county=&auth_type=&method=&dependency=&juris_type=&sdreg=\n",
      "http://www.dca.state.ga.us/development/research/programs/RASearch/RADetails.asp?SearchYear=2013&rID=17313&ssid=400701-0158&command=&auth_name=&county=&auth_type=&method=&dependency=&juris_type=&sdreg=\n",
      "http://www.dca.state.ga.us/development/research/programs/RASearch/RADetails.asp?SearchYear=2013&rID=17968&ssid=400718-1654&command=&auth_name=&county=&auth_type=&method=&dependency=&juris_type=&sdreg=\n",
      "http://www.dca.state.ga.us/development/research/programs/RASearch/RADetails.asp?SearchYear=2013&rID=17738&ssid=400808-4781&command=&auth_name=&county=&auth_type=&method=&dependency=&juris_type=&sdreg=\n",
      "http://www.dca.state.ga.us/development/research/programs/RASearch/RADetails.asp?SearchYear=2013&rID=17801&ssid=41312-08466&command=&auth_name=&county=&auth_type=&method=&dependency=&juris_type=&sdreg=\n",
      "http://www.dca.state.ga.us/development/research/programs/RASearch/RADetails.asp?SearchYear=2013&rID=18045&ssid=400903-2866&command=&auth_name=&county=&auth_type=&method=&dependency=&juris_type=&sdreg=\n",
      "http://www.dca.state.ga.us/development/research/programs/RASearch/RADetails.asp?SearchYear=2013&rID=17185&ssid=401001-2832&command=&auth_name=&county=&auth_type=&method=&dependency=&juris_type=&sdreg=\n",
      "http://www.dca.state.ga.us/development/research/programs/RASearch/RADetails.asp?SearchYear=2013&rID=17187&ssid=401003-0725&command=&auth_name=&county=&auth_type=&method=&dependency=&juris_type=&sdreg=\n",
      "http://www.dca.state.ga.us/development/research/programs/RASearch/RADetails.asp?SearchYear=2013&rID=16986&ssid=201&command=&auth_name=&county=&auth_type=&method=&dependency=&juris_type=&sdreg=\n",
      "http://www.dca.state.ga.us/development/research/programs/RASearch/RADetails.asp?SearchYear=2013&rID=17927&ssid=40906-0249&command=&auth_name=&county=&auth_type=&method=&dependency=&juris_type=&sdreg=\n",
      "http://www.dca.state.ga.us/development/research/programs/RASearch/RADetails.asp?SearchYear=2013&rID=17777&ssid=401203-8792&command=&auth_name=&county=&auth_type=&method=&dependency=&juris_type=&sdreg=\n",
      "http://www.dca.state.ga.us/development/research/programs/RASearch/RADetails.asp?SearchYear=2013&rID=17737&ssid=401207-3060&command=&auth_name=&county=&auth_type=&method=&dependency=&juris_type=&sdreg=\n",
      "http://www.dca.state.ga.us/development/research/programs/RASearch/RADetails.asp?SearchYear=2013&rID=18073&ssid=400204-3052&command=&auth_name=&county=&auth_type=&method=&dependency=&juris_type=&sdreg=\n",
      "http://www.dca.state.ga.us/development/research/programs/RASearch/RADetails.asp?SearchYear=2013&rID=17851&ssid=402205-3693&command=&auth_name=&county=&auth_type=&method=&dependency=&juris_type=&sdreg=\n",
      "http://www.dca.state.ga.us/development/research/programs/RASearch/RADetails.asp?SearchYear=2013&rID=17978&ssid=400106-0596&command=&auth_name=&county=&auth_type=&method=&dependency=&juris_type=&sdreg=\n",
      "http://www.dca.state.ga.us/development/research/programs/RASearch/RADetails.asp?SearchYear=2013&rID=17176&ssid=41101-0113570&command=&auth_name=&county=&auth_type=&method=&dependency=&juris_type=&sdreg=\n",
      "http://www.dca.state.ga.us/development/research/programs/RASearch/RADetails.asp?SearchYear=2013&rID=17220&ssid=401307-0291&command=&auth_name=&county=&auth_type=&method=&dependency=&juris_type=&sdreg=\n",
      "http://www.dca.state.ga.us/development/research/programs/RASearch/RADetails.asp?SearchYear=2013&rID=16979&ssid=41006-0413519&command=&auth_name=&county=&auth_type=&method=&dependency=&juris_type=&sdreg=\n",
      "http://www.dca.state.ga.us/development/research/programs/RASearch/RADetails.asp?SearchYear=2013&rID=16978&ssid=400719-10924&command=&auth_name=&county=&auth_type=&method=&dependency=&juris_type=&sdreg=\n",
      "http://www.dca.state.ga.us/development/research/programs/RASearch/RADetails.asp?SearchYear=2013&rID=17977&ssid=400106-0598&command=&auth_name=&county=&auth_type=&method=&dependency=&juris_type=&sdreg=\n",
      "http://www.dca.state.ga.us/development/research/programs/RASearch/RADetails.asp?SearchYear=2013&rID=17383&ssid=401403-0757&command=&auth_name=&county=&auth_type=&method=&dependency=&juris_type=&sdreg=\n",
      "http://www.dca.state.ga.us/development/research/programs/RASearch/RADetails.asp?SearchYear=2013&rID=17123&ssid=400107-0876&command=&auth_name=&county=&auth_type=&method=&dependency=&juris_type=&sdreg=\n",
      "http://www.dca.state.ga.us/development/research/programs/RASearch/RADetails.asp?SearchYear=2013&rID=17097&ssid=40906-1851&command=&auth_name=&county=&auth_type=&method=&dependency=&juris_type=&sdreg=\n",
      "http://www.dca.state.ga.us/development/research/programs/RASearch/RADetails.asp?SearchYear=2013&rID=17804&ssid=406002-0460&command=&auth_name=&county=&auth_type=&method=&dependency=&juris_type=&sdreg=\n",
      "http://www.dca.state.ga.us/development/research/programs/RASearch/RADetails.asp?SearchYear=2013&rID=17766&ssid=401703-0132&command=&auth_name=&county=&auth_type=&method=&dependency=&juris_type=&sdreg=\n",
      "http://www.dca.state.ga.us/development/research/programs/RASearch/RADetails.asp?SearchYear=2013&rID=17237&ssid=401805-0898&command=&auth_name=&county=&auth_type=&method=&dependency=&juris_type=&sdreg=\n",
      "http://www.dca.state.ga.us/development/research/programs/RASearch/RADetails.asp?SearchYear=2013&rID=17023&ssid=400218-0395&command=&auth_name=&county=&auth_type=&method=&dependency=&juris_type=&sdreg=\n",
      "http://www.dca.state.ga.us/development/research/programs/RASearch/RADetails.asp?SearchYear=2013&rID=16962&ssid=412608-0515&command=&auth_name=&county=&auth_type=&method=&dependency=&juris_type=&sdreg=\n",
      "http://www.dca.state.ga.us/development/research/programs/RASearch/RADetails.asp?SearchYear=2013&rID=17710&ssid=40013-57&command=&auth_name=&county=&auth_type=&method=&dependency=&juris_type=&sdreg=\n",
      "http://www.dca.state.ga.us/development/research/programs/RASearch/RADetails.asp?SearchYear=2013&rID=18104&ssid=41312-19409&command=&auth_name=&county=&auth_type=&method=&dependency=&juris_type=&sdreg=\n",
      "http://www.dca.state.ga.us/development/research/programs/RASearch/RADetails.asp?SearchYear=2013&rID=17711&ssid=400104-0099&command=&auth_name=&county=&auth_type=&method=&dependency=&juris_type=&sdreg=\n",
      "http://www.dca.state.ga.us/development/research/programs/RASearch/RADetails.asp?SearchYear=2013&rID=17709&ssid=40013-59&command=&auth_name=&county=&auth_type=&method=&dependency=&juris_type=&sdreg=\n",
      "http://www.dca.state.ga.us/development/research/programs/RASearch/RADetails.asp?SearchYear=2013&rID=17478&ssid=400104-1023&command=&auth_name=&county=&auth_type=&method=&dependency=&juris_type=&sdreg=\n",
      "http://www.dca.state.ga.us/development/research/programs/RASearch/RADetails.asp?SearchYear=2013&rID=17488&ssid=400112-0494&command=&auth_name=&county=&auth_type=&method=&dependency=&juris_type=&sdreg=\n",
      "http://www.dca.state.ga.us/development/research/programs/RASearch/RADetails.asp?SearchYear=2013&rID=17783&ssid=400101-0447&command=&auth_name=&county=&auth_type=&method=&dependency=&juris_type=&sdreg=\n",
      "http://www.dca.state.ga.us/development/research/programs/RASearch/RADetails.asp?SearchYear=2013&rID=17177&ssid=402008-0931&command=&auth_name=&county=&auth_type=&method=&dependency=&juris_type=&sdreg=\n",
      "http://www.dca.state.ga.us/development/research/programs/RASearch/RADetails.asp?SearchYear=2013&rID=17756&ssid=402010-0541&command=&auth_name=&county=&auth_type=&method=&dependency=&juris_type=&sdreg=\n",
      "http://www.dca.state.ga.us/development/research/programs/RASearch/RADetails.asp?SearchYear=2013&rID=17379&ssid=417-1812&command=&auth_name=&county=&auth_type=&method=&dependency=&juris_type=&sdreg=\n",
      "http://www.dca.state.ga.us/development/research/programs/RASearch/RADetails.asp?SearchYear=2013&rID=17532&ssid=402107-0679&command=&auth_name=&county=&auth_type=&method=&dependency=&juris_type=&sdreg=\n",
      "http://www.dca.state.ga.us/development/research/programs/RASearch/RADetails.asp?SearchYear=2013&rID=17947&ssid=402802-4740&command=&auth_name=&county=&auth_type=&method=&dependency=&juris_type=&sdreg=\n",
      "http://www.dca.state.ga.us/development/research/programs/RASearch/RADetails.asp?SearchYear=2013&rID=17787&ssid=402803-1679&command=&auth_name=&county=&auth_type=&method=&dependency=&juris_type=&sdreg=\n",
      "http://www.dca.state.ga.us/development/research/programs/RASearch/RADetails.asp?SearchYear=2013&rID=17408&ssid=402218-0205&command=&auth_name=&county=&auth_type=&method=&dependency=&juris_type=&sdreg=\n",
      "http://www.dca.state.ga.us/development/research/programs/RASearch/RADetails.asp?SearchYear=2013&rID=17915&ssid=400207-0478&command=&auth_name=&county=&auth_type=&method=&dependency=&juris_type=&sdreg=\n",
      "http://www.dca.state.ga.us/development/research/programs/RASearch/RADetails.asp?SearchYear=2013&rID=17917&ssid=400204-0479&command=&auth_name=&county=&auth_type=&method=&dependency=&juris_type=&sdreg=\n",
      "http://www.dca.state.ga.us/development/research/programs/RASearch/RADetails.asp?SearchYear=2013&rID=17723&ssid=400802-3755&command=&auth_name=&county=&auth_type=&method=&dependency=&juris_type=&sdreg=\n",
      "http://www.dca.state.ga.us/development/research/programs/RASearch/RADetails.asp?SearchYear=2013&rID=17722&ssid=400203-0543&command=&auth_name=&county=&auth_type=&method=&dependency=&juris_type=&sdreg=\n",
      "http://www.dca.state.ga.us/development/research/programs/RASearch/RADetails.asp?SearchYear=2013&rID=17587&ssid=400204-0147&command=&auth_name=&county=&auth_type=&method=&dependency=&juris_type=&sdreg=\n",
      "http://www.dca.state.ga.us/development/research/programs/RASearch/RADetails.asp?SearchYear=2013&rID=17513&ssid=400201-0545&command=&auth_name=&county=&auth_type=&method=&dependency=&juris_type=&sdreg=\n",
      "http://www.dca.state.ga.us/development/research/programs/RASearch/RADetails.asp?SearchYear=2013&rID=17818&ssid=402303-2178&command=&auth_name=&county=&auth_type=&method=&dependency=&juris_type=&sdreg=\n",
      "http://www.dca.state.ga.us/development/research/programs/RASearch/RADetails.asp?SearchYear=2013&rID=17221&ssid=410-2013539&command=&auth_name=&county=&auth_type=&method=&dependency=&juris_type=&sdreg=\n",
      "http://www.dca.state.ga.us/development/research/programs/RASearch/RADetails.asp?SearchYear=2013&rID=17149&ssid=411503-839&command=&auth_name=&county=&auth_type=&method=&dependency=&juris_type=&sdreg=\n",
      "http://www.dca.state.ga.us/development/research/programs/RASearch/RADetails.asp?SearchYear=2013&rID=17157&ssid=4115-1673&command=&auth_name=&county=&auth_type=&method=&dependency=&juris_type=&sdreg=\n",
      "http://www.dca.state.ga.us/development/research/programs/RASearch/RADetails.asp?SearchYear=2013&rID=17552&ssid=411505-1661&command=&auth_name=&county=&auth_type=&method=&dependency=&juris_type=&sdreg=\n",
      "http://www.dca.state.ga.us/development/research/programs/RASearch/RADetails.asp?SearchYear=2013&rID=17292&ssid=401108-0473&command=&auth_name=&county=&auth_type=&method=&dependency=&juris_type=&sdreg=\n",
      "http://www.dca.state.ga.us/development/research/programs/RASearch/RADetails.asp?SearchYear=2013&rID=17007&ssid=400108-0105&command=&auth_name=&county=&auth_type=&method=&dependency=&juris_type=&sdreg=\n",
      "http://www.dca.state.ga.us/development/research/programs/RASearch/RADetails.asp?SearchYear=2013&rID=17905&ssid=400404-0710&command=&auth_name=&county=&auth_type=&method=&dependency=&juris_type=&sdreg=\n",
      "http://www.dca.state.ga.us/development/research/programs/RASearch/RADetails.asp?SearchYear=2013&rID=17470&ssid=41212-0113591&command=&auth_name=&county=&auth_type=&method=&dependency=&juris_type=&sdreg=\n",
      "http://www.dca.state.ga.us/development/research/programs/RASearch/RADetails.asp?SearchYear=2013&rID=17264&ssid=400311-0841&command=&auth_name=&county=&auth_type=&method=&dependency=&juris_type=&sdreg=\n",
      "http://www.dca.state.ga.us/development/research/programs/RASearch/RADetails.asp?SearchYear=2013&rID=17432&ssid=402505-0882&command=&auth_name=&county=&auth_type=&method=&dependency=&juris_type=&sdreg=\n",
      "http://www.dca.state.ga.us/development/research/programs/RASearch/RADetails.asp?SearchYear=2013&rID=17999&ssid=402512-8868&command=&auth_name=&county=&auth_type=&method=&dependency=&juris_type=&sdreg=\n",
      "http://www.dca.state.ga.us/development/research/programs/RASearch/RADetails.asp?SearchYear=2013&rID=17435&ssid=41012-2213545&command=&auth_name=&county=&auth_type=&method=&dependency=&juris_type=&sdreg=\n",
      "http://www.dca.state.ga.us/development/research/programs/RASearch/RADetails.asp?SearchYear=2013&rID=17158&ssid=400319-1467&command=&auth_name=&county=&auth_type=&method=&dependency=&juris_type=&sdreg=\n",
      "http://www.dca.state.ga.us/development/research/programs/RASearch/RADetails.asp?SearchYear=2013&rID=17923&ssid=402519-840&command=&auth_name=&county=&auth_type=&method=&dependency=&juris_type=&sdreg=\n",
      "http://www.dca.state.ga.us/development/research/programs/RASearch/RADetails.asp?SearchYear=2013&rID=17445&ssid=402703-0552&command=&auth_name=&county=&auth_type=&method=&dependency=&juris_type=&sdreg=\n",
      "http://www.dca.state.ga.us/development/research/programs/RASearch/RADetails.asp?SearchYear=2013&rID=17433&ssid=400119-0609&command=&auth_name=&county=&auth_type=&method=&dependency=&juris_type=&sdreg=\n",
      "http://www.dca.state.ga.us/development/research/programs/RASearch/RADetails.asp?SearchYear=2013&rID=17795&ssid=402801-0732&command=&auth_name=&county=&auth_type=&method=&dependency=&juris_type=&sdreg=\n",
      "http://www.dca.state.ga.us/development/research/programs/RASearch/RADetails.asp?SearchYear=2013&rID=17602&ssid=402803-0924&command=&auth_name=&county=&auth_type=&method=&dependency=&juris_type=&sdreg=\n",
      "http://www.dca.state.ga.us/development/research/programs/RASearch/RADetails.asp?SearchYear=2013&rID=17417&ssid=402818-0199&command=&auth_name=&county=&auth_type=&method=&dependency=&juris_type=&sdreg=\n",
      "http://www.dca.state.ga.us/development/research/programs/RASearch/RADetails.asp?SearchYear=2013&rID=18079&ssid=41306-20600&command=&auth_name=&county=&auth_type=&method=&dependency=&juris_type=&sdreg=\n",
      "http://www.dca.state.ga.us/development/research/programs/RASearch/RADetails.asp?SearchYear=2013&rID=17889&ssid=406012-1682&command=&auth_name=&county=&auth_type=&method=&dependency=&juris_type=&sdreg=\n",
      "http://www.dca.state.ga.us/development/research/programs/RASearch/RADetails.asp?SearchYear=2013&rID=18058&ssid=41309-20000&command=&auth_name=&county=&auth_type=&method=&dependency=&juris_type=&sdreg=\n",
      "http://www.dca.state.ga.us/development/research/programs/RASearch/RADetails.asp?SearchYear=2013&rID=17528&ssid=400207-1030&command=&auth_name=&county=&auth_type=&method=&dependency=&juris_type=&sdreg=\n",
      "http://www.dca.state.ga.us/development/research/programs/RASearch/RADetails.asp?SearchYear=2013&rID=17219&ssid=400103-0265&command=&auth_name=&county=&auth_type=&method=&dependency=&juris_type=&sdreg=\n",
      "http://www.dca.state.ga.us/development/research/programs/RASearch/RADetails.asp?SearchYear=2013&rID=17218&ssid=41007-0413532&command=&auth_name=&county=&auth_type=&method=&dependency=&juris_type=&sdreg=\n",
      "http://www.dca.state.ga.us/development/research/programs/RASearch/RADetails.asp?SearchYear=2013&rID=17348&ssid=400104-1222&command=&auth_name=&county=&auth_type=&method=&dependency=&juris_type=&sdreg=\n",
      "http://www.dca.state.ga.us/development/research/programs/RASearch/RADetails.asp?SearchYear=2013&rID=18041&ssid=411904-1650&command=&auth_name=&county=&auth_type=&method=&dependency=&juris_type=&sdreg=\n",
      "http://www.dca.state.ga.us/development/research/programs/RASearch/RADetails.asp?SearchYear=2013&rID=17098&ssid=400304-0485&command=&auth_name=&county=&auth_type=&method=&dependency=&juris_type=&sdreg=\n",
      "http://www.dca.state.ga.us/development/research/programs/RASearch/RADetails.asp?SearchYear=2013&rID=18083&ssid=41312-20288&command=&auth_name=&county=&auth_type=&method=&dependency=&juris_type=&sdreg=\n",
      "http://www.dca.state.ga.us/development/research/programs/RASearch/RADetails.asp?SearchYear=2013&rID=17854&ssid=41201-18674&command=&auth_name=&county=&auth_type=&method=&dependency=&juris_type=&sdreg=\n",
      "http://www.dca.state.ga.us/development/research/programs/RASearch/RADetails.asp?SearchYear=2013&rID=17215&ssid=410704-10927&command=&auth_name=&county=&auth_type=&method=&dependency=&juris_type=&sdreg=\n",
      "http://www.dca.state.ga.us/development/research/programs/RASearch/RADetails.asp?SearchYear=2013&rID=17057&ssid=410709-816&command=&auth_name=&county=&auth_type=&method=&dependency=&juris_type=&sdreg=\n",
      "http://www.dca.state.ga.us/development/research/programs/RASearch/RADetails.asp?SearchYear=2013&rID=17260&ssid=400101-0481&command=&auth_name=&county=&auth_type=&method=&dependency=&juris_type=&sdreg=\n",
      "http://www.dca.state.ga.us/development/research/programs/RASearch/RADetails.asp?SearchYear=2013&rID=17273&ssid=400102-0499&command=&auth_name=&county=&auth_type=&method=&dependency=&juris_type=&sdreg=\n",
      "http://www.dca.state.ga.us/development/research/programs/RASearch/RADetails.asp?SearchYear=2013&rID=17836&ssid=413503-1674&command=&auth_name=&county=&auth_type=&method=&dependency=&juris_type=&sdreg=\n",
      "http://www.dca.state.ga.us/development/research/programs/RASearch/RADetails.asp?SearchYear=2013&rID=17677&ssid=400409-0562&command=&auth_name=&county=&auth_type=&method=&dependency=&juris_type=&sdreg=\n",
      "http://www.dca.state.ga.us/development/research/programs/RASearch/RADetails.asp?SearchYear=2013&rID=17082&ssid=408703-4802&command=&auth_name=&county=&auth_type=&method=&dependency=&juris_type=&sdreg=\n",
      "http://www.dca.state.ga.us/development/research/programs/RASearch/RADetails.asp?SearchYear=2013&rID=17146&ssid=406704-1680&command=&auth_name=&county=&auth_type=&method=&dependency=&juris_type=&sdreg=\n",
      "http://www.dca.state.ga.us/development/research/programs/RASearch/RADetails.asp?SearchYear=2013&rID=17345&ssid=400104-0471&command=&auth_name=&county=&auth_type=&method=&dependency=&juris_type=&sdreg=\n",
      "http://www.dca.state.ga.us/development/research/programs/RASearch/RADetails.asp?SearchYear=2013&rID=17811&ssid=41012-0413554&command=&auth_name=&county=&auth_type=&method=&dependency=&juris_type=&sdreg=\n",
      "http://www.dca.state.ga.us/development/research/programs/RASearch/RADetails.asp?SearchYear=2013&rID=17930&ssid=41008-0413518&command=&auth_name=&county=&auth_type=&method=&dependency=&juris_type=&sdreg=\n",
      "http://www.dca.state.ga.us/development/research/programs/RASearch/RADetails.asp?SearchYear=2013&rID=17986&ssid=400212-1831&command=&auth_name=&county=&auth_type=&method=&dependency=&juris_type=&sdreg=\n",
      "http://www.dca.state.ga.us/development/research/programs/RASearch/RADetails.asp?SearchYear=2013&rID=18078&ssid=41310-03008&command=&auth_name=&county=&auth_type=&method=&dependency=&juris_type=&sdreg=\n",
      "http://www.dca.state.ga.us/development/research/programs/RASearch/RADetails.asp?SearchYear=2013&rID=17839&ssid=403218-10987&command=&auth_name=&county=&auth_type=&method=&dependency=&juris_type=&sdreg=\n",
      "http://www.dca.state.ga.us/development/research/programs/RASearch/RADetails.asp?SearchYear=2013&rID=16995&ssid=407802-808&command=&auth_name=&county=&auth_type=&method=&dependency=&juris_type=&sdreg=\n",
      "http://www.dca.state.ga.us/development/research/programs/RASearch/RADetails.asp?SearchYear=2013&rID=17308&ssid=400104-2831&command=&auth_name=&county=&auth_type=&method=&dependency=&juris_type=&sdreg=\n",
      "http://www.dca.state.ga.us/development/research/programs/RASearch/RADetails.asp?SearchYear=2013&rID=16947&ssid=414119-3762&command=&auth_name=&county=&auth_type=&method=&dependency=&juris_type=&sdreg=\n",
      "http://www.dca.state.ga.us/development/research/programs/RASearch/RADetails.asp?SearchYear=2013&rID=17641&ssid=41012-0313538&command=&auth_name=&county=&auth_type=&method=&dependency=&juris_type=&sdreg=\n",
      "http://www.dca.state.ga.us/development/research/programs/RASearch/RADetails.asp?SearchYear=2013&rID=17662&ssid=41309-12500&command=&auth_name=&county=&auth_type=&method=&dependency=&juris_type=&sdreg=\n",
      "http://www.dca.state.ga.us/development/research/programs/RASearch/RADetails.asp?SearchYear=2013&rID=17010&ssid=41209-1013599&command=&auth_name=&county=&auth_type=&method=&dependency=&juris_type=&sdreg=\n",
      "http://www.dca.state.ga.us/development/research/programs/RASearch/RADetails.asp?SearchYear=2013&rID=17033&ssid=40912-1954&command=&auth_name=&county=&auth_type=&method=&dependency=&juris_type=&sdreg=\n",
      "http://www.dca.state.ga.us/development/research/programs/RASearch/RADetails.asp?SearchYear=2013&rID=17943&ssid=400601-0565&command=&auth_name=&county=&auth_type=&method=&dependency=&juris_type=&sdreg=\n",
      "http://www.dca.state.ga.us/development/research/programs/RASearch/RADetails.asp?SearchYear=2013&rID=17178&ssid=41109-2013580&command=&auth_name=&county=&auth_type=&method=&dependency=&juris_type=&sdreg=\n",
      "http://www.dca.state.ga.us/development/research/programs/RASearch/RADetails.asp?SearchYear=2013&rID=17829&ssid=41012-2013527&command=&auth_name=&county=&auth_type=&method=&dependency=&juris_type=&sdreg=\n",
      "http://www.dca.state.ga.us/development/research/programs/RASearch/RADetails.asp?SearchYear=2013&rID=17828&ssid=400207-4737&command=&auth_name=&county=&auth_type=&method=&dependency=&juris_type=&sdreg=\n",
      "http://www.dca.state.ga.us/development/research/programs/RASearch/RADetails.asp?SearchYear=2013&rID=17267&ssid=400107-0500&command=&auth_name=&county=&auth_type=&method=&dependency=&juris_type=&sdreg=\n",
      "http://www.dca.state.ga.us/development/research/programs/RASearch/RADetails.asp?SearchYear=2013&rID=17028&ssid=40912-1213509&command=&auth_name=&county=&auth_type=&method=&dependency=&juris_type=&sdreg=\n",
      "http://www.dca.state.ga.us/development/research/programs/RASearch/RADetails.asp?SearchYear=2013&rID=17735&ssid=405719-4762&command=&auth_name=&county=&auth_type=&method=&dependency=&juris_type=&sdreg=\n",
      "http://www.dca.state.ga.us/development/research/programs/RASearch/RADetails.asp?SearchYear=2013&rID=17732&ssid=406003-11023&command=&auth_name=&county=&auth_type=&method=&dependency=&juris_type=&sdreg=\n",
      "http://www.dca.state.ga.us/development/research/programs/RASearch/RADetails.asp?SearchYear=2013&rID=17757&ssid=40806-2018&command=&auth_name=&county=&auth_type=&method=&dependency=&juris_type=&sdreg=\n",
      "http://www.dca.state.ga.us/development/research/programs/RASearch/RADetails.asp?SearchYear=2013&rID=18005&ssid=400404-0415&command=&auth_name=&county=&auth_type=&method=&dependency=&juris_type=&sdreg=\n",
      "http://www.dca.state.ga.us/development/research/programs/RASearch/RADetails.asp?SearchYear=2013&rID=17944&ssid=406704-3756&command=&auth_name=&county=&auth_type=&method=&dependency=&juris_type=&sdreg=\n",
      "http://www.dca.state.ga.us/development/research/programs/RASearch/RADetails.asp?SearchYear=2013&rID=17575&ssid=400404-0371&command=&auth_name=&county=&auth_type=&method=&dependency=&juris_type=&sdreg=\n",
      "http://www.dca.state.ga.us/development/research/programs/RASearch/RADetails.asp?SearchYear=2013&rID=17863&ssid=41209-17744&command=&auth_name=&county=&auth_type=&method=&dependency=&juris_type=&sdreg=\n",
      "http://www.dca.state.ga.us/development/research/programs/RASearch/RADetails.asp?SearchYear=2013&rID=17036&ssid=40813-2023&command=&auth_name=&county=&auth_type=&method=&dependency=&juris_type=&sdreg=\n",
      "http://www.dca.state.ga.us/development/research/programs/RASearch/RADetails.asp?SearchYear=2013&rID=17315&ssid=41207-2113600&command=&auth_name=&county=&auth_type=&method=&dependency=&juris_type=&sdreg=\n",
      "http://www.dca.state.ga.us/development/research/programs/RASearch/RADetails.asp?SearchYear=2013&rID=17844&ssid=400204-0442&command=&auth_name=&county=&auth_type=&method=&dependency=&juris_type=&sdreg=\n",
      "http://www.dca.state.ga.us/development/research/programs/RASearch/RADetails.asp?SearchYear=2013&rID=17843&ssid=40912-2113513&command=&auth_name=&county=&auth_type=&method=&dependency=&juris_type=&sdreg=\n",
      "http://www.dca.state.ga.us/development/research/programs/RASearch/RADetails.asp?SearchYear=2013&rID=17319&ssid=400203-0379&command=&auth_name=&county=&auth_type=&method=&dependency=&juris_type=&sdreg=\n",
      "http://www.dca.state.ga.us/development/research/programs/RASearch/RADetails.asp?SearchYear=2013&rID=17378&ssid=402901-3074&command=&auth_name=&county=&auth_type=&method=&dependency=&juris_type=&sdreg=\n",
      "http://www.dca.state.ga.us/development/research/programs/RASearch/RADetails.asp?SearchYear=2013&rID=17628&ssid=402916-0676&command=&auth_name=&county=&auth_type=&method=&dependency=&juris_type=&sdreg=\n",
      "http://www.dca.state.ga.us/development/research/programs/RASearch/RADetails.asp?SearchYear=2013&rID=17712&ssid=403105-0560&command=&auth_name=&county=&auth_type=&method=&dependency=&juris_type=&sdreg=\n",
      "http://www.dca.state.ga.us/development/research/programs/RASearch/RADetails.asp?SearchYear=2013&rID=17794&ssid=4031-1648&command=&auth_name=&county=&auth_type=&method=&dependency=&juris_type=&sdreg=\n",
      "http://www.dca.state.ga.us/development/research/programs/RASearch/RADetails.asp?SearchYear=2013&rID=17643&ssid=403119-1681&command=&auth_name=&county=&auth_type=&method=&dependency=&juris_type=&sdreg=\n",
      "http://www.dca.state.ga.us/development/research/programs/RASearch/RADetails.asp?SearchYear=2013&rID=17652&ssid=403118-0426&command=&auth_name=&county=&auth_type=&method=&dependency=&juris_type=&sdreg=\n",
      "http://www.dca.state.ga.us/development/research/programs/RASearch/RADetails.asp?SearchYear=2013&rID=17101&ssid=411918-828&command=&auth_name=&county=&auth_type=&method=&dependency=&juris_type=&sdreg=\n",
      "http://www.dca.state.ga.us/development/research/programs/RASearch/RADetails.asp?SearchYear=2013&rID=17566&ssid=403203-0423&command=&auth_name=&county=&auth_type=&method=&dependency=&juris_type=&sdreg=\n",
      "http://www.dca.state.ga.us/development/research/programs/RASearch/RADetails.asp?SearchYear=2013&rID=17336&ssid=403205-2863&command=&auth_name=&county=&auth_type=&method=&dependency=&juris_type=&sdreg=\n",
      "http://www.dca.state.ga.us/development/research/programs/RASearch/RADetails.asp?SearchYear=2013&rID=17077&ssid=403305-0169&command=&auth_name=&county=&auth_type=&method=&dependency=&juris_type=&sdreg=\n",
      "http://www.dca.state.ga.us/development/research/programs/RASearch/RADetails.asp?SearchYear=2013&rID=17320&ssid=403312-2956&command=&auth_name=&county=&auth_type=&method=&dependency=&juris_type=&sdreg=\n",
      "http://www.dca.state.ga.us/development/research/programs/RASearch/RADetails.asp?SearchYear=2013&rID=17882&ssid=400418-0001&command=&auth_name=&county=&auth_type=&method=&dependency=&juris_type=&sdreg=\n",
      "http://www.dca.state.ga.us/development/research/programs/RASearch/RADetails.asp?SearchYear=2013&rID=17589&ssid=400416-0330&command=&auth_name=&county=&auth_type=&method=&dependency=&juris_type=&sdreg=\n",
      "http://www.dca.state.ga.us/development/research/programs/RASearch/RADetails.asp?SearchYear=2013&rID=18012&ssid=403405-1829&command=&auth_name=&county=&auth_type=&method=&dependency=&juris_type=&sdreg=\n",
      "http://www.dca.state.ga.us/development/research/programs/RASearch/RADetails.asp?SearchYear=2013&rID=17990&ssid=406003-1676&command=&auth_name=&county=&auth_type=&method=&dependency=&juris_type=&sdreg=\n",
      "http://www.dca.state.ga.us/development/research/programs/RASearch/RADetails.asp?SearchYear=2013&rID=17182&ssid=403601-0635&command=&auth_name=&county=&auth_type=&method=&dependency=&juris_type=&sdreg=\n",
      "http://www.dca.state.ga.us/development/research/programs/RASearch/RADetails.asp?SearchYear=2013&rID=17538&ssid=400201-0726&command=&auth_name=&county=&auth_type=&method=&dependency=&juris_type=&sdreg=\n",
      "http://www.dca.state.ga.us/development/research/programs/RASearch/RADetails.asp?SearchYear=2013&rID=16988&ssid=400202-0769&command=&auth_name=&county=&auth_type=&method=&dependency=&juris_type=&sdreg=\n",
      "http://www.dca.state.ga.us/development/research/programs/RASearch/RADetails.asp?SearchYear=2013&rID=17351&ssid=412204-6797&command=&auth_name=&county=&auth_type=&method=&dependency=&juris_type=&sdreg=\n",
      "http://www.dca.state.ga.us/development/research/programs/RASearch/RADetails.asp?SearchYear=2013&rID=17998&ssid=400119-0623&command=&auth_name=&county=&auth_type=&method=&dependency=&juris_type=&sdreg=\n",
      "http://www.dca.state.ga.us/development/research/programs/RASearch/RADetails.asp?SearchYear=2013&rID=17328&ssid=403701-0505&command=&auth_name=&county=&auth_type=&method=&dependency=&juris_type=&sdreg=\n",
      "http://www.dca.state.ga.us/development/research/programs/RASearch/RADetails.asp?SearchYear=2013&rID=17416&ssid=400118-0557&command=&auth_name=&county=&auth_type=&method=&dependency=&juris_type=&sdreg=\n",
      "http://www.dca.state.ga.us/development/research/programs/RASearch/RADetails.asp?SearchYear=2013&rID=17226&ssid=41006-1813525&command=&auth_name=&county=&auth_type=&method=&dependency=&juris_type=&sdreg=\n",
      "http://www.dca.state.ga.us/development/research/programs/RASearch/RADetails.asp?SearchYear=2013&rID=17242&ssid=400202-0148&command=&auth_name=&county=&auth_type=&method=&dependency=&juris_type=&sdreg=\n",
      "http://www.dca.state.ga.us/development/research/programs/RASearch/RADetails.asp?SearchYear=2013&rID=18080&ssid=41303-01098&command=&auth_name=&county=&auth_type=&method=&dependency=&juris_type=&sdreg=\n",
      "http://www.dca.state.ga.us/development/research/programs/RASearch/RADetails.asp?SearchYear=2013&rID=17056&ssid=41006-2113522&command=&auth_name=&county=&auth_type=&method=&dependency=&juris_type=&sdreg=\n",
      "http://www.dca.state.ga.us/development/research/programs/RASearch/RADetails.asp?SearchYear=2013&rID=17063&ssid=403803-0241&command=&auth_name=&county=&auth_type=&method=&dependency=&juris_type=&sdreg=\n",
      "http://www.dca.state.ga.us/development/research/programs/RASearch/RADetails.asp?SearchYear=2013&rID=17444&ssid=41112-0513576&command=&auth_name=&county=&auth_type=&method=&dependency=&juris_type=&sdreg=\n",
      "http://www.dca.state.ga.us/development/research/programs/RASearch/RADetails.asp?SearchYear=2013&rID=17509&ssid=403817-0266&command=&auth_name=&county=&auth_type=&method=&dependency=&juris_type=&sdreg=\n",
      "http://www.dca.state.ga.us/development/research/programs/RASearch/RADetails.asp?SearchYear=2013&rID=17898&ssid=403818-0886&command=&auth_name=&county=&auth_type=&method=&dependency=&juris_type=&sdreg=\n",
      "http://www.dca.state.ga.us/development/research/programs/RASearch/RADetails.asp?SearchYear=2013&rID=17064&ssid=400408-0187&command=&auth_name=&county=&auth_type=&method=&dependency=&juris_type=&sdreg=\n",
      "http://www.dca.state.ga.us/development/research/programs/RASearch/RADetails.asp?SearchYear=2013&rID=17078&ssid=400207-0081&command=&auth_name=&county=&auth_type=&method=&dependency=&juris_type=&sdreg=\n",
      "http://www.dca.state.ga.us/development/research/programs/RASearch/RADetails.asp?SearchYear=2013&rID=17696&ssid=404007-0589&command=&auth_name=&county=&auth_type=&method=&dependency=&juris_type=&sdreg=\n",
      "http://www.dca.state.ga.us/development/research/programs/RASearch/RADetails.asp?SearchYear=2013&rID=17080&ssid=404107-2168&command=&auth_name=&county=&auth_type=&method=&dependency=&juris_type=&sdreg=\n",
      "http://www.dca.state.ga.us/development/research/programs/RASearch/RADetails.asp?SearchYear=2013&rID=17079&ssid=404118-2826&command=&auth_name=&county=&auth_type=&method=&dependency=&juris_type=&sdreg=\n",
      "http://www.dca.state.ga.us/development/research/programs/RASearch/RADetails.asp?SearchYear=2013&rID=17306&ssid=4155-11024&command=&auth_name=&county=&auth_type=&method=&dependency=&juris_type=&sdreg=\n",
      "http://www.dca.state.ga.us/development/research/programs/RASearch/RADetails.asp?SearchYear=2013&rID=17955&ssid=415503-10915&command=&auth_name=&county=&auth_type=&method=&dependency=&juris_type=&sdreg=\n",
      "http://www.dca.state.ga.us/development/research/programs/RASearch/RADetails.asp?SearchYear=2013&rID=17884&ssid=400117-0048&command=&auth_name=&county=&auth_type=&method=&dependency=&juris_type=&sdreg=\n",
      "http://www.dca.state.ga.us/development/research/programs/RASearch/RADetails.asp?SearchYear=2013&rID=17121&ssid=404207-2958&command=&auth_name=&county=&auth_type=&method=&dependency=&juris_type=&sdreg=\n",
      "http://www.dca.state.ga.us/development/research/programs/RASearch/RADetails.asp?SearchYear=2013&rID=16945&ssid=202&command=&auth_name=&county=&auth_type=&method=&dependency=&juris_type=&sdreg=\n",
      "http://www.dca.state.ga.us/development/research/programs/RASearch/RADetails.asp?SearchYear=2013&rID=17119&ssid=404302-10995&command=&auth_name=&county=&auth_type=&method=&dependency=&juris_type=&sdreg=\n",
      "http://www.dca.state.ga.us/development/research/programs/RASearch/RADetails.asp?SearchYear=2013&rID=17148&ssid=400207-0254&command=&auth_name=&county=&auth_type=&method=&dependency=&juris_type=&sdreg=\n",
      "http://www.dca.state.ga.us/development/research/programs/RASearch/RADetails.asp?SearchYear=2013&rID=17199&ssid=400417-2824&command=&auth_name=&county=&auth_type=&method=&dependency=&juris_type=&sdreg=\n",
      "http://www.dca.state.ga.us/development/research/programs/RASearch/RADetails.asp?SearchYear=2013&rID=16964&ssid=404402-3763&command=&auth_name=&county=&auth_type=&method=&dependency=&juris_type=&sdreg=\n",
      "http://www.dca.state.ga.us/development/research/programs/RASearch/RADetails.asp?SearchYear=2013&rID=17050&ssid=404419-8809&command=&auth_name=&county=&auth_type=&method=&dependency=&juris_type=&sdreg=\n",
      "http://www.dca.state.ga.us/development/research/programs/RASearch/RADetails.asp?SearchYear=2013&rID=17039&ssid=404405-0111&command=&auth_name=&county=&auth_type=&method=&dependency=&juris_type=&sdreg=\n",
      "http://www.dca.state.ga.us/development/research/programs/RASearch/RADetails.asp?SearchYear=2013&rID=16966&ssid=404419-4784&command=&auth_name=&county=&auth_type=&method=&dependency=&juris_type=&sdreg=\n",
      "http://www.dca.state.ga.us/development/research/programs/RASearch/RADetails.asp?SearchYear=2013&rID=17775&ssid=404405-0517&command=&auth_name=&county=&auth_type=&method=&dependency=&juris_type=&sdreg=\n",
      "http://www.dca.state.ga.us/development/research/programs/RASearch/RADetails.asp?SearchYear=2013&rID=18059&ssid=41312-22308&command=&auth_name=&county=&auth_type=&method=&dependency=&juris_type=&sdreg=\n",
      "http://www.dca.state.ga.us/development/research/programs/RASearch/RADetails.asp?SearchYear=2013&rID=17698&ssid=400303-2855&command=&auth_name=&county=&auth_type=&method=&dependency=&juris_type=&sdreg=\n",
      "http://www.dca.state.ga.us/development/research/programs/RASearch/RADetails.asp?SearchYear=2013&rID=16961&ssid=400103-2952&command=&auth_name=&county=&auth_type=&method=&dependency=&juris_type=&sdreg=\n",
      "http://www.dca.state.ga.us/development/research/programs/RASearch/RADetails.asp?SearchYear=2013&rID=17398&ssid=40013-705&command=&auth_name=&county=&auth_type=&method=&dependency=&juris_type=&sdreg=\n",
      "http://www.dca.state.ga.us/development/research/programs/RASearch/RADetails.asp?SearchYear=2013&rID=17952&ssid=400203-2185&command=&auth_name=&county=&auth_type=&method=&dependency=&juris_type=&sdreg=\n",
      "http://www.dca.state.ga.us/development/research/programs/RASearch/RADetails.asp?SearchYear=2013&rID=17151&ssid=400207-0060&command=&auth_name=&county=&auth_type=&method=&dependency=&juris_type=&sdreg=\n",
      "http://www.dca.state.ga.us/development/research/programs/RASearch/RADetails.asp?SearchYear=2013&rID=17741&ssid=400603-0698&command=&auth_name=&county=&auth_type=&method=&dependency=&juris_type=&sdreg=\n",
      "http://www.dca.state.ga.us/development/research/programs/RASearch/RADetails.asp?SearchYear=2013&rID=17505&ssid=400807-0170&command=&auth_name=&county=&auth_type=&method=&dependency=&juris_type=&sdreg=\n",
      "http://www.dca.state.ga.us/development/research/programs/RASearch/RADetails.asp?SearchYear=2013&rID=17111&ssid=400903-0457&command=&auth_name=&county=&auth_type=&method=&dependency=&juris_type=&sdreg=\n",
      "http://www.dca.state.ga.us/development/research/programs/RASearch/RADetails.asp?SearchYear=2013&rID=17491&ssid=401103-0145&command=&auth_name=&county=&auth_type=&method=&dependency=&juris_type=&sdreg=\n",
      "http://www.dca.state.ga.us/development/research/programs/RASearch/RADetails.asp?SearchYear=2013&rID=17387&ssid=401403-1660&command=&auth_name=&county=&auth_type=&method=&dependency=&juris_type=&sdreg=\n",
      "http://www.dca.state.ga.us/development/research/programs/RASearch/RADetails.asp?SearchYear=2013&rID=17194&ssid=401503-8796&command=&auth_name=&county=&auth_type=&method=&dependency=&juris_type=&sdreg=\n",
      "http://www.dca.state.ga.us/development/research/programs/RASearch/RADetails.asp?SearchYear=2013&rID=17228&ssid=401603-0202&command=&auth_name=&county=&auth_type=&method=&dependency=&juris_type=&sdreg=\n",
      "http://www.dca.state.ga.us/development/research/programs/RASearch/RADetails.asp?SearchYear=2013&rID=17765&ssid=401703-0131&command=&auth_name=&county=&auth_type=&method=&dependency=&juris_type=&sdreg=\n",
      "http://www.dca.state.ga.us/development/research/programs/RASearch/RADetails.asp?SearchYear=2013&rID=17138&ssid=401803-841&command=&auth_name=&county=&auth_type=&method=&dependency=&juris_type=&sdreg=\n",
      "http://www.dca.state.ga.us/development/research/programs/RASearch/RADetails.asp?SearchYear=2013&rID=17916&ssid=402203-3030&command=&auth_name=&county=&auth_type=&method=&dependency=&juris_type=&sdreg=\n",
      "http://www.dca.state.ga.us/development/research/programs/RASearch/RADetails.asp?SearchYear=2013&rID=17721&ssid=400203-0542&command=&auth_name=&county=&auth_type=&method=&dependency=&juris_type=&sdreg=\n",
      "http://www.dca.state.ga.us/development/research/programs/RASearch/RADetails.asp?SearchYear=2013&rID=17819&ssid=402303-2179&command=&auth_name=&county=&auth_type=&method=&dependency=&juris_type=&sdreg=\n",
      "http://www.dca.state.ga.us/development/research/programs/RASearch/RADetails.asp?SearchYear=2013&rID=17448&ssid=402703-0270&command=&auth_name=&county=&auth_type=&method=&dependency=&juris_type=&sdreg=\n",
      "http://www.dca.state.ga.us/development/research/programs/RASearch/RADetails.asp?SearchYear=2013&rID=17601&ssid=402803-0773&command=&auth_name=&county=&auth_type=&method=&dependency=&juris_type=&sdreg=\n",
      "http://www.dca.state.ga.us/development/research/programs/RASearch/RADetails.asp?SearchYear=2013&rID=17238&ssid=403003-2961&command=&auth_name=&county=&auth_type=&method=&dependency=&juris_type=&sdreg=\n",
      "http://www.dca.state.ga.us/development/research/programs/RASearch/RADetails.asp?SearchYear=2013&rID=17359&ssid=403119-0817&command=&auth_name=&county=&auth_type=&method=&dependency=&juris_type=&sdreg=\n",
      "http://www.dca.state.ga.us/development/research/programs/RASearch/RADetails.asp?SearchYear=2013&rID=17284&ssid=403303-0885&command=&auth_name=&county=&auth_type=&method=&dependency=&juris_type=&sdreg=\n",
      "http://www.dca.state.ga.us/development/research/programs/RASearch/RADetails.asp?SearchYear=2013&rID=17584&ssid=403603-0641&command=&auth_name=&county=&auth_type=&method=&dependency=&juris_type=&sdreg=\n",
      "http://www.dca.state.ga.us/development/research/programs/RASearch/RADetails.asp?SearchYear=2013&rID=17213&ssid=400203-0390&command=&auth_name=&county=&auth_type=&method=&dependency=&juris_type=&sdreg=\n",
      "http://www.dca.state.ga.us/development/research/programs/RASearch/RADetails.asp?SearchYear=2013&rID=17183&ssid=400103-1191&command=&auth_name=&county=&auth_type=&method=&dependency=&juris_type=&sdreg=\n",
      "http://www.dca.state.ga.us/development/research/programs/RASearch/RADetails.asp?SearchYear=2013&rID=17062&ssid=403803-0242&command=&auth_name=&county=&auth_type=&method=&dependency=&juris_type=&sdreg=\n",
      "http://www.dca.state.ga.us/development/research/programs/RASearch/RADetails.asp?SearchYear=2013&rID=18023&ssid=403903-0344&command=&auth_name=&county=&auth_type=&method=&dependency=&juris_type=&sdreg=\n",
      "http://www.dca.state.ga.us/development/research/programs/RASearch/RADetails.asp?SearchYear=2013&rID=17384&ssid=405803-815&command=&auth_name=&county=&auth_type=&method=&dependency=&juris_type=&sdreg=\n",
      "http://www.dca.state.ga.us/development/research/programs/RASearch/RADetails.asp?SearchYear=2013&rID=17120&ssid=404203-2032&command=&auth_name=&county=&auth_type=&method=&dependency=&juris_type=&sdreg=\n",
      "http://www.dca.state.ga.us/development/research/programs/RASearch/RADetails.asp?SearchYear=2013&rID=17773&ssid=404403-0451&command=&auth_name=&county=&auth_type=&method=&dependency=&juris_type=&sdreg=\n",
      "http://www.dca.state.ga.us/development/research/programs/RASearch/RADetails.asp?SearchYear=2013&rID=18021&ssid=404703-0876&command=&auth_name=&county=&auth_type=&method=&dependency=&juris_type=&sdreg=\n",
      "http://www.dca.state.ga.us/development/research/programs/RASearch/RADetails.asp?SearchYear=2013&rID=16963&ssid=404803-0106&command=&auth_name=&county=&auth_type=&method=&dependency=&juris_type=&sdreg=\n",
      "http://www.dca.state.ga.us/development/research/programs/RASearch/RADetails.asp?SearchYear=2013&rID=17424&ssid=404903-0418&command=&auth_name=&county=&auth_type=&method=&dependency=&juris_type=&sdreg=\n",
      "http://www.dca.state.ga.us/development/research/programs/RASearch/RADetails.asp?SearchYear=2013&rID=17205&ssid=405103-0334&command=&auth_name=&county=&auth_type=&method=&dependency=&juris_type=&sdreg=\n",
      "http://www.dca.state.ga.us/development/research/programs/RASearch/RADetails.asp?SearchYear=2013&rID=17717&ssid=405203-3069&command=&auth_name=&county=&auth_type=&method=&dependency=&juris_type=&sdreg=\n",
      "http://www.dca.state.ga.us/development/research/programs/RASearch/RADetails.asp?SearchYear=2013&rID=17807&ssid=405303-0056&command=&auth_name=&county=&auth_type=&method=&dependency=&juris_type=&sdreg=\n",
      "http://www.dca.state.ga.us/development/research/programs/RASearch/RADetails.asp?SearchYear=2013&rID=17806&ssid=400508-0055&command=&auth_name=&county=&auth_type=&method=&dependency=&juris_type=&sdreg=\n",
      "http://www.dca.state.ga.us/development/research/programs/RASearch/RADetails.asp?SearchYear=2013&rID=17005&ssid=400503-0693&command=&auth_name=&county=&auth_type=&method=&dependency=&juris_type=&sdreg=\n",
      "http://www.dca.state.ga.us/development/research/programs/RASearch/RADetails.asp?SearchYear=2013&rID=17458&ssid=405707-0910&command=&auth_name=&county=&auth_type=&method=&dependency=&juris_type=&sdreg=\n",
      "http://www.dca.state.ga.us/development/research/programs/RASearch/RADetails.asp?SearchYear=2013&rID=17849&ssid=405803-0274&command=&auth_name=&county=&auth_type=&method=&dependency=&juris_type=&sdreg=\n",
      "http://www.dca.state.ga.us/development/research/programs/RASearch/RADetails.asp?SearchYear=2013&rID=17802&ssid=406003-0160&command=&auth_name=&county=&auth_type=&method=&dependency=&juris_type=&sdreg=\n",
      "http://www.dca.state.ga.us/development/research/programs/RASearch/RADetails.asp?SearchYear=2013&rID=17214&ssid=406104-809&command=&auth_name=&county=&auth_type=&method=&dependency=&juris_type=&sdreg=\n",
      "http://www.dca.state.ga.us/development/research/programs/RASearch/RADetails.asp?SearchYear=2013&rID=17825&ssid=406403-0013&command=&auth_name=&county=&auth_type=&method=&dependency=&juris_type=&sdreg=\n",
      "http://www.dca.state.ga.us/development/research/programs/RASearch/RADetails.asp?SearchYear=2013&rID=17571&ssid=406703-0294&command=&auth_name=&county=&auth_type=&method=&dependency=&juris_type=&sdreg=\n",
      "http://www.dca.state.ga.us/development/research/programs/RASearch/RADetails.asp?SearchYear=2013&rID=17437&ssid=407103-0321&command=&auth_name=&county=&auth_type=&method=&dependency=&juris_type=&sdreg=\n",
      "http://www.dca.state.ga.us/development/research/programs/RASearch/RADetails.asp?SearchYear=2013&rID=17053&ssid=407203-0667&command=&auth_name=&county=&auth_type=&method=&dependency=&juris_type=&sdreg=\n",
      "http://www.dca.state.ga.us/development/research/programs/RASearch/RADetails.asp?SearchYear=2013&rID=18029&ssid=407403-0340&command=&auth_name=&county=&auth_type=&method=&dependency=&juris_type=&sdreg=\n",
      "http://www.dca.state.ga.us/development/research/programs/RASearch/RADetails.asp?SearchYear=2013&rID=17425&ssid=407607-0518&command=&auth_name=&county=&auth_type=&method=&dependency=&juris_type=&sdreg=\n",
      "http://www.dca.state.ga.us/development/research/programs/RASearch/RADetails.asp?SearchYear=2013&rID=17767&ssid=407903-2157&command=&auth_name=&county=&auth_type=&method=&dependency=&juris_type=&sdreg=\n",
      "http://www.dca.state.ga.us/development/research/programs/RASearch/RADetails.asp?SearchYear=2013&rID=17160&ssid=408103-1692&command=&auth_name=&county=&auth_type=&method=&dependency=&juris_type=&sdreg=\n",
      "http://www.dca.state.ga.us/development/research/programs/RASearch/RADetails.asp?SearchYear=2013&rID=17371&ssid=400503-1198&command=&auth_name=&county=&auth_type=&method=&dependency=&juris_type=&sdreg=\n",
      "http://www.dca.state.ga.us/development/research/programs/RASearch/RADetails.asp?SearchYear=2013&rID=17976&ssid=408207-0774&command=&auth_name=&county=&auth_type=&method=&dependency=&juris_type=&sdreg=\n",
      "http://www.dca.state.ga.us/development/research/programs/RASearch/RADetails.asp?SearchYear=2013&rID=17992&ssid=408303-2842&command=&auth_name=&county=&auth_type=&method=&dependency=&juris_type=&sdreg=\n",
      "http://www.dca.state.ga.us/development/research/programs/RASearch/RADetails.asp?SearchYear=2013&rID=17617&ssid=40843-810&command=&auth_name=&county=&auth_type=&method=&dependency=&juris_type=&sdreg=\n",
      "http://www.dca.state.ga.us/development/research/programs/RASearch/RADetails.asp?SearchYear=2013&rID=17751&ssid=400207-0483&command=&auth_name=&county=&auth_type=&method=&dependency=&juris_type=&sdreg=\n",
      "http://www.dca.state.ga.us/development/research/programs/RASearch/RADetails.asp?SearchYear=2013&rID=17107&ssid=400206-0224&command=&auth_name=&county=&auth_type=&method=&dependency=&juris_type=&sdreg=\n",
      "http://www.dca.state.ga.us/development/research/programs/RASearch/RADetails.asp?SearchYear=2013&rID=17793&ssid=408603-0287&command=&auth_name=&county=&auth_type=&method=&dependency=&juris_type=&sdreg=\n",
      "http://www.dca.state.ga.us/development/research/programs/RASearch/RADetails.asp?SearchYear=2013&rID=17580&ssid=400503-0179&command=&auth_name=&county=&auth_type=&method=&dependency=&juris_type=&sdreg=\n",
      "http://www.dca.state.ga.us/development/research/programs/RASearch/RADetails.asp?SearchYear=2013&rID=17024&ssid=408803-0566&command=&auth_name=&county=&auth_type=&method=&dependency=&juris_type=&sdreg=\n",
      "http://www.dca.state.ga.us/development/research/programs/RASearch/RADetails.asp?SearchYear=2013&rID=17995&ssid=405203-3110&command=&auth_name=&county=&auth_type=&method=&dependency=&juris_type=&sdreg=\n",
      "http://www.dca.state.ga.us/development/research/programs/RASearch/RADetails.asp?SearchYear=2013&rID=17687&ssid=409303-2862&command=&auth_name=&county=&auth_type=&method=&dependency=&juris_type=&sdreg=\n",
      "http://www.dca.state.ga.us/development/research/programs/RASearch/RADetails.asp?SearchYear=2013&rID=17933&ssid=409603-1020&command=&auth_name=&county=&auth_type=&method=&dependency=&juris_type=&sdreg=\n",
      "http://www.dca.state.ga.us/development/research/programs/RASearch/RADetails.asp?SearchYear=2013&rID=17474&ssid=409403-0775&command=&auth_name=&county=&auth_type=&method=&dependency=&juris_type=&sdreg=\n",
      "http://www.dca.state.ga.us/development/research/programs/RASearch/RADetails.asp?SearchYear=2013&rID=17475&ssid=409403-4002&command=&auth_name=&county=&auth_type=&method=&dependency=&juris_type=&sdreg=\n",
      "http://www.dca.state.ga.us/development/research/programs/RASearch/RADetails.asp?SearchYear=2013&rID=16974&ssid=410103-0723&command=&auth_name=&county=&auth_type=&method=&dependency=&juris_type=&sdreg=\n",
      "http://www.dca.state.ga.us/development/research/programs/RASearch/RADetails.asp?SearchYear=2013&rID=17294&ssid=410203-0256&command=&auth_name=&county=&auth_type=&method=&dependency=&juris_type=&sdreg=\n",
      "http://www.dca.state.ga.us/development/research/programs/RASearch/RADetails.asp?SearchYear=2013&rID=17380&ssid=410403-0129&command=&auth_name=&county=&auth_type=&method=&dependency=&juris_type=&sdreg=\n",
      "http://www.dca.state.ga.us/development/research/programs/RASearch/RADetails.asp?SearchYear=2013&rID=17606&ssid=400804-0891&command=&auth_name=&county=&auth_type=&method=&dependency=&juris_type=&sdreg=\n",
      "http://www.dca.state.ga.us/development/research/programs/RASearch/RADetails.asp?SearchYear=2013&rID=17142&ssid=411103-0269&command=&auth_name=&county=&auth_type=&method=&dependency=&juris_type=&sdreg=\n",
      "http://www.dca.state.ga.us/development/research/programs/RASearch/RADetails.asp?SearchYear=2013&rID=17296&ssid=411403-0446&command=&auth_name=&county=&auth_type=&method=&dependency=&juris_type=&sdreg=\n",
      "http://www.dca.state.ga.us/development/research/programs/RASearch/RADetails.asp?SearchYear=2013&rID=17003&ssid=411507-0419&command=&auth_name=&county=&auth_type=&method=&dependency=&juris_type=&sdreg=\n",
      "http://www.dca.state.ga.us/development/research/programs/RASearch/RADetails.asp?SearchYear=2013&rID=17739&ssid=403303-1835&command=&auth_name=&county=&auth_type=&method=&dependency=&juris_type=&sdreg=\n",
      "http://www.dca.state.ga.us/development/research/programs/RASearch/RADetails.asp?SearchYear=2013&rID=17950&ssid=411707-0017&command=&auth_name=&county=&auth_type=&method=&dependency=&juris_type=&sdreg=\n",
      "http://www.dca.state.ga.us/development/research/programs/RASearch/RADetails.asp?SearchYear=2013&rID=17625&ssid=411903-0563&command=&auth_name=&county=&auth_type=&method=&dependency=&juris_type=&sdreg=\n",
      "http://www.dca.state.ga.us/development/research/programs/RASearch/RADetails.asp?SearchYear=2013&rID=17803&ssid=412103-0101&command=&auth_name=&county=&auth_type=&method=&dependency=&juris_type=&sdreg=\n",
      "http://www.dca.state.ga.us/development/research/programs/RASearch/RADetails.asp?SearchYear=2013&rID=17354&ssid=412203-0064&command=&auth_name=&county=&auth_type=&method=&dependency=&juris_type=&sdreg=\n",
      "http://www.dca.state.ga.us/development/research/programs/RASearch/RADetails.asp?SearchYear=2013&rID=17088&ssid=400404-0192&command=&auth_name=&county=&auth_type=&method=&dependency=&juris_type=&sdreg=\n",
      "http://www.dca.state.ga.us/development/research/programs/RASearch/RADetails.asp?SearchYear=2013&rID=17674&ssid=400107-0191&command=&auth_name=&county=&auth_type=&method=&dependency=&juris_type=&sdreg=\n",
      "http://www.dca.state.ga.us/development/research/programs/RASearch/RADetails.asp?SearchYear=2013&rID=17483&ssid=400203-0054&command=&auth_name=&county=&auth_type=&method=&dependency=&juris_type=&sdreg=\n",
      "http://www.dca.state.ga.us/development/research/programs/RASearch/RADetails.asp?SearchYear=2013&rID=17126&ssid=413007-1653&command=&auth_name=&county=&auth_type=&method=&dependency=&juris_type=&sdreg=\n",
      "http://www.dca.state.ga.us/development/research/programs/RASearch/RADetails.asp?SearchYear=2013&rID=17650&ssid=40906-0357&command=&auth_name=&county=&auth_type=&method=&dependency=&juris_type=&sdreg=\n",
      "http://www.dca.state.ga.us/development/research/programs/RASearch/RADetails.asp?SearchYear=2013&rID=17287&ssid=413403-1833&command=&auth_name=&county=&auth_type=&method=&dependency=&juris_type=&sdreg=\n",
      "http://www.dca.state.ga.us/development/research/programs/RASearch/RADetails.asp?SearchYear=2013&rID=17233&ssid=40013-3&command=&auth_name=&county=&auth_type=&method=&dependency=&juris_type=&sdreg=\n",
      "http://www.dca.state.ga.us/development/research/programs/RASearch/RADetails.asp?SearchYear=2013&rID=17243&ssid=414203-10976&command=&auth_name=&county=&auth_type=&method=&dependency=&juris_type=&sdreg=\n",
      "http://www.dca.state.ga.us/development/research/programs/RASearch/RADetails.asp?SearchYear=2013&rID=17261&ssid=415503-803&command=&auth_name=&county=&auth_type=&method=&dependency=&juris_type=&sdreg=\n",
      "http://www.dca.state.ga.us/development/research/programs/RASearch/RADetails.asp?SearchYear=2013&rID=17880&ssid=40906-0753&command=&auth_name=&county=&auth_type=&method=&dependency=&juris_type=&sdreg=\n",
      "http://www.dca.state.ga.us/development/research/programs/RASearch/RADetails.asp?SearchYear=2013&rID=17595&ssid=402407-0577&command=&auth_name=&county=&auth_type=&method=&dependency=&juris_type=&sdreg=\n",
      "http://www.dca.state.ga.us/development/research/programs/RASearch/RADetails.asp?SearchYear=2013&rID=18070&ssid=41006-0313533&command=&auth_name=&county=&auth_type=&method=&dependency=&juris_type=&sdreg=\n",
      "http://www.dca.state.ga.us/development/research/programs/RASearch/RADetails.asp?SearchYear=2013&rID=17758&ssid=400203-2017&command=&auth_name=&county=&auth_type=&method=&dependency=&juris_type=&sdreg=\n",
      "http://www.dca.state.ga.us/development/research/programs/RASearch/RADetails.asp?SearchYear=2013&rID=17390&ssid=400103-0354&command=&auth_name=&county=&auth_type=&method=&dependency=&juris_type=&sdreg=\n",
      "http://www.dca.state.ga.us/development/research/programs/RASearch/RADetails.asp?SearchYear=2013&rID=16968&ssid=400403-0245&command=&auth_name=&county=&auth_type=&method=&dependency=&juris_type=&sdreg=\n",
      "http://www.dca.state.ga.us/development/research/programs/RASearch/RADetails.asp?SearchYear=2013&rID=17021&ssid=400107-0880&command=&auth_name=&county=&auth_type=&method=&dependency=&juris_type=&sdreg=\n",
      "http://www.dca.state.ga.us/development/research/programs/RASearch/RADetails.asp?SearchYear=2013&rID=17664&ssid=403803-1839&command=&auth_name=&county=&auth_type=&method=&dependency=&juris_type=&sdreg=\n",
      "http://www.dca.state.ga.us/development/research/programs/RASearch/RADetails.asp?SearchYear=2013&rID=17369&ssid=400603-0276&command=&auth_name=&county=&auth_type=&method=&dependency=&juris_type=&sdreg=\n",
      "http://www.dca.state.ga.us/development/research/programs/RASearch/RADetails.asp?SearchYear=2013&rID=17614&ssid=412803-8874&command=&auth_name=&county=&auth_type=&method=&dependency=&juris_type=&sdreg=\n",
      "http://www.dca.state.ga.us/development/research/programs/RASearch/RADetails.asp?SearchYear=2013&rID=17282&ssid=400903-0303&command=&auth_name=&county=&auth_type=&method=&dependency=&juris_type=&sdreg=\n",
      "http://www.dca.state.ga.us/development/research/programs/RASearch/RADetails.asp?SearchYear=2013&rID=17449&ssid=400307-1220&command=&auth_name=&county=&auth_type=&method=&dependency=&juris_type=&sdreg=\n",
      "http://www.dca.state.ga.us/development/research/programs/RASearch/RADetails.asp?SearchYear=2013&rID=17496&ssid=400503-0308&command=&auth_name=&county=&auth_type=&method=&dependency=&juris_type=&sdreg=\n",
      "http://www.dca.state.ga.us/development/research/programs/RASearch/RADetails.asp?SearchYear=2013&rID=17763&ssid=40063-744&command=&auth_name=&county=&auth_type=&method=&dependency=&juris_type=&sdreg=\n",
      "http://www.dca.state.ga.us/development/research/programs/RASearch/RADetails.asp?SearchYear=2013&rID=17393&ssid=409903-8799&command=&auth_name=&county=&auth_type=&method=&dependency=&juris_type=&sdreg=\n",
      "http://www.dca.state.ga.us/development/research/programs/RASearch/RADetails.asp?SearchYear=2013&rID=17068&ssid=402903-1675&command=&auth_name=&county=&auth_type=&method=&dependency=&juris_type=&sdreg=\n",
      "http://www.dca.state.ga.us/development/research/programs/RASearch/RADetails.asp?SearchYear=2013&rID=17660&ssid=413703-0612&command=&auth_name=&county=&auth_type=&method=&dependency=&juris_type=&sdreg=\n",
      "http://www.dca.state.ga.us/development/research/programs/RASearch/RADetails.asp?SearchYear=2013&rID=17957&ssid=400603-0261&command=&auth_name=&county=&auth_type=&method=&dependency=&juris_type=&sdreg=\n",
      "http://www.dca.state.ga.us/development/research/programs/RASearch/RADetails.asp?SearchYear=2013&rID=17868&ssid=414407-0434&command=&auth_name=&county=&auth_type=&method=&dependency=&juris_type=&sdreg=\n",
      "http://www.dca.state.ga.us/development/research/programs/RASearch/RADetails.asp?SearchYear=2013&rID=17934&ssid=400207-1019&command=&auth_name=&county=&auth_type=&method=&dependency=&juris_type=&sdreg=\n",
      "http://www.dca.state.ga.us/development/research/programs/RASearch/RADetails.asp?SearchYear=2013&rID=17597&ssid=414703-0195&command=&auth_name=&county=&auth_type=&method=&dependency=&juris_type=&sdreg=\n",
      "http://www.dca.state.ga.us/development/research/programs/RASearch/RADetails.asp?SearchYear=2013&rID=16999&ssid=414903-2853&command=&auth_name=&county=&auth_type=&method=&dependency=&juris_type=&sdreg=\n",
      "http://www.dca.state.ga.us/development/research/programs/RASearch/RADetails.asp?SearchYear=2013&rID=17020&ssid=415003-3050&command=&auth_name=&county=&auth_type=&method=&dependency=&juris_type=&sdreg=\n",
      "http://www.dca.state.ga.us/development/research/programs/RASearch/RADetails.asp?SearchYear=2013&rID=17973&ssid=41112-0313578&command=&auth_name=&county=&auth_type=&method=&dependency=&juris_type=&sdreg=\n",
      "http://www.dca.state.ga.us/development/research/programs/RASearch/RADetails.asp?SearchYear=2013&rID=17931&ssid=415303-0649&command=&auth_name=&county=&auth_type=&method=&dependency=&juris_type=&sdreg=\n",
      "http://www.dca.state.ga.us/development/research/programs/RASearch/RADetails.asp?SearchYear=2013&rID=17790&ssid=415503-0554&command=&auth_name=&county=&auth_type=&method=&dependency=&juris_type=&sdreg=\n",
      "http://www.dca.state.ga.us/development/research/programs/RASearch/RADetails.asp?SearchYear=2013&rID=17438&ssid=415803-0317&command=&auth_name=&county=&auth_type=&method=&dependency=&juris_type=&sdreg=\n",
      "http://www.dca.state.ga.us/development/research/programs/RASearch/RADetails.asp?SearchYear=2013&rID=17715&ssid=415903-10958&command=&auth_name=&county=&auth_type=&method=&dependency=&juris_type=&sdreg=\n",
      "http://www.dca.state.ga.us/development/research/programs/RASearch/RADetails.asp?SearchYear=2013&rID=17165&ssid=404505-8794&command=&auth_name=&county=&auth_type=&method=&dependency=&juris_type=&sdreg=\n",
      "http://www.dca.state.ga.us/development/research/programs/RASearch/RADetails.asp?SearchYear=2013&rID=17729&ssid=404503-1684&command=&auth_name=&county=&auth_type=&method=&dependency=&juris_type=&sdreg=\n",
      "http://www.dca.state.ga.us/development/research/programs/RASearch/RADetails.asp?SearchYear=2013&rID=17466&ssid=404607-0211&command=&auth_name=&county=&auth_type=&method=&dependency=&juris_type=&sdreg=\n",
      "http://www.dca.state.ga.us/development/research/programs/RASearch/RADetails.asp?SearchYear=2013&rID=18076&ssid=41306-04745&command=&auth_name=&county=&auth_type=&method=&dependency=&juris_type=&sdreg=\n",
      "http://www.dca.state.ga.us/development/research/programs/RASearch/RADetails.asp?SearchYear=2013&rID=17297&ssid=404716-0872&command=&auth_name=&county=&auth_type=&method=&dependency=&juris_type=&sdreg=\n",
      "http://www.dca.state.ga.us/development/research/programs/RASearch/RADetails.asp?SearchYear=2013&rID=17163&ssid=403407-0666&command=&auth_name=&county=&auth_type=&method=&dependency=&juris_type=&sdreg=\n",
      "http://www.dca.state.ga.us/development/research/programs/RASearch/RADetails.asp?SearchYear=2013&rID=17511&ssid=404819-846&command=&auth_name=&county=&auth_type=&method=&dependency=&juris_type=&sdreg=\n",
      "http://www.dca.state.ga.us/development/research/programs/RASearch/RADetails.asp?SearchYear=2013&rID=17096&ssid=400118-0416&command=&auth_name=&county=&auth_type=&method=&dependency=&juris_type=&sdreg=\n",
      "http://www.dca.state.ga.us/development/research/programs/RASearch/RADetails.asp?SearchYear=2013&rID=17030&ssid=402904-1143&command=&auth_name=&county=&auth_type=&method=&dependency=&juris_type=&sdreg=\n",
      "http://www.dca.state.ga.us/development/research/programs/RASearch/RADetails.asp?SearchYear=2013&rID=17467&ssid=41209-0413585&command=&auth_name=&county=&auth_type=&method=&dependency=&juris_type=&sdreg=\n",
      "http://www.dca.state.ga.us/development/research/programs/RASearch/RADetails.asp?SearchYear=2013&rID=18020&ssid=400204-0607&command=&auth_name=&county=&auth_type=&method=&dependency=&juris_type=&sdreg=\n",
      "http://www.dca.state.ga.us/development/research/programs/RASearch/RADetails.asp?SearchYear=2013&rID=17727&ssid=40014-36&command=&auth_name=&county=&auth_type=&method=&dependency=&juris_type=&sdreg=\n",
      "http://www.dca.state.ga.us/development/research/programs/RASearch/RADetails.asp?SearchYear=2013&rID=17963&ssid=415404-515&command=&auth_name=&county=&auth_type=&method=&dependency=&juris_type=&sdreg=\n",
      "http://www.dca.state.ga.us/development/research/programs/RASearch/RADetails.asp?SearchYear=2013&rID=18002&ssid=400104-0198&command=&auth_name=&county=&auth_type=&method=&dependency=&juris_type=&sdreg=\n",
      "http://www.dca.state.ga.us/development/research/programs/RASearch/RADetails.asp?SearchYear=2013&rID=17697&ssid=400304-2828&command=&auth_name=&county=&auth_type=&method=&dependency=&juris_type=&sdreg=\n",
      "http://www.dca.state.ga.us/development/research/programs/RASearch/RADetails.asp?SearchYear=2013&rID=17632&ssid=41011-0413528&command=&auth_name=&county=&auth_type=&method=&dependency=&juris_type=&sdreg=\n",
      "http://www.dca.state.ga.us/development/research/programs/RASearch/RADetails.asp?SearchYear=2013&rID=17333&ssid=40906-0456&command=&auth_name=&county=&auth_type=&method=&dependency=&juris_type=&sdreg=\n",
      "http://www.dca.state.ga.us/development/research/programs/RASearch/RADetails.asp?SearchYear=2013&rID=17949&ssid=400204-0870&command=&auth_name=&county=&auth_type=&method=&dependency=&juris_type=&sdreg=\n",
      "http://www.dca.state.ga.us/development/research/programs/RASearch/RADetails.asp?SearchYear=2013&rID=17785&ssid=40014-629&command=&auth_name=&county=&auth_type=&method=&dependency=&juris_type=&sdreg=\n",
      "http://www.dca.state.ga.us/development/research/programs/RASearch/RADetails.asp?SearchYear=2013&rID=17048&ssid=404704-3751&command=&auth_name=&county=&auth_type=&method=&dependency=&juris_type=&sdreg=\n",
      "http://www.dca.state.ga.us/development/research/programs/RASearch/RADetails.asp?SearchYear=2013&rID=17600&ssid=412104-1693&command=&auth_name=&county=&auth_type=&method=&dependency=&juris_type=&sdreg=\n",
      "http://www.dca.state.ga.us/development/research/programs/RASearch/RADetails.asp?SearchYear=2013&rID=17607&ssid=400204-0643&command=&auth_name=&county=&auth_type=&method=&dependency=&juris_type=&sdreg=\n",
      "http://www.dca.state.ga.us/development/research/programs/RASearch/RADetails.asp?SearchYear=2013&rID=16973&ssid=404404-1804&command=&auth_name=&county=&auth_type=&method=&dependency=&juris_type=&sdreg=\n",
      "http://www.dca.state.ga.us/development/research/programs/RASearch/RADetails.asp?SearchYear=2013&rID=17099&ssid=408504-859&command=&auth_name=&county=&auth_type=&method=&dependency=&juris_type=&sdreg=\n",
      "http://www.dca.state.ga.us/development/research/programs/RASearch/RADetails.asp?SearchYear=2013&rID=17897&ssid=400104-0062&command=&auth_name=&county=&auth_type=&method=&dependency=&juris_type=&sdreg=\n",
      "http://www.dca.state.ga.us/development/research/programs/RASearch/RADetails.asp?SearchYear=2013&rID=17539&ssid=41444-086&command=&auth_name=&county=&auth_type=&method=&dependency=&juris_type=&sdreg=\n",
      "http://www.dca.state.ga.us/development/research/programs/RASearch/RADetails.asp?SearchYear=2013&rID=17275&ssid=400104-0123&command=&auth_name=&county=&auth_type=&method=&dependency=&juris_type=&sdreg=\n",
      "http://www.dca.state.ga.us/development/research/programs/RASearch/RADetails.asp?SearchYear=2013&rID=18055&ssid=407104-1795&command=&auth_name=&county=&auth_type=&method=&dependency=&juris_type=&sdreg=\n",
      "http://www.dca.state.ga.us/development/research/programs/RASearch/RADetails.asp?SearchYear=2013&rID=17302&ssid=405704-10972&command=&auth_name=&county=&auth_type=&method=&dependency=&juris_type=&sdreg=\n",
      "http://www.dca.state.ga.us/development/research/programs/RASearch/RADetails.asp?SearchYear=2013&rID=18050&ssid=400104-0096&command=&auth_name=&county=&auth_type=&method=&dependency=&juris_type=&sdreg=\n",
      "http://www.dca.state.ga.us/development/research/programs/RASearch/RADetails.asp?SearchYear=2013&rID=17271&ssid=400204-0707&command=&auth_name=&county=&auth_type=&method=&dependency=&juris_type=&sdreg=\n",
      "http://www.dca.state.ga.us/development/research/programs/RASearch/RADetails.asp?SearchYear=2013&rID=17239&ssid=400204-0152&command=&auth_name=&county=&auth_type=&method=&dependency=&juris_type=&sdreg=\n",
      "http://www.dca.state.ga.us/development/research/programs/RASearch/RADetails.asp?SearchYear=2013&rID=17704&ssid=400404-0781&command=&auth_name=&county=&auth_type=&method=&dependency=&juris_type=&sdreg=\n",
      "http://www.dca.state.ga.us/development/research/programs/RASearch/RADetails.asp?SearchYear=2013&rID=17061&ssid=404204-8806&command=&auth_name=&county=&auth_type=&method=&dependency=&juris_type=&sdreg=\n",
      "http://www.dca.state.ga.us/development/research/programs/RASearch/RADetails.asp?SearchYear=2013&rID=17805&ssid=40812-0413&command=&auth_name=&county=&auth_type=&method=&dependency=&juris_type=&sdreg=\n",
      "http://www.dca.state.ga.us/development/research/programs/RASearch/RADetails.asp?SearchYear=2013&rID=17906&ssid=400104-0332&command=&auth_name=&county=&auth_type=&method=&dependency=&juris_type=&sdreg=\n",
      "http://www.dca.state.ga.us/development/research/programs/RASearch/RADetails.asp?SearchYear=2013&rID=17594&ssid=400304-0532&command=&auth_name=&county=&auth_type=&method=&dependency=&juris_type=&sdreg=\n",
      "http://www.dca.state.ga.us/development/research/programs/RASearch/RADetails.asp?SearchYear=2013&rID=17288&ssid=41212-0413582&command=&auth_name=&county=&auth_type=&method=&dependency=&juris_type=&sdreg=\n",
      "http://www.dca.state.ga.us/development/research/programs/RASearch/RADetails.asp?SearchYear=2013&rID=17006&ssid=400504-0692&command=&auth_name=&county=&auth_type=&method=&dependency=&juris_type=&sdreg=\n",
      "http://www.dca.state.ga.us/development/research/programs/RASearch/RADetails.asp?SearchYear=2013&rID=17647&ssid=400104-0031&command=&auth_name=&county=&auth_type=&method=&dependency=&juris_type=&sdreg=\n",
      "http://www.dca.state.ga.us/development/research/programs/RASearch/RADetails.asp?SearchYear=2013&rID=17042&ssid=400204-2820&command=&auth_name=&county=&auth_type=&method=&dependency=&juris_type=&sdreg=\n",
      "http://www.dca.state.ga.us/development/research/programs/RASearch/RADetails.asp?SearchYear=2013&rID=17965&ssid=403004-3700&command=&auth_name=&county=&auth_type=&method=&dependency=&juris_type=&sdreg=\n",
      "http://www.dca.state.ga.us/development/research/programs/RASearch/RADetails.asp?SearchYear=2013&rID=17985&ssid=40812-0440&command=&auth_name=&county=&auth_type=&method=&dependency=&juris_type=&sdreg=\n",
      "http://www.dca.state.ga.us/development/research/programs/RASearch/RADetails.asp?SearchYear=2013&rID=18068&ssid=407504-1820&command=&auth_name=&county=&auth_type=&method=&dependency=&juris_type=&sdreg=\n",
      "http://www.dca.state.ga.us/development/research/programs/RASearch/RADetails.asp?SearchYear=2013&rID=17265&ssid=400204-0137&command=&auth_name=&county=&auth_type=&method=&dependency=&juris_type=&sdreg=\n",
      "http://www.dca.state.ga.us/development/research/programs/RASearch/RADetails.asp?SearchYear=2013&rID=17530&ssid=408904-4783&command=&auth_name=&county=&auth_type=&method=&dependency=&juris_type=&sdreg=\n",
      "http://www.dca.state.ga.us/development/research/programs/RASearch/RADetails.asp?SearchYear=2013&rID=17603&ssid=402804-1802&command=&auth_name=&county=&auth_type=&method=&dependency=&juris_type=&sdreg=\n",
      "http://www.dca.state.ga.us/development/research/programs/RASearch/RADetails.asp?SearchYear=2013&rID=17590&ssid=400503-9999&command=&auth_name=&county=&auth_type=&method=&dependency=&juris_type=&sdreg=\n",
      "http://www.dca.state.ga.us/development/research/programs/RASearch/RADetails.asp?SearchYear=2013&rID=17581&ssid=400504-0400&command=&auth_name=&county=&auth_type=&method=&dependency=&juris_type=&sdreg=\n",
      "http://www.dca.state.ga.us/development/research/programs/RASearch/RADetails.asp?SearchYear=2013&rID=17394&ssid=400304-1868&command=&auth_name=&county=&auth_type=&method=&dependency=&juris_type=&sdreg=\n",
      "http://www.dca.state.ga.us/development/research/programs/RASearch/RADetails.asp?SearchYear=2013&rID=17508&ssid=400604-1803&command=&auth_name=&county=&auth_type=&method=&dependency=&juris_type=&sdreg=\n",
      "http://www.dca.state.ga.us/development/research/programs/RASearch/RADetails.asp?SearchYear=2013&rID=17572&ssid=400104-0700&command=&auth_name=&county=&auth_type=&method=&dependency=&juris_type=&sdreg=\n",
      "http://www.dca.state.ga.us/development/research/programs/RASearch/RADetails.asp?SearchYear=2013&rID=17196&ssid=408204-4755&command=&auth_name=&county=&auth_type=&method=&dependency=&juris_type=&sdreg=\n",
      "http://www.dca.state.ga.us/development/research/programs/RASearch/RADetails.asp?SearchYear=2013&rID=17442&ssid=400104-0462&command=&auth_name=&county=&auth_type=&method=&dependency=&juris_type=&sdreg=\n",
      "http://www.dca.state.ga.us/development/research/programs/RASearch/RADetails.asp?SearchYear=2013&rID=18047&ssid=400604-2840&command=&auth_name=&county=&auth_type=&method=&dependency=&juris_type=&sdreg=\n",
      "http://www.dca.state.ga.us/development/research/programs/RASearch/RADetails.asp?SearchYear=2013&rID=17193&ssid=41212-0413588&command=&auth_name=&county=&auth_type=&method=&dependency=&juris_type=&sdreg=\n",
      "http://www.dca.state.ga.us/development/research/programs/RASearch/RADetails.asp?SearchYear=2013&rID=17321&ssid=415604-6740&command=&auth_name=&county=&auth_type=&method=&dependency=&juris_type=&sdreg=\n",
      "http://www.dca.state.ga.us/development/research/programs/RASearch/RADetails.asp?SearchYear=2013&rID=17644&ssid=41212-0413604&command=&auth_name=&county=&auth_type=&method=&dependency=&juris_type=&sdreg=\n",
      "http://www.dca.state.ga.us/development/research/programs/RASearch/RADetails.asp?SearchYear=2013&rID=17909&ssid=415604-8805&command=&auth_name=&county=&auth_type=&method=&dependency=&juris_type=&sdreg=\n",
      "http://www.dca.state.ga.us/development/research/programs/RASearch/RADetails.asp?SearchYear=2013&rID=17420&ssid=400904-0215&command=&auth_name=&county=&auth_type=&method=&dependency=&juris_type=&sdreg=\n",
      "http://www.dca.state.ga.us/development/research/programs/RASearch/RADetails.asp?SearchYear=2013&rID=18087&ssid=400404-0299&command=&auth_name=&county=&auth_type=&method=&dependency=&juris_type=&sdreg=\n",
      "http://www.dca.state.ga.us/development/research/programs/RASearch/RADetails.asp?SearchYear=2013&rID=17553&ssid=415904-1683&command=&auth_name=&county=&auth_type=&method=&dependency=&juris_type=&sdreg=\n",
      "http://www.dca.state.ga.us/development/research/programs/RASearch/RADetails.asp?SearchYear=2013&rID=17604&ssid=415004-10980&command=&auth_name=&county=&auth_type=&method=&dependency=&juris_type=&sdreg=\n",
      "http://www.dca.state.ga.us/development/research/programs/RASearch/RADetails.asp?SearchYear=2013&rID=17085&ssid=401904-8760&command=&auth_name=&county=&auth_type=&method=&dependency=&juris_type=&sdreg=\n",
      "http://www.dca.state.ga.us/development/research/programs/RASearch/RADetails.asp?SearchYear=2013&rID=17244&ssid=414204-10977&command=&auth_name=&county=&auth_type=&method=&dependency=&juris_type=&sdreg=\n",
      "http://www.dca.state.ga.us/development/research/programs/RASearch/RADetails.asp?SearchYear=2013&rID=17681&ssid=400204-0897&command=&auth_name=&county=&auth_type=&method=&dependency=&juris_type=&sdreg=\n",
      "http://www.dca.state.ga.us/development/research/programs/RASearch/RADetails.asp?SearchYear=2013&rID=17956&ssid=410104-3703&command=&auth_name=&county=&auth_type=&method=&dependency=&juris_type=&sdreg=\n",
      "http://www.dca.state.ga.us/development/research/programs/RASearch/RADetails.asp?SearchYear=2013&rID=17550&ssid=400204-0758&command=&auth_name=&county=&auth_type=&method=&dependency=&juris_type=&sdreg=\n",
      "http://www.dca.state.ga.us/development/research/programs/RASearch/RADetails.asp?SearchYear=2013&rID=17726&ssid=41212-0413597&command=&auth_name=&county=&auth_type=&method=&dependency=&juris_type=&sdreg=\n",
      "http://www.dca.state.ga.us/development/research/programs/RASearch/RADetails.asp?SearchYear=2013&rID=17948&ssid=402804-0868&command=&auth_name=&county=&auth_type=&method=&dependency=&juris_type=&sdreg=\n",
      "http://www.dca.state.ga.us/development/research/programs/RASearch/RADetails.asp?SearchYear=2013&rID=17471&ssid=405904-8866&command=&auth_name=&county=&auth_type=&method=&dependency=&juris_type=&sdreg=\n",
      "http://www.dca.state.ga.us/development/research/programs/RASearch/RADetails.asp?SearchYear=2013&rID=18018&ssid=41312-04&command=&auth_name=&county=&auth_type=&method=&dependency=&juris_type=&sdreg=\n",
      "http://www.dca.state.ga.us/development/research/programs/RASearch/RADetails.asp?SearchYear=2013&rID=17429&ssid=41112-0413560&command=&auth_name=&county=&auth_type=&method=&dependency=&juris_type=&sdreg=\n",
      "http://www.dca.state.ga.us/development/research/programs/RASearch/RADetails.asp?SearchYear=2013&rID=17461&ssid=409304-1688&command=&auth_name=&county=&auth_type=&method=&dependency=&juris_type=&sdreg=\n",
      "http://www.dca.state.ga.us/development/research/programs/RASearch/RADetails.asp?SearchYear=2013&rID=17611&ssid=400104-0027&command=&auth_name=&county=&auth_type=&method=&dependency=&juris_type=&sdreg=\n",
      "http://www.dca.state.ga.us/development/research/programs/RASearch/RADetails.asp?SearchYear=2013&rID=17890&ssid=409704-10900&command=&auth_name=&county=&auth_type=&method=&dependency=&juris_type=&sdreg=\n",
      "http://www.dca.state.ga.us/development/research/programs/RASearch/RADetails.asp?SearchYear=2013&rID=17951&ssid=40014-670&command=&auth_name=&county=&auth_type=&method=&dependency=&juris_type=&sdreg=\n",
      "http://www.dca.state.ga.us/development/research/programs/RASearch/RADetails.asp?SearchYear=2013&rID=17578&ssid=400204-0329&command=&auth_name=&county=&auth_type=&method=&dependency=&juris_type=&sdreg=\n",
      "http://www.dca.state.ga.us/development/research/programs/RASearch/RADetails.asp?SearchYear=2013&rID=17792&ssid=400404-0025&command=&auth_name=&county=&auth_type=&method=&dependency=&juris_type=&sdreg=\n",
      "http://www.dca.state.ga.us/development/research/programs/RASearch/RADetails.asp?SearchYear=2013&rID=18053&ssid=400104-0414&command=&auth_name=&county=&auth_type=&method=&dependency=&juris_type=&sdreg=\n",
      "http://www.dca.state.ga.us/development/research/programs/RASearch/RADetails.asp?SearchYear=2013&rID=17907&ssid=41212-0413595&command=&auth_name=&county=&auth_type=&method=&dependency=&juris_type=&sdreg=\n",
      "http://www.dca.state.ga.us/development/research/programs/RASearch/RADetails.asp?SearchYear=2013&rID=18074&ssid=400104-3077&command=&auth_name=&county=&auth_type=&method=&dependency=&juris_type=&sdreg=\n",
      "http://www.dca.state.ga.us/development/research/programs/RASearch/RADetails.asp?SearchYear=2013&rID=17959&ssid=415304-818&command=&auth_name=&county=&auth_type=&method=&dependency=&juris_type=&sdreg=\n",
      "http://www.dca.state.ga.us/development/research/programs/RASearch/RADetails.asp?SearchYear=2013&rID=17929&ssid=406604-3712&command=&auth_name=&county=&auth_type=&method=&dependency=&juris_type=&sdreg=\n",
      "http://www.dca.state.ga.us/development/research/programs/RASearch/RADetails.asp?SearchYear=2013&rID=17290&ssid=40184-842&command=&auth_name=&county=&auth_type=&method=&dependency=&juris_type=&sdreg=\n",
      "http://www.dca.state.ga.us/development/research/programs/RASearch/RADetails.asp?SearchYear=2013&rID=18003&ssid=414304-4763&command=&auth_name=&county=&auth_type=&method=&dependency=&juris_type=&sdreg=\n",
      "http://www.dca.state.ga.us/development/research/programs/RASearch/RADetails.asp?SearchYear=2013&rID=17750&ssid=400204-0484&command=&auth_name=&county=&auth_type=&method=&dependency=&juris_type=&sdreg=\n",
      "http://www.dca.state.ga.us/development/research/programs/RASearch/RADetails.asp?SearchYear=2013&rID=17105&ssid=400204-2836&command=&auth_name=&county=&auth_type=&method=&dependency=&juris_type=&sdreg=\n",
      "http://www.dca.state.ga.us/development/research/programs/RASearch/RADetails.asp?SearchYear=2013&rID=17285&ssid=407504-3714&command=&auth_name=&county=&auth_type=&method=&dependency=&juris_type=&sdreg=\n",
      "http://www.dca.state.ga.us/development/research/programs/RASearch/RADetails.asp?SearchYear=2013&rID=17546&ssid=414704-8872&command=&auth_name=&county=&auth_type=&method=&dependency=&juris_type=&sdreg=\n",
      "http://www.dca.state.ga.us/development/research/programs/RASearch/RADetails.asp?SearchYear=2013&rID=18072&ssid=41312-04166&command=&auth_name=&county=&auth_type=&method=&dependency=&juris_type=&sdreg=\n",
      "http://www.dca.state.ga.us/development/research/programs/RASearch/RADetails.asp?SearchYear=2013&rID=17719&ssid=408504-10921&command=&auth_name=&county=&auth_type=&method=&dependency=&juris_type=&sdreg=\n",
      "http://www.dca.state.ga.us/development/research/programs/RASearch/RADetails.asp?SearchYear=2013&rID=17824&ssid=414704-0893&command=&auth_name=&county=&auth_type=&method=&dependency=&juris_type=&sdreg=\n",
      "http://www.dca.state.ga.us/development/research/programs/RASearch/RADetails.asp?SearchYear=2013&rID=17323&ssid=403104-3758&command=&auth_name=&county=&auth_type=&method=&dependency=&juris_type=&sdreg=\n",
      "http://www.dca.state.ga.us/development/research/programs/RASearch/RADetails.asp?SearchYear=2013&rID=17665&ssid=400404-0586&command=&auth_name=&county=&auth_type=&method=&dependency=&juris_type=&sdreg=\n",
      "http://www.dca.state.ga.us/development/research/programs/RASearch/RADetails.asp?SearchYear=2013&rID=17969&ssid=406704-3747&command=&auth_name=&county=&auth_type=&method=&dependency=&juris_type=&sdreg=\n",
      "http://www.dca.state.ga.us/development/research/programs/RASearch/RADetails.asp?SearchYear=2013&rID=18049&ssid=41306-04200&command=&auth_name=&county=&auth_type=&method=&dependency=&juris_type=&sdreg=\n",
      "http://www.dca.state.ga.us/development/research/programs/RASearch/RADetails.asp?SearchYear=2013&rID=17725&ssid=40763-813&command=&auth_name=&county=&auth_type=&method=&dependency=&juris_type=&sdreg=\n",
      "http://www.dca.state.ga.us/development/research/programs/RASearch/RADetails.asp?SearchYear=2013&rID=17615&ssid=400204-0384&command=&auth_name=&county=&auth_type=&method=&dependency=&juris_type=&sdreg=\n",
      "http://www.dca.state.ga.us/development/research/programs/RASearch/RADetails.asp?SearchYear=2013&rID=17743&ssid=402304-10929&command=&auth_name=&county=&auth_type=&method=&dependency=&juris_type=&sdreg=\n",
      "http://www.dca.state.ga.us/development/research/programs/RASearch/RADetails.asp?SearchYear=2013&rID=17140&ssid=400204-0135&command=&auth_name=&county=&auth_type=&method=&dependency=&juris_type=&sdreg=\n",
      "http://www.dca.state.ga.us/development/research/programs/RASearch/RADetails.asp?SearchYear=2013&rID=17638&ssid=400404-0015&command=&auth_name=&county=&auth_type=&method=&dependency=&juris_type=&sdreg=\n",
      "http://www.dca.state.ga.us/development/research/programs/RASearch/RADetails.asp?SearchYear=2013&rID=17904&ssid=400904-0304&command=&auth_name=&county=&auth_type=&method=&dependency=&juris_type=&sdreg=\n",
      "http://www.dca.state.ga.us/development/research/programs/RASearch/RADetails.asp?SearchYear=2013&rID=16985&ssid=400504-0651&command=&auth_name=&county=&auth_type=&method=&dependency=&juris_type=&sdreg=\n",
      "http://www.dca.state.ga.us/development/research/programs/RASearch/RADetails.asp?SearchYear=2013&rID=17870&ssid=400504-2022&command=&auth_name=&county=&auth_type=&method=&dependency=&juris_type=&sdreg=\n",
      "http://www.dca.state.ga.us/development/research/programs/RASearch/RADetails.asp?SearchYear=2013&rID=17406&ssid=404403-10925&command=&auth_name=&county=&auth_type=&method=&dependency=&juris_type=&sdreg=\n",
      "http://www.dca.state.ga.us/development/research/programs/RASearch/RADetails.asp?SearchYear=2013&rID=17374&ssid=400304-0273&command=&auth_name=&county=&auth_type=&method=&dependency=&juris_type=&sdreg=\n",
      "http://www.dca.state.ga.us/development/research/programs/RASearch/RADetails.asp?SearchYear=2013&rID=17476&ssid=400204-0867&command=&auth_name=&county=&auth_type=&method=&dependency=&juris_type=&sdreg=\n",
      "http://www.dca.state.ga.us/development/research/programs/RASearch/RADetails.asp?SearchYear=2013&rID=17958&ssid=413703-0160&command=&auth_name=&county=&auth_type=&method=&dependency=&juris_type=&sdreg=\n",
      "http://www.dca.state.ga.us/development/research/programs/RASearch/RADetails.asp?SearchYear=2013&rID=17642&ssid=40043-456&command=&auth_name=&county=&auth_type=&method=&dependency=&juris_type=&sdreg=\n",
      "http://www.dca.state.ga.us/development/research/programs/RASearch/RADetails.asp?SearchYear=2013&rID=17495&ssid=400504-0348&command=&auth_name=&county=&auth_type=&method=&dependency=&juris_type=&sdreg=\n",
      "http://www.dca.state.ga.us/development/research/programs/RASearch/RADetails.asp?SearchYear=2013&rID=17329&ssid=40044-593&command=&auth_name=&county=&auth_type=&method=&dependency=&juris_type=&sdreg=\n",
      "http://www.dca.state.ga.us/development/research/programs/RASearch/RADetails.asp?SearchYear=2013&rID=17896&ssid=409904-1662&command=&auth_name=&county=&auth_type=&method=&dependency=&juris_type=&sdreg=\n",
      "http://www.dca.state.ga.us/development/research/programs/RASearch/RADetails.asp?SearchYear=2013&rID=17001&ssid=414904-1827&command=&auth_name=&county=&auth_type=&method=&dependency=&juris_type=&sdreg=\n",
      "http://www.dca.state.ga.us/development/research/programs/RASearch/RADetails.asp?SearchYear=2013&rID=18022&ssid=411404-864&command=&auth_name=&county=&auth_type=&method=&dependency=&juris_type=&sdreg=\n",
      "http://www.dca.state.ga.us/development/research/programs/RASearch/RADetails.asp?SearchYear=2013&rID=17657&ssid=400704-0387&command=&auth_name=&county=&auth_type=&method=&dependency=&juris_type=&sdreg=\n",
      "http://www.dca.state.ga.us/development/research/programs/RASearch/RADetails.asp?SearchYear=2013&rID=17337&ssid=400104-2976&command=&auth_name=&county=&auth_type=&method=&dependency=&juris_type=&sdreg=\n",
      "http://www.dca.state.ga.us/development/research/programs/RASearch/RADetails.asp?SearchYear=2013&rID=17318&ssid=400204-0629&command=&auth_name=&county=&auth_type=&method=&dependency=&juris_type=&sdreg=\n",
      "http://www.dca.state.ga.us/development/research/programs/RASearch/RADetails.asp?SearchYear=2013&rID=17170&ssid=406604-8801&command=&auth_name=&county=&auth_type=&method=&dependency=&juris_type=&sdreg=\n",
      "http://www.dca.state.ga.us/development/research/programs/RASearch/RADetails.asp?SearchYear=2013&rID=17392&ssid=400704-0785&command=&auth_name=&county=&auth_type=&method=&dependency=&juris_type=&sdreg=\n",
      "http://www.dca.state.ga.us/development/research/programs/RASearch/RADetails.asp?SearchYear=2013&rID=16960&ssid=40054-686&command=&auth_name=&county=&auth_type=&method=&dependency=&juris_type=&sdreg=\n",
      "http://www.dca.state.ga.us/development/research/programs/RASearch/RADetails.asp?SearchYear=2013&rID=18069&ssid=400104-0342&command=&auth_name=&county=&auth_type=&method=&dependency=&juris_type=&sdreg=\n",
      "http://www.dca.state.ga.us/development/research/programs/RASearch/RADetails.asp?SearchYear=2013&rID=17100&ssid=400204-2834&command=&auth_name=&county=&auth_type=&method=&dependency=&juris_type=&sdreg=\n",
      "http://www.dca.state.ga.us/development/research/programs/RASearch/RADetails.asp?SearchYear=2013&rID=17700&ssid=400303-0618&command=&auth_name=&county=&auth_type=&method=&dependency=&juris_type=&sdreg=\n",
      "http://www.dca.state.ga.us/development/research/programs/RASearch/RADetails.asp?SearchYear=2013&rID=17588&ssid=400604-0838&command=&auth_name=&county=&auth_type=&method=&dependency=&juris_type=&sdreg=\n",
      "http://www.dca.state.ga.us/development/research/programs/RASearch/RADetails.asp?SearchYear=2013&rID=17895&ssid=400304-0748&command=&auth_name=&county=&auth_type=&method=&dependency=&juris_type=&sdreg=\n",
      "http://www.dca.state.ga.us/development/research/programs/RASearch/RADetails.asp?SearchYear=2013&rID=17768&ssid=414804-1652&command=&auth_name=&county=&auth_type=&method=&dependency=&juris_type=&sdreg=\n",
      "http://www.dca.state.ga.us/development/research/programs/RASearch/RADetails.asp?SearchYear=2013&rID=17540&ssid=400304-0610&command=&auth_name=&county=&auth_type=&method=&dependency=&juris_type=&sdreg=\n",
      "http://www.dca.state.ga.us/development/research/programs/RASearch/RADetails.asp?SearchYear=2013&rID=17081&ssid=408703-806&command=&auth_name=&county=&auth_type=&method=&dependency=&juris_type=&sdreg=\n",
      "http://www.dca.state.ga.us/development/research/programs/RASearch/RADetails.asp?SearchYear=2013&rID=17541&ssid=41112-0313572&command=&auth_name=&county=&auth_type=&method=&dependency=&juris_type=&sdreg=\n",
      "http://www.dca.state.ga.us/development/research/programs/RASearch/RADetails.asp?SearchYear=2013&rID=17967&ssid=406002-6770&command=&auth_name=&county=&auth_type=&method=&dependency=&juris_type=&sdreg=\n",
      "http://www.dca.state.ga.us/development/research/programs/RASearch/RADetails.asp?SearchYear=2013&rID=17521&ssid=406004-823&command=&auth_name=&county=&auth_type=&method=&dependency=&juris_type=&sdreg=\n",
      "http://www.dca.state.ga.us/development/research/programs/RASearch/RADetails.asp?SearchYear=2013&rID=17852&ssid=408-0416&command=&auth_name=&county=&auth_type=&method=&dependency=&juris_type=&sdreg=\n",
      "http://www.dca.state.ga.us/development/research/programs/RASearch/RADetails.asp?SearchYear=2013&rID=17230&ssid=411718-8800&command=&auth_name=&county=&auth_type=&method=&dependency=&juris_type=&sdreg=\n",
      "http://www.dca.state.ga.us/development/research/programs/RASearch/RADetails.asp?SearchYear=2013&rID=17200&ssid=405107-0335&command=&auth_name=&county=&auth_type=&method=&dependency=&juris_type=&sdreg=\n",
      "http://www.dca.state.ga.us/development/research/programs/RASearch/RADetails.asp?SearchYear=2013&rID=17000&ssid=405203-0880&command=&auth_name=&county=&auth_type=&method=&dependency=&juris_type=&sdreg=\n",
      "http://www.dca.state.ga.us/development/research/programs/RASearch/RADetails.asp?SearchYear=2013&rID=17014&ssid=400204-2856&command=&auth_name=&county=&auth_type=&method=&dependency=&juris_type=&sdreg=\n",
      "http://www.dca.state.ga.us/development/research/programs/RASearch/RADetails.asp?SearchYear=2013&rID=17878&ssid=400118-0194&command=&auth_name=&county=&auth_type=&method=&dependency=&juris_type=&sdreg=\n",
      "http://www.dca.state.ga.us/development/research/programs/RASearch/RADetails.asp?SearchYear=2013&rID=17808&ssid=405303-0057&command=&auth_name=&county=&auth_type=&method=&dependency=&juris_type=&sdreg=\n",
      "http://www.dca.state.ga.us/development/research/programs/RASearch/RADetails.asp?SearchYear=2013&rID=17781&ssid=405305-2837&command=&auth_name=&county=&auth_type=&method=&dependency=&juris_type=&sdreg=\n",
      "http://www.dca.state.ga.us/development/research/programs/RASearch/RADetails.asp?SearchYear=2013&rID=17186&ssid=405319-3059&command=&auth_name=&county=&auth_type=&method=&dependency=&juris_type=&sdreg=\n",
      "http://www.dca.state.ga.us/development/research/programs/RASearch/RADetails.asp?SearchYear=2013&rID=17809&ssid=405308-2182&command=&auth_name=&county=&auth_type=&method=&dependency=&juris_type=&sdreg=\n",
      "http://www.dca.state.ga.us/development/research/programs/RASearch/RADetails.asp?SearchYear=2013&rID=17901&ssid=400206-2914&command=&auth_name=&county=&auth_type=&method=&dependency=&juris_type=&sdreg=\n",
      "http://www.dca.state.ga.us/development/research/programs/RASearch/RADetails.asp?SearchYear=2013&rID=16969&ssid=404218-1831&command=&auth_name=&county=&auth_type=&method=&dependency=&juris_type=&sdreg=\n",
      "http://www.dca.state.ga.us/development/research/programs/RASearch/RADetails.asp?SearchYear=2013&rID=17485&ssid=405407-3766&command=&auth_name=&county=&auth_type=&method=&dependency=&juris_type=&sdreg=\n",
      "http://www.dca.state.ga.us/development/research/programs/RASearch/RADetails.asp?SearchYear=2013&rID=17174&ssid=400506-0580&command=&auth_name=&county=&auth_type=&method=&dependency=&juris_type=&sdreg=\n",
      "http://www.dca.state.ga.us/development/research/programs/RASearch/RADetails.asp?SearchYear=2013&rID=17439&ssid=400521-0879&command=&auth_name=&county=&auth_type=&method=&dependency=&juris_type=&sdreg=\n",
      "http://www.dca.state.ga.us/development/research/programs/RASearch/RADetails.asp?SearchYear=2013&rID=17018&ssid=405503-0435&command=&auth_name=&county=&auth_type=&method=&dependency=&juris_type=&sdreg=\n",
      "http://www.dca.state.ga.us/development/research/programs/RASearch/RADetails.asp?SearchYear=2013&rID=18034&ssid=405603-0267&command=&auth_name=&county=&auth_type=&method=&dependency=&juris_type=&sdreg=\n",
      "http://www.dca.state.ga.us/development/research/programs/RASearch/RADetails.asp?SearchYear=2013&rID=17989&ssid=405619-835&command=&auth_name=&county=&auth_type=&method=&dependency=&juris_type=&sdreg=\n",
      "http://www.dca.state.ga.us/development/research/programs/RASearch/RADetails.asp?SearchYear=2013&rID=17646&ssid=400107-0428&command=&auth_name=&county=&auth_type=&method=&dependency=&juris_type=&sdreg=\n",
      "http://www.dca.state.ga.us/development/research/programs/RASearch/RADetails.asp?SearchYear=2013&rID=17645&ssid=400117-0456&command=&auth_name=&county=&auth_type=&method=&dependency=&juris_type=&sdreg=\n",
      "http://www.dca.state.ga.us/development/research/programs/RASearch/RADetails.asp?SearchYear=2013&rID=17918&ssid=409606-867&command=&auth_name=&county=&auth_type=&method=&dependency=&juris_type=&sdreg=\n",
      "http://www.dca.state.ga.us/development/research/programs/RASearch/RADetails.asp?SearchYear=2013&rID=17688&ssid=406903-8870&command=&auth_name=&county=&auth_type=&method=&dependency=&juris_type=&sdreg=\n",
      "http://www.dca.state.ga.us/development/research/programs/RASearch/RADetails.asp?SearchYear=2013&rID=18066&ssid=400107-0222&command=&auth_name=&county=&auth_type=&method=&dependency=&juris_type=&sdreg=\n",
      "http://www.dca.state.ga.us/development/research/programs/RASearch/RADetails.asp?SearchYear=2013&rID=17190&ssid=41012-2013535&command=&auth_name=&county=&auth_type=&method=&dependency=&juris_type=&sdreg=\n",
      "http://www.dca.state.ga.us/development/research/programs/RASearch/RADetails.asp?SearchYear=2013&rID=17788&ssid=405818-2160&command=&auth_name=&county=&auth_type=&method=&dependency=&juris_type=&sdreg=\n",
      "http://www.dca.state.ga.us/development/research/programs/RASearch/RADetails.asp?SearchYear=2013&rID=17204&ssid=411104-4003&command=&auth_name=&county=&auth_type=&method=&dependency=&juris_type=&sdreg=\n",
      "http://www.dca.state.ga.us/development/research/programs/RASearch/RADetails.asp?SearchYear=2013&rID=17430&ssid=405919-1409&command=&auth_name=&county=&auth_type=&method=&dependency=&juris_type=&sdreg=\n",
      "http://www.dca.state.ga.us/development/research/programs/RASearch/RADetails.asp?SearchYear=2013&rID=17831&ssid=405918-0655&command=&auth_name=&county=&auth_type=&method=&dependency=&juris_type=&sdreg=\n",
      "http://www.dca.state.ga.us/development/research/programs/RASearch/RADetails.asp?SearchYear=2013&rID=18086&ssid=41309-06060&command=&auth_name=&county=&auth_type=&method=&dependency=&juris_type=&sdreg=\n",
      "http://www.dca.state.ga.us/development/research/programs/RASearch/RADetails.asp?SearchYear=2013&rID=17131&ssid=405901-745&command=&auth_name=&county=&auth_type=&method=&dependency=&juris_type=&sdreg=\n",
      "http://www.dca.state.ga.us/development/research/programs/RASearch/RADetails.asp?SearchYear=2013&rID=17814&ssid=41012-2113546&command=&auth_name=&county=&auth_type=&method=&dependency=&juris_type=&sdreg=\n",
      "http://www.dca.state.ga.us/development/research/programs/RASearch/RADetails.asp?SearchYear=2013&rID=17941&ssid=406022-843&command=&auth_name=&county=&auth_type=&method=&dependency=&juris_type=&sdreg=\n",
      "http://www.dca.state.ga.us/development/research/programs/RASearch/RADetails.asp?SearchYear=2013&rID=17791&ssid=400303-0647&command=&auth_name=&county=&auth_type=&method=&dependency=&juris_type=&sdreg=\n",
      "http://www.dca.state.ga.us/development/research/programs/RASearch/RADetails.asp?SearchYear=2013&rID=17724&ssid=400304-0648&command=&auth_name=&county=&auth_type=&method=&dependency=&juris_type=&sdreg=\n",
      "http://www.dca.state.ga.us/development/research/programs/RASearch/RADetails.asp?SearchYear=2013&rID=17535&ssid=402908-6749&command=&auth_name=&county=&auth_type=&method=&dependency=&juris_type=&sdreg=\n",
      "http://www.dca.state.ga.us/development/research/programs/RASearch/RADetails.asp?SearchYear=2013&rID=17155&ssid=400206-0850&command=&auth_name=&county=&auth_type=&method=&dependency=&juris_type=&sdreg=\n",
      "http://www.dca.state.ga.us/development/research/programs/RASearch/RADetails.asp?SearchYear=2013&rID=17026&ssid=406102-6807&command=&auth_name=&county=&auth_type=&method=&dependency=&juris_type=&sdreg=\n",
      "http://www.dca.state.ga.us/development/research/programs/RASearch/RADetails.asp?SearchYear=2013&rID=17559&ssid=406207-6761&command=&auth_name=&county=&auth_type=&method=&dependency=&juris_type=&sdreg=\n",
      "http://www.dca.state.ga.us/development/research/programs/RASearch/RADetails.asp?SearchYear=2013&rID=17654&ssid=413203-0896&command=&auth_name=&county=&auth_type=&method=&dependency=&juris_type=&sdreg=\n",
      "http://www.dca.state.ga.us/development/research/programs/RASearch/RADetails.asp?SearchYear=2013&rID=17653&ssid=413204-0897&command=&auth_name=&county=&auth_type=&method=&dependency=&juris_type=&sdreg=\n",
      "http://www.dca.state.ga.us/development/research/programs/RASearch/RADetails.asp?SearchYear=2013&rID=17156&ssid=406305-0282&command=&auth_name=&county=&auth_type=&method=&dependency=&juris_type=&sdreg=\n",
      "http://www.dca.state.ga.us/development/research/programs/RASearch/RADetails.asp?SearchYear=2013&rID=18006&ssid=406408-1148&command=&auth_name=&county=&auth_type=&method=&dependency=&juris_type=&sdreg=\n",
      "http://www.dca.state.ga.us/development/research/programs/RASearch/RADetails.asp?SearchYear=2013&rID=17428&ssid=406601-0525&command=&auth_name=&county=&auth_type=&method=&dependency=&juris_type=&sdreg=\n",
      "http://www.dca.state.ga.us/development/research/programs/RASearch/RADetails.asp?SearchYear=2013&rID=17045&ssid=406603-0407&command=&auth_name=&county=&auth_type=&method=&dependency=&juris_type=&sdreg=\n",
      "http://www.dca.state.ga.us/development/research/programs/RASearch/RADetails.asp?SearchYear=2013&rID=17798&ssid=41206-0113601&command=&auth_name=&county=&auth_type=&method=&dependency=&juris_type=&sdreg=\n",
      "http://www.dca.state.ga.us/development/research/programs/RASearch/RADetails.asp?SearchYear=2013&rID=16957&ssid=400103-0591&command=&auth_name=&county=&auth_type=&method=&dependency=&juris_type=&sdreg=\n",
      "http://www.dca.state.ga.us/development/research/programs/RASearch/RADetails.asp?SearchYear=2013&rID=18084&ssid=400105-2861&command=&auth_name=&county=&auth_type=&method=&dependency=&juris_type=&sdreg=\n",
      "http://www.dca.state.ga.us/development/research/programs/RASearch/RADetails.asp?SearchYear=2013&rID=17370&ssid=40906-2265&command=&auth_name=&county=&auth_type=&method=&dependency=&juris_type=&sdreg=\n",
      "http://www.dca.state.ga.us/development/research/programs/RASearch/RADetails.asp?SearchYear=2013&rID=17573&ssid=406701-0524&command=&auth_name=&county=&auth_type=&method=&dependency=&juris_type=&sdreg=\n",
      "http://www.dca.state.ga.us/development/research/programs/RASearch/RADetails.asp?SearchYear=2013&rID=16952&ssid=406719-1201&command=&auth_name=&county=&auth_type=&method=&dependency=&juris_type=&sdreg=\n",
      "http://www.dca.state.ga.us/development/research/programs/RASearch/RADetails.asp?SearchYear=2013&rID=16953&ssid=406712-0521&command=&auth_name=&county=&auth_type=&method=&dependency=&juris_type=&sdreg=\n",
      "http://www.dca.state.ga.us/development/research/programs/RASearch/RADetails.asp?SearchYear=2013&rID=16956&ssid=40912-2071&command=&auth_name=&county=&auth_type=&method=&dependency=&juris_type=&sdreg=\n",
      "http://www.dca.state.ga.us/development/research/programs/RASearch/RADetails.asp?SearchYear=2013&rID=17109&ssid=406718-3753&command=&auth_name=&county=&auth_type=&method=&dependency=&juris_type=&sdreg=\n",
      "http://www.dca.state.ga.us/development/research/programs/RASearch/RADetails.asp?SearchYear=2013&rID=17203&ssid=41207-0113589&command=&auth_name=&county=&auth_type=&method=&dependency=&juris_type=&sdreg=\n",
      "http://www.dca.state.ga.us/development/research/programs/RASearch/RADetails.asp?SearchYear=2013&rID=17796&ssid=406803-0120&command=&auth_name=&county=&auth_type=&method=&dependency=&juris_type=&sdreg=\n",
      "http://www.dca.state.ga.us/development/research/programs/RASearch/RADetails.asp?SearchYear=2013&rID=17191&ssid=41107-1813574&command=&auth_name=&county=&auth_type=&method=&dependency=&juris_type=&sdreg=\n",
      "http://www.dca.state.ga.us/development/research/programs/RASearch/RADetails.asp?SearchYear=2013&rID=17283&ssid=406918-672&command=&auth_name=&county=&auth_type=&method=&dependency=&juris_type=&sdreg=\n",
      "http://www.dca.state.ga.us/development/research/programs/RASearch/RADetails.asp?SearchYear=2013&rID=17894&ssid=400603-0030&command=&auth_name=&county=&auth_type=&method=&dependency=&juris_type=&sdreg=\n",
      "http://www.dca.state.ga.us/development/research/programs/RASearch/RADetails.asp?SearchYear=2013&rID=17410&ssid=407102-4758&command=&auth_name=&county=&auth_type=&method=&dependency=&juris_type=&sdreg=\n",
      "http://www.dca.state.ga.us/development/research/programs/RASearch/RADetails.asp?SearchYear=2013&rID=17694&ssid=407117-0065&command=&auth_name=&county=&auth_type=&method=&dependency=&juris_type=&sdreg=\n",
      "http://www.dca.state.ga.us/development/research/programs/RASearch/RADetails.asp?SearchYear=2013&rID=17693&ssid=407118-0075&command=&auth_name=&county=&auth_type=&method=&dependency=&juris_type=&sdreg=\n",
      "http://www.dca.state.ga.us/development/research/programs/RASearch/RADetails.asp?SearchYear=2013&rID=17054&ssid=41106-2013562&command=&auth_name=&county=&auth_type=&method=&dependency=&juris_type=&sdreg=\n",
      "http://www.dca.state.ga.us/development/research/programs/RASearch/RADetails.asp?SearchYear=2013&rID=17583&ssid=407307-0895&command=&auth_name=&county=&auth_type=&method=&dependency=&juris_type=&sdreg=\n",
      "http://www.dca.state.ga.us/development/research/programs/RASearch/RADetails.asp?SearchYear=2013&rID=17639&ssid=407318-850&command=&auth_name=&county=&auth_type=&method=&dependency=&juris_type=&sdreg=\n",
      "http://www.dca.state.ga.us/development/research/programs/RASearch/RADetails.asp?SearchYear=2013&rID=17002&ssid=411603-1794&command=&auth_name=&county=&auth_type=&method=&dependency=&juris_type=&sdreg=\n",
      "http://www.dca.state.ga.us/development/research/programs/RASearch/RADetails.asp?SearchYear=2013&rID=17051&ssid=411604-844&command=&auth_name=&county=&auth_type=&method=&dependency=&juris_type=&sdreg=\n",
      "http://www.dca.state.ga.us/development/research/programs/RASearch/RADetails.asp?SearchYear=2013&rID=17114&ssid=411606-847&command=&auth_name=&county=&auth_type=&method=&dependency=&juris_type=&sdreg=\n",
      "http://www.dca.state.ga.us/development/research/programs/RASearch/RADetails.asp?SearchYear=2013&rID=17900&ssid=408004-6742&command=&auth_name=&county=&auth_type=&method=&dependency=&juris_type=&sdreg=\n",
      "http://www.dca.state.ga.us/development/research/programs/RASearch/RADetails.asp?SearchYear=2013&rID=17212&ssid=407405-0885&command=&auth_name=&county=&auth_type=&method=&dependency=&juris_type=&sdreg=\n",
      "http://www.dca.state.ga.us/development/research/programs/RASearch/RADetails.asp?SearchYear=2013&rID=18028&ssid=407402-4794&command=&auth_name=&county=&auth_type=&method=&dependency=&juris_type=&sdreg=\n",
      "http://www.dca.state.ga.us/development/research/programs/RASearch/RADetails.asp?SearchYear=2013&rID=17921&ssid=407418-0324&command=&auth_name=&county=&auth_type=&method=&dependency=&juris_type=&sdreg=\n",
      "http://www.dca.state.ga.us/development/research/programs/RASearch/RADetails.asp?SearchYear=2013&rID=17372&ssid=400305-0847&command=&auth_name=&county=&auth_type=&method=&dependency=&juris_type=&sdreg=\n",
      "http://www.dca.state.ga.us/development/research/programs/RASearch/RADetails.asp?SearchYear=2013&rID=17922&ssid=404517-0528&command=&auth_name=&county=&auth_type=&method=&dependency=&juris_type=&sdreg=\n",
      "http://www.dca.state.ga.us/development/research/programs/RASearch/RADetails.asp?SearchYear=2013&rID=17827&ssid=407503-0497&command=&auth_name=&county=&auth_type=&method=&dependency=&juris_type=&sdreg=\n",
      "http://www.dca.state.ga.us/development/research/programs/RASearch/RADetails.asp?SearchYear=2013&rID=17888&ssid=407519-8797&command=&auth_name=&county=&auth_type=&method=&dependency=&juris_type=&sdreg=\n",
      "http://www.dca.state.ga.us/development/research/programs/RASearch/RADetails.asp?SearchYear=2013&rID=16946&ssid=407518-0410&command=&auth_name=&county=&auth_type=&method=&dependency=&juris_type=&sdreg=\n",
      "http://www.dca.state.ga.us/development/research/programs/RASearch/RADetails.asp?SearchYear=2013&rID=17707&ssid=400103-0594&command=&auth_name=&county=&auth_type=&method=&dependency=&juris_type=&sdreg=\n",
      "http://www.dca.state.ga.us/development/research/programs/RASearch/RADetails.asp?SearchYear=2013&rID=17706&ssid=414104-8803&command=&auth_name=&county=&auth_type=&method=&dependency=&juris_type=&sdreg=\n",
      "http://www.dca.state.ga.us/development/research/programs/RASearch/RADetails.asp?SearchYear=2013&rID=17847&ssid=404705-0397&command=&auth_name=&county=&auth_type=&method=&dependency=&juris_type=&sdreg=\n",
      "http://www.dca.state.ga.us/development/research/programs/RASearch/RADetails.asp?SearchYear=2013&rID=17189&ssid=400305-2335&command=&auth_name=&county=&auth_type=&method=&dependency=&juris_type=&sdreg=\n",
      "http://www.dca.state.ga.us/development/research/programs/RASearch/RADetails.asp?SearchYear=2013&rID=17046&ssid=400905-3076&command=&auth_name=&county=&auth_type=&method=&dependency=&juris_type=&sdreg=\n",
      "http://www.dca.state.ga.us/development/research/programs/RASearch/RADetails.asp?SearchYear=2013&rID=17464&ssid=41003-0513542&command=&auth_name=&county=&auth_type=&method=&dependency=&juris_type=&sdreg=\n",
      "http://www.dca.state.ga.us/development/research/programs/RASearch/RADetails.asp?SearchYear=2013&rID=17910&ssid=401605-0464&command=&auth_name=&county=&auth_type=&method=&dependency=&juris_type=&sdreg="
     ]
    }
   ],
   "source": [
    "emptyfill = pd.DataFrame(columns=('Creation Date:', 'Method of Creation:', 'Official Citation:',\n",
    "           'Dependency:', 'Single or Multi Jurisdictional:', 'Members:',\n",
    "           'Contact:', 'Board'))\n",
    "import requests\n",
    "for link in linkdf['Link']:\n",
    "    print(link)\n",
    "    f = requests.get(link,timeout=10)\n",
    "    orgsoup = BeautifulSoup(f.text,'html.parser')\n",
    "    tabletags = orgsoup.find_all('table', attrs={\"class\":\"tablenormal\"})\n",
    "    boxnum = re.findall('Box [0-9]+',str(tabletags))\n",
    "    if len(boxnum)!=0:\n",
    "        streetnum = re.findall('Box [0-9]+<br\\/>(.*)<br>',str(tabletags))\n",
    "    else: streetnum = 'NA';boxnum = 'NA'\n",
    "    if len(streetnum)==0:\n",
    "        streetnum='NA'\n",
    "    tdf = pd.read_html(str(tabletags[0]),index_col=0)\n",
    "    temp = tdf[0]\n",
    "    temp.loc['Contact:'] = temp.index[7]\n",
    "    temp = temp.reindex(temp.index.rename(['Org']))\n",
    "    temp.rename(columns={1: orgsoup.find('h3').text}, inplace=True)\n",
    "    temp = temp.ix[:-1]\n",
    "    filldat = temp.T\n",
    "    filldat['Board'] = tabletags[1].td.text\n",
    "    filldat['Link'] = link\n",
    "    filldat['Box'] = boxnum\n",
    "    filldat['Streetnum'] = streetnum\n",
    "    city = re.findall('([A-Za-z]+), Georgia',str(tabletags))[0]\n",
    "    if len(city) != 0:\n",
    "        filldat['City'] = city\n",
    "    else:\n",
    "        filldat['City'] = 'NA'\n",
    "    filldat['Year'] = linkdf.loc[linkdf['Link'] == link]['Year'].values[0]\n",
    "    emptyfill = emptyfill.append(filldat)\n",
    "#emptyfill['Link'] = linkdf['Link']\n"
   ]
  },
  {
   "cell_type": "code",
   "execution_count": null,
   "metadata": {
    "collapsed": true
   },
   "outputs": [],
   "source": []
  },
  {
   "cell_type": "code",
   "execution_count": null,
   "metadata": {
    "collapsed": true
   },
   "outputs": [],
   "source": []
  },
  {
   "cell_type": "code",
   "execution_count": null,
   "metadata": {
    "collapsed": true
   },
   "outputs": [],
   "source": []
  },
  {
   "cell_type": "code",
   "execution_count": null,
   "metadata": {
    "collapsed": true
   },
   "outputs": [],
   "source": []
  },
  {
   "cell_type": "code",
   "execution_count": null,
   "metadata": {
    "collapsed": true
   },
   "outputs": [],
   "source": []
  },
  {
   "cell_type": "code",
   "execution_count": 5,
   "metadata": {
    "collapsed": true
   },
   "outputs": [],
   "source": [
    "emptyfill.to_csv(path_or_buf = '../Input/ga.local.authority.detailed.database.csv')\n",
    "emptyfill.to_csv(path_or_buf = '../Input/ga.local.authority.detailed.database.csv')"
   ]
  },
  {
   "cell_type": "code",
   "execution_count": null,
   "metadata": {
    "collapsed": true
   },
   "outputs": [],
   "source": []
  },
  {
   "cell_type": "code",
   "execution_count": null,
   "metadata": {
    "collapsed": true
   },
   "outputs": [],
   "source": []
  },
  {
   "cell_type": "code",
   "execution_count": null,
   "metadata": {
    "collapsed": true
   },
   "outputs": [],
   "source": []
  },
  {
   "cell_type": "code",
   "execution_count": null,
   "metadata": {
    "collapsed": true
   },
   "outputs": [],
   "source": [
    "### don't need anything below here"
   ]
  },
  {
   "cell_type": "markdown",
   "metadata": {
    "collapsed": false
   },
   "source": [
    "from selenium import webdriver\n",
    "from bs4 import BeautifulSoup\n",
    "import pandas as pd\n",
    "import html5lib as h5\n",
    "import bs4\n",
    "empty = pd.DataFrame(columns=('Creation Date:', 'Method of Creation:', 'Official Citation:',\n",
    "           'Dependency:', 'Single or Multi Jurisdictional:', 'Members:',\n",
    "           'Contact:', 'Board'))\n",
    "\n",
    "profile = webdriver.FirefoxProfile()\n",
    "profile.set_preference(\"general.useragent.override\",\"Mozilla/5.0 (Macintosh; Intel Mac OS X 10_10_2) AppleWebKit/537.36 (KHTML, like Gecko) Chrome/40.0.2214.111 Safari/537.36\")\n",
    "driver = webdriver.Firefox(profile)\n",
    "linklist = list()\n",
    "driver.get(\"http://www.dca.state.ga.us/development/research/programs/RASearch/RASearch.asp\")\n",
    "for reg in range(1,13):\n",
    "    region = driver.find_element_by_name(\"sdreg\")\n",
    "    region.send_keys(reg)\n",
    "    driver.find_element_by_name(\"submit2\").click()\n",
    "    ListlinkerHref = driver.find_elements_by_css_selector('.tablenormal a')\n",
    "    for link in ListlinkerHref:\n",
    "        linklist.append(link.get_attribute('href'))\n",
    "    driver.back()"
   ]
  },
  {
   "cell_type": "markdown",
   "metadata": {
    "collapsed": false
   },
   "source": [
    "emptyfill = pd.DataFrame(columns=('Creation Date:', 'Method of Creation:', 'Official Citation:',\n",
    "           'Dependency:', 'Single or Multi Jurisdictional:', 'Members:',\n",
    "           'Contact:', 'Board'))\n",
    "import requests\n",
    "for link in linklist:\n",
    "    f = requests.get(link)\n",
    "    orgsoup = BeautifulSoup(f.text,'html.parser')\n",
    "    tabletags = orgsoup.find_all('table', attrs={\"class\":\"tablenormal\"})\n",
    "    tdf = pd.read_html(str(tabletags[0]),index_col=0)\n",
    "    temp = tdf[0]\n",
    "    temp.loc['Contact:'] = temp.index[7]\n",
    "    temp = temp.reindex(temp.index.rename(['Org']))\n",
    "    temp.rename(columns={1: orgsoup.find('h3').text}, inplace=True)\n",
    "    temp = temp.ix[:-1]\n",
    "    filldat = temp.T\n",
    "    filldat['Board'] = tabletags[1].td.text\n",
    "    emptyfill = emptyfill.append(filldat)"
   ]
  },
  {
   "cell_type": "code",
   "execution_count": 554,
   "metadata": {
    "collapsed": true
   },
   "outputs": [],
   "source": [
    "#emptyfill.to_csv(path_or_buf = '../Input/ga.local.authority.detailed.database.2016.csv')"
   ]
  }
 ],
 "metadata": {
  "kernelspec": {
   "display_name": "Python 3",
   "language": "python",
   "name": "python3"
  },
  "language_info": {
   "codemirror_mode": {
    "name": "ipython",
    "version": 3
   },
   "file_extension": ".py",
   "mimetype": "text/x-python",
   "name": "python",
   "nbconvert_exporter": "python",
   "pygments_lexer": "ipython3",
   "version": "3.5.1"
  }
 },
 "nbformat": 4,
 "nbformat_minor": 0
}
