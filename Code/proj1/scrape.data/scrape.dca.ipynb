{
 "cells": [
  {
   "cell_type": "code",
   "execution_count": 1,
   "metadata": {
    "collapsed": false
   },
   "outputs": [],
   "source": [
    "#This code scrapes dca site to create dataframe of local government authorities\n",
    "from selenium import webdriver\n",
    "from bs4 import BeautifulSoup\n",
    "import pandas as pd\n",
    "import html5lib as h5\n",
    "import bs4\n",
    "empty = pd.DataFrame()\n",
    "reglist = list(range(1, 13))\n",
    "\n",
    "profile = webdriver.FirefoxProfile()\n",
    "profile.set_preference(\"general.useragent.override\",\"Mozilla/5.0 (Macintosh; Intel Mac OS X 10_10_2) AppleWebKit/537.36 (KHTML, like Gecko) Chrome/40.0.2214.111 Safari/537.36\")\n",
    "driver = webdriver.Firefox(profile)\n",
    "\n",
    "\n",
    "base = 'http://www.dca.state.ga.us/development/research/programs/RASearch/RASearchResults.asp?SearchYear='\n",
    "\n",
    "years = range(2013,2017)\n",
    "\n",
    "tail = '&command=&auth_name=&county=&auth_type=&method=&dependency=&juris_type=&'\n",
    "\n",
    "for year in years:\n",
    "    yearquery = base+str(year)+tail\n",
    "    driver.get(yearquery)\n",
    "    html = driver.page_source\n",
    "    ListlinkerHref = driver.find_elements_by_css_selector('.tablenormal a')\n",
    "    soup = BeautifulSoup(html,\"html.parser\")\n",
    "    table = soup.findAll(\"table\", {\"class\":\"tablenormal\"})\n",
    "    tempdf = pd.read_html(str(table),header=0)[0]\n",
    "    linkvec = []\n",
    "    for i in range(0,len(tempdf.index)):\n",
    "        linkvec.append(ListlinkerHref[i].get_attribute('href'))\n",
    "    tempdf['Link'] = linkvec\n",
    "    tempdf['Year'] = year\n",
    "    if year == years[0]:\n",
    "        startdf = tempdf\n",
    "    if year != years[0]:\n",
    "        startdf = startdf.append(tempdf)\n",
    "linkdf = startdf\n",
    "linkdf.to_csv(path_or_buf = '../Input/ga.local.authority.reference.csv')"
   ]
  },
  {
   "cell_type": "code",
   "execution_count": null,
   "metadata": {
    "collapsed": true
   },
   "outputs": [],
   "source": []
  },
  {
   "cell_type": "code",
   "execution_count": null,
   "metadata": {
    "collapsed": true
   },
   "outputs": [],
   "source": []
  },
  {
   "cell_type": "code",
   "execution_count": null,
   "metadata": {
    "collapsed": true
   },
   "outputs": [],
   "source": []
  },
  {
   "cell_type": "code",
   "execution_count": 2,
   "metadata": {
    "collapsed": false
   },
   "outputs": [],
   "source": [
    "emptyfill = pd.DataFrame(columns=('Creation Date:', 'Method of Creation:', 'Official Citation:',\n",
    "           'Dependency:', 'Single or Multi Jurisdictional:', 'Members:',\n",
    "           'Contact:', 'Board'))\n",
    "import requests\n",
    "for link in linkdf['Link']:\n",
    "    f = requests.get(link,timeout=10)\n",
    "    orgsoup = BeautifulSoup(f.text,'html.parser')\n",
    "    tabletags = orgsoup.find_all('table', attrs={\"class\":\"tablenormal\"})\n",
    "    tdf = pd.read_html(str(tabletags[0]),index_col=0)\n",
    "    temp = tdf[0]\n",
    "    temp.loc['Contact:'] = temp.index[7]\n",
    "    temp = temp.reindex(temp.index.rename(['Org']))\n",
    "    temp.rename(columns={1: orgsoup.find('h3').text}, inplace=True)\n",
    "    temp = temp.ix[:-1]\n",
    "    filldat = temp.T\n",
    "    filldat['Board'] = tabletags[1].td.text\n",
    "    filldat['Link'] = link\n",
    "    filldat['Year'] = linkdf.loc[linkdf['Link'] == link]['Year'].values[0]\n",
    "    emptyfill = emptyfill.append(filldat)\n",
    "#emptyfill['Link'] = linkdf['Link']\n",
    "emptyfill.to_csv(path_or_buf = '../Input/ga.local.authority.detailed.database.csv')"
   ]
  },
  {
   "cell_type": "code",
   "execution_count": 5,
   "metadata": {
    "collapsed": true
   },
   "outputs": [],
   "source": [
    "emptyfill.to_csv(path_or_buf = '../Input/ga.local.authority.detailed.database.csv')"
   ]
  },
  {
   "cell_type": "code",
   "execution_count": null,
   "metadata": {
    "collapsed": true
   },
   "outputs": [],
   "source": []
  },
  {
   "cell_type": "code",
   "execution_count": null,
   "metadata": {
    "collapsed": true
   },
   "outputs": [],
   "source": []
  },
  {
   "cell_type": "code",
   "execution_count": null,
   "metadata": {
    "collapsed": true
   },
   "outputs": [],
   "source": []
  },
  {
   "cell_type": "code",
   "execution_count": null,
   "metadata": {
    "collapsed": true
   },
   "outputs": [],
   "source": [
    "### don't need anything below here"
   ]
  },
  {
   "cell_type": "markdown",
   "metadata": {
    "collapsed": false
   },
   "source": [
    "from selenium import webdriver\n",
    "from bs4 import BeautifulSoup\n",
    "import pandas as pd\n",
    "import html5lib as h5\n",
    "import bs4\n",
    "empty = pd.DataFrame(columns=('Creation Date:', 'Method of Creation:', 'Official Citation:',\n",
    "           'Dependency:', 'Single or Multi Jurisdictional:', 'Members:',\n",
    "           'Contact:', 'Board'))\n",
    "\n",
    "profile = webdriver.FirefoxProfile()\n",
    "profile.set_preference(\"general.useragent.override\",\"Mozilla/5.0 (Macintosh; Intel Mac OS X 10_10_2) AppleWebKit/537.36 (KHTML, like Gecko) Chrome/40.0.2214.111 Safari/537.36\")\n",
    "driver = webdriver.Firefox(profile)\n",
    "linklist = list()\n",
    "driver.get(\"http://www.dca.state.ga.us/development/research/programs/RASearch/RASearch.asp\")\n",
    "for reg in range(1,13):\n",
    "    region = driver.find_element_by_name(\"sdreg\")\n",
    "    region.send_keys(reg)\n",
    "    driver.find_element_by_name(\"submit2\").click()\n",
    "    ListlinkerHref = driver.find_elements_by_css_selector('.tablenormal a')\n",
    "    for link in ListlinkerHref:\n",
    "        linklist.append(link.get_attribute('href'))\n",
    "    driver.back()"
   ]
  },
  {
   "cell_type": "markdown",
   "metadata": {
    "collapsed": false
   },
   "source": [
    "emptyfill = pd.DataFrame(columns=('Creation Date:', 'Method of Creation:', 'Official Citation:',\n",
    "           'Dependency:', 'Single or Multi Jurisdictional:', 'Members:',\n",
    "           'Contact:', 'Board'))\n",
    "import requests\n",
    "for link in linklist:\n",
    "    f = requests.get(link)\n",
    "    orgsoup = BeautifulSoup(f.text,'html.parser')\n",
    "    tabletags = orgsoup.find_all('table', attrs={\"class\":\"tablenormal\"})\n",
    "    tdf = pd.read_html(str(tabletags[0]),index_col=0)\n",
    "    temp = tdf[0]\n",
    "    temp.loc['Contact:'] = temp.index[7]\n",
    "    temp = temp.reindex(temp.index.rename(['Org']))\n",
    "    temp.rename(columns={1: orgsoup.find('h3').text}, inplace=True)\n",
    "    temp = temp.ix[:-1]\n",
    "    filldat = temp.T\n",
    "    filldat['Board'] = tabletags[1].td.text\n",
    "    emptyfill = emptyfill.append(filldat)"
   ]
  },
  {
   "cell_type": "code",
   "execution_count": 554,
   "metadata": {
    "collapsed": true
   },
   "outputs": [],
   "source": [
    "#emptyfill.to_csv(path_or_buf = '../Input/ga.local.authority.detailed.database.2016.csv')"
   ]
  },
  {
   "cell_type": "code",
   "execution_count": null,
   "metadata": {
    "collapsed": true
   },
   "outputs": [],
   "source": []
  }
 ],
 "metadata": {
  "kernelspec": {
   "display_name": "Python 3",
   "language": "python",
   "name": "python3"
  },
  "language_info": {
   "codemirror_mode": {
    "name": "ipython",
    "version": 3
   },
   "file_extension": ".py",
   "mimetype": "text/x-python",
   "name": "python",
   "nbconvert_exporter": "python",
   "pygments_lexer": "ipython3",
   "version": "3.5.1"
  }
 },
 "nbformat": 4,
 "nbformat_minor": 0
}
